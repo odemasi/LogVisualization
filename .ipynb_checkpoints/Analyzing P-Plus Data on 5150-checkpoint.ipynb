{
 "cells": [
  {
   "cell_type": "code",
   "execution_count": 1,
   "metadata": {
    "collapsed": false,
    "deletable": true,
    "editable": true
   },
   "outputs": [],
   "source": [
    "import pandas as pd \n",
    "import numpy as np\n",
    "import matplotlib\n",
    "import seaborn as sns\n",
    "sns.set_style('whitegrid', {'axes.grid' : False})\n",
    "%matplotlib inline \n",
    "import matplotlib.pyplot as plt\n",
    "import seaborn "
   ]
  },
  {
   "cell_type": "code",
   "execution_count": null,
   "metadata": {
    "collapsed": true,
    "deletable": true,
    "editable": true
   },
   "outputs": [],
   "source": []
  },
  {
   "cell_type": "code",
   "execution_count": 2,
   "metadata": {
    "collapsed": true,
    "deletable": true,
    "editable": true
   },
   "outputs": [],
   "source": [
    "pplus = pd.read_csv('ParamedicsPlus5150.csv')"
   ]
  },
  {
   "cell_type": "code",
   "execution_count": 3,
   "metadata": {
    "collapsed": false,
    "deletable": true,
    "editable": true
   },
   "outputs": [
    {
     "name": "stderr",
     "output_type": "stream",
     "text": [
      "C:\\Users\\pjhu\\Anaconda3\\envs\\ds100_new\\lib\\site-packages\\ipykernel\\__main__.py:5: SettingWithCopyWarning: \n",
      "A value is trying to be set on a copy of a slice from a DataFrame.\n",
      "Try using .loc[row_indexer,col_indexer] = value instead\n",
      "\n",
      "See the caveats in the documentation: http://pandas.pydata.org/pandas-docs/stable/indexing.html#indexing-view-versus-copy\n"
     ]
    }
   ],
   "source": [
    "pplus['date'] = pd.to_datetime(pplus['Date of 5150'])\n",
    "pplus['year'] = pplus['date'].dt.year\n",
    "pplus_dp = pplus.ix[pplus['Age'] != '#VALUE!']\n",
    "#drop that one column that's always annoying \n",
    "pplus_dp['Age']=pplus_dp['Age'].astype(int)\n",
    "#reset so you can create histograms "
   ]
  },
  {
   "cell_type": "code",
   "execution_count": 4,
   "metadata": {
    "collapsed": false,
    "deletable": true,
    "editable": true
   },
   "outputs": [],
   "source": [
    "unique_ids = pd.DataFrame({'count' : pplus.groupby(['ID #', 'Age', 'year']).size()}).reset_index()\n",
    "primarykey = np.array([])\n",
    "# unique_ids\n",
    "# for i in unique_ids['ID #']: \n",
    "# unique_ids.join(pplus, how='inner', rsuffix='R')\n"
   ]
  },
  {
   "cell_type": "markdown",
   "metadata": {
    "deletable": true,
    "editable": true
   },
   "source": [
    "Interesting Findings: \n",
    "- ID # 15: Remains 36 years old through 2013 to 2015... Is this an error or is this a new person every time? \n",
    "- ID # 2762: Remains 28 years old from 2013 to 2015\n",
    "- ID # 2774"
   ]
  },
  {
   "cell_type": "markdown",
   "metadata": {
    "deletable": true,
    "editable": true
   },
   "source": [
    "Creating primarykey of the table "
   ]
  },
  {
   "cell_type": "code",
   "execution_count": 5,
   "metadata": {
    "collapsed": false,
    "deletable": true,
    "editable": true
   },
   "outputs": [],
   "source": [
    "unique_ids['primarykey'] = unique_ids['ID #'].map(str) + pplus['Age']\n",
    "#creating the primarykey which is the unique identifer for each individual\n",
    "#check overlap of primarykey (ie ID = 100 and age = 100)"
   ]
  },
  {
   "cell_type": "markdown",
   "metadata": {
    "deletable": true,
    "editable": true
   },
   "source": [
    "# Figure One: Creating the Histogram of Ages of Calls"
   ]
  },
  {
   "cell_type": "code",
   "execution_count": 6,
   "metadata": {
    "collapsed": false,
    "deletable": true,
    "editable": true,
    "scrolled": false
   },
   "outputs": [
    {
     "name": "stderr",
     "output_type": "stream",
     "text": [
      "C:\\Users\\pjhu\\Anaconda3\\envs\\ds100_new\\lib\\site-packages\\ipykernel\\__main__.py:4: SettingWithCopyWarning: \n",
      "A value is trying to be set on a copy of a slice from a DataFrame.\n",
      "Try using .loc[row_indexer,col_indexer] = value instead\n",
      "\n",
      "See the caveats in the documentation: http://pandas.pydata.org/pandas-docs/stable/indexing.html#indexing-view-versus-copy\n"
     ]
    },
    {
     "data": {
      "image/png": "[encoded data removed]",
      "text/plain": [
       "<matplotlib.figure.Figure at 0x18f1dfb3278>"
      ]
     },
     "metadata": {},
     "output_type": "display_data"
    }
   ],
   "source": [
    "# ages = pplus.drop_duplicates('primarykey')\n",
    "# #the year and individuals: groupby year, write script to adjust for age incrementing each year \n",
    "unique_ids_drop = unique_ids.ix[unique_ids['Age'] != '#VALUE!']\n",
    "unique_ids_drop['Age'] = unique_ids_drop['Age'].astype(int)\n",
    "# ages.hist('Age', bins= np.arange(5, 115, 10))\n",
    "unique_ids_drop.hist('Age', bins=np.arange(5, 120,10),color='c', edgecolor='w')\n",
    "# tick marks, axes, more informative title \n",
    "plt.title(\"\")\n",
    "plt.xlabel('Age Brackets')\n",
    "age_brackets = ['0-10', '11-20', '21-30', '31-40', '41-50', '51-60', '61-70', '71-80', '81-90', '91-100', '100+']\n",
    "plt.ylabel('Number of Calls', fontsize=14)\n",
    "plt.grid(False)\n",
    "plt.xticks(np.arange(10, 120, 10), age_brackets, rotation=40)\n",
    "plt.xlabel('Age', fontsize=14)\n",
    "plt.savefig('age_distribution.jpg')"
   ]
  },
  {
   "cell_type": "code",
   "execution_count": 7,
   "metadata": {
    "collapsed": false,
    "deletable": true,
    "editable": true
   },
   "outputs": [
    {
     "data": {
      "text/plain": [
       "5"
      ]
     },
     "execution_count": 7,
     "metadata": {},
     "output_type": "execute_result"
    }
   ],
   "source": [
    "len(unique_ids_drop[unique_ids_drop['Age']>= 100])"
   ]
  },
  {
   "cell_type": "markdown",
   "metadata": {
    "deletable": true,
    "editable": true
   },
   "source": [
    "# Separating by Year"
   ]
  },
  {
   "cell_type": "code",
   "execution_count": 8,
   "metadata": {
    "collapsed": false,
    "deletable": true,
    "editable": true
   },
   "outputs": [],
   "source": [
    "# unique_ids_years = pd.DataFrame({'count' : pplus.groupby(['year', 'Age']).size()}).reset_index()\n",
    "# unique_ids_years = unique_ids_years.ix[unique_ids_years['Age'] != '#VALUE!']\n",
    "# unique_ids_years['Age'] = unique_ids_years['Age'].astype(int)\n",
    "# unique_ids_years"
   ]
  },
  {
   "cell_type": "code",
   "execution_count": 9,
   "metadata": {
    "collapsed": false,
    "deletable": true,
    "editable": true
   },
   "outputs": [],
   "source": [
    "# unique_ids_2016 = unique_ids_years[unique_ids_years['year'] == 2016]\n",
    "# unique_ids_2016.hist('Age', bins=np.arange(5, 115, 10))\n",
    "yr2016 = pplus_dp[pplus_dp['year']==2016]\n",
    "# yr2016.hist('Age', bins=np.arange(5, 115, 10), edgecolor='w')\n",
    "# plt.title('Age Distribution of 2016')\n",
    "# plt.grid(False)\n",
    "# plt.xticks(np.arange(0, 100, 10))\n",
    "# axes = plt.gca()\n",
    "# axes.set_ylim([0,100])\n",
    "# plt.xlabel('Age Bins')\n",
    "\n",
    "#histograms based on the calls, not on individual patients (problem with primary key)\n",
    "#seaborn color maps "
   ]
  },
  {
   "cell_type": "code",
   "execution_count": 10,
   "metadata": {
    "collapsed": false,
    "deletable": true,
    "editable": true
   },
   "outputs": [],
   "source": [
    "yr2015 = pplus_dp[pplus_dp['year']==2015]\n",
    "# yr2015.hist('Age', bins=np.arange(5, 115, 10), color='g', edgecolor='w')\n",
    "# plt.title('Age Distribution of 2015')\n",
    "# plt.grid(False)\n",
    "# plt.xticks(np.arange(0, 110, 10))\n",
    "# axes = plt.gca()\n",
    "# axes.set_ylim([0,360])\n",
    "# plt.xlabel('Age Bins')\n",
    "#histograms based on the calls, not on individual patients (problem with primary key)"
   ]
  },
  {
   "cell_type": "code",
   "execution_count": 11,
   "metadata": {
    "collapsed": false,
    "deletable": true,
    "editable": true
   },
   "outputs": [],
   "source": [
    "yr2014 = pplus_dp[pplus_dp['year']==2014]\n",
    "# yr2014.hist('Age', bins=np.arange(5, 115, 10), color='m', edgecolor='w')\n",
    "# plt.title('Age Distribution of 2014')\n",
    "# plt.grid(False)\n",
    "# plt.xticks(np.arange(0, 110, 10))\n",
    "# axes = plt.gca()\n",
    "# axes.set_ylim([0,360])\n",
    "# plt.xlabel('Age Bins')\n",
    "#histograms based on the calls, not on individual patients (problem with primary key)"
   ]
  },
  {
   "cell_type": "code",
   "execution_count": 12,
   "metadata": {
    "collapsed": false,
    "deletable": true,
    "editable": true,
    "scrolled": false
   },
   "outputs": [],
   "source": [
    "yr2013 = pplus_dp[pplus_dp['year']==2013]\n",
    "# yr2013.hist('Age', bins=np.arange(5, 115, 10), color='c', edgecolor='w')\n",
    "# plt.title('Age Distribution of 2013')\n",
    "# plt.grid(False)\n",
    "# plt.xticks(np.arange(0, 110, 10))\n",
    "# axes = plt.gca()\n",
    "# axes.set_ylim([0,360])\n",
    "# plt.xlabel('Age Bins')\n",
    "#histograms based on the calls, not on individual patients (problem with primary key)"
   ]
  },
  {
   "cell_type": "code",
   "execution_count": 13,
   "metadata": {
    "collapsed": false,
    "deletable": true,
    "editable": true
   },
   "outputs": [],
   "source": [
    "yr2012 = pplus_dp[pplus_dp['year']==2012]\n",
    "# yr2012.hist('Age', bins=np.arange(5, 115, 10), color='y', edgecolor='w')\n",
    "# plt.title('Age Distribution of 2012')\n",
    "# plt.grid(False)\n",
    "# plt.xticks(np.arange(0, 110, 10))\n",
    "# axes = plt.gca()\n",
    "# axes.set_ylim([0,360])\n",
    "# plt.xlabel('Age Bins')\n",
    "#histograms based on the calls, not on individual patients (problem with primary key)"
   ]
  },
  {
   "cell_type": "code",
   "execution_count": 14,
   "metadata": {
    "collapsed": false,
    "deletable": true,
    "editable": true
   },
   "outputs": [],
   "source": [
    "yr2011 = pplus_dp[pplus_dp['year']==2011]\n",
    "# yr2011.hist('Age', bins=np.arange(5, 115, 10), color='b', edgecolor='w')\n",
    "# plt.title('Age Distribution of 2011')\n",
    "# plt.grid(False)\n",
    "# plt.xticks(np.arange(0, 110, 10))\n",
    "# axes = plt.gca()\n",
    "# axes.set_ylim([0,360])\n",
    "# plt.xlabel('Age Bins')\n",
    "#histograms based on the calls, not on individual patients (problem with primary key)"
   ]
  },
  {
   "cell_type": "markdown",
   "metadata": {
    "deletable": true,
    "editable": true
   },
   "source": [
    "How many people are we double counting? Is it worth doing the primarykey?"
   ]
  },
  {
   "cell_type": "markdown",
   "metadata": {
    "deletable": true,
    "editable": true
   },
   "source": [
    "# Figure Four: Number of Calls/Year"
   ]
  },
  {
   "cell_type": "code",
   "execution_count": 15,
   "metadata": {
    "collapsed": false,
    "deletable": true,
    "editable": true
   },
   "outputs": [
    {
     "name": "stderr",
     "output_type": "stream",
     "text": [
      "C:\\Users\\pjhu\\Anaconda3\\envs\\ds100_new\\lib\\site-packages\\ipykernel\\__main__.py:1: SettingWithCopyWarning: \n",
      "A value is trying to be set on a copy of a slice from a DataFrame.\n",
      "Try using .loc[row_indexer,col_indexer] = value instead\n",
      "\n",
      "See the caveats in the documentation: http://pandas.pydata.org/pandas-docs/stable/indexing.html#indexing-view-versus-copy\n",
      "  if __name__ == '__main__':\n"
     ]
    }
   ],
   "source": [
    "pplus_dp['month'] = pplus_dp['date'].dt.month\n"
   ]
  },
  {
   "cell_type": "code",
   "execution_count": 37,
   "metadata": {
    "collapsed": false,
    "deletable": true,
    "editable": true
   },
   "outputs": [
    {
     "data": {
      "text/html": [
       "<div>\n",
       "<table border=\"1\" class=\"dataframe\">\n",
       "  <thead>\n",
       "    <tr style=\"text-align: right;\">\n",
       "      <th></th>\n",
       "      <th>2012</th>\n",
       "      <th>2013</th>\n",
       "      <th>2014</th>\n",
       "      <th>2015</th>\n",
       "      <th>avg</th>\n",
       "      <th>std</th>\n",
       "    </tr>\n",
       "    <tr>\n",
       "      <th>month</th>\n",
       "      <th></th>\n",
       "      <th></th>\n",
       "      <th></th>\n",
       "      <th></th>\n",
       "      <th></th>\n",
       "      <th></th>\n",
       "    </tr>\n",
       "  </thead>\n",
       "  <tbody>\n",
       "    <tr>\n",
       "      <th>1</th>\n",
       "      <td>66</td>\n",
       "      <td>80</td>\n",
       "      <td>81</td>\n",
       "      <td>115</td>\n",
       "      <td>85.50</td>\n",
       "      <td>18.034689</td>\n",
       "    </tr>\n",
       "    <tr>\n",
       "      <th>2</th>\n",
       "      <td>25</td>\n",
       "      <td>60</td>\n",
       "      <td>81</td>\n",
       "      <td>89</td>\n",
       "      <td>63.75</td>\n",
       "      <td>24.752525</td>\n",
       "    </tr>\n",
       "    <tr>\n",
       "      <th>3</th>\n",
       "      <td>40</td>\n",
       "      <td>89</td>\n",
       "      <td>99</td>\n",
       "      <td>103</td>\n",
       "      <td>82.75</td>\n",
       "      <td>25.202926</td>\n",
       "    </tr>\n",
       "    <tr>\n",
       "      <th>4</th>\n",
       "      <td>41</td>\n",
       "      <td>70</td>\n",
       "      <td>85</td>\n",
       "      <td>109</td>\n",
       "      <td>76.25</td>\n",
       "      <td>24.651318</td>\n",
       "    </tr>\n",
       "    <tr>\n",
       "      <th>5</th>\n",
       "      <td>44</td>\n",
       "      <td>77</td>\n",
       "      <td>105</td>\n",
       "      <td>113</td>\n",
       "      <td>84.75</td>\n",
       "      <td>27.058963</td>\n",
       "    </tr>\n",
       "    <tr>\n",
       "      <th>6</th>\n",
       "      <td>39</td>\n",
       "      <td>70</td>\n",
       "      <td>100</td>\n",
       "      <td>104</td>\n",
       "      <td>78.25</td>\n",
       "      <td>26.195181</td>\n",
       "    </tr>\n",
       "    <tr>\n",
       "      <th>7</th>\n",
       "      <td>39</td>\n",
       "      <td>79</td>\n",
       "      <td>109</td>\n",
       "      <td>115</td>\n",
       "      <td>85.50</td>\n",
       "      <td>30.112290</td>\n",
       "    </tr>\n",
       "    <tr>\n",
       "      <th>8</th>\n",
       "      <td>49</td>\n",
       "      <td>87</td>\n",
       "      <td>108</td>\n",
       "      <td>92</td>\n",
       "      <td>84.00</td>\n",
       "      <td>21.644861</td>\n",
       "    </tr>\n",
       "    <tr>\n",
       "      <th>9</th>\n",
       "      <td>41</td>\n",
       "      <td>111</td>\n",
       "      <td>96</td>\n",
       "      <td>114</td>\n",
       "      <td>90.50</td>\n",
       "      <td>29.381116</td>\n",
       "    </tr>\n",
       "    <tr>\n",
       "      <th>10</th>\n",
       "      <td>73</td>\n",
       "      <td>88</td>\n",
       "      <td>85</td>\n",
       "      <td>116</td>\n",
       "      <td>90.50</td>\n",
       "      <td>15.755951</td>\n",
       "    </tr>\n",
       "    <tr>\n",
       "      <th>11</th>\n",
       "      <td>96</td>\n",
       "      <td>83</td>\n",
       "      <td>108</td>\n",
       "      <td>106</td>\n",
       "      <td>98.25</td>\n",
       "      <td>9.908961</td>\n",
       "    </tr>\n",
       "    <tr>\n",
       "      <th>12</th>\n",
       "      <td>88</td>\n",
       "      <td>87</td>\n",
       "      <td>76</td>\n",
       "      <td>104</td>\n",
       "      <td>88.75</td>\n",
       "      <td>9.984363</td>\n",
       "    </tr>\n",
       "  </tbody>\n",
       "</table>\n",
       "</div>"
      ],
      "text/plain": [
       "       2012  2013  2014  2015    avg        std\n",
       "month                                          \n",
       "1        66    80    81   115  85.50  18.034689\n",
       "2        25    60    81    89  63.75  24.752525\n",
       "3        40    89    99   103  82.75  25.202926\n",
       "4        41    70    85   109  76.25  24.651318\n",
       "5        44    77   105   113  84.75  27.058963\n",
       "6        39    70   100   104  78.25  26.195181\n",
       "7        39    79   109   115  85.50  30.112290\n",
       "8        49    87   108    92  84.00  21.644861\n",
       "9        41   111    96   114  90.50  29.381116\n",
       "10       73    88    85   116  90.50  15.755951\n",
       "11       96    83   108   106  98.25   9.908961\n",
       "12       88    87    76   104  88.75   9.984363"
      ]
     },
     "execution_count": 37,
     "metadata": {},
     "output_type": "execute_result"
    }
   ],
   "source": [
    "def createDF_months(df):\n",
    "    yr2011 = {'month': np.array([1, 2, 3, 4, 5, 6, 7, 8, 9, 10, 11, 12]), \n",
    "              '2011': np.array([0, 0, 0, 0, 0, 0, 0, 0, 0, 0, 52, 66])}\n",
    "    og2011 = pd.DataFrame(data=yr2011)\n",
    "    for x in range(2012, 2016):\n",
    "        yr = pd.DataFrame(df[df['year'] == x].groupby('month').size()).reset_index()\n",
    "        merged = pd.merge(og2011, yr, on='month')\n",
    "        og2011 = merged \n",
    "#     yr2016 = {'month': np.array([1, 2, 3, 4, 5, 6, 7, 8, 9, 10, 11, 12]), \n",
    "#               '2016': np.array([132, 111, 70, 0, 0, 0, 0, 0, 0, 0, 0, 0])}\n",
    "#     og2016 = pd.DataFrame(data=yr2016)\n",
    "#     merged = pd.merge(merged, og2016, on='month')\n",
    "    merged = merged.set_index('month')\n",
    "    merged1 = merged.drop(merged.columns[0], axis=1)\n",
    "    merged1['avg'] = merged1.mean(numeric_only=True, axis=1) \n",
    "    std_dev_arr = []\n",
    "    for i in range(0, 12):\n",
    "#         print(merged1.iloc[i][0])\n",
    "        std_dev = np.std([merged1.iloc[i][0], merged1.iloc[i][1], merged1.iloc[i][2], merged1.iloc[i][3]])\n",
    "        std_dev_arr.append(std_dev)\n",
    "    merged1['std'] = std_dev_arr\n",
    "    merged1.columns = [ '2012', '2013', '2014','2015','avg', 'std' ]\n",
    "#     merged1.columns = ['2012', '2013', '2014', '2015', 'avg']\n",
    "    return merged1 \n",
    "createDF_months(pplus_dp)"
   ]
  },
  {
   "cell_type": "code",
   "execution_count": 17,
   "metadata": {
    "collapsed": false
   },
   "outputs": [
    {
     "data": {
      "text/plain": [
       "36.069377593742864"
      ]
     },
     "execution_count": 17,
     "metadata": {},
     "output_type": "execute_result"
    }
   ],
   "source": [
    "((66-85.50)**2 + (80-85.50)**2 + (81-85.50)**2 + (115-85.50)**2)**0.5"
   ]
  },
  {
   "cell_type": "code",
   "execution_count": 38,
   "metadata": {
    "collapsed": false,
    "deletable": true,
    "editable": true
   },
   "outputs": [
    {
     "data": {
      "image/png": "[encoded data removed]",
      "text/plain": [
       "<matplotlib.figure.Figure at 0x18f222fc2b0>"
      ]
     },
     "metadata": {},
     "output_type": "display_data"
    }
   ],
   "source": [
    "months = createDF_months(pplus_dp)\n",
    "col_list = [\"#cb11ff\", \"#4aecef\", \"#2aea4a\", \"#2e20ea\", \"#e81b8f\"]\n",
    "with sns.color_palette(col_list):\n",
    "    ax = months[months.columns[:-2]].plot(kind='line', marker='o', zorder=-32)\n",
    "    months.plot(y='avg', yerr='std', ax=ax, kind='line', marker='^', markersize=14, color='k')\n",
    "#     plt.errorbar(yerr=.1, fmt=None, color='b')\n",
    "# plt.title('Number of Calls per Month every year')\n",
    "ax.legend(loc='center left', bbox_to_anchor=(1, 0.5))\n",
    "monthlabels = ['Jan', 'Feb', 'Mar', 'Apr', 'May', 'Jun', 'Jul', 'Aug', 'Sept', 'Oct', 'Nov', 'Dec']\n",
    "plt.xticks(np.arange(1,13,1), monthlabels, rotation=50)\n",
    "plt.xlabel('')\n",
    "plt.ylabel('Number of Calls', fontsize=14)\n",
    "plt.savefig('Calls Per Year.jpg')\n"
   ]
  },
  {
   "cell_type": "markdown",
   "metadata": {
    "deletable": true,
    "editable": true
   },
   "source": [
    "# Figure Two: Repeat Individuals"
   ]
  },
  {
   "cell_type": "code",
   "execution_count": 183,
   "metadata": {
    "collapsed": false,
    "deletable": true,
    "editable": true,
    "scrolled": false
   },
   "outputs": [
    {
     "data": {
      "image/png": "[encoded data removed]",
      "text/plain": [
       "<matplotlib.figure.Figure at 0x1bb8d91a048>"
      ]
     },
     "metadata": {},
     "output_type": "display_data"
    }
   ],
   "source": [
    "#this is based on primarykey which may or may not be flawed \n",
    "repeats = unique_ids.groupby('primarykey').count()\n",
    "repeats.hist('ID #', bins=np.arange(1, 11, 1), edgecolor='w', color='c')\n",
    "# plt.title('Number of Transports for Patients')\n",
    "plt.title(' ')\n",
    "plt.grid(False)\n",
    "binlabels=['', '0', '', '1', '', '2', '', '3', '', '4', '', '5', '', '6', '', '7', '', '8','','9', '', '10']\n",
    "plt.xticks(np.arange(0, 11, 0.5), binlabels)\n",
    "plt.ylabel('Number of Individuals', fontsize=14)\n",
    "plt.xlim([0, 10])\n",
    "\n",
    "plt.savefig('repeat patients.jpg')\n",
    "#log scale or maybe do bins 0 to 10 with last bin in (10+)"
   ]
  },
  {
   "cell_type": "code",
   "execution_count": 124,
   "metadata": {
    "collapsed": false,
    "deletable": true,
    "editable": true
   },
   "outputs": [
    {
     "data": {
      "text/plain": [
       "0.9375989863794741"
      ]
     },
     "execution_count": 124,
     "metadata": {},
     "output_type": "execute_result"
    }
   ],
   "source": [
    "len(repeats[repeats['count']==1])/len(repeats['Age'])"
   ]
  },
  {
   "cell_type": "markdown",
   "metadata": {
    "deletable": true,
    "editable": true
   },
   "source": [
    "# Figure Three: Transports to Hospitals Breakdown"
   ]
  },
  {
   "cell_type": "code",
   "execution_count": 20,
   "metadata": {
    "collapsed": false,
    "deletable": true,
    "editable": true,
    "scrolled": false
   },
   "outputs": [],
   "source": [
    "hospitals_year = pd.DataFrame(pplus.groupby(['Destination Hospital', 'year']).size()).reset_index()\n",
    "yr_hospitals = pd.DataFrame(pplus.groupby(['year', 'Destination Hospital']).size()).reset_index()"
   ]
  },
  {
   "cell_type": "code",
   "execution_count": 96,
   "metadata": {
    "collapsed": false,
    "deletable": true,
    "editable": true
   },
   "outputs": [
    {
     "data": {
      "text/html": [
       "<div>\n",
       "<table border=\"1\" class=\"dataframe\">\n",
       "  <thead>\n",
       "    <tr style=\"text-align: right;\">\n",
       "      <th></th>\n",
       "      <th>Alameda County - Highland Hospital (ACMC)</th>\n",
       "      <th>Alameda County - John George Psychiatric Pavilion</th>\n",
       "      <th>Alta Bates - Herrick Campus</th>\n",
       "      <th>Alta Bates Medical Center - Berkeley</th>\n",
       "      <th>Alta Bates Medical Center - Summit Campus</th>\n",
       "      <th>Children's Hospital and Research Center</th>\n",
       "      <th>Eden Medical Center</th>\n",
       "      <th>Kaiser Permanente - Oakland</th>\n",
       "      <th>San Leandro Hospital</th>\n",
       "      <th>Willow Rock Center</th>\n",
       "      <th>sum</th>\n",
       "    </tr>\n",
       "    <tr>\n",
       "      <th>year</th>\n",
       "      <th></th>\n",
       "      <th></th>\n",
       "      <th></th>\n",
       "      <th></th>\n",
       "      <th></th>\n",
       "      <th></th>\n",
       "      <th></th>\n",
       "      <th></th>\n",
       "      <th></th>\n",
       "      <th></th>\n",
       "      <th></th>\n",
       "    </tr>\n",
       "  </thead>\n",
       "  <tbody>\n",
       "    <tr>\n",
       "      <th>2012</th>\n",
       "      <td>20</td>\n",
       "      <td>328</td>\n",
       "      <td>2</td>\n",
       "      <td>234</td>\n",
       "      <td>14</td>\n",
       "      <td>2</td>\n",
       "      <td>2.0</td>\n",
       "      <td>26</td>\n",
       "      <td>3.0</td>\n",
       "      <td>8</td>\n",
       "      <td>641.0</td>\n",
       "    </tr>\n",
       "    <tr>\n",
       "      <th>2013</th>\n",
       "      <td>23</td>\n",
       "      <td>434</td>\n",
       "      <td>5</td>\n",
       "      <td>423</td>\n",
       "      <td>19</td>\n",
       "      <td>6</td>\n",
       "      <td>6.0</td>\n",
       "      <td>34</td>\n",
       "      <td>11.0</td>\n",
       "      <td>18</td>\n",
       "      <td>981.0</td>\n",
       "    </tr>\n",
       "    <tr>\n",
       "      <th>2014</th>\n",
       "      <td>32</td>\n",
       "      <td>501</td>\n",
       "      <td>3</td>\n",
       "      <td>481</td>\n",
       "      <td>26</td>\n",
       "      <td>7</td>\n",
       "      <td>4.0</td>\n",
       "      <td>47</td>\n",
       "      <td>13.0</td>\n",
       "      <td>18</td>\n",
       "      <td>1133.0</td>\n",
       "    </tr>\n",
       "    <tr>\n",
       "      <th>2015</th>\n",
       "      <td>35</td>\n",
       "      <td>612</td>\n",
       "      <td>1</td>\n",
       "      <td>515</td>\n",
       "      <td>27</td>\n",
       "      <td>6</td>\n",
       "      <td>3.0</td>\n",
       "      <td>46</td>\n",
       "      <td>11.0</td>\n",
       "      <td>21</td>\n",
       "      <td>1280.0</td>\n",
       "    </tr>\n",
       "  </tbody>\n",
       "</table>\n",
       "</div>"
      ],
      "text/plain": [
       "      Alameda County - Highland Hospital (ACMC)  \\\n",
       "year                                              \n",
       "2012                                         20   \n",
       "2013                                         23   \n",
       "2014                                         32   \n",
       "2015                                         35   \n",
       "\n",
       "      Alameda County - John George Psychiatric Pavilion  \\\n",
       "year                                                      \n",
       "2012                                                328   \n",
       "2013                                                434   \n",
       "2014                                                501   \n",
       "2015                                                612   \n",
       "\n",
       "      Alta Bates - Herrick Campus  Alta Bates Medical Center - Berkeley  \\\n",
       "year                                                                      \n",
       "2012                            2                                   234   \n",
       "2013                            5                                   423   \n",
       "2014                            3                                   481   \n",
       "2015                            1                                   515   \n",
       "\n",
       "      Alta Bates Medical Center - Summit Campus  \\\n",
       "year                                              \n",
       "2012                                         14   \n",
       "2013                                         19   \n",
       "2014                                         26   \n",
       "2015                                         27   \n",
       "\n",
       "      Children's Hospital and Research Center  Eden Medical Center  \\\n",
       "year                                                                 \n",
       "2012                                        2                  2.0   \n",
       "2013                                        6                  6.0   \n",
       "2014                                        7                  4.0   \n",
       "2015                                        6                  3.0   \n",
       "\n",
       "      Kaiser Permanente - Oakland  San Leandro Hospital  Willow Rock Center  \\\n",
       "year                                                                          \n",
       "2012                           26                   3.0                   8   \n",
       "2013                           34                  11.0                  18   \n",
       "2014                           47                  13.0                  18   \n",
       "2015                           46                  11.0                  21   \n",
       "\n",
       "         sum  \n",
       "year          \n",
       "2012   641.0  \n",
       "2013   981.0  \n",
       "2014  1133.0  \n",
       "2015  1280.0  "
      ]
     },
     "execution_count": 96,
     "metadata": {},
     "output_type": "execute_result"
    }
   ],
   "source": [
    "def createDF_hospitals(df):\n",
    "    yrs = {'year': np.array([2011, 2012, 2013, 2014, 2015, 2016])}\n",
    "    og = pd.DataFrame(data=yrs)\n",
    "    for x in np.unique(df['Destination Hospital']):\n",
    "        yr = pd.DataFrame(df[df['Destination Hospital'] == x].groupby('year').size()).reset_index()\n",
    "        merged = pd.merge(og, yr, on='year', how='outer')\n",
    "        og = merged \n",
    "    merged = merged.set_index('year')\n",
    "    merged['sum'] = merged.sum(numeric_only=True, axis=1)\n",
    "    merged = merged.fillna(value=0)\n",
    "    merged.columns = ['Alameda County - Highland Hospital (ACMC)',\n",
    "       'Alameda County - John George Psychiatric Pavilion',\n",
    "       'Alameda Hospital', 'Alta Bates - Herrick Campus',\n",
    "       'Alta Bates Medical Center - Berkeley',\n",
    "       'Alta Bates Medical Center - Summit Campus',\n",
    "       \"Children's Hospital and Research Center\", 'Eden Medical Center',\n",
    "       'Kaiser Permanente - Fremont', 'Kaiser Permanente - Oakland',\n",
    "       'Kaiser Permanente - San Leandro', 'San Francisco General Hospital',\n",
    "       'San Leandro Hospital', 'Washington Hospital', 'Willow Rock Center', 'sum']\n",
    "    merged1 = merged.drop(merged.index[[0,5]])\n",
    "    merged1 = merged1.drop(['Alameda Hospital', 'Kaiser Permanente - Fremont', 'Kaiser Permanente - San Leandro'\\\n",
    "                           , 'San Francisco General Hospital', 'Washington Hospital'], axis=1)\n",
    "    return merged1\n",
    "createDF_hospitals(pplus_dp)"
   ]
  },
  {
   "cell_type": "code",
   "execution_count": 150,
   "metadata": {
    "collapsed": false,
    "deletable": true,
    "editable": true,
    "scrolled": true
   },
   "outputs": [
    {
     "data": {
      "image/png": "[encoded data removed]",
      "text/plain": [
       "<matplotlib.figure.Figure at 0x1bb8dac7da0>"
      ]
     },
     "metadata": {},
     "output_type": "display_data"
    }
   ],
   "source": [
    "hospitals = createDF_hospitals(pplus_dp)\n",
    "col_list = [\"#25D8D6\", \"#2FF221\", \"#ECFF0D\", \"#FF1E00\", \"#FFA100\", \"#C60095\", '#08d169',\\\n",
    "            '#f21361', '#6d00f2', '#c9f112', '#000000']\n",
    "with sns.color_palette(col_list):\n",
    "    ax = hospitals[hospitals.columns[:-1]].plot(kind='line', marker='o')\n",
    "ax.legend(loc='center left', bbox_to_anchor=(1, 0.5))\n",
    "labels = [ '2012', '2013', '2014', '2015']\n",
    "plt.ylim(0, 50)\n",
    "plt.xticks(np.arange(2012, 2016, 1), labels)\n",
    "plt.ylabel('Number of Calls', fontsize=14)\n",
    "plt.savefig('hosp_200 per year.jpg')"
   ]
  },
  {
   "cell_type": "code",
   "execution_count": 149,
   "metadata": {
    "collapsed": false,
    "deletable": true,
    "editable": true
   },
   "outputs": [
    {
     "data": {
      "image/png": "[encoded data removed]",
      "text/plain": [
       "<matplotlib.figure.Figure at 0x1bb8bd3cb70>"
      ]
     },
     "metadata": {},
     "output_type": "display_data"
    }
   ],
   "source": [
    "col_list = [\"#25D8D6\", \"#2FF221\", \"#ECFF0D\", \"#FF1E00\", \"#FFA100\", \"#C60095\", '#08d169',\\\n",
    "            '#f21361', '#6d00f2', '#c9f112', '#000000']\n",
    "with sns.color_palette(col_list):\n",
    "    ax = hospitals[hospitals.columns[:-1]].plot(kind='line', marker='o')\n",
    "    hospitals.plot(y='sum', marker='^', ax=ax,markersize='10')\n",
    "ax.legend(loc='center left', bbox_to_anchor=(1, 0.5))\n",
    "labels = [ '2012', '2013', '2014', '2015']\n",
    "\n",
    "plt.xticks(np.arange(2012, 2016, 1), labels)\n",
    "plt.ylabel('Number of Calls', fontsize=14)\n",
    "plt.savefig('hospitals_gen per year.jpg')"
   ]
  },
  {
   "cell_type": "markdown",
   "metadata": {
    "deletable": true,
    "editable": true
   },
   "source": [
    "# Figure Five: Calls on Weekdays"
   ]
  },
  {
   "cell_type": "code",
   "execution_count": 42,
   "metadata": {
    "collapsed": false,
    "deletable": true,
    "editable": true
   },
   "outputs": [
    {
     "name": "stderr",
     "output_type": "stream",
     "text": [
      "C:\\Users\\pjhu\\Anaconda3\\envs\\ds100_new\\lib\\site-packages\\ipykernel\\__main__.py:1: SettingWithCopyWarning: \n",
      "A value is trying to be set on a copy of a slice from a DataFrame.\n",
      "Try using .loc[row_indexer,col_indexer] = value instead\n",
      "\n",
      "See the caveats in the documentation: http://pandas.pydata.org/pandas-docs/stable/indexing.html#indexing-view-versus-copy\n",
      "  if __name__ == '__main__':\n"
     ]
    },
    {
     "data": {
      "text/html": [
       "<div>\n",
       "<table border=\"1\" class=\"dataframe\">\n",
       "  <thead>\n",
       "    <tr style=\"text-align: right;\">\n",
       "      <th></th>\n",
       "      <th>2012</th>\n",
       "      <th>2013</th>\n",
       "      <th>2014</th>\n",
       "      <th>2015</th>\n",
       "      <th>avg</th>\n",
       "      <th>std</th>\n",
       "    </tr>\n",
       "    <tr>\n",
       "      <th>weekday</th>\n",
       "      <th></th>\n",
       "      <th></th>\n",
       "      <th></th>\n",
       "      <th></th>\n",
       "      <th></th>\n",
       "      <th></th>\n",
       "    </tr>\n",
       "  </thead>\n",
       "  <tbody>\n",
       "    <tr>\n",
       "      <th>0</th>\n",
       "      <td>102</td>\n",
       "      <td>166</td>\n",
       "      <td>174</td>\n",
       "      <td>179</td>\n",
       "      <td>155.25</td>\n",
       "      <td>31.091599</td>\n",
       "    </tr>\n",
       "    <tr>\n",
       "      <th>1</th>\n",
       "      <td>83</td>\n",
       "      <td>133</td>\n",
       "      <td>173</td>\n",
       "      <td>193</td>\n",
       "      <td>145.50</td>\n",
       "      <td>42.056510</td>\n",
       "    </tr>\n",
       "    <tr>\n",
       "      <th>2</th>\n",
       "      <td>79</td>\n",
       "      <td>127</td>\n",
       "      <td>167</td>\n",
       "      <td>187</td>\n",
       "      <td>140.00</td>\n",
       "      <td>41.315857</td>\n",
       "    </tr>\n",
       "    <tr>\n",
       "      <th>3</th>\n",
       "      <td>87</td>\n",
       "      <td>144</td>\n",
       "      <td>174</td>\n",
       "      <td>182</td>\n",
       "      <td>146.75</td>\n",
       "      <td>37.291923</td>\n",
       "    </tr>\n",
       "    <tr>\n",
       "      <th>4</th>\n",
       "      <td>100</td>\n",
       "      <td>138</td>\n",
       "      <td>148</td>\n",
       "      <td>220</td>\n",
       "      <td>151.50</td>\n",
       "      <td>43.413708</td>\n",
       "    </tr>\n",
       "    <tr>\n",
       "      <th>5</th>\n",
       "      <td>96</td>\n",
       "      <td>128</td>\n",
       "      <td>132</td>\n",
       "      <td>156</td>\n",
       "      <td>128.00</td>\n",
       "      <td>21.354157</td>\n",
       "    </tr>\n",
       "    <tr>\n",
       "      <th>6</th>\n",
       "      <td>94</td>\n",
       "      <td>145</td>\n",
       "      <td>165</td>\n",
       "      <td>163</td>\n",
       "      <td>141.75</td>\n",
       "      <td>28.647644</td>\n",
       "    </tr>\n",
       "  </tbody>\n",
       "</table>\n",
       "</div>"
      ],
      "text/plain": [
       "         2012  2013  2014  2015     avg        std\n",
       "weekday                                           \n",
       "0         102   166   174   179  155.25  31.091599\n",
       "1          83   133   173   193  145.50  42.056510\n",
       "2          79   127   167   187  140.00  41.315857\n",
       "3          87   144   174   182  146.75  37.291923\n",
       "4         100   138   148   220  151.50  43.413708\n",
       "5          96   128   132   156  128.00  21.354157\n",
       "6          94   145   165   163  141.75  28.647644"
      ]
     },
     "execution_count": 42,
     "metadata": {},
     "output_type": "execute_result"
    }
   ],
   "source": [
    "pplus_dp['weekday'] = pplus_dp['date'].dt.dayofweek\n",
    "pplus_dp.groupby(['year', 'weekday']).size()\n",
    "\n",
    "def createDF_weekday(df):\n",
    "    wkday = {'weekday': np.array([0, 1, 2, 3, 4, 5, 6])}\n",
    "    og = pd.DataFrame(data=wkday)\n",
    "    for x in range(2012, 2016):\n",
    "        weekday = pd.DataFrame(df[df['year'] == x].groupby('weekday').size()).reset_index()\n",
    "        merged = pd.merge(og, weekday, on='weekday')\n",
    "        og = merged\n",
    "    merged = merged.set_index('weekday')\n",
    "    merged['avg'] = merged.mean(numeric_only=True, axis=1)\n",
    "    std_dev_arr = []\n",
    "    for i in range(0, 7):\n",
    "#         print(merged1.iloc[i][0])\n",
    "        std_dev = np.std([merged.iloc[i][0], merged.iloc[i][1], merged.iloc[i][2], merged.iloc[i][3]])\n",
    "        std_dev_arr.append(std_dev)\n",
    "#         print(std_dev_arr)\n",
    "    merged['std'] = std_dev_arr\n",
    "#     merged.columns = ['2011', '2012', '2013', '2014','2015','2016','avg' ]\n",
    "    merged.columns = ['2012', '2013', '2014', '2015', 'avg', 'std']\n",
    "    return merged \n",
    "createDF_weekday(pplus_dp)"
   ]
  },
  {
   "cell_type": "code",
   "execution_count": 43,
   "metadata": {
    "collapsed": false,
    "deletable": true,
    "editable": true
   },
   "outputs": [
    {
     "data": {
      "image/png": "[encoded data removed]",
      "text/plain": [
       "<matplotlib.figure.Figure at 0x18f22ae6a90>"
      ]
     },
     "metadata": {},
     "output_type": "display_data"
    }
   ],
   "source": [
    "weekdays = createDF_weekday(pplus_dp)\n",
    "col_list = [\"#cb11ff\", \"#4aecef\", \"#2aea4a\", \"#2e20ea\", \"#e81b8f\"]\n",
    "with sns.color_palette(col_list):\n",
    "    ax = weekdays[['2012', '2013', '2014', '2015']].plot(kind='line', marker='o', zorder=-32)\n",
    "    weekdays.plot(y='avg', yerr='std', ax=ax, kind='line', marker='^', markersize=14, color='k')\n",
    "# plt.title('Number of Calls per Month every year')\n",
    "ax.legend(loc='center left', bbox_to_anchor=(1, 0.5))\n",
    "xlabels = ['Sunday', 'Monday', 'Tuesday', 'Wednesday', 'Thursday', 'Friday','Saturday']\n",
    "plt.xlabel('')\n",
    "plt.xticks(np.arange(0,7,1), xlabels, rotation=50, fontsize=14)\n",
    "plt.ylabel('Number of Calls', fontsize=14)\n",
    "plt.savefig('Calls on Weekdays.jpg')"
   ]
  },
  {
   "cell_type": "code",
   "execution_count": null,
   "metadata": {
    "collapsed": false,
    "deletable": true,
    "editable": true
   },
   "outputs": [],
   "source": []
  },
  {
   "cell_type": "code",
   "execution_count": null,
   "metadata": {
    "collapsed": true,
    "deletable": true,
    "editable": true
   },
   "outputs": [],
   "source": []
  }
 ],
 "metadata": {
  "kernelspec": {
   "display_name": "Python 3",
   "language": "python",
   "name": "python3"
  },
  "language_info": {
   "codemirror_mode": {
    "name": "ipython",
    "version": 3
   },
   "file_extension": ".py",
   "mimetype": "text/x-python",
   "name": "python",
   "nbconvert_exporter": "python",
   "pygments_lexer": "ipython3",
   "version": "3.5.3"
  }
 },
 "nbformat": 4,
 "nbformat_minor": 2
}
