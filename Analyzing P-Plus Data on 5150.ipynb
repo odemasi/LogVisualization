{
 "cells": [
  {
   "cell_type": "code",
<<<<<<< HEAD
   "execution_count": 1,
=======
   "execution_count": 57,
>>>>>>> 4c2a15dd4e1fcbb3b4d9738edf345c9a4a7143e1
   "metadata": {
    "collapsed": false,
    "deletable": true,
    "editable": true
   },
   "outputs": [],
   "source": [
    "import pandas as pd \n",
    "import numpy as np\n",
    "import matplotlib\n",
    "import seaborn as sns\n",
    "sns.set_style('whitegrid', {'axes.grid' : False})\n",
    "%matplotlib inline \n",
    "import matplotlib.pyplot as plt\n",
    "import seaborn "
   ]
  },
  {
   "cell_type": "code",
<<<<<<< HEAD
   "execution_count": null,
=======
   "execution_count": 58,
>>>>>>> 4c2a15dd4e1fcbb3b4d9738edf345c9a4a7143e1
   "metadata": {
    "collapsed": true,
    "deletable": true,
    "editable": true
   },
   "outputs": [],
   "source": []
  },
  {
   "cell_type": "code",
   "execution_count": 2,
   "metadata": {
    "collapsed": true,
    "deletable": true,
    "editable": true
   },
   "outputs": [],
   "source": [
    "pplus = pd.read_csv('ParamedicsPlus5150.csv')"
   ]
  },
  {
   "cell_type": "code",
<<<<<<< HEAD
   "execution_count": 3,
=======
   "execution_count": 147,
   "metadata": {
    "collapsed": false
   },
   "outputs": [
    {
     "name": "stderr",
     "output_type": "stream",
     "text": [
      "C:\\Users\\pjhu\\Anaconda3\\envs\\ds100\\lib\\site-packages\\ipykernel\\__main__.py:8: SettingWithCopyWarning: \n",
      "A value is trying to be set on a copy of a slice from a DataFrame.\n",
      "Try using .loc[row_indexer,col_indexer] = value instead\n",
      "\n",
      "See the caveats in the documentation: http://pandas.pydata.org/pandas-docs/stable/indexing.html#indexing-view-versus-copy\n"
     ]
    }
   ],
   "source": [
    "pplus['date'] = pd.to_datetime(pplus['Date of 5150'])\n",
    "pplus['year'] = pplus['date'].dt.year\n",
    "pplus_dp = pplus.ix[pplus['Age'] != '#VALUE!']\n",
    "#drop that one column that's always annoying \n",
    "pplus_dp['Age']=pplus_dp['Age'].astype(int)\n",
    "#reset so you can create histograms "
   ]
  },
  {
   "cell_type": "code",
   "execution_count": 45,
>>>>>>> 4c2a15dd4e1fcbb3b4d9738edf345c9a4a7143e1
   "metadata": {
    "collapsed": false,
    "deletable": true,
    "editable": true
   },
   "outputs": [
    {
<<<<<<< HEAD
     "name": "stderr",
     "output_type": "stream",
     "text": [
      "C:\\Users\\pjhu\\Anaconda3\\envs\\ds100_new\\lib\\site-packages\\ipykernel\\__main__.py:5: SettingWithCopyWarning: \n",
      "A value is trying to be set on a copy of a slice from a DataFrame.\n",
      "Try using .loc[row_indexer,col_indexer] = value instead\n",
      "\n",
      "See the caveats in the documentation: http://pandas.pydata.org/pandas-docs/stable/indexing.html#indexing-view-versus-copy\n"
     ]
    }
   ],
   "source": [
    "pplus['date'] = pd.to_datetime(pplus['Date of 5150'])\n",
    "pplus['year'] = pplus['date'].dt.year\n",
    "pplus_dp = pplus.ix[pplus['Age'] != '#VALUE!']\n",
    "#drop that one column that's always annoying \n",
    "pplus_dp['Age']=pplus_dp['Age'].astype(int)\n",
    "#reset so you can create histograms "
=======
     "data": {
      "text/html": [
       "<div>\n",
       "<table border=\"1\" class=\"dataframe\">\n",
       "  <thead>\n",
       "    <tr style=\"text-align: right;\">\n",
       "      <th></th>\n",
       "      <th>ID #</th>\n",
       "      <th>Age</th>\n",
       "      <th>year</th>\n",
       "      <th>count</th>\n",
       "    </tr>\n",
       "  </thead>\n",
       "  <tbody>\n",
       "    <tr>\n",
       "      <th>0</th>\n",
       "      <td>1</td>\n",
       "      <td>22</td>\n",
       "      <td>2015</td>\n",
       "      <td>1</td>\n",
       "    </tr>\n",
       "    <tr>\n",
       "      <th>1</th>\n",
       "      <td>2</td>\n",
       "      <td>30</td>\n",
       "      <td>2015</td>\n",
       "      <td>2</td>\n",
       "    </tr>\n",
       "    <tr>\n",
       "      <th>2</th>\n",
       "      <td>3</td>\n",
       "      <td>86</td>\n",
       "      <td>2013</td>\n",
       "      <td>1</td>\n",
       "    </tr>\n",
       "    <tr>\n",
       "      <th>3</th>\n",
       "      <td>4</td>\n",
       "      <td>68</td>\n",
       "      <td>2016</td>\n",
       "      <td>1</td>\n",
       "    </tr>\n",
       "    <tr>\n",
       "      <th>4</th>\n",
       "      <td>5</td>\n",
       "      <td>68</td>\n",
       "      <td>2014</td>\n",
       "      <td>1</td>\n",
       "    </tr>\n",
       "    <tr>\n",
       "      <th>5</th>\n",
       "      <td>6</td>\n",
       "      <td>31</td>\n",
       "      <td>2015</td>\n",
       "      <td>1</td>\n",
       "    </tr>\n",
       "    <tr>\n",
       "      <th>6</th>\n",
       "      <td>7</td>\n",
       "      <td>52</td>\n",
       "      <td>2012</td>\n",
       "      <td>1</td>\n",
       "    </tr>\n",
       "    <tr>\n",
       "      <th>7</th>\n",
       "      <td>8</td>\n",
       "      <td>34</td>\n",
       "      <td>2012</td>\n",
       "      <td>1</td>\n",
       "    </tr>\n",
       "    <tr>\n",
       "      <th>8</th>\n",
       "      <td>9</td>\n",
       "      <td>43</td>\n",
       "      <td>2012</td>\n",
       "      <td>1</td>\n",
       "    </tr>\n",
       "    <tr>\n",
       "      <th>9</th>\n",
       "      <td>10</td>\n",
       "      <td>44</td>\n",
       "      <td>2013</td>\n",
       "      <td>1</td>\n",
       "    </tr>\n",
       "    <tr>\n",
       "      <th>10</th>\n",
       "      <td>11</td>\n",
       "      <td>19</td>\n",
       "      <td>2012</td>\n",
       "      <td>1</td>\n",
       "    </tr>\n",
       "    <tr>\n",
       "      <th>11</th>\n",
       "      <td>12</td>\n",
       "      <td>37</td>\n",
       "      <td>2013</td>\n",
       "      <td>1</td>\n",
       "    </tr>\n",
       "    <tr>\n",
       "      <th>12</th>\n",
       "      <td>12</td>\n",
       "      <td>37</td>\n",
       "      <td>2014</td>\n",
       "      <td>1</td>\n",
       "    </tr>\n",
       "    <tr>\n",
       "      <th>13</th>\n",
       "      <td>13</td>\n",
       "      <td>51</td>\n",
       "      <td>2013</td>\n",
       "      <td>2</td>\n",
       "    </tr>\n",
       "    <tr>\n",
       "      <th>14</th>\n",
       "      <td>14</td>\n",
       "      <td>69</td>\n",
       "      <td>2012</td>\n",
       "      <td>1</td>\n",
       "    </tr>\n",
       "    <tr>\n",
       "      <th>15</th>\n",
       "      <td>15</td>\n",
       "      <td>26</td>\n",
       "      <td>2013</td>\n",
       "      <td>1</td>\n",
       "    </tr>\n",
       "    <tr>\n",
       "      <th>16</th>\n",
       "      <td>15</td>\n",
       "      <td>36</td>\n",
       "      <td>2013</td>\n",
       "      <td>1</td>\n",
       "    </tr>\n",
       "    <tr>\n",
       "      <th>17</th>\n",
       "      <td>15</td>\n",
       "      <td>36</td>\n",
       "      <td>2014</td>\n",
       "      <td>1</td>\n",
       "    </tr>\n",
       "    <tr>\n",
       "      <th>18</th>\n",
       "      <td>15</td>\n",
       "      <td>36</td>\n",
       "      <td>2015</td>\n",
       "      <td>3</td>\n",
       "    </tr>\n",
       "    <tr>\n",
       "      <th>19</th>\n",
       "      <td>16</td>\n",
       "      <td>25</td>\n",
       "      <td>2013</td>\n",
       "      <td>1</td>\n",
       "    </tr>\n",
       "    <tr>\n",
       "      <th>20</th>\n",
       "      <td>17</td>\n",
       "      <td>34</td>\n",
       "      <td>2014</td>\n",
       "      <td>1</td>\n",
       "    </tr>\n",
       "    <tr>\n",
       "      <th>21</th>\n",
       "      <td>18</td>\n",
       "      <td>28</td>\n",
       "      <td>2013</td>\n",
       "      <td>1</td>\n",
       "    </tr>\n",
       "    <tr>\n",
       "      <th>22</th>\n",
       "      <td>19</td>\n",
       "      <td>30</td>\n",
       "      <td>2013</td>\n",
       "      <td>1</td>\n",
       "    </tr>\n",
       "    <tr>\n",
       "      <th>23</th>\n",
       "      <td>20</td>\n",
       "      <td>24</td>\n",
       "      <td>2014</td>\n",
       "      <td>1</td>\n",
       "    </tr>\n",
       "    <tr>\n",
       "      <th>24</th>\n",
       "      <td>21</td>\n",
       "      <td>32</td>\n",
       "      <td>2014</td>\n",
       "      <td>1</td>\n",
       "    </tr>\n",
       "    <tr>\n",
       "      <th>25</th>\n",
       "      <td>22</td>\n",
       "      <td>44</td>\n",
       "      <td>2014</td>\n",
       "      <td>1</td>\n",
       "    </tr>\n",
       "    <tr>\n",
       "      <th>26</th>\n",
       "      <td>23</td>\n",
       "      <td>36</td>\n",
       "      <td>2012</td>\n",
       "      <td>1</td>\n",
       "    </tr>\n",
       "    <tr>\n",
       "      <th>27</th>\n",
       "      <td>24</td>\n",
       "      <td>37</td>\n",
       "      <td>2016</td>\n",
       "      <td>1</td>\n",
       "    </tr>\n",
       "    <tr>\n",
       "      <th>28</th>\n",
       "      <td>25</td>\n",
       "      <td>25</td>\n",
       "      <td>2013</td>\n",
       "      <td>1</td>\n",
       "    </tr>\n",
       "    <tr>\n",
       "      <th>29</th>\n",
       "      <td>26</td>\n",
       "      <td>43</td>\n",
       "      <td>2014</td>\n",
       "      <td>1</td>\n",
       "    </tr>\n",
       "    <tr>\n",
       "      <th>...</th>\n",
       "      <td>...</td>\n",
       "      <td>...</td>\n",
       "      <td>...</td>\n",
       "      <td>...</td>\n",
       "    </tr>\n",
       "    <tr>\n",
       "      <th>3377</th>\n",
       "      <td>2757</td>\n",
       "      <td>42</td>\n",
       "      <td>2012</td>\n",
       "      <td>1</td>\n",
       "    </tr>\n",
       "    <tr>\n",
       "      <th>3378</th>\n",
       "      <td>2758</td>\n",
       "      <td>21</td>\n",
       "      <td>2014</td>\n",
       "      <td>1</td>\n",
       "    </tr>\n",
       "    <tr>\n",
       "      <th>3379</th>\n",
       "      <td>2759</td>\n",
       "      <td>54</td>\n",
       "      <td>2015</td>\n",
       "      <td>1</td>\n",
       "    </tr>\n",
       "    <tr>\n",
       "      <th>3380</th>\n",
       "      <td>2760</td>\n",
       "      <td>65</td>\n",
       "      <td>2012</td>\n",
       "      <td>1</td>\n",
       "    </tr>\n",
       "    <tr>\n",
       "      <th>3381</th>\n",
       "      <td>2761</td>\n",
       "      <td>19</td>\n",
       "      <td>2016</td>\n",
       "      <td>1</td>\n",
       "    </tr>\n",
       "    <tr>\n",
       "      <th>3382</th>\n",
       "      <td>2762</td>\n",
       "      <td>28</td>\n",
       "      <td>2013</td>\n",
       "      <td>2</td>\n",
       "    </tr>\n",
       "    <tr>\n",
       "      <th>3383</th>\n",
       "      <td>2762</td>\n",
       "      <td>28</td>\n",
       "      <td>2015</td>\n",
       "      <td>2</td>\n",
       "    </tr>\n",
       "    <tr>\n",
       "      <th>3384</th>\n",
       "      <td>2763</td>\n",
       "      <td>38</td>\n",
       "      <td>2015</td>\n",
       "      <td>1</td>\n",
       "    </tr>\n",
       "    <tr>\n",
       "      <th>3385</th>\n",
       "      <td>2764</td>\n",
       "      <td>23</td>\n",
       "      <td>2015</td>\n",
       "      <td>1</td>\n",
       "    </tr>\n",
       "    <tr>\n",
       "      <th>3386</th>\n",
       "      <td>2765</td>\n",
       "      <td>51</td>\n",
       "      <td>2016</td>\n",
       "      <td>1</td>\n",
       "    </tr>\n",
       "    <tr>\n",
       "      <th>3387</th>\n",
       "      <td>2766</td>\n",
       "      <td>15</td>\n",
       "      <td>2014</td>\n",
       "      <td>1</td>\n",
       "    </tr>\n",
       "    <tr>\n",
       "      <th>3388</th>\n",
       "      <td>2767</td>\n",
       "      <td>25</td>\n",
       "      <td>2015</td>\n",
       "      <td>1</td>\n",
       "    </tr>\n",
       "    <tr>\n",
       "      <th>3389</th>\n",
       "      <td>2768</td>\n",
       "      <td>37</td>\n",
       "      <td>2013</td>\n",
       "      <td>1</td>\n",
       "    </tr>\n",
       "    <tr>\n",
       "      <th>3390</th>\n",
       "      <td>2769</td>\n",
       "      <td>59</td>\n",
       "      <td>2014</td>\n",
       "      <td>1</td>\n",
       "    </tr>\n",
       "    <tr>\n",
       "      <th>3391</th>\n",
       "      <td>2770</td>\n",
       "      <td>59</td>\n",
       "      <td>2014</td>\n",
       "      <td>1</td>\n",
       "    </tr>\n",
       "    <tr>\n",
       "      <th>3392</th>\n",
       "      <td>2771</td>\n",
       "      <td>56</td>\n",
       "      <td>2015</td>\n",
       "      <td>1</td>\n",
       "    </tr>\n",
       "    <tr>\n",
       "      <th>3393</th>\n",
       "      <td>2772</td>\n",
       "      <td>31</td>\n",
       "      <td>2013</td>\n",
       "      <td>1</td>\n",
       "    </tr>\n",
       "    <tr>\n",
       "      <th>3394</th>\n",
       "      <td>2772</td>\n",
       "      <td>31</td>\n",
       "      <td>2014</td>\n",
       "      <td>1</td>\n",
       "    </tr>\n",
       "    <tr>\n",
       "      <th>3395</th>\n",
       "      <td>2773</td>\n",
       "      <td>61</td>\n",
       "      <td>2014</td>\n",
       "      <td>1</td>\n",
       "    </tr>\n",
       "    <tr>\n",
       "      <th>3396</th>\n",
       "      <td>2774</td>\n",
       "      <td>61</td>\n",
       "      <td>2013</td>\n",
       "      <td>1</td>\n",
       "    </tr>\n",
       "    <tr>\n",
       "      <th>3397</th>\n",
       "      <td>2774</td>\n",
       "      <td>61</td>\n",
       "      <td>2014</td>\n",
       "      <td>4</td>\n",
       "    </tr>\n",
       "    <tr>\n",
       "      <th>3398</th>\n",
       "      <td>2774</td>\n",
       "      <td>61</td>\n",
       "      <td>2015</td>\n",
       "      <td>2</td>\n",
       "    </tr>\n",
       "    <tr>\n",
       "      <th>3399</th>\n",
       "      <td>2775</td>\n",
       "      <td>22</td>\n",
       "      <td>2015</td>\n",
       "      <td>1</td>\n",
       "    </tr>\n",
       "    <tr>\n",
       "      <th>3400</th>\n",
       "      <td>2776</td>\n",
       "      <td>26</td>\n",
       "      <td>2014</td>\n",
       "      <td>1</td>\n",
       "    </tr>\n",
       "    <tr>\n",
       "      <th>3401</th>\n",
       "      <td>2777</td>\n",
       "      <td>46</td>\n",
       "      <td>2012</td>\n",
       "      <td>1</td>\n",
       "    </tr>\n",
       "    <tr>\n",
       "      <th>3402</th>\n",
       "      <td>2778</td>\n",
       "      <td>20</td>\n",
       "      <td>2013</td>\n",
       "      <td>1</td>\n",
       "    </tr>\n",
       "    <tr>\n",
       "      <th>3403</th>\n",
       "      <td>2778</td>\n",
       "      <td>20</td>\n",
       "      <td>2015</td>\n",
       "      <td>1</td>\n",
       "    </tr>\n",
       "    <tr>\n",
       "      <th>3404</th>\n",
       "      <td>2779</td>\n",
       "      <td>25</td>\n",
       "      <td>2015</td>\n",
       "      <td>2</td>\n",
       "    </tr>\n",
       "    <tr>\n",
       "      <th>3405</th>\n",
       "      <td>2779</td>\n",
       "      <td>25</td>\n",
       "      <td>2016</td>\n",
       "      <td>1</td>\n",
       "    </tr>\n",
       "    <tr>\n",
       "      <th>3406</th>\n",
       "      <td>2780</td>\n",
       "      <td>19</td>\n",
       "      <td>2013</td>\n",
       "      <td>1</td>\n",
       "    </tr>\n",
       "  </tbody>\n",
       "</table>\n",
       "<p>3407 rows × 4 columns</p>\n",
       "</div>"
      ],
      "text/plain": [
       "      ID # Age  year  count\n",
       "0        1  22  2015      1\n",
       "1        2  30  2015      2\n",
       "2        3  86  2013      1\n",
       "3        4  68  2016      1\n",
       "4        5  68  2014      1\n",
       "5        6  31  2015      1\n",
       "6        7  52  2012      1\n",
       "7        8  34  2012      1\n",
       "8        9  43  2012      1\n",
       "9       10  44  2013      1\n",
       "10      11  19  2012      1\n",
       "11      12  37  2013      1\n",
       "12      12  37  2014      1\n",
       "13      13  51  2013      2\n",
       "14      14  69  2012      1\n",
       "15      15  26  2013      1\n",
       "16      15  36  2013      1\n",
       "17      15  36  2014      1\n",
       "18      15  36  2015      3\n",
       "19      16  25  2013      1\n",
       "20      17  34  2014      1\n",
       "21      18  28  2013      1\n",
       "22      19  30  2013      1\n",
       "23      20  24  2014      1\n",
       "24      21  32  2014      1\n",
       "25      22  44  2014      1\n",
       "26      23  36  2012      1\n",
       "27      24  37  2016      1\n",
       "28      25  25  2013      1\n",
       "29      26  43  2014      1\n",
       "...    ...  ..   ...    ...\n",
       "3377  2757  42  2012      1\n",
       "3378  2758  21  2014      1\n",
       "3379  2759  54  2015      1\n",
       "3380  2760  65  2012      1\n",
       "3381  2761  19  2016      1\n",
       "3382  2762  28  2013      2\n",
       "3383  2762  28  2015      2\n",
       "3384  2763  38  2015      1\n",
       "3385  2764  23  2015      1\n",
       "3386  2765  51  2016      1\n",
       "3387  2766  15  2014      1\n",
       "3388  2767  25  2015      1\n",
       "3389  2768  37  2013      1\n",
       "3390  2769  59  2014      1\n",
       "3391  2770  59  2014      1\n",
       "3392  2771  56  2015      1\n",
       "3393  2772  31  2013      1\n",
       "3394  2772  31  2014      1\n",
       "3395  2773  61  2014      1\n",
       "3396  2774  61  2013      1\n",
       "3397  2774  61  2014      4\n",
       "3398  2774  61  2015      2\n",
       "3399  2775  22  2015      1\n",
       "3400  2776  26  2014      1\n",
       "3401  2777  46  2012      1\n",
       "3402  2778  20  2013      1\n",
       "3403  2778  20  2015      1\n",
       "3404  2779  25  2015      2\n",
       "3405  2779  25  2016      1\n",
       "3406  2780  19  2013      1\n",
       "\n",
       "[3407 rows x 4 columns]"
      ]
     },
     "execution_count": 45,
     "metadata": {},
     "output_type": "execute_result"
    }
   ],
   "source": [
    "unique_ids = pd.DataFrame({'count' : pplus.groupby(['ID #', 'Age', 'year']).size()}).reset_index()\n",
    "primarykey = np.array([])\n",
    "unique_ids\n",
    "# for i in unique_ids['ID #']: \n",
    "# unique_ids.join(pplus, how='inner', rsuffix='R')\n"
   ]
  },
  {
   "cell_type": "markdown",
   "metadata": {},
   "source": [
    "Interesting Findings: \n",
    "- ID # 15: Remains 36 years old through 2013 to 2015... Is this an error or is this a new person every time? \n",
    "- ID # 2762: Remains 28 years old from 2013 to 2015\n",
    "- ID # 2774"
   ]
  },
  {
   "cell_type": "markdown",
   "metadata": {},
   "source": [
    "Creating primarykey of the table "
   ]
  },
  {
   "cell_type": "code",
   "execution_count": 328,
   "metadata": {
    "collapsed": false
   },
   "outputs": [],
   "source": [
    "unique_ids['primarykey'] = unique_ids['ID #'].map(str) + pplus['Age']\n",
    "#creating the primarykey which is the unique identifer for each individual\n",
    "#check overlap of primarykey (ie ID = 100 and age = 100)"
   ]
  },
  {
   "cell_type": "markdown",
   "metadata": {},
   "source": [
    "# Creating the Histogram of Ages of Calls"
   ]
  },
  {
   "cell_type": "code",
   "execution_count": 318,
   "metadata": {
    "collapsed": false,
    "scrolled": false
   },
   "outputs": [
    {
     "name": "stderr",
     "output_type": "stream",
     "text": [
      "C:\\Users\\pjhu\\Anaconda3\\envs\\ds100\\lib\\site-packages\\ipykernel\\__main__.py:4: SettingWithCopyWarning: \n",
      "A value is trying to be set on a copy of a slice from a DataFrame.\n",
      "Try using .loc[row_indexer,col_indexer] = value instead\n",
      "\n",
      "See the caveats in the documentation: http://pandas.pydata.org/pandas-docs/stable/indexing.html#indexing-view-versus-copy\n"
     ]
    },
    {
     "data": {
      "image/png": "iVBORw0KGgoAAAANSUhEUgAAAhoAAAGJCAYAAADMo5pWAAAABHNCSVQICAgIfAhkiAAAAAlwSFlz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\n/x8y0mdUpJJejwAAAABJRU5ErkJggg==\n",
      "text/plain": [
       "<matplotlib.figure.Figure at 0x18adec45e80>"
      ]
     },
     "metadata": {},
     "output_type": "display_data"
    }
   ],
   "source": [
    "# ages = pplus.drop_duplicates('primarykey')\n",
    "# #the year and individuals: groupby year, write script to adjust for age incrementing each year \n",
    "unique_ids_drop = unique_ids.ix[unique_ids['Age'] != '#VALUE!']\n",
    "unique_ids_drop['Age'] = unique_ids_drop['Age'].astype(int)\n",
    "# ages.hist('Age', bins= np.arange(5, 115, 10))\n",
    "unique_ids_drop.hist('Age', bins=np.arange(5, 115,5),color='r', edgecolor='w')\n",
    "# tick marks, axes, more informative title \n",
    "# plt.title(\"Who is Paramedics Plus transporting?\")\n",
    "plt.xlabel('Age Brackets')\n",
    "plt.ylabel('Number of Calls')\n",
    "plt.grid(False)\n",
    "plt.xticks(np.arange(10, 110, 10))\n",
    "plt.savefig('age_distribution.jpg')"
>>>>>>> 4c2a15dd4e1fcbb3b4d9738edf345c9a4a7143e1
   ]
  },
  {
   "cell_type": "code",
<<<<<<< HEAD
   "execution_count": 4,
=======
   "execution_count": 192,
>>>>>>> 4c2a15dd4e1fcbb3b4d9738edf345c9a4a7143e1
   "metadata": {
    "collapsed": false,
    "deletable": true,
    "editable": true
   },
   "outputs": [],
   "source": [
<<<<<<< HEAD
    "unique_ids = pd.DataFrame({'count' : pplus.groupby(['ID #', 'Age', 'year']).size()}).reset_index()\n",
    "primarykey = np.array([])\n",
    "# unique_ids\n",
    "# for i in unique_ids['ID #']: \n",
    "# unique_ids.join(pplus, how='inner', rsuffix='R')\n"
   ]
  },
  {
   "cell_type": "markdown",
   "metadata": {
    "deletable": true,
    "editable": true
   },
   "source": [
    "Interesting Findings: \n",
    "- ID # 15: Remains 36 years old through 2013 to 2015... Is this an error or is this a new person every time? \n",
    "- ID # 2762: Remains 28 years old from 2013 to 2015\n",
    "- ID # 2774"
=======
    "# ages[ages['Age'] >= 100]"
>>>>>>> 4c2a15dd4e1fcbb3b4d9738edf345c9a4a7143e1
   ]
  },
  {
   "cell_type": "markdown",
   "metadata": {
    "deletable": true,
    "editable": true
   },
   "source": [
<<<<<<< HEAD
    "Creating primarykey of the table "
=======
    "# Separating by Year"
   ]
  },
  {
   "cell_type": "code",
   "execution_count": 140,
   "metadata": {
    "collapsed": false
   },
   "outputs": [
    {
     "data": {
      "text/html": [
       "<div>\n",
       "<table border=\"1\" class=\"dataframe\">\n",
       "  <thead>\n",
       "    <tr style=\"text-align: right;\">\n",
       "      <th></th>\n",
       "      <th>year</th>\n",
       "      <th>Age</th>\n",
       "      <th>count</th>\n",
       "    </tr>\n",
       "  </thead>\n",
       "  <tbody>\n",
       "    <tr>\n",
       "      <th>0</th>\n",
       "      <td>2011</td>\n",
       "      <td>17</td>\n",
       "      <td>1</td>\n",
       "    </tr>\n",
       "    <tr>\n",
       "      <th>1</th>\n",
       "      <td>2011</td>\n",
       "      <td>18</td>\n",
       "      <td>1</td>\n",
       "    </tr>\n",
       "    <tr>\n",
       "      <th>2</th>\n",
       "      <td>2011</td>\n",
       "      <td>20</td>\n",
       "      <td>1</td>\n",
       "    </tr>\n",
       "    <tr>\n",
       "      <th>3</th>\n",
       "      <td>2011</td>\n",
       "      <td>23</td>\n",
       "      <td>2</td>\n",
       "    </tr>\n",
       "    <tr>\n",
       "      <th>4</th>\n",
       "      <td>2011</td>\n",
       "      <td>24</td>\n",
       "      <td>4</td>\n",
       "    </tr>\n",
       "    <tr>\n",
       "      <th>5</th>\n",
       "      <td>2011</td>\n",
       "      <td>25</td>\n",
       "      <td>5</td>\n",
       "    </tr>\n",
       "    <tr>\n",
       "      <th>6</th>\n",
       "      <td>2011</td>\n",
       "      <td>26</td>\n",
       "      <td>2</td>\n",
       "    </tr>\n",
       "    <tr>\n",
       "      <th>7</th>\n",
       "      <td>2011</td>\n",
       "      <td>27</td>\n",
       "      <td>2</td>\n",
       "    </tr>\n",
       "    <tr>\n",
       "      <th>8</th>\n",
       "      <td>2011</td>\n",
       "      <td>28</td>\n",
       "      <td>2</td>\n",
       "    </tr>\n",
       "    <tr>\n",
       "      <th>9</th>\n",
       "      <td>2011</td>\n",
       "      <td>29</td>\n",
       "      <td>6</td>\n",
       "    </tr>\n",
       "    <tr>\n",
       "      <th>10</th>\n",
       "      <td>2011</td>\n",
       "      <td>30</td>\n",
       "      <td>4</td>\n",
       "    </tr>\n",
       "    <tr>\n",
       "      <th>11</th>\n",
       "      <td>2011</td>\n",
       "      <td>31</td>\n",
       "      <td>1</td>\n",
       "    </tr>\n",
       "    <tr>\n",
       "      <th>12</th>\n",
       "      <td>2011</td>\n",
       "      <td>32</td>\n",
       "      <td>2</td>\n",
       "    </tr>\n",
       "    <tr>\n",
       "      <th>13</th>\n",
       "      <td>2011</td>\n",
       "      <td>33</td>\n",
       "      <td>4</td>\n",
       "    </tr>\n",
       "    <tr>\n",
       "      <th>14</th>\n",
       "      <td>2011</td>\n",
       "      <td>34</td>\n",
       "      <td>5</td>\n",
       "    </tr>\n",
       "    <tr>\n",
       "      <th>15</th>\n",
       "      <td>2011</td>\n",
       "      <td>35</td>\n",
       "      <td>1</td>\n",
       "    </tr>\n",
       "    <tr>\n",
       "      <th>16</th>\n",
       "      <td>2011</td>\n",
       "      <td>36</td>\n",
       "      <td>1</td>\n",
       "    </tr>\n",
       "    <tr>\n",
       "      <th>17</th>\n",
       "      <td>2011</td>\n",
       "      <td>37</td>\n",
       "      <td>1</td>\n",
       "    </tr>\n",
       "    <tr>\n",
       "      <th>18</th>\n",
       "      <td>2011</td>\n",
       "      <td>38</td>\n",
       "      <td>3</td>\n",
       "    </tr>\n",
       "    <tr>\n",
       "      <th>19</th>\n",
       "      <td>2011</td>\n",
       "      <td>39</td>\n",
       "      <td>1</td>\n",
       "    </tr>\n",
       "    <tr>\n",
       "      <th>20</th>\n",
       "      <td>2011</td>\n",
       "      <td>40</td>\n",
       "      <td>2</td>\n",
       "    </tr>\n",
       "    <tr>\n",
       "      <th>21</th>\n",
       "      <td>2011</td>\n",
       "      <td>41</td>\n",
       "      <td>2</td>\n",
       "    </tr>\n",
       "    <tr>\n",
       "      <th>22</th>\n",
       "      <td>2011</td>\n",
       "      <td>42</td>\n",
       "      <td>2</td>\n",
       "    </tr>\n",
       "    <tr>\n",
       "      <th>23</th>\n",
       "      <td>2011</td>\n",
       "      <td>43</td>\n",
       "      <td>3</td>\n",
       "    </tr>\n",
       "    <tr>\n",
       "      <th>24</th>\n",
       "      <td>2011</td>\n",
       "      <td>44</td>\n",
       "      <td>1</td>\n",
       "    </tr>\n",
       "    <tr>\n",
       "      <th>25</th>\n",
       "      <td>2011</td>\n",
       "      <td>45</td>\n",
       "      <td>1</td>\n",
       "    </tr>\n",
       "    <tr>\n",
       "      <th>26</th>\n",
       "      <td>2011</td>\n",
       "      <td>46</td>\n",
       "      <td>2</td>\n",
       "    </tr>\n",
       "    <tr>\n",
       "      <th>27</th>\n",
       "      <td>2011</td>\n",
       "      <td>47</td>\n",
       "      <td>4</td>\n",
       "    </tr>\n",
       "    <tr>\n",
       "      <th>28</th>\n",
       "      <td>2011</td>\n",
       "      <td>49</td>\n",
       "      <td>2</td>\n",
       "    </tr>\n",
       "    <tr>\n",
       "      <th>29</th>\n",
       "      <td>2011</td>\n",
       "      <td>50</td>\n",
       "      <td>4</td>\n",
       "    </tr>\n",
       "    <tr>\n",
       "      <th>...</th>\n",
       "      <td>...</td>\n",
       "      <td>...</td>\n",
       "      <td>...</td>\n",
       "    </tr>\n",
       "    <tr>\n",
       "      <th>384</th>\n",
       "      <td>2016</td>\n",
       "      <td>47</td>\n",
       "      <td>4</td>\n",
       "    </tr>\n",
       "    <tr>\n",
       "      <th>385</th>\n",
       "      <td>2016</td>\n",
       "      <td>48</td>\n",
       "      <td>2</td>\n",
       "    </tr>\n",
       "    <tr>\n",
       "      <th>386</th>\n",
       "      <td>2016</td>\n",
       "      <td>49</td>\n",
       "      <td>4</td>\n",
       "    </tr>\n",
       "    <tr>\n",
       "      <th>387</th>\n",
       "      <td>2016</td>\n",
       "      <td>50</td>\n",
       "      <td>6</td>\n",
       "    </tr>\n",
       "    <tr>\n",
       "      <th>388</th>\n",
       "      <td>2016</td>\n",
       "      <td>51</td>\n",
       "      <td>5</td>\n",
       "    </tr>\n",
       "    <tr>\n",
       "      <th>389</th>\n",
       "      <td>2016</td>\n",
       "      <td>52</td>\n",
       "      <td>5</td>\n",
       "    </tr>\n",
       "    <tr>\n",
       "      <th>390</th>\n",
       "      <td>2016</td>\n",
       "      <td>53</td>\n",
       "      <td>6</td>\n",
       "    </tr>\n",
       "    <tr>\n",
       "      <th>391</th>\n",
       "      <td>2016</td>\n",
       "      <td>54</td>\n",
       "      <td>4</td>\n",
       "    </tr>\n",
       "    <tr>\n",
       "      <th>392</th>\n",
       "      <td>2016</td>\n",
       "      <td>55</td>\n",
       "      <td>6</td>\n",
       "    </tr>\n",
       "    <tr>\n",
       "      <th>393</th>\n",
       "      <td>2016</td>\n",
       "      <td>56</td>\n",
       "      <td>3</td>\n",
       "    </tr>\n",
       "    <tr>\n",
       "      <th>394</th>\n",
       "      <td>2016</td>\n",
       "      <td>57</td>\n",
       "      <td>10</td>\n",
       "    </tr>\n",
       "    <tr>\n",
       "      <th>395</th>\n",
       "      <td>2016</td>\n",
       "      <td>58</td>\n",
       "      <td>2</td>\n",
       "    </tr>\n",
       "    <tr>\n",
       "      <th>396</th>\n",
       "      <td>2016</td>\n",
       "      <td>59</td>\n",
       "      <td>3</td>\n",
       "    </tr>\n",
       "    <tr>\n",
       "      <th>397</th>\n",
       "      <td>2016</td>\n",
       "      <td>61</td>\n",
       "      <td>4</td>\n",
       "    </tr>\n",
       "    <tr>\n",
       "      <th>398</th>\n",
       "      <td>2016</td>\n",
       "      <td>62</td>\n",
       "      <td>1</td>\n",
       "    </tr>\n",
       "    <tr>\n",
       "      <th>399</th>\n",
       "      <td>2016</td>\n",
       "      <td>63</td>\n",
       "      <td>4</td>\n",
       "    </tr>\n",
       "    <tr>\n",
       "      <th>400</th>\n",
       "      <td>2016</td>\n",
       "      <td>64</td>\n",
       "      <td>1</td>\n",
       "    </tr>\n",
       "    <tr>\n",
       "      <th>401</th>\n",
       "      <td>2016</td>\n",
       "      <td>66</td>\n",
       "      <td>3</td>\n",
       "    </tr>\n",
       "    <tr>\n",
       "      <th>402</th>\n",
       "      <td>2016</td>\n",
       "      <td>67</td>\n",
       "      <td>4</td>\n",
       "    </tr>\n",
       "    <tr>\n",
       "      <th>403</th>\n",
       "      <td>2016</td>\n",
       "      <td>68</td>\n",
       "      <td>3</td>\n",
       "    </tr>\n",
       "    <tr>\n",
       "      <th>404</th>\n",
       "      <td>2016</td>\n",
       "      <td>70</td>\n",
       "      <td>3</td>\n",
       "    </tr>\n",
       "    <tr>\n",
       "      <th>405</th>\n",
       "      <td>2016</td>\n",
       "      <td>71</td>\n",
       "      <td>1</td>\n",
       "    </tr>\n",
       "    <tr>\n",
       "      <th>406</th>\n",
       "      <td>2016</td>\n",
       "      <td>72</td>\n",
       "      <td>2</td>\n",
       "    </tr>\n",
       "    <tr>\n",
       "      <th>407</th>\n",
       "      <td>2016</td>\n",
       "      <td>74</td>\n",
       "      <td>3</td>\n",
       "    </tr>\n",
       "    <tr>\n",
       "      <th>408</th>\n",
       "      <td>2016</td>\n",
       "      <td>76</td>\n",
       "      <td>1</td>\n",
       "    </tr>\n",
       "    <tr>\n",
       "      <th>409</th>\n",
       "      <td>2016</td>\n",
       "      <td>77</td>\n",
       "      <td>1</td>\n",
       "    </tr>\n",
       "    <tr>\n",
       "      <th>410</th>\n",
       "      <td>2016</td>\n",
       "      <td>78</td>\n",
       "      <td>3</td>\n",
       "    </tr>\n",
       "    <tr>\n",
       "      <th>411</th>\n",
       "      <td>2016</td>\n",
       "      <td>80</td>\n",
       "      <td>1</td>\n",
       "    </tr>\n",
       "    <tr>\n",
       "      <th>412</th>\n",
       "      <td>2016</td>\n",
       "      <td>84</td>\n",
       "      <td>2</td>\n",
       "    </tr>\n",
       "    <tr>\n",
       "      <th>413</th>\n",
       "      <td>2016</td>\n",
       "      <td>96</td>\n",
       "      <td>1</td>\n",
       "    </tr>\n",
       "  </tbody>\n",
       "</table>\n",
       "<p>413 rows × 3 columns</p>\n",
       "</div>"
      ],
      "text/plain": [
       "     year  Age  count\n",
       "0    2011   17      1\n",
       "1    2011   18      1\n",
       "2    2011   20      1\n",
       "3    2011   23      2\n",
       "4    2011   24      4\n",
       "5    2011   25      5\n",
       "6    2011   26      2\n",
       "7    2011   27      2\n",
       "8    2011   28      2\n",
       "9    2011   29      6\n",
       "10   2011   30      4\n",
       "11   2011   31      1\n",
       "12   2011   32      2\n",
       "13   2011   33      4\n",
       "14   2011   34      5\n",
       "15   2011   35      1\n",
       "16   2011   36      1\n",
       "17   2011   37      1\n",
       "18   2011   38      3\n",
       "19   2011   39      1\n",
       "20   2011   40      2\n",
       "21   2011   41      2\n",
       "22   2011   42      2\n",
       "23   2011   43      3\n",
       "24   2011   44      1\n",
       "25   2011   45      1\n",
       "26   2011   46      2\n",
       "27   2011   47      4\n",
       "28   2011   49      2\n",
       "29   2011   50      4\n",
       "..    ...  ...    ...\n",
       "384  2016   47      4\n",
       "385  2016   48      2\n",
       "386  2016   49      4\n",
       "387  2016   50      6\n",
       "388  2016   51      5\n",
       "389  2016   52      5\n",
       "390  2016   53      6\n",
       "391  2016   54      4\n",
       "392  2016   55      6\n",
       "393  2016   56      3\n",
       "394  2016   57     10\n",
       "395  2016   58      2\n",
       "396  2016   59      3\n",
       "397  2016   61      4\n",
       "398  2016   62      1\n",
       "399  2016   63      4\n",
       "400  2016   64      1\n",
       "401  2016   66      3\n",
       "402  2016   67      4\n",
       "403  2016   68      3\n",
       "404  2016   70      3\n",
       "405  2016   71      1\n",
       "406  2016   72      2\n",
       "407  2016   74      3\n",
       "408  2016   76      1\n",
       "409  2016   77      1\n",
       "410  2016   78      3\n",
       "411  2016   80      1\n",
       "412  2016   84      2\n",
       "413  2016   96      1\n",
       "\n",
       "[413 rows x 3 columns]"
      ]
     },
     "execution_count": 140,
     "metadata": {},
     "output_type": "execute_result"
    }
   ],
   "source": [
    "unique_ids_years = pd.DataFrame({'count' : pplus.groupby(['year', 'Age']).size()}).reset_index()\n",
    "unique_ids_years = unique_ids_years.ix[unique_ids_years['Age'] != '#VALUE!']\n",
    "unique_ids_years['Age'] = unique_ids_years['Age'].astype(int)\n",
    "unique_ids_years"
>>>>>>> 4c2a15dd4e1fcbb3b4d9738edf345c9a4a7143e1
   ]
  },
  {
   "cell_type": "code",
<<<<<<< HEAD
   "execution_count": 5,
=======
   "execution_count": 263,
>>>>>>> 4c2a15dd4e1fcbb3b4d9738edf345c9a4a7143e1
   "metadata": {
    "collapsed": false,
    "deletable": true,
    "editable": true
   },
   "outputs": [],
   "source": [
    "unique_ids['primarykey'] = unique_ids['ID #'].map(str) + pplus['Age']\n",
    "#creating the primarykey which is the unique identifer for each individual\n",
    "#check overlap of primarykey (ie ID = 100 and age = 100)"
   ]
  },
  {
   "cell_type": "markdown",
   "metadata": {
    "deletable": true,
    "editable": true
   },
   "source": [
    "# Figure One: Creating the Histogram of Ages of Calls"
   ]
  },
  {
   "cell_type": "code",
   "execution_count": 6,
   "metadata": {
    "collapsed": false,
    "deletable": true,
    "editable": true,
    "scrolled": false
   },
   "outputs": [
    {
     "name": "stderr",
     "output_type": "stream",
     "text": [
      "C:\\Users\\pjhu\\Anaconda3\\envs\\ds100_new\\lib\\site-packages\\ipykernel\\__main__.py:4: SettingWithCopyWarning: \n",
      "A value is trying to be set on a copy of a slice from a DataFrame.\n",
      "Try using .loc[row_indexer,col_indexer] = value instead\n",
      "\n",
      "See the caveats in the documentation: http://pandas.pydata.org/pandas-docs/stable/indexing.html#indexing-view-versus-copy\n"
     ]
    },
    {
     "data": {
      "image/png": "iVBORw0KGgoAAAANSUhEUgAAAYcAAAEbCAYAAAAxukhGAAAABHNCSVQICAgIfAhkiAAAAAlwSFlz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\n5GBmZiX/H1KnpUkgH19LAAAAAElFTkSuQmCC\n",
      "text/plain": [
<<<<<<< HEAD
       "<matplotlib.figure.Figure at 0x18f1dfb3278>"
      ]
     },
=======
       "<matplotlib.text.Text at 0x18adf156710>"
      ]
     },
     "execution_count": 263,
>>>>>>> 4c2a15dd4e1fcbb3b4d9738edf345c9a4a7143e1
     "metadata": {},
     "output_type": "display_data"
    }
   ],
   "source": [
    "# ages = pplus.drop_duplicates('primarykey')\n",
    "# #the year and individuals: groupby year, write script to adjust for age incrementing each year \n",
    "unique_ids_drop = unique_ids.ix[unique_ids['Age'] != '#VALUE!']\n",
    "unique_ids_drop['Age'] = unique_ids_drop['Age'].astype(int)\n",
    "# ages.hist('Age', bins= np.arange(5, 115, 10))\n",
    "unique_ids_drop.hist('Age', bins=np.arange(5, 120,10),color='c', edgecolor='w')\n",
    "# tick marks, axes, more informative title \n",
    "plt.title(\"\")\n",
    "plt.xlabel('Age Brackets')\n",
    "age_brackets = ['0-10', '11-20', '21-30', '31-40', '41-50', '51-60', '61-70', '71-80', '81-90', '91-100', '100+']\n",
    "plt.ylabel('Number of Calls', fontsize=14)\n",
    "plt.grid(False)\n",
    "plt.xticks(np.arange(10, 120, 10), age_brackets, rotation=40)\n",
    "plt.xlabel('Age', fontsize=14)\n",
    "plt.savefig('age_distribution.jpg')"
   ]
  },
  {
   "cell_type": "code",
   "execution_count": 7,
   "metadata": {
    "collapsed": false,
    "deletable": true,
    "editable": true
   },
   "outputs": [
    {
     "data": {
<<<<<<< HEAD
      "text/plain": [
       "5"
=======
      "image/png": "iVBORw0KGgoAAAANSUhEUgAAAgUAAAGJCAYAAAAaBkAzAAAABHNCSVQICAgIfAhkiAAAAAlwSFlz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\nBMD/B8RviUbHgz9IAAAAAElFTkSuQmCC\n",
      "text/plain": [
       "<matplotlib.figure.Figure at 0x18adecc4860>"
>>>>>>> 4c2a15dd4e1fcbb3b4d9738edf345c9a4a7143e1
      ]
     },
     "execution_count": 7,
     "metadata": {},
     "output_type": "execute_result"
    }
   ],
   "source": [
<<<<<<< HEAD
    "len(unique_ids_drop[unique_ids_drop['Age']>= 100])"
   ]
  },
  {
   "cell_type": "markdown",
   "metadata": {
    "deletable": true,
    "editable": true
   },
   "source": [
    "# Separating by Year"
   ]
  },
  {
   "cell_type": "code",
   "execution_count": 8,
   "metadata": {
    "collapsed": false,
    "deletable": true,
    "editable": true
   },
   "outputs": [],
   "source": [
    "# unique_ids_years = pd.DataFrame({'count' : pplus.groupby(['year', 'Age']).size()}).reset_index()\n",
    "# unique_ids_years = unique_ids_years.ix[unique_ids_years['Age'] != '#VALUE!']\n",
    "# unique_ids_years['Age'] = unique_ids_years['Age'].astype(int)\n",
    "# unique_ids_years"
   ]
  },
  {
   "cell_type": "code",
   "execution_count": 9,
   "metadata": {
    "collapsed": false,
    "deletable": true,
    "editable": true
   },
   "outputs": [],
   "source": [
    "# unique_ids_2016 = unique_ids_years[unique_ids_years['year'] == 2016]\n",
    "# unique_ids_2016.hist('Age', bins=np.arange(5, 115, 10))\n",
    "yr2016 = pplus_dp[pplus_dp['year']==2016]\n",
    "# yr2016.hist('Age', bins=np.arange(5, 115, 10), edgecolor='w')\n",
    "# plt.title('Age Distribution of 2016')\n",
    "# plt.grid(False)\n",
    "# plt.xticks(np.arange(0, 100, 10))\n",
    "# axes = plt.gca()\n",
    "# axes.set_ylim([0,100])\n",
    "# plt.xlabel('Age Bins')\n",
    "\n",
    "#histograms based on the calls, not on individual patients (problem with primary key)\n",
    "#seaborn color maps "
   ]
  },
  {
   "cell_type": "code",
   "execution_count": 10,
   "metadata": {
    "collapsed": false,
    "deletable": true,
    "editable": true
   },
   "outputs": [],
   "source": [
    "yr2015 = pplus_dp[pplus_dp['year']==2015]\n",
    "# yr2015.hist('Age', bins=np.arange(5, 115, 10), color='g', edgecolor='w')\n",
    "# plt.title('Age Distribution of 2015')\n",
    "# plt.grid(False)\n",
    "# plt.xticks(np.arange(0, 110, 10))\n",
    "# axes = plt.gca()\n",
    "# axes.set_ylim([0,360])\n",
    "# plt.xlabel('Age Bins')\n",
    "#histograms based on the calls, not on individual patients (problem with primary key)"
   ]
  },
  {
   "cell_type": "code",
   "execution_count": 11,
   "metadata": {
    "collapsed": false,
    "deletable": true,
    "editable": true
   },
   "outputs": [],
   "source": [
    "yr2014 = pplus_dp[pplus_dp['year']==2014]\n",
    "# yr2014.hist('Age', bins=np.arange(5, 115, 10), color='m', edgecolor='w')\n",
    "# plt.title('Age Distribution of 2014')\n",
    "# plt.grid(False)\n",
    "# plt.xticks(np.arange(0, 110, 10))\n",
    "# axes = plt.gca()\n",
    "# axes.set_ylim([0,360])\n",
    "# plt.xlabel('Age Bins')\n",
    "#histograms based on the calls, not on individual patients (problem with primary key)"
   ]
  },
  {
   "cell_type": "code",
   "execution_count": 12,
   "metadata": {
    "collapsed": false,
    "deletable": true,
    "editable": true,
    "scrolled": false
   },
   "outputs": [],
   "source": [
    "yr2013 = pplus_dp[pplus_dp['year']==2013]\n",
    "# yr2013.hist('Age', bins=np.arange(5, 115, 10), color='c', edgecolor='w')\n",
    "# plt.title('Age Distribution of 2013')\n",
    "# plt.grid(False)\n",
    "# plt.xticks(np.arange(0, 110, 10))\n",
    "# axes = plt.gca()\n",
    "# axes.set_ylim([0,360])\n",
    "# plt.xlabel('Age Bins')\n",
    "#histograms based on the calls, not on individual patients (problem with primary key)"
   ]
  },
  {
   "cell_type": "code",
   "execution_count": 13,
   "metadata": {
    "collapsed": false,
    "deletable": true,
    "editable": true
   },
   "outputs": [],
   "source": [
    "yr2012 = pplus_dp[pplus_dp['year']==2012]\n",
    "# yr2012.hist('Age', bins=np.arange(5, 115, 10), color='y', edgecolor='w')\n",
    "# plt.title('Age Distribution of 2012')\n",
    "# plt.grid(False)\n",
    "# plt.xticks(np.arange(0, 110, 10))\n",
    "# axes = plt.gca()\n",
    "# axes.set_ylim([0,360])\n",
    "# plt.xlabel('Age Bins')\n",
    "#histograms based on the calls, not on individual patients (problem with primary key)"
   ]
  },
  {
   "cell_type": "code",
   "execution_count": 14,
   "metadata": {
    "collapsed": false,
    "deletable": true,
    "editable": true
   },
   "outputs": [],
   "source": [
    "yr2011 = pplus_dp[pplus_dp['year']==2011]\n",
    "# yr2011.hist('Age', bins=np.arange(5, 115, 10), color='b', edgecolor='w')\n",
    "# plt.title('Age Distribution of 2011')\n",
    "# plt.grid(False)\n",
    "# plt.xticks(np.arange(0, 110, 10))\n",
    "# axes = plt.gca()\n",
    "# axes.set_ylim([0,360])\n",
    "# plt.xlabel('Age Bins')\n",
    "#histograms based on the calls, not on individual patients (problem with primary key)"
   ]
  },
  {
   "cell_type": "markdown",
   "metadata": {
    "deletable": true,
    "editable": true
   },
   "source": [
    "How many people are we double counting? Is it worth doing the primarykey?"
   ]
  },
  {
   "cell_type": "markdown",
   "metadata": {
    "deletable": true,
    "editable": true
   },
   "source": [
    "# Figure Four: Number of Calls/Year"
   ]
  },
  {
   "cell_type": "code",
   "execution_count": 15,
   "metadata": {
    "collapsed": false,
    "deletable": true,
    "editable": true
   },
   "outputs": [
    {
     "name": "stderr",
     "output_type": "stream",
     "text": [
      "C:\\Users\\pjhu\\Anaconda3\\envs\\ds100_new\\lib\\site-packages\\ipykernel\\__main__.py:1: SettingWithCopyWarning: \n",
      "A value is trying to be set on a copy of a slice from a DataFrame.\n",
      "Try using .loc[row_indexer,col_indexer] = value instead\n",
      "\n",
      "See the caveats in the documentation: http://pandas.pydata.org/pandas-docs/stable/indexing.html#indexing-view-versus-copy\n",
      "  if __name__ == '__main__':\n"
     ]
    }
   ],
   "source": [
    "pplus_dp['month'] = pplus_dp['date'].dt.month\n"
   ]
  },
  {
   "cell_type": "code",
   "execution_count": 37,
   "metadata": {
    "collapsed": false,
    "deletable": true,
    "editable": true
=======
    "# unique_ids_2016 = unique_ids_years[unique_ids_years['year'] == 2016]\n",
    "# unique_ids_2016.hist('Age', bins=np.arange(5, 115, 10))\n",
    "yr2016 = pplus_dp[pplus_dp['year']==2016]\n",
    "yr2016.hist('Age', bins=np.arange(5, 115, 10), edgecolor='w')\n",
    "plt.title('Age Distribution of 2016')\n",
    "plt.grid(False)\n",
    "plt.xticks(np.arange(0, 100, 10))\n",
    "axes = plt.gca()\n",
    "axes.set_ylim([0,100])\n",
    "plt.xlabel('Age Bins')\n",
    "\n",
    "#histograms based on the calls, not on individual patients (problem with primary key)\n",
    "#seaborn color maps "
   ]
  },
  {
   "cell_type": "code",
   "execution_count": 181,
   "metadata": {
    "collapsed": false
>>>>>>> 4c2a15dd4e1fcbb3b4d9738edf345c9a4a7143e1
   },
   "outputs": [
    {
     "data": {
<<<<<<< HEAD
      "text/html": [
       "<div>\n",
       "<table border=\"1\" class=\"dataframe\">\n",
       "  <thead>\n",
       "    <tr style=\"text-align: right;\">\n",
       "      <th></th>\n",
       "      <th>2012</th>\n",
       "      <th>2013</th>\n",
       "      <th>2014</th>\n",
       "      <th>2015</th>\n",
       "      <th>avg</th>\n",
       "      <th>std</th>\n",
       "    </tr>\n",
       "    <tr>\n",
       "      <th>month</th>\n",
       "      <th></th>\n",
       "      <th></th>\n",
       "      <th></th>\n",
       "      <th></th>\n",
       "      <th></th>\n",
       "      <th></th>\n",
       "    </tr>\n",
       "  </thead>\n",
       "  <tbody>\n",
       "    <tr>\n",
       "      <th>1</th>\n",
       "      <td>66</td>\n",
       "      <td>80</td>\n",
       "      <td>81</td>\n",
       "      <td>115</td>\n",
       "      <td>85.50</td>\n",
       "      <td>18.034689</td>\n",
       "    </tr>\n",
       "    <tr>\n",
       "      <th>2</th>\n",
       "      <td>25</td>\n",
       "      <td>60</td>\n",
       "      <td>81</td>\n",
       "      <td>89</td>\n",
       "      <td>63.75</td>\n",
       "      <td>24.752525</td>\n",
       "    </tr>\n",
       "    <tr>\n",
       "      <th>3</th>\n",
       "      <td>40</td>\n",
       "      <td>89</td>\n",
       "      <td>99</td>\n",
       "      <td>103</td>\n",
       "      <td>82.75</td>\n",
       "      <td>25.202926</td>\n",
       "    </tr>\n",
       "    <tr>\n",
       "      <th>4</th>\n",
       "      <td>41</td>\n",
       "      <td>70</td>\n",
       "      <td>85</td>\n",
       "      <td>109</td>\n",
       "      <td>76.25</td>\n",
       "      <td>24.651318</td>\n",
       "    </tr>\n",
       "    <tr>\n",
       "      <th>5</th>\n",
       "      <td>44</td>\n",
       "      <td>77</td>\n",
       "      <td>105</td>\n",
       "      <td>113</td>\n",
       "      <td>84.75</td>\n",
       "      <td>27.058963</td>\n",
       "    </tr>\n",
       "    <tr>\n",
       "      <th>6</th>\n",
       "      <td>39</td>\n",
       "      <td>70</td>\n",
       "      <td>100</td>\n",
       "      <td>104</td>\n",
       "      <td>78.25</td>\n",
       "      <td>26.195181</td>\n",
       "    </tr>\n",
       "    <tr>\n",
       "      <th>7</th>\n",
       "      <td>39</td>\n",
       "      <td>79</td>\n",
       "      <td>109</td>\n",
       "      <td>115</td>\n",
       "      <td>85.50</td>\n",
       "      <td>30.112290</td>\n",
       "    </tr>\n",
       "    <tr>\n",
       "      <th>8</th>\n",
       "      <td>49</td>\n",
       "      <td>87</td>\n",
       "      <td>108</td>\n",
       "      <td>92</td>\n",
       "      <td>84.00</td>\n",
       "      <td>21.644861</td>\n",
       "    </tr>\n",
       "    <tr>\n",
       "      <th>9</th>\n",
       "      <td>41</td>\n",
       "      <td>111</td>\n",
       "      <td>96</td>\n",
       "      <td>114</td>\n",
       "      <td>90.50</td>\n",
       "      <td>29.381116</td>\n",
       "    </tr>\n",
       "    <tr>\n",
       "      <th>10</th>\n",
       "      <td>73</td>\n",
       "      <td>88</td>\n",
       "      <td>85</td>\n",
       "      <td>116</td>\n",
       "      <td>90.50</td>\n",
       "      <td>15.755951</td>\n",
       "    </tr>\n",
       "    <tr>\n",
       "      <th>11</th>\n",
       "      <td>96</td>\n",
       "      <td>83</td>\n",
       "      <td>108</td>\n",
       "      <td>106</td>\n",
       "      <td>98.25</td>\n",
       "      <td>9.908961</td>\n",
       "    </tr>\n",
       "    <tr>\n",
       "      <th>12</th>\n",
       "      <td>88</td>\n",
       "      <td>87</td>\n",
       "      <td>76</td>\n",
       "      <td>104</td>\n",
       "      <td>88.75</td>\n",
       "      <td>9.984363</td>\n",
       "    </tr>\n",
       "  </tbody>\n",
       "</table>\n",
       "</div>"
      ],
      "text/plain": [
       "       2012  2013  2014  2015    avg        std\n",
       "month                                          \n",
       "1        66    80    81   115  85.50  18.034689\n",
       "2        25    60    81    89  63.75  24.752525\n",
       "3        40    89    99   103  82.75  25.202926\n",
       "4        41    70    85   109  76.25  24.651318\n",
       "5        44    77   105   113  84.75  27.058963\n",
       "6        39    70   100   104  78.25  26.195181\n",
       "7        39    79   109   115  85.50  30.112290\n",
       "8        49    87   108    92  84.00  21.644861\n",
       "9        41   111    96   114  90.50  29.381116\n",
       "10       73    88    85   116  90.50  15.755951\n",
       "11       96    83   108   106  98.25   9.908961\n",
       "12       88    87    76   104  88.75   9.984363"
      ]
     },
     "execution_count": 37,
     "metadata": {},
     "output_type": "execute_result"
    }
   ],
   "source": [
    "def createDF_months(df):\n",
    "    yr2011 = {'month': np.array([1, 2, 3, 4, 5, 6, 7, 8, 9, 10, 11, 12]), \n",
    "              '2011': np.array([0, 0, 0, 0, 0, 0, 0, 0, 0, 0, 52, 66])}\n",
    "    og2011 = pd.DataFrame(data=yr2011)\n",
    "    for x in range(2012, 2016):\n",
    "        yr = pd.DataFrame(df[df['year'] == x].groupby('month').size()).reset_index()\n",
    "        merged = pd.merge(og2011, yr, on='month')\n",
    "        og2011 = merged \n",
    "#     yr2016 = {'month': np.array([1, 2, 3, 4, 5, 6, 7, 8, 9, 10, 11, 12]), \n",
    "#               '2016': np.array([132, 111, 70, 0, 0, 0, 0, 0, 0, 0, 0, 0])}\n",
    "#     og2016 = pd.DataFrame(data=yr2016)\n",
    "#     merged = pd.merge(merged, og2016, on='month')\n",
    "    merged = merged.set_index('month')\n",
    "    merged1 = merged.drop(merged.columns[0], axis=1)\n",
    "    merged1['avg'] = merged1.mean(numeric_only=True, axis=1) \n",
    "    std_dev_arr = []\n",
    "    for i in range(0, 12):\n",
    "#         print(merged1.iloc[i][0])\n",
    "        std_dev = np.std([merged1.iloc[i][0], merged1.iloc[i][1], merged1.iloc[i][2], merged1.iloc[i][3]])\n",
    "        std_dev_arr.append(std_dev)\n",
    "    merged1['std'] = std_dev_arr\n",
    "    merged1.columns = [ '2012', '2013', '2014','2015','avg', 'std' ]\n",
    "#     merged1.columns = ['2012', '2013', '2014', '2015', 'avg']\n",
    "    return merged1 \n",
    "createDF_months(pplus_dp)"
=======
      "text/plain": [
       "<matplotlib.text.Text at 0x18add50b7f0>"
      ]
     },
     "execution_count": 181,
     "metadata": {},
     "output_type": "execute_result"
    },
    {
     "data": {
      "image/png": "iVBORw0KGgoAAAANSUhEUgAAAgUAAAGJCAYAAAAaBkAzAAAABHNCSVQICAgIfAhkiAAAAAlwSFlz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\nkiQA/j87ALF8XMAtcQAAAABJRU5ErkJggg==\n",
      "text/plain": [
       "<matplotlib.figure.Figure at 0x18add5a9048>"
      ]
     },
     "metadata": {},
     "output_type": "display_data"
    }
   ],
   "source": [
    "yr2015 = pplus_dp[pplus_dp['year']==2015]\n",
    "yr2015.hist('Age', bins=np.arange(5, 115, 10), color='g', edgecolor='w')\n",
    "plt.title('Age Distribution of 2015')\n",
    "plt.grid(False)\n",
    "plt.xticks(np.arange(0, 110, 10))\n",
    "axes = plt.gca()\n",
    "axes.set_ylim([0,360])\n",
    "plt.xlabel('Age Bins')\n",
    "#histograms based on the calls, not on individual patients (problem with primary key)"
>>>>>>> 4c2a15dd4e1fcbb3b4d9738edf345c9a4a7143e1
   ]
  },
  {
   "cell_type": "code",
<<<<<<< HEAD
   "execution_count": 17,
=======
   "execution_count": 180,
>>>>>>> 4c2a15dd4e1fcbb3b4d9738edf345c9a4a7143e1
   "metadata": {
    "collapsed": false
   },
   "outputs": [
    {
     "data": {
      "text/plain": [
<<<<<<< HEAD
       "36.069377593742864"
      ]
     },
     "execution_count": 17,
=======
       "<matplotlib.text.Text at 0x18add444ef0>"
      ]
     },
     "execution_count": 180,
>>>>>>> 4c2a15dd4e1fcbb3b4d9738edf345c9a4a7143e1
     "metadata": {},
     "output_type": "execute_result"
    }
   ],
   "source": [
    "((66-85.50)**2 + (80-85.50)**2 + (81-85.50)**2 + (115-85.50)**2)**0.5"
   ]
  },
  {
   "cell_type": "code",
   "execution_count": 38,
   "metadata": {
    "collapsed": false,
    "deletable": true,
    "editable": true
   },
   "outputs": [
    {
     "data": {
<<<<<<< HEAD
      "image/png": "iVBORw0KGgoAAAANSUhEUgAAAcYAAAEECAYAAACyQpSWAAAABHNCSVQICAgIfAhkiAAAAAlwSFlz\nAAALEgAACxIB0t1+/AAAIABJREFUeJzsnWd4FFUXgN/ZXrJpdKSDjGJDURQVRAEpgqJURWmKqCC9\nE3rvSBFBQJoUQbpgBwQFFRUsnywI0otA2vY28/3YBALZhPTGvM+zT3bvzsy9M5mdc8+5pwiyLKOg\noKCgoKAQRJXfA1BQUFBQUChIKIJRQUFBQUEhBYpgVFBQUFBQSIEiGBUUFBQUFFKgCEYFBQUFBYUU\nKIJRQUFBQUEhBZr8HkBO8MsvvygxJwoKCgpZoFatWkJ+j6GgUSQEI0CtWrXyewgKCgoKhYpffvkl\nv4dQIFFMqQoKCgoKCilQBKOCgoKCgkIKFMGooKCgoKCQAkUwKigoKCgopCBPnW9EUXwUmGK1WuuL\nolgTmAsEAA/Q0Wq1XhJFsRvQHfAD461W6/a8HKOCgoKCwu1NnmmMoigOAhYDhqSm94B3rVZrfWAj\nMFgUxdJAL+AJoDEwSRRFfV6NUUFBQUFBIS9NqceBl1J8bm+1Wg8lvdcAbqA28L3VavVYrdYE4B/g\n/jwco4KCgoLCbU6eCUar1fop4Evx+QKAKIqPAz2BWUA4kJBiNxsQkVdjVFBQUFBQyFfnG1EU2wEf\nAM9ZrdbLQCJgSbGJBYjPj7EpKCjkPZUqVaJSpUr5PQyF25x8y3wjiuKrBJ1s6lut1tik5p+ACaIo\nGgA9cDfwZz4NUUFBQUHhNiRfBKMoimpgDnAa2CiKIsAeq9U6ShTFOcBegtrscKvV6s6PMSooKCgo\n3J7kqWC0Wq0ngceSPkansc2HwId5NSYFBQUFBYWUKAH+CgoKCgoKKVAEo4KCwm3Nzm1uWjeJ5aFq\nl2ndJJad25TVm9udIlN2SkFBQSGz7NzmZkgv27XPx6yBa5+btjCktZtCEafICMbWTWJ5vYdJuZkV\nigQ7t7lZMt/JiX8CVKmmVu7tHMDrkTl3NsCZU8HX2dMSm9eH1g6Xvu9UrvdtTJERjMpMT6GooGgx\nWScxUeJsCsF35lSAM6cDnD0d4NIFCVnO2HGO/xPI3YEqFGiKjGBMRpnpKRR2lsx3AvD3mVoA3F0+\nWGW9qN/bO7e5uXxJwu9P2wIkyzKX/5M4czLAmdNJQvB0siAMkBAfWvKVKqOiVm0t5SqqKV9BlfRX\nTcwAGyeOpRaCGjUcs/q5Uyxyj0iFDFDk/usnlJmeQiHG75f552joe7go39vJWrIvKWlkspa8/zsv\nlgjVNQF47nQAdwjrp0YLd5RTc19NNeUrqilfUUW5CsH3d5RXo9cLIft9813TDdp5Mh4PvPx8HD36\nmunYzYhaHXp/haJJkROMVaqp83sICjnM7bLeduliUBikZe4ryvd2spZ8M1s2eK69D7MIVKqquUHj\nS/5bqowqS8Ir+T5a+v71+6vrOyaMRoGxQ23MnuJg9zcexk8Pp3zFonv9FW6kyAnGru+Y8nsICjnI\n7bLe9sN3Xob1SyTuqsx9D6j543Bq7bAo39tpacMqFSzfEEn5imoiowQEIec1t6YtDCHvpQce0jIh\nxsZXO720aRZLv2FhtHnFkCtjUChYFJk4Ro0G1Gp44EFtfg9FIYeQZZn3Z4bWJJa+H7q9sBEIyMyb\n4eCdzgnYbTJDRoexclMUk+dY0GpBEIIvkxkefVyX38PNNSKjQgubatXV3P+glqhoVZ4LpKhoFdPm\nhzNptgWNRmBCjJ0eXRK4dLHomrQVghQZwThmqoVAAOZOd+T3UBSywZXLEts2uhnWN5EGta9y+mTR\nXW+7/F+AN19N4MN5TsqWU7F8fSQvdzIiCAJNWxgoUUpFmTtU9B9uxumA6ePt+T3kXOGY1U9cXGj7\ncX5ryYIg0OwFA59+EcXj9bR8v8dHq8Zx7NjiRs6oi6tCoaPICMZmL+i5534NO7Z4+P033613UCgQ\neDwyB/Z5mTnRTpumsTSofZWY/jY+2+xBEAQs4aG1BINR4NKFwiscf/zeS9tmcRw84OOZxjrWbo/i\nnvtDWzte6Wzknvs1fLbZw/d7vHk80tzF75cZOdCGFIBnuuoQtIAApjsFOs0wFhhzeanSat5fFkHM\nhDD8fpmhfWwM7JFIXKyU30NTyAWKjGBUqQQGDDcDMGOCXZnNFVBkWeaY1c+KxU7e7hRP3Qeu0P21\nBJZ/6OLkiQCPPaml31Az63dE8fWP0QwfHxbyOHabTMtGcaxc4sTvLzz/60BAZsFsB91fSyAxUWbQ\nSDMzF4QTHp72T1GtFhg5yYJaDeNjbDidhed8b8XyRS7+94efR17QcvQdGXUJ0JSB6DUavnnKzx5P\nwZkICIJAm1eMrN8RTc2HNXy100urxrHs+cZz650VChVFyvnmodo6GjTR8c3nXr7a4eXZ5/T5PSQF\nIPaqxIF9Xvbv9bJ/r4/L/12fZd8pqqlTV0edujoeqq3FYLhRQ0zWGFq3rY7fD883PESXt0y43TKz\nJzuYPt7Btk/dxEywcH8BX1++clliaJ9EfvrBR9k7VEydF859NTM25rtqaHjtDSPLFrr4YLaDfsNC\nTxgKE/8c9bPgPQfFS6hQ9RWA1AJ/vcvNU/qCtbZavqKapWsjWbnYxbyZDnq9kUjLtgYGxpgJsxQZ\nXeO2RigKmtUvv/wi16oVDIY+fTLAi8/GUqq0ik1fRacZv6SQe3g9Mod+9V0ThH//6b/2XVQxgTpP\nBgXhY09qKVkqYy7wyVXdT548ea0tLlZi1mQHW9a7EQRo9bKB3oPMhEcUvIfTT/u9DO1t48pliacb\n6Rg7zXLLcd58zi6XTOsmsZw/K7F6SyR331uwJwLp4ffLdGwVz1+/+3lvUTgzHnIhAbsevB+Ap3/7\nHQA1sLVYZP4N9BYcs/qJ6W/jyF9+yt6hYux0C488VrAEeXr88ssv1KpVS3lI3kTBe4JkkwqV1Lzc\n0ci5MxJrlrnyezhFhvQqEMiyzIl//Hz8kZOeXROo++AVur2SwNIFLv456qf241p6Dzazdnsk3/5U\njEmzw3m+lSHDQjEtoqJVjJ1qYenaCCpXU7NhtZvnG8SyfVPBcYwIBGQWznHQ/dUE4uMk+g83M2th\n+C2F4g73Hv6TYjkv/ceLsT3Y4d6D0SgQM96CJMGYofZCZUK+mRWLXfz1u59mL+ip30hPKVXo61FB\nXbAfUXeKGlZtjKRbTxOXLkq88XIC08bZcbsL7/9GoQhqjACJCRLN68cSCMC2XdFEFyvYP66Czs2x\nhMm80tmA0wn793q5dOG6ebTKnWoer6ujTl0tD9XWYTJlf0IaSmNMic8rs3Kpi4XvOXC74ZE6WoaP\nC6Ny1fxbLbh6RWJY30QO7PNRpmzQdJoRc+8O9x4G2qZyrNYuAO785WkAplkG0czwFDH9E9m20UO/\nYWY6dSt8sY3Hj/lp1zyO8HCBjV9GY4kUeD0ukcuynEpjHBRmKnCm1LT445CPmP42Tp4IULmqmvEz\nLNz7QMHW6hWNMTRFUmKER6h4q7cZu03mg/eU8I3sklZWktXL3Gz+xI3bJdO4uZ7RU8L48odoNn0Z\nzcARYTxZX58jQjEjaHUCXd8ysfGraOo9o+Pn/T5aN41j3gxHvszeDx7w0u65OA7s81HvGR3rPovK\n8Broh85PQrbPc6zibOAi3YeqiIoWeH+Wg7NnCpdnbrIXqs8LMRMsREap2O72clmWuU+jRsP1+0VU\nqwuNUAS4r6aWtduj6NDFyL/HA3RsFc/8mQ58vsKvfNxuFEmNEcDnk2nVOI6zpwNs+DyKKtWKlJ9R\nnuHzytS++wpSCK90lQpWbYrkrns0uZ5L8lYaY0pkWWbXV14mj7Zz6YJEuQoqho218MRTuf+QlSSZ\npQuczJ/pRBCg18Bgrk2VKuPX577LLZCQUmmMKVHtfBzVqDfR1zlK5XkbiFRZCFeFESEk/w279jlC\nCCNCZSE86a9eSPs67HDv4UPnJxwPnKaqugLdTG1pZngq8xciDZYtdDJrsoOmz+uZ/F44VyWJ7vGJ\nqBFYFGnhgSpVAGh9+A/+9gcYZTFTW1ewta5Q/LTfy8gBNi6cl7j7Xg3jZ1ioVv3GZ1BuX+uMoGiM\noSmy0kKrFeg31EzvNxOZOcnBvCUR+T2kQsX5swE2rHGxaZ07pFCEYFaStGLv8hNBEHjmWT2PPaFj\nwWwHH3/k4p3OCTzbTM+AEWZKlc6dnJexVyWG90vkh+98lCqjYurccGrWyvj1uSLFMc2+GInQFzxS\nCKee7hESZBsJzeP5Z+cx3Purc+SzEvibfJ/hfvToUgjKsOBfwcJVKZ69voPXtjsaOMlA21SAHHlg\n/3vcz/yZDqKLCQweFfSqXexw4ZKhp9lARIp1xnfNJnol2JjvcHKvNhxTIUvDVruOjg2fRzFtvIPN\nn7h5uUUcPfubefX1YELyZHN5Mjl9rRWyR5EVjABPNdTxSB0te78NhgrUqVt4zDL5QSAg88N3Xj5Z\n5WbvLi+yDOERAk/W17Jvd+qkCfmdleRWmMwC/YeH0eIlA+NjbHy5w8P333np0c9Eu9eMaDQ597D9\n9Wcfg3sl8t9FiSfr6xg/w0JUdMZWKiRZYr37c2Y5lmGTHZRTleasdDHVdsPD3rrhoXl2SoBWjWMx\nzn6Ttc/1hQgHibKdBMl241/ZRoJkT2oLfk6U7PwnXeV44DRyiDCJlHzoXJ/th3UgEDSher0wfHzw\n2hzy+fjO66O6Rk3jm0ymFTVqWhv1rHV5WOl00d1csO+1UIRZVIyZYgl6IQ+1MXOSg91fexk33cKH\nYUFz+c1WgZy41grZp0gLRkEQ6D/czMst4pkxwc66z6KKRPmYzJgVM8LVK8FK5htWuzh/Nqit3PuA\nhravGmncXI/BILBzmztVBYKCkpXkVlS/W8Oy9ZFsWudm9hQHU8c62Pqph5jxYRmOI0wLSZJZtsjF\nvKRUhL0GmenSPeOm0799xxljn8cf/qOECSaGh71NO0NTvvDsozV78eOnuroy3UxtUj0wy1VQ805f\nMzMnOZg/0ce46cUpTfHMjV+WsMlBgdos9s2Q2urxwOlMHTMUq5a6+P03P42b62nYRI9Plllgd6EC\nepiNqEJohO2MBvZ5fGxze3lKp+MubeF8XNVvqL8hIXnrprE4e1eGlidTbXsiB661QvYpsmuMKRk5\nyMaW9W5GTQrjpfbGPBxZ7pATglGWZX476OeTVS6+2unB7wODAZo+b6DtqwZq3FewTKQ5NRm4ekVi\n9mQ7Wz/1IAjQpoOBdwea0808kxZxsRIjBtjYu8tLiVIqps6x8FDtjFklHJKTuc5VfOzahoREM/1T\nDDK/QQl19LVtMnLOfr9Mh5bxHPnLz6JVETz6RNatIi/G9uBoIHVfenRsj15IWXXJLB335HE/bZ+L\nwxQmsPGLoJf4OqebFS43LQw63kqhDd58zn/6/AxOtFNJreK9CAuaQmZSTYksy+zc6mHiSDu2RBmp\n+imse56HgJq76m9B6rydO5v+x6boeXk2JmWNMTRF0iv1Znr2N2EwwrwZDhz22zu3od0msW6li9ZN\n4+jSNp6dWz2Ur6Bm0EgzX/1YjNFTLAVOKOYkxYqrGDc9nMVrIqhURc0nq9y0bBCb6aTQvx300a55\nHHt3eXm8npZPPovKkFCUZZkvPPtoHvcWK11bKKcuzYcR45kWPugGoZhRNBqBUZPCUKlg3HBbtjxw\nu5nahmz34KVdXB9+8f6Z6WMGAjKjBtvweGD4WAvRxVRcDARY63ITKQi8Zkx/onqvVkNjvY6TAYmN\n7sKdei1lQnJz9SuojlYEvwZkAeGf8qhj3qb2rtfze5gK3CaCsWQpNV3eMnH1isxHC2/PoH/r//yM\nG26jUZ1YJo60c/J4gGef07N4TQSbvoqiQxdTlrSmvCBUsHt2eeQxHet3RPHuABN2WzApdPfXEjh5\nwp/ufpIks2yhk9fbx3P5kkTP/ibmfxSRoVjZM4ELvJ04mn6Jk4iTEuhh6sDmqPk8rnswW+dS4z4t\nr3Y1cuaUlK3wpGaGp5hmGUR1dWU0qKmursw0yyBGhL1Domyna8JwNri+yNQxVy9zcegXP88209Oo\nWTBF40KHCy/whtmIOQMm5y4mA5GCwGqnm3OB3AlPqVSp0jVtNbexFT+HQ3KH/G5jzB0MejeRudMc\nbPrExcEDXi5dCCBJhd+yV5i4LUypAE6nzAsNYkmIk9j6bTSlyxbeatwZNSt6PDJf7fCw/uPgwwmg\ndFkVrdobeKm9keIlCqYgTMmtgt1zgrOnA0waZWffbi9aHXR9y8Tr75hSpRNMiJeI6W/ju2+9lCip\nYvJ7Fh7OQPovr+zjI+enLHSuw4OXOtqajAh7h4qaO9LdLzPmY6dTplXjWC5dkFizNQqxRtbX40L1\n+6P3MP0SJxMvJ9LB2IJB5m5ohPR/Q6f+9dOmaRwms8CnX0RTrLiKA14f42wO7tNomBRuTlVjMa1z\n3uvxMtnu5H6Nhokh9ssuOb1unxaSLPFa/CD+eGQAQkDN32eCz627y/+StIUMpD43vR7uKK+mXAU1\n5Ssm/1VRvoKasuXU6LKY+lIxpYamcK5mZwGTSeDdAWZGDLAxZ5qDibPC83tIucaZUwE2rHaxeb2b\n+DgZQYAnntLStoORJ5/W5ag3Zm6TVrD7h85PckwwlqugZt7ScL753MuUsXYWznGyc6uHhk117P3W\ny4l/ApQtp8KWKBMfJ/PYE1omzgqnWAYmFj95f2ecfT4nAmcpropivLkPTfX1cvzBbjIF08W90zmB\nMUNtrNwYmaOOZo/qHmBt1EzeTRjHx65tHPefZkb4UCJVlpDbBwIyIwcFTajjpodRrLgKtyyz0OFE\nDbxjNmbqGjyp01Jbq+Enn5+vPV4aGQpngYD17s855P+biCrxOI4VS/W9XO0sS5aWgnMlOHMqwNnT\nAc6clDhzOsDZU4GQdUgFAUqXUVGuopryFdSUrxT8Wy5JcIZKbL5zm5sl850MnZArp1nouW0EI0Dz\nF/WsXubis80eXunsK/DpmjKD3y+z91svn3zs4ofvgqEVUdECnbsbafOKkXIVCqeGnJZH5NHASSbZ\nF9JEX5cHNHehErKn/QqCQMOmeurU1fL+bCcfL3WxdMF1s/uZU8G16YbNdEydE35LoXNVime6fQlb\nPd8iIPCyoTm9zK8Rrsq9qhhPPKWj2Qt6dmzxsHaFiw5dcjbEoby6DB9HTmewbTq7vD/SPq4v8yJG\nUk1TIdW2a1e4OHTQT8MmumtVbta53PwnybQx6Kmgydz9KAgC75hN/BGfyGKnm4d1WqLSyK9aULkU\nuMJMx0dYBDN9ehRnQp/U1jqp83Z2REYzqnxPHnnsxu9kWSYhXr4uME8FkgRmUHD+vN/Hz/tTh1VF\nRQs3aJpxsRLrPw5tylUIclsJRpUqGL7xxssJTB9v56NPInN85p7b7Nzm5vIlCb8fWjeJpe1rRuJj\nJT5d6+bi+eDDu2YtDW06GGnUTF/oq4uEC2HEyYmp2lWoWOXayirXVsqoStBEX5em+nrU0FTL1v/U\nHKZiYEwY333j4fRJKZWp6/SJQLpCUZIlNri/YJbjIxJlBzU0VRkZ1pP7tNWzPKbMMCAmjO/3eJk7\n3cHTjfSULZezEyKzysSc8BjmOlexyLmOV+L7MdUyiPr62te2OX0ywJypDiKjBIaNtSAIAmcCATa6\nPJRQCbQ3ZS3Mp4RaRUeTkYVOFx86XAyymHPqtPKEifaF2GUno8J60vaF4lhUblq3Bb8fqt+lpvPb\nBuY8cZIt7t/oaX6VYqobq4oIgkBklEBklCpkmJHLJXPuTFCzPJMkOIMCVOLvv/z8cSj99XOF69xW\nghGCThdPP6tj15devvncS8Omhcckk5zM25c0KTxmDTAhxg4Eg9nbdDDQtoOR6ncXjX/rPu8vIYUi\nwERLXyJV4ex0f8c33v185NrIR66NVFCXpYm+Ls309bhTUynLfZ87E9p7OZQpK5kj/hOMtc3nsP8I\nZsHIsLDutDc8h/oWa3E5SbHiKgbEhDFigI2Jo+zMXRye45M/laCit7kj1dWVGG6bRc/EsfQxd+J1\nY2tkGUYNsuF2w+ipYRQroUJOiln0A93NRgzZGM9zBh27vV72eH084/XxcCFJF/eNZz9fe3+glvYe\nWhsaA8FaoyVKBbXe9TuDHsnxrheZaP+ANa7t9DS/mqk+jEaBatU1qVLPQdC0ffGCxNlTAbp3TEC+\nvZ3zb0nhskXkEH2HmNFoYNZkO15P4XE+SiuZd8lSKr7aH03MeEuREYqXpViGJc5Eg4bepo5okuZw\nyZ6SLQzPUFf3MBPD+/FdsY+ZGx5DU309Lgeussi5jpZxPXg+9m0WONZw0n8u0/1XqRZamIVqd0hO\nptg/pG1cbw77j9BUX4/tUQvpYHw+T4ViMi1e0vPoE8GMT198lnshDk0N9VgZOZWSqmhmOZYxxDad\nVSvs/Pqzj2ca62jSPDjp3OP1cdjv5xGthse02RNkakGgl9mEGpjvcOIqBM6DNsnBePsCtGgYHfZu\numb/Fw2NiBAsrHF9hkvOOXOnWi1wRzk1jz6ho9qdhXNZJS+5LQVjxcoa2nc0cva0xNqVhSd843ga\n2krsValIVQ6XZIlhiTO5KsfTz9yZN83tKKmKpqyqJJui56VyutELOp7R12F6+GC+K76aGZYhNNTV\n4UzgAvOcq3gu7k1ax/ViiXMD5wKXMjSG13uEXp9LmQZPlmW+8nxPi7i3WOHaTFlVKRZFjGN6+GBK\nqlM7VuQVghB0xNHrYcpoOwnxuace3KO9k3VRs3lAcxfbj//FzCmJWCJh+LigCdUhySx2uNAR1BZz\nQnutpFHTyqjnP0lmlbPgr5XNdiznP+kqb5raUUVTPt1tTYKBl43PES8nssn9da6MJ617W+E6Redp\nmknefNdEeITAojlO4mILvl3h4vkAadVsTUu7Kax85NrID77fqKd7mI7Glpna1yQYaGKoy3sRMewt\ntppJlv7U0z3MMf9JZjo+4tnYrrwS15+Vzi38F7ia5nGatjAweY4FrTbo9Vf9LjWT51iupcE7G7hI\nj8Qx9EmcSKyUwNuml9kcPZ8ndA9l69xzigqV1LzVx0zsVZlZk3K39FoJVTRLwydRcmJ/ZLcOacAq\nzkceA2CVy0WcLNPOaKCMOufu0/ZGA2VVKra6PRz1F9y1s998/2OdewdV1OV5w9QmQ/u8YmyBDi0r\nnJsIyDkft5l8b1e/q2g9N3KS21YwRkSq6N7LhM0ms3BOaBNlQeHMqQBd2sZfW1u8mYKezDsz/O47\nwhzHCkqooplg6ZctDSNMZeJ5wzMsiBjDnmKrGBPWi8e0D/CH/yiTHYt4JrYTneOHsNb1GbFSQqr9\nk9eAytyhYv3OaJq2MOCVfXzo/IQXYt9hj/dnHtM+wOao9+lpfhWDULDWq1973Yh4t5pNn7j5+YA3\nV/va/HGA2IOlqfrMVWyNvqVT/GAWO75mu9tLWZWKVsacvTZ6QaBnmBEJmGN34i+AJlWv7GOUbS4y\nMmMsvdAJGTMjF1NF8oKhAWeki3zt/SFXxta0heHauqZCavJUMIqi+KgoiruT3lcTRXGfKIp7RVFc\nIIqiKqm9myiKB0VRPCCKYvPcHE+7V41UqKTmk1Uu/j1eMGed/x7306VdPOfPBbOspKfFFHZskoOB\niVMJIDHZMoBoVc6VCotUhdPa2JglkRPZVWwFw8Pe5kFNDX72/cE4+/vUv/oq3eJj2Oj6kgTJBqTO\nuDPXvopWce8y27Ecs2BkimUgiyMmUOkWgfr5hVYrMHKSBZUKxg6148ml9fSzpwPMnmInPEJg4aQ7\neT9yFHpBxyznLK5Ia3jLpEObC97fD2i1NNLr+DcgsbkApotb4tzA8cBp2hma8ZC2Rsht3G43bndq\nc3Bn40sICCx1bsxUqkKFnCHPBKMoioOAxUDyU3wmEGO1WusSTPXwgiiKpYFewBNAY2CSKIq5Ng3X\n6gT6DjUTCJDr5qasYP1fUCheviQxcISZbj3NIbWYvCI302bJsswY+zzOSpfoZmrDY7oHcqUfgOKq\nKF4xNmdl1FS+jl7GQPMb3K2pxg++3xhhf496V1+ldWwvBtqm4ic4YToaOMkHrjWcCJyhveE5tkcv\npLmhfoEP97n3AS2vdDZy+mSAD+fmvGVEkoK5UF1OGDwqjBIl1dTVPUwP02Q0lCGR7Sx2T8Im5c7v\n6/WkdHEfO91cyKV0cVnhhP8MC51rKakqRl9z5zS3i4+PJz4+PlV7Jc0dPKN7jD/9Rznoy3yOWoXs\nkZca43HgpRSfawHJSS93Ag2B2sD3VqvVY7VaE4B/gPtzc1BPN9Lx8KNa9nzj5cfvc9fclBn+OOTj\njVfiiY+ViZkQxqtdg+bS3MgbWhDY5P6KnZ7vqKm5i3dMHfKs3zLqEnQ2vci6qFl8Hr2YPuZOVFWX\n5+/A8ZDbV1CVYYTlnVwN1M9pevQzU6asio8WOjl2JGctIxtWuzl4wMdTDXQ81zI4h02QJD5zF6OK\nMIba2of4znuQV+L7cypwPkf7BrCoVLxpNuIF5jlcBUK7kmSJ0fa5+PAzPOwtLKrQ8Za7d+/G4/Hg\n8XjYvXt3qu+7mIKPy49cG3NzuAohyDPBaLVaPwVSrpIJVqs1+S62ARFAOJBysSe5PdcQBIEBMWYE\nAWZMsBMI5P8P69efvHR/LQG7TWbcdAttXglWIEjOG5pSixlom1roheNx/2km2j/AIpiZGj4IrZA/\nISfl1WXoZmrLxuh5qNL4aZyX/svjUWUfk1lg+Pgw/H4YM9SWY/f4ubMBZk6yYwkXiJkQdk17XuZ0\nY5NlOpqL8WHEaDoZXwxq2nF92e/9LUf6Tkk9nZaHtRoO+fx8601jIT4P+dT9Jb/4/qKBrg4N9Y+n\nud3o0aNDvk/mQW0NamruZo/3J/7xK3Ua85L8dL5J6QpqAeKBxKT3N7fnKnffq6XFS3qsfwfY+mn+\nun8f2Ofl7U4JeNwyU+aE0+Kl66bStPOGrs+r4eU4HtnLgMSpuPAwxtKLO9Sl8ntIAFRTp05zBlAl\njfaCTt1azDWiAAAgAElEQVSn9TRuruePQ34+WZX9e1yWZUYnm1BHhlGyVNDD8X8+P196vFRWq3je\noEcjqBkU9gbjLX1wyW66J4xklXNrjmp2giDQw2zCACx2uEiQ8s/L/HIglhmOpUlFp99Kc7vdu3ez\nZ8/1Ce2ePXtCao1dTa0AWK5ojXlKfgrG30RRrJ/0vimwF/gJqCuKokEUxQjgbiBPDOw9B5gxGGD+\nDCdOR/5ojbu/9vDu6wlIEsz8IPxajslk0sobWpirfk+3L+Fo4F/aGJrQWP9kfg/nGmnVJuyWQZf7\ngsjgkWGERwjMmebg4vnsrcdtWOPmpx981H1GR/OXgvdpQJZ53xFcx3zHbEKdYv31RUMjPoqcRKQQ\nziTHQkbZ5+CVc067K6lW8ZrJQKIs86Ej/2KTJzkWYpMd9DV3ppS6eJrbhdIQQ7U9rXuUiuqybHPv\n4nIgNgdHqpAe+SkY+wNjRFHcD+iADVar9SIwh6CQ/BYYbrVa80SFK1VaTac3TVz+T2LZorwP3/hi\nu5v+byeiUsPcJRE81SC1z1FZVWhtqoo6/aDhgsq3nv2sdm+nmroig8O65fdwbiC5NuHNGXdyqqJH\nflCshIp+w8w4HTKTRtmzrLWdPxtg5kQHFovAiBQm1O1uL/8GJBrpddTQpjaHP6itwbqo2dTQVOVT\n95e8Hj+cq1LOGYRaGPTcqVazy+vjl3wwqe7y/MgXnn3U1NxNW0PTNLe7WVtMJpTWqBJUdDa+hA8/\nq1xbc3S8eVV/sjCSp4LRarWetFqtjyW9P2q1Wp+yWq11rFZrV6vVGkhq/9BqtT5itVprJa1L5hmd\n3zRRoqSK5YucXLqQdx5uWz91M6S3Db1BYMHySB57MnWNv/8CV4lPI29oKVXxAuF0kBkuBq4QY3sP\nPTqmhw/CKBS8kJNmhqfSzbhTGGnZxsDDj2nZ/bWXr3dm3tlMlmXGDLHhdMgMHBlGqdJBE+pVSWKl\ny0WYINAlnSThZdQlWBE5lSb6uvzq/4t2cX342x/a0SmzqAWBd8OMqID5DhfuPPxNOCQn4+3vo0HD\nGEv6ad+GDh2a5nd9+/ZN1fa84RmihQjWuXfgkAp2zHVR4bYN8A+FySzQc4AZtxvmTs+b8I1PPnYx\nYoCNMIvAolURPPRI6iBgj+ylV+J4bLKDFvqnr2kxVdTlKSkUY6/vIOPs7yMVkszAATnAYNs0EmQb\ng8O6ZSvZt0LmEASBkRPD0Olg8mg7iYmZu2c2rnVz4HsfT9bX8Xyr61aNxQ4XLhk6mwxE3KIclFEw\nMN0ymF6m17ggXea1uIF86fk+S+dzM1U1Gl406LkkSXych+ni3nOu4KJ0hTdMrammqRhym8uXL9Om\nTRsOHDiQ5nEOHTpEy5YtSUy8Pgk2CHpeMbbAJjvY4P4ix8eukBpFMN5Ei5f0iDU0bNvo4a/fc9cc\ns2KxkwkxdqKLCSxZExmyPqQsy4yxzeMP/1Ge1zdgkqX/NS1mW/QHfBo9F1FdmXXuHQy3zcafCymk\ncpqFznUc9P1JI90T6ZqcFHKHipU1dO9l4splidmTMz4BvHAuwIyJDsIsQeGabEL9zevjO6+P6ho1\njfWprR2hEASB7ub2zA2PAQT6Jk6kT8KEHAlFesVkoLRKxWa3h3/yIF3c774jrHZtp7K6HG+a2qX6\n3mazMXbsWKpWrcqGDRtuebwtW7Zw7733snPnzmttLxufw4ieFa4t+OSCmYykKKEIxptQq4M1GwFm\nTHDkiolSlmUWzXUwY4KDEqVULF0XmWZVjFWurWzxfMO9muqMtvRMFVAerYrgo8hJ3KepzlbPNwyy\nTc1Rp4ac5qD3TxY411BGVYIxlncLfIB8UaVTNxPVRDWfrnHz60+3NqnKssyYoTYcdpkBMWZKlQma\nUH2yzAKHCxXQw2xElcn/5zP6OqyOmkGUEMFX3h9yJBTJIAj0NCeni3MRyEWTqk/2X0v7NjrsXfTC\n9YmBx+Phvffeo2rVqowaNQpVJgornzt3jmbNmtGxY0euXr1KpCqcFw2NuChd5gvPvtw4FYUUKIIx\nBI8+rqN+Qx2//OTj2y9zNuhflmXmTHMwf6aTsuVULPskkspVQwvF/d7fmOZYTHFVFHPCh9/wo0tJ\nhMrC4ogJ1NLewxeeffRJnIhHLjjJCpKJlxIZbJuGAEwNH0SEynLLfRRyB61OYNQkC4IAY4fduvza\npk/c7N/r4/F6Wlq2ub6G+KnLwzlJoplBRzVN1uJPq2sqEa0KD/ldVkORHtRpaaDXcjwQYEsupov7\nyPkpRwMnaW1ozMO6ewEIBAIsX76c6tWr06dPH9xuN2PHjuW+++7L8HEfeughatWqxcqVK6lRowbr\n16+no7ElKlR85Pq00PkUFDYyLBhFUayeFEKBKIoNRVGcL4pil9wbWv6SXLNx9mQHPm/O3ISSJDN1\nrIOlC1xUrKzmo3WRlKsQOsP96cAF+iVORoWK98KHp+v6DcGE2QsjxvK49kH2eH+iR8IYnDlYzy27\nyLLMCNt7XJSu8I6pQ5q5IxXyjvsf1NLuNQP/Hg+wZEHaTh0XzweYMcGBOSxZmAa1wouBAOtcbiIF\ngdeM2XOeOhkIXTMzO6FIr5uMhAsCq5xuLuZCurhT/nMscK6huCqK/uauyLLM5s2buf/+++ncuTOX\nLl2iX79+nDhxgrp167JvX8Y1vYMHDzJlyhSmTp1KYmIibdu2pVebd3g87j6O+E9wwHcox89H4ToZ\nEoyiKHYG/gIeFEXxfmAbUB2YLIriyNwbXv5RqaqGNh2COSbXrcp+XFQgIDNumJ3Vy1xUE9UsXRdJ\n6bKhhaJDcvJuwjgSZTsjw3pQU3t3hvowCgbmRYykvq42+32H6B4/EnsB8WJb4/6Mb70HeER7X6GO\nBSxq9BpoplQZFYvfd3L8WOq1K1mWGTvMht0mM2C4+YZ7dqHDhRd4w2wkLBNmwlBUTSNxgkkwZnmC\nF6FS0c1sxEPQSzUntSxZlhltn4cXH8PCuvPrdwepU6cOL774IkeOHKFr164cPXqUGTNmULx48ZAx\nirdizJBxDBw4kMOHD1OvXj02b97MmtrziFt9hiWOPHXYv+3I6N08FHjDarXuBjoDf1mt1kZAe6Bg\nBaDlIG/1NmEJF1g4x5mtYq8+n0xMfxsb17mpcZ+GJWsiKV4i9KWXZIlhtpn8EzhFB2MLXjI+m6m+\n9IKO2eHDr7nDd00YRnxStYj84oj/BNPsi4kUwpliGZAvVe0VQmMOUzFsbBh+H4wdakOSbhQeWzZ4\n+H6Pj8ee1PJiu+ta4QGvj598fu7TaKivy1g5pfRIK6FComynfVzfLKdEe1qn5SGthl99fnbnYGzj\nZs/X/OT7nXv+V45ZL0zg6aef5scff6RVq1b8+eefLFmyhAoVrgv73bt3I8vytdex12R+jpIpo6pI\nGVVFfo4Kfj4/U+ZIy+D7mSd2828PqGSqzq5du1iwYAFIcKHPH6xt+QFfHyvcqSALMhkVjBUIBtwD\ntACSI03/BYpsUa/IKBVvvmsiMSHrNRu9HplB7yayY4uHmrU0LFoVQWRU2pf9A+davvbup7b2fgaa\n38hSn1pBw1TLQFrqG/KX/xhd4ofmaCB1ZnDKbgYmTsGLjwmWvrc0CSvkPfUb6mnUVMehX/xsWHNd\nO7t0IcD0cXbMYQKjJ183obplmYUOJ2rgHbMxRxyoQiVUmGTpz6vG5zkeOE37uD5scX+T6eMG08UZ\n0QOLHC4ScyBd3BUpjjGHZ3Gh2++sr7+IL774ggYNGvDjjz+yYcMG7r47fQuP6wgkfAHqKEgu0Wi8\nB6p8CGX6grgJ7twAxhpwdQ38URvOj1fxxitv8ddff/Fo4zo4vrtKs5qNmDNnDoECVFWkqJBRwXgC\naCSKYhOgKtcFYyfgSG4MrKDQ/jUj5SuqWLfSxckTmXOTdrtl+nRP4NsvvNR+XMuC5ZFYwtO+5N94\n9jPf+TF3qEoxM3xItpJpqwU14yy9aW94jqOBf+kUP5hLgStZPl5WmWxfyInAWV41vkB9fe08718h\nYwweHYbFIvDeFAfJz9lxw+3YbDL9hpopc8d1LX+dy81/ksyLBj0VNDmn/TczPEW410S0N5xN0fN4\n3vAMQ8O6Myt8GGpBzTDbTEbYZuPKpGm1tFpNh6R0cYudoZdF0qqLeDPnzp2jwetNOPzE58RtOcvD\nDz/MV199xddff03t2re+v2UJTvYB2QeV54G2NOjKwz17IbrV9e0inoEau6HSfNBEw8XZ8OdDoPus\nPHs37+XBBc8g6aF3797UrVuXv//+O6OXQyEDZFQwjgIWAJ8BW6xW6yFRFKcDA4EhuTW4goBOL9Bn\nSLAyQWZivpwOmZ5dE/h+j4+6T+uYuyQCkzntmfUx/0mG2GZgRM+ciBiicqBIr0pQERP2Nl2ML/Fv\n4Cyd4gdzLnAp28fNKDvd3/Gp+0vu1lSlv7nI+mkVCUqUVNNniBm7TebyJYnz5yT27vJSrbqaVi9f\nN6Ge9gfY6PJQQiXwcjoZbrJKqPqEz+qfYH3UHGpoqrLR/RUvx/XjhP9Mpo7b0qCnqlrNNx4fh3yp\nTapp1UVMJjY2lsGDB1OlWlV+X/YTliqRfLL+E3766ScaNmyY4XFcXg6OnyDqeYi8RQivoIbiL8N9\nP8Mdo4LC9MwwOPK4mr73DaHqvnrc/9LD7N+/n5o1azJhwgR8Ic5NIfNkSDBardYNQDmgltVqfTGp\n+UOgqtVq/Sq3BldQaNBYx0OPaNn1lZefD9w6DCIxUeKtjvH8vN9HgyY6Zn0QjsGQtlCMl2y8mzAO\np+xiQnhf7tJUybGxC4JAf3NX3jG9whnpIh3jB3HSH9oDMCc5G7jIaPtcjASznOiE7K9DKeQuyRM3\nSQKSlhr/ORrg8+3BcAc5KWbRD3Q3GzHkcAxqevUJK6jL8HHkDF42NOdY4BRt4/qw3b0rw8dWCwK9\nktLFzbO78KRwxEmvX4fDwcSJE6lSpQpTp05FiFZTbtYDHPj9J9q0bpMpM7L3PJwbDepwKD85w7uh\nMkKZ3nDvr1CyO3jPQbWX6lNCUwbd+xX5+NPVFCtWjJiYGB555BF+/fXXjB9cISRpCkZRFKukfBEs\nAZWY4rMPMCe9L9Ik12wEmD7ekcpBISVxsRJvdkjg8K9+nmupZ+rccLS6tH88fjnAgMTJnJEu0t3U\nnsb6urky/h7mDvQzd+GidIWO8YM45j+Z4/0k45P9DEycil12EmN5m0qaO3KtL4WcY2kaIRtL3w+2\n7/H6+N3v5xGthse0OT/RuVV9Qp2gJcbyNjMsQ1AJAoNt0xllm4NbzlicYjWNhhcMei5IEqtTpIsL\n1a/X6+X999+natWqDB8+HLVazXMT21D5QF0GdOtLDUO1TJ/f6SEQsEG50aArnend0RaDCpPgngNQ\nsrmWRkuex6lycSZWy8FNf/H6669z+PBhateuzZAhQ3C58q/KSGEnPY3xH+BY0uufFJ9vbj+Wy2Ms\nENxzv5bnWuo58pef7ZtC/xCvXJZ4/eV4/v7TT6v2BsbPsKDRpD+jnOn4iP2+Q9TX1aZnLleuf93U\nmmFhb3FVjqdz/FD+5/snV/qZ61jJ734rzfX1eUHfIFf6UMh5TvwT2onjxD8BHJLMYocLHUFtMacz\nFmW0PiFAE0Nd1ke+x12aKmxwf8HLcf0zbAV51WSglErFRreHE/5AyH6HDx/O3XffTY8ePbDb7YwY\nMYJt1i859YaLyubyvGV6OdPnF/cZxG+HsDpQvGOmd78BQ2WougTebNcUg8vI1se2crplGDFhi9mx\n7ivKly/PlClTqFmzJnv37k3zOBlZU71dSU8wVgaqJL0qp/h8c3uR1xiT6TXQjF4Pc6Y5cDpv1Bov\nng/QpW08x48G6NDFyIiJYahU6T88tri/YblrE1XU5ZliGZhuRv6cooOxBePCepMg2+iaMIxDvpxd\ntP/B+xtLXBsoryrDyLAeSsq3QkSVaqEdaapUU7PK5SJOlmlnNFBGnfPhNhmtT5hMRc0drI6cQTtD\ns2A9z/jeGUofZ0jyUpWAuXYno0L0MXHiRM6cOUOvXr04fvw4I8aMZLrqIyQkRoX1TDMDVVr4E+H0\nIBB0UHEW5NTPvMxDYbSLakJ8qasc7LqbKyugVL+GfNn5T3q93Ztjx45Rr149evbsic2WOmQrvTXV\n25303B4zt7p9G1C6rJqO3Ux8OM/Jig+dvNU7aF49cyrAmx3iOX9O4o13TPQcYLqlQPjdZ2W0bS7h\ngpl54SMIU5ny4hQAeMn4LHpBx1DbDN6Ij2F+xEge1T2Q7eNekeIYkjgdDRqmhw/GnIfnpJB9Xu9h\nYkiv1A/Q5t0NbHB7KatS0cqYuk5odkmvPmFUVBQ6XfqCyIsPu+zkeXkbBkGPWTDesk+nLPOl14s/\nISHk9ytWrKB9+/YALHFuwBr4l5cMjbL0Ozk3DnwXoOwQMFbP9O7p8qrpeVa5t/BVv020rd6QC5MF\nEt4z06XEbJ4d0o6Bm15n/vz5bNu2jYULF9KkSRPg+rqqQmjSm7v4Ca4jZuR129D1LRPFS6hYPN9J\ny4axPFj1Mi80jOX8OYme/U28O9B8S6F4ORBL78QJ+AkwLXwwFTOxBrfH4yVWkvlPkugRn8geT9Zy\noj5nqM+s8GH48fN2wmj2eg5m6TjJSLLEsMSZXJXj6WvuxL3aO7N1PIW8p2kLA5PnWNBqQRCg+l1q\nJr1n4fDTASTgbbMRbQ5bAA4dOnRNAIXC4/EQHR2d7qt0dCkqFiuPMcqML1LCFeHDEh2e7j5lixVD\n9qb92/nggw+AYGrG+Y6PKSZE0t/8eqbPz/4jXF4KBhFK98n07rekrLokTfX1+Ec6xZH2B7n3IJQd\nCpILSn1Qh1Vhv9G/XQznz5+nadOmdOrUidjY2Cxl4rmdSE9jfDrPRlGIMJkFnmqo5dM1Hv49nrQm\nkxQzXK7irU1MXtlH78QJ/CddZYC5K0/qamW47z0eL1PtTvxJLoMnAxJT7UHHiKcyWO4nJQ30dZgX\nMZJeCePpmTiO6eGDaKR/ItPHAVju2sT3vl95UluLjsaWWTqGQv7TtIWBEqWC8+X1O6P53O3B6ghQ\nV6floRzIcAMgSRI7d+5k5syZfPvtt+lu63K5WLBgAfXr17/lcd2yh0n2hWxwf4FZMDLO0jtNZ7bd\nu3fz9NNpP+L27NnDrl27+PjBr/HgZXxYHyIzmfRe8gZjFpGDJlRV5n+iGaKLqRXbPbtZ6vqUepGP\nUHYglOgE56fC5eV62h8fx5O1WzPmaldWrFjB1q1bFTPqLUhTMFqt1gzlGxJFsVzODadwcPjX0IH+\nS9930rRF2rFdsiwz3v4+h/1HaK6vT2fjS5nq9xNX6MXy9S53lgQjwJO6WnwQMYZ3EsbQP3EyEy39\naW6on6lj/OE7ymzHcoqropgY3i9P1koVcp8ESWKZ040ReMN0a/PkrXA6naxYsYLZs2djtVoBiIyM\nvOVDevTo0Wk64qTEIOgZY+nFI9r7GG2bR7/Eybxs+JNBYW+kChfKiMb07qg+yJ+Wo57uYZrq691y\n+5u5+B64rVCiK1gey/TuGeYuTRUe1z7ID77f+NN3jHu1d6ItCRWnQ6nucHYcsP0BFsg/svGhGUz/\nbWjuDaaIkNEk4neLorhdFMV/RVE8nfQ6I4rif8CpXB5jgePfdLz30mO1ezufur+khqYqYyy9Mu2Y\ncjoQOp1VWu0ZpbbufpZETsAkGBlim84GV8arhNslJwMTpxBAYrKlP8VUkdkai8J1MpqNJbdY5nRj\nk2U6mAwUV2d9snPhwgViYmIoX748b7/9Nv/++y9dunRh8eLFGdJc0vNQDUVzw9N8EjWbO9UVWePe\nTof4/pwOXLj2fVprmjfz197f8X9vY0QWnMhcR+HCDNCWgTvyoMxCF1Mwbc4y18Yb2g13QrUVIO6A\niNoaqh59VClZlQEyercvAqKASUBxYAqwBjADt11Kk2Tvvb/P1OLvM7VStYfiR+9hptgXUUyIZE74\nCAxC5p0YKqTxcEqrPTM8oL2LpRETiRAsjLLPYZVz6y33kWWZsfb5nJEu8rqxNXV0D2Z7HArXuVU2\nltwg5Rr2lx4vxQWB5w1Zc7g5fPgwnTt3pmLFikyYMAFBEBgxYgSnTp1i6dKlrFy5MsPHyuyaWBVN\nedZEzeQlQyP+5z9Om7hefOn5PtPHUs2Mpay6ZKb6liU41RdkL1SYAprQpSYBOHnyJCdPnszU8UNR\nR1uTuzRV+MKzj7OBi6m+tzwGd30OKyuNznZftwMZfaI+DPSwWq2LgF+Bv61W6yCgNwWkukZmZpTZ\n5fUeob0tu74Tuv1s4CL9EicjoGJWxDDKqEtkqd86aazxvJDFB9fN1NBWY3nkZIqropjkWMiHzk/S\n3X6z52s+8+zmAc1d9DS/miNjSIv81p7ymvSyseQWN69hA1yRZfZloiqFJEns2LGDhg0bUrNmTZYv\nX07VqlVZuHAhZ86cYezYsZQuXTrDWtu1sWVSa4RgGbZxlj5MtPQjIAfomziRbjv7ZarfI3v/ynS/\nV1aCfT9ENoeo5pnaNcsIgkAX40tISKxwbQ65zZ49u/n+z4JfkUMURa0oiitFUdwriuJPoig+L4pi\nNVEU9yW1LRBFUZVi+xKiKB4VRdGQ9DlCFMVtoijuEUVxvyiKdTI7howKRh+QPHU9AiSrBl8BGS9L\nnYvkpZdVKO+9yXMsIdcXnbKbdxPGEy8nMjzsLWpp78lyv3/6gmubaoJmnYgk887PPn+OmUeqaSqy\nImIKpVUlmO1YzlzHypDH/td/lgm2BYQJJqaGD8xWwvOMkB/aU35yqywwuUF6a9i3wuVysWjRIu65\n5x6ee+45vvnmGxo0aMBnn33GX3/9xZtvvonReH2dMivnlNXr8IKhAWujZlNVXYHV45dnev+3Rozk\nuD9jvzHvRTg7CtQWqJCJtG85QWN9XUqrSrDR9SXxUmKq73PrPjoYTfuD0fx+MBp/0t+03YwzxqvA\nVavVWhdoAswDZgIxSW0C8AKAKIqNgS+BlLmE+gHfWK3WpwiWSZyf2QFkVDDuAwaKomgCDgItkyT2\no0CBmMZnZUaZHZK998rcoWL9zuiQQlGWZYYnzuRo4F/aGZrR1niLrMHpcNjn4w9/gIe1GoqpBEqq\nVKyMCucejZrvvT42u3MuJqmi5g5WRk6lvKo0HzjXMs2x5IaHglf2McA2BRcexoT1opw6C/mtMkF+\naE/5SWaywOQUsixzKmmtOuB2E0ihnae3hn3x4kVGjBhB+fLl6d69O8ePH6dTp04cOnSIr7/+mmbN\nmqEKUcT45vqEya+KFStSsWLFkN9l5xpU01RgbdQseu0cTo3/mvHY5TZ87f6B3W4Pza7EYSxfHmP5\n8jz233xq/NeMTrGLmJpop9WVOKpu3kqvBDtvxdtY5XRx2p+2L8GZoRBIDCb91pXN8nCzhFbQ8Jrx\nBVx4WOvaca1dlmXWfPNNpjTljJIkBNcQVJDUSX/XZFM4rgdGJL0XCIYO1gKST2AnkJy5XUp6H5ti\n/1nAwqT3GrIgozI6ze8HbAHeBj4gaEKNB0zAmMx2mltk1Hstr1jkXMeX3u95WHsvQ8LezPJxZFnm\n46Tcjh1MBpLnvGpBYIjFzLvxNj5yuhE1Gmpoc0ZzK6suyfLIKbyRMJzlrk0c9f/Lf1Isfvw8ffU1\n4mUbrQyNaWLI+dyuN3Oz9lSQ/se5QVpZYHLrvI/4/Cx1uq4ZUP2JN2obodawf//9d2bNmsXq1avx\ner0UK1aM4cOH06NHD8qUKZMr48wuJsHApPB+1Hbfx3jbAnoljqejsSVP6SryNXHIBEjkMyxEsCDy\nNYyCAY8sc9Dr4zuvj5+8Pta4PKxxeaisVlFXp6OeXnstE1D85xC3Bcy1oUTn/DnHNobGfOBcwyrX\nNiqrm/OnT+A3n5+dI0dl6XgHo5kGtElnk7TE/4qD0aSlM69/OJaBaR3QarXaAURRtAAbgBhgutVq\nTb5FbUBE0rZfJW2bcv/4pLbSwCog0xGkGa2uccRqtYrAAqvV6iC45vgy8KTVah2X2U5zi7zWGtPj\nW88B5jhXUkZVgpnhQ7NVXeKw389f/gC1tRqqazQ3rLdFq1QMtpiQgck2B/E5UIg1mVLq4iyLnEIZ\noQT7fYfwEzTlxsvB7CgPaWvkWF9pkR/aU36SXhaY9evX52hZoQuBAJNsDvon2vnLH6CqWsXVffuQ\nPB4kj4er+/YB0MYYtIYkxx82atSIBx54gGXLllG5cmU++OADTp8+zfjx4wusUEzJi4ZGrI2aSRV1\nOVa4NrPc/R4y17VAGwns8vwIgF4QeEKvY6jFzMfREQwMM/GoVsOZgMQKl5s34m30ibexId7N4SkS\nghYqzc65tG8ZxSvLHPL5WOcSiBIaECfHM8H+Jd96fVzct5fYH77Pra7TerBlK+hVFMXywC5gpdVq\nXc21aHEgWNAi3XUVURTvA74BhmU09DAlt1QvRFF8BPjDarW6rVZrcvr9BsBlq9V6ILMd5jYFQaM4\n7j/NENt0DOiZGz4iWyEMKbXFV5Lq39281na/VktHk4FlTjdT7U7GWcyocyhDSTFVJCaVEUJYj5Y7\nN9PSkPFadFkhr7Wn/CYmJibN79q2bYsgCJQqVYqyZctStmxZ7rjjjmvvU34uVqxYSBMmBOMT17rc\n7HB78QPV1Wq6mo3cp9VQc8a0a9udmTaFKU2epbYUYNGiRcyaNYsjR4J1yZ955hn69etH06ZN0+yn\nIHOnphJro2bT4GonbHLqOqsfOtfTzPDUDW0mQaC+Xkd9vQ67JLE/SZM85PNzjABscFP1oppGFXU8\nIWmJzsXrIssypwMSv/p8/Obz86fPT/Jiilp+FoHPgJ28F96CN2ZOz3I/SZpdmtrdwWh+J7Sfye8P\nx5KlPJOiKJYiuG7Y02q1fpPU/JsoivWtVutuoClBoZnW/jUImmPbWa3Ww1kZQ5qCURRFDfAR8Arw\nDMRmZOcAACAASURBVNftuyS1tRFFcSnwltVqTT+ALw9J1igykikjN0iQbLybOA6H7GKaZRB3a6tm\n63iHfH7+5w/wqFbDnRrNDTkOU55na4Oev31+fvT5+djlpmMOBGQnczJwNmT7icDpHOsjFOlpT/n5\nP84Nrl69Su/evfn++/Rn9vfeey9Op5P//e9/6dbd02q1NwjMsmXLUqpsWS6UKMnv0cUQypShQpmy\ndCtVgrp6HYIgsHv3bg7v/e7aMc5/v48l3d6g9c6dXLlyBa1WS8eOHenbty81a9bMsXPPL8yC8f/s\nnWeYU9XWgN8kUzKVYeggVc1WUBFRrw3Beq9gQ8T2qWAFQboo9oZiQxA7SLFcUQHFgnptoNgFu8gG\nQZAOU5k+Kfv7sU8gDMmQmUmZGfb7POdJ5uTkrJXMyVl7rb3XWpSq4K2Z9nVtp9vtnOFM5gxnMpt/\n9PH2C25WXOhmbXcPz5WWMb20jMMTEjg5OZETkhLJjICRLPT5+Mnt0Vulm9yAef+ODjs9EhPpkZjA\nYYlNmFh8Km+Vf8w/vmUhB5GdOnWqs07Ag+g5xqpMqsM5b0OnB94phPDPNY4CpgkhkoA/0SHWUEwC\nnMATVoi1UEp5Xk0UqM5jHIcuC3eKlPKLwBeklJcIIZ4HXgf+AKbWRGi0iZdH4VVexu98hPXezVyb\nMnCvEWdNUUrxStnuuUUIPd9ms9kYm57KqMJiXi+r4JCEBI6NUAmvAx0dWOVdt9f+Lo4OETl/KG6+\n+eaQrw0dOpRffvmF5OTIF7WOJTk5OUyePJmnnnqK4uLifR6fnZ3Nr7/+ilKKgoICNm/evGvbtGnT\nXn9///33eL2hx61vpaXt8jRXrFix1+svv/wy2dnZ3HbbbQwfPpy2bWO8oiTK1PXa9rkhf6SdY1Yk\nc/nlyVQ29fFVhZvPKyv5xePhF4+HZ0rK6JGYwMnJSRyXmEjaPrru+HErxQqPh58qPfzo9rAm4P+Y\nabPRO0kbwh6JiXsVYBiccgFvlX/MrNI3OTW5xtkKYXN0Hq8tywbgVqArsAKYdHQer9X2nFLKUWhD\nWJWQN1QpZaeA5zUygsGozjAOBkZUNYoBwhcLIfxudr0yjPHyKKaUvMhX7h85OeloRqZdUefz/ej2\nsNLj5fjERA60vMVg823+z5lut3NbRirjCouZXFzKtCbptIpAi6DrUi9ifNEjQfZXNydfewoKCrju\nuuv44YcfQh4jpaRNmzaMGTOGoUOH0qJF7XJD48WOHTt2GcSSkhKaNm0a1vsC/+dNmzaladOmdOsW\nPAVIKcUPFZU8+88GVm/chHfrFkRuDm1zdrAjwIBu3ryZ1atDt1V95ZVXOOus2q+ors/U9dre9hSU\nrdA9FjNOALBzbkoy56Yks93rY2llJV9UuFnm9rDM7SEBOCYxkV7JibiV4q3yCv7x+ujgsDPQmcyB\niQmWIXTzm9uzazllAnBEQgI9khI4KjGBLg4H9mqmSw5K6EDvpGP4vPIHfnb/yZGJh9b0qwkbywjW\n2hDWS4Iti1ZK4XK5SlwuV8dQr1vHdHG5XCXVHROLbdmyZQrYY+vdu7eKNh07dlQdO3ZUSin1btln\nquv2vqpf7vVqp7e4zuf2+XxqTMFO1TcnX61xe5RSSvXu3Tusz/lhWbnqm5OvRubvVJU+X511UUqp\nRWVLVEr7DJXYPkWdnztcLSpbEpHzBuLxeNSMGTNUixYt9vqcwTaHw6EA5XQ61fXXX69WrFgRcZ0C\n/8eRYNu2bWr8+PEqNTVVAapNmzZq6tSpqlevXmF95nCv7b/cbnVrYZHqm5Ov+uXkq8lFxWq7xxvy\n+JNPPrlO8iJFpL/vcKjttV32l1LLWiv18yFKuQuqP3ajx6PmlpSpG/ILVd+c/LC26/ML1XPFJeq7\nikpVWovf8fcVv6qu2/uqkQX3B329Y8eOatmyZUrF+f5dH7fqjN4al8vVp7o3u1yuPi6Xa328P0Qw\nwwioxYsXq2ji/xH/XrlK9dh+vjp2x4VqrXtDRM79Q0Wl6puTrybu1EZ28eLFIW9cVT+nz+dTjxeV\nqL45+eqpopKI6KNUdG9aX375pTrqqKN2GbpwjcSIESNUly5ddv3dt29f9cknnyhfhAYEkfrMW7du\nVePGjdtlENu2baumTZumSktLq/3fhvs/97PN41WP7izedXO9o7Bo18AqFOHIj/ZvyU88DGNt5Pp8\nSq08V6kfmiqVu7Bmsta5PerS3IKgxnBgbr76sKxcbatmEBO+jj41MG+U6ra9n/rbvXGv141hDL1V\nNyP8JnCvECLoRJW1/x7g/WCv1wdiUTHEh4+ROydSiZtHMsbTOaHuzUaUCliJmrL33GJVRo0apUc5\nFjabjRvSUujssPN+RSWf1bJnYyzYuHEjl112GSeddBI//vgjV1xxBT16hF9z9ddff2XVqlW8+eab\nnHTSSXuUI5szZ07cm7Fu3bqVsWPH0rlzZyZPnkzTpk156qmnWLNmDSNGjCAlJSUiVWCKfD5mlpRx\nXcFOFle66eJwMDEjjfsz0+mSUH04PRz5pn/fnuS+CkVLocl/oOm5NXtvxwQHRQG/10DKFfzbmUzL\nCNQ/ttlsXJ0yAIXixbK36ny+/YpQFtPlcjVxuVzS5XL96nK5rnO5XD2s0GlPl8t1g8vl+sPyKlvH\n27ovW7ZMnZ87TC0qW6K+/fZbZbfbVZcuXVRRUdFeo6RIERh+6bq9rxpX+FDEzv2d5S0+EIa36N86\nd+6sZs2apcrLy3edZ5PHoy7MzVf9c/LV3/vwGsIhkqP50tJSdf/99+/yoI4++mj19ddf19l7+u67\n79Qll1yyK8zaqlUrdf/996sdO3bE9DNv2rRJjRo1apf3e8ABB6hnnnlmj/9PJGRX+nzqzdIydZHl\ngQzKK1Cfllcob5gec02+71h4jQ3BY6zcptSPnZVa3l6piloGiIaFCKkOzy+s3QlD4PZ51Jk5V6kj\nt5+ncrz5e7xmPMbQW7Uvulyupi6Xa4bL5drpcrm81uZzuVw5LpfrSZfL1TzeH0BZhrHr9r6q6/a+\n6pWSd9SNN49QgBo87Gq1ybMt4tsrJe+ortv7qsT2KbsMY9ftfSMy7+bz+dSo/J2qX4AxCza3GGpr\n1aqVuu+++9T27duVUkp9VV6h+ubkq+vyClWJt27hxUjctHw+n1qwYIHq1KnTLn1nzZqlvF5vjT+r\nfws2B7Z+/Xp10003qczMzF3h2SFDhqg///yzRvq2atVKtWrVKuzjN27cqEaMGKGSk5MVoDp06KCe\nffbZGhlEP9V9316fTy0ur1BX5RXuCsHNLy1TFTUMIdfk+471vH0sqYncNdfqEOrW52svb4n1u6y6\nLSmvqP1JQ/BKqb5fPVn88h77jWEMvdmUCu7SB2LljhwIZAE5wBopZZ1LrFjh2BeBTugU8uvQdfHm\nWD/G39FdPaqVtXz5cnVlh91Nz3wVXv4+4ysqVhbTccGxpPVqXldVg7K652IADl6uO4G7HJ15K/up\nOp3zu0o39xWV0CspkQkZafvsNB7IxRdfzIcffkhhYSFOp5Mrr7yS0aNH83WHTrxZXsFJSYlMSE+t\ncW85P/68p9q2yfntt98YPXo0n332GYmJiYwaNYo777yTzMxq+vLUUXZRURGzZs1i6tSpu97br18/\nxo4dyymnnLLP78Lp1KHsfXX22LhxIw899BAvvPACFRUVdOzYkdtuu43BgweTlFS7JtKhPvMvbjcz\nS8pZ4/WSAJzjTOailOQa58rV5Nrys3jx4qiu9q7rNRZtuYUfw+qLIa2nbuNkq8Oi788rKplXVr57\nVWqKs9YNx6ujVJVzeu5gbNj4pNlsUmz6mu7UqRMLFiygZ8+ekakGEiEsuzALbReSgYnoNJA5BLEL\nQogWwFfAEVLKciFEGvAqOheyEhgkpdxUEx3CKqwppaxEJ1VGmr5AgpTyBCHEGcAD6FJCd0gplwgh\nnkNXUQ87QG7DxvmZZ7Dl2UN46fQnyR+zmgu+PpfkjL2LfNeWdysWo9h7QFHXhHel9NyijfDmFquy\ndetWNmzYwOzZs5k6dSrTp09n+vTpnNW3LxlDhrL0hJPompDAeSmxzf3Ly8vjrrvu4tlnn8Xn89G3\nb1+mTJmCy+WKuuyMjAxGjRrFjTfeyMKFC3n88cdZtGgRixYtonv37owdO5ZLLrkkqPEKVUwhkA0b\nNjBp0iRmzpxJZWUlnTp14vbbb+fKK6+stUEMxTqPl9mlZSyzuqz0TtIVj1rXMiWntnObjbXq0L7w\nFsP6cWBLgI5P1M0oAvROToqKIaxKqs3JpSn9eK70Nd4q/4TLUiLbC6tfbsEl6KR8fx7jg4uaZdUl\nfcPfXeMKIUQ28LO17WUXrO4aD7Fnd43rgOVSyvuEEIMBf4vEsIlur6B9swpIsDp1ZKLbWx3HnlXU\nz6QGhjGV9kzKHAd9oP2tGUycOJHS+zfw+HPPRUzplXlro5Lw/q2VxHtyUiIdEhy16lm3fPlyRo4c\nyfDhw3nnnXd4/PHH+eD99+H998nq1o0tNwyn46ArOTI9rU66hoPH42H69Onceeed5OXl4XK5mDJl\nCn379o267Ko4HA4GDBjAgAED+Pbbb5kyZQrz589n0KBB3HLLLdx4440MHTqUZs2a7XpPdcXL169f\nz6RJk5g1axZut5suXbpw++23c8UVV5CYWPfCCv6GwR4UQ/J30tRu4w+PFx9weEIC16Q5OTihbj/f\nfVVEibXXVt/ZPAkqN0LrsZAa/TLBEeWylHOYXfomL5W+xcXOs3DU1apbWEYxsPLN4cDcfrkF1ME4\nzmN3ZZtQ3TX8dsHfXWO5/81SyqlCCP8H7MA+6qoGI95FDovR7vJKYAYwDbAFq6IeLmm23UvE7rzz\nTo444gief/55Pvroo4goDDopOPj+2ie8K6V41fIWL7W8xVtuuaXG5/HfzB0OB/3792fp0qV89913\nXHLJJRStXMnPNw7jhIMO5I777ycnJ6fW+u6LJUuW0LNnT4YPH47b7ebRRx/lt99+i4tRrMpxxx3H\n66+/zpo1axg7diylpaXccccdtG/fnhtuuAEpZchiCuvWreP666/n4IMP5vnnn6dDhw7Mnj2blStX\ncvXVV0fMKAY2DN7o8/Gbx0u2zcY9GWlMykyrs1E01IySH2Hb85B8ILS9Kd7a1Jxm9izOc57GBt9W\nPqn8Ouz39csteLRfbsG6UBvwUoi3vlTN+x4N8R5Ad9eQUhZV6a4R1C5IKT+WUuYGOYdXCPEZMIIa\nOFZ+QhpGIcS1Qoj0mp6whowB/ieldAHd0fONgbGFfVZR95NIB5rbbqRbwom79iUlJTFnzhwSEhK4\n9tprKSwsjIjSfZ29eTTjZhIsh9vl6MyjGTfXqQTcN5Vu1nq99La8xbKyMiordZrFnDlz9pgYrmnP\numOPPZa5c+eydu1azhk9GndpKQ/cdRft27dn6NChuwpD74vArh6hWL9+PQMHDuSUU07h119/5aqr\nrmLVqlXcdNNNEQ8t1pVOnToxefJkNmzYwJQpU2jZsiXPPfcchxxyCAMGDNjr+EsvvZSDDz6YGTNm\n0KlTJ1588UVWrlzJ4MGDI2IQ/YRqGJxut3FMUmKt54gNtcPnhnWjAR90fBzskZuViSmDUvpjw8as\n0jcJZ21JmNTL7hoAUspTgV7AgprKr85jnAY0s5T0WhOckSYf8FurPPSX+ZMQoo+17yxgaTgnamef\nRLrteE6rErPv0aMHt99+Oxs2bGDcuHGR0RptHFvas2lrb8lb2U/VySj6lOLVsnLswKVWTdQRI0bw\n888/c9111zFo0KCI6NyhQwcWPv444/+UHPrAJNJbteL555/n0EMP5eyzz+azzz6r9gdTUFCwV2cP\nP6Wlpdx9990ccsghzJ8/n+OOO47vv/+eWbNm0bp1dBsZ15XMzExGjx7NX3/9xbx58+jatSt5eXl7\nHbd161batGnDyy+/zIoVK7jyyitJiLDn9o/Hy7oQjYE3VNMw2BA9tj0LZb9D8/+DzOi3H40anRLa\ncWrScfzuWcUy9+9hhcoXNcsav6hZVqdQG/BbiLf+Ws37QnbrgD26a9wipZxl7Q7bLgghbhVC+Gty\nFhO0N1D1VGcY1wALhRAvo+O8TwshXgq21VRoAFOAo4QQS4HP0BO4w9GFBb5Be4/VVVHfRQurMO/i\nCjfuKjf32267jSOPPJKZM2fywQcf1EHd6PBNpZu/vT56JyVygMPB7NmzmTlzJkcddRTTpk2LqCy7\nzcatbVpx3A3DOOb75Tz82muccMIJLFq0iNNOO40ePXrw0ksv7fJW/fgXolRUVOzhlSqleP311znk\nkEO47777aNq0KS+//DJfffUVxxxzTER09s+3bff5GF6wk8+jVLAgISGBCy+8sNq6q507d+byyy+P\nuEEsV4oXS8u4sbAo5DHBGgYbokv537D5IUhoAQfcF29t6s5VqRcAMLusxk5UKB4MsT9S3TWWCCGW\noMOp4dqFWcD/We+bC1xVYw1C5XG4XK6DXS7XFJfLNcvKXXzN5XLNDrbFO+fEysVRU60yaM8X710G\n7eeff1aJiYmqbdu2Ki8vb6/Xa0Mkcq68Pp+6Ib9QnZ2TrzZ6POqnn35STqdTZWVlqbVr10ZN7l9u\ntzovJ19dnFugtnm86ptvvlEXXXTRrsT41q1bq4kTJ6qcnByl1J75bv58tp9++mlXjc2kpCR16623\nRryogj/fK6V9e5XSvn1U872Uik95tO8qKnflIw7KK1Aziktj+pmrEq9cwnjKDibX51Nq5flW2bf5\nMVcpalyWN0513d5XrXavj0geY9+c/Ev65uT/0jcn3209XlLXc8Z7C+sgl8u12OVyZcVb2VCb3zCW\n+XzqequixHcVlaoq999/vwLUoEGD9nqtNkTiR/yFdeN/bGexys/PVwceeKAC1DvvvBNVuUrtLjY+\nKqDY+Lp169S4ceN2JcanpKSoc845Zy/jcM455yi73a4Add5556m//vqrzvoEw18hpKqRiHSFED/h\nJLxHKtF9h8erJlp1Tc/JyVczi0tVmfV/WFJeoTLad1Ap7dur4fmFMTOKShnD6GfHXG0UV12kjWRj\n4ZPyr1XX7X3VcTsuMgn+IbawYjNSylMAtxDiBiHENCHE00KIEVGad6w1TpuNCelpJAJTikvJqTIn\nc8stt9CzZ09efPFF3n333fgoGYBPKeZac4sXpyRz1VVXsWbNGiZMmMA555wTdflnJidxenISq71e\nppfohq0dO3bkscce22NBSrDv6t1330UIwUcffcTChQs58MC6NWSuilKKHyrdIefb/onCfFu46TH+\nFaq1xasUb5WVM7RgJ19Xuuma4GBakwyuTkvBaS2s6Z2cRLbdRku7naeyMmOS72bYjTsHNt4B9jTo\n8Bg0pvVO5Urn5u5U++7/ub8SlmEUQhwBrAYmAO2s7WZghRAieDO4ONE5wcG1aSnsVIrHikvxqt3z\njYmJicyZM4ekpCSuv/76oAssYsmXlW7We32ckpzIa1OnsnDhQk455RTuv//+mMivWmx8ccDcnX9B\nysyZM0O+f9q0aZxxxhkR1cmrFEsrKhlZWMw9RSWhjwMeKyrhH0+N59VDUpOE99oW1V7p9jCqsIgX\nSstJsNkYlZbCw5npdNpHoW9DbNlwB3jyoN1tkNw+3tpElhdK58VbhXpPuLP504D/AQdKKQdIKc8H\nOgPvUc+aFAP0S07i+MREfvN4mFe2Z3eFww47jHvvvZetW7cycuTIOGmoDYB/JWrnH75nwoQJtGnT\nhrlz50Z8YUd1OG02bs1II9UGTxaXsr6KoanOSE+cODFieniU4uPyCoYVFPFQcSnrrEIHg1OCr41v\nbrOxuNLNDYVFTCwqYbXHUyf5tSmmUBOvscjn46niUm7aWczfXh9nJCfxfFYGZzqTq204a4g9hZ9C\n3huQ2gNaXh9vbSLPmjpW6NofCNcwHgs8JKXcdfexnj8EHB8NxeqCzWZjVHoKze02/ltWzgr3njfN\nm266iWOPPZb//ve/LFy4MC46flnpZoPXxzEFeQy77DIAXn/9dVq1ahVzXdo5HIxOS6UCeLCohFLL\ny96XsahrSBGgQineK6/guoKdTC0pY6vPx5nJSTyXlcEtGWkMTHVyc3oqCWjj0dlh5+b0VGY3zeTO\njDRcCQ6+qXQzurCYO3cW87u7dgYyEq2fgqGU4rOKSoYUFPFBRSUdHHYezkxndHoqTWpY29QQfbwl\nuuwbDugUgbJv9ZED61iha38g3F/mZuCgIPtd7M5DrFdk2O2Mt8qePVJcQpFv95xUQkICc+bMITk5\nmSFDhkS1Akww/N6izePhw6uvYuvWrTz88MP06hW/JKkTk5Po70xmo8/HtOJSlFJR7dNXqhQLysq5\nOn8nz5aUUeBTnONM4oWsTEalp9IuoP5nsPk2u83GcUmJPJ6ZzgOZaRyRkMCPbg+37Czm5sIillW6\n9eqyMFmyZEnQSfiaFlMIZIPXy607S5hcXEq5UgxOdfJEkwwOSzRVa+ormx+Gyn+g9Y2Qeli8tYkO\noSp3GXYT7i/0eeAFIcTdwPfWvn+hGxVHrghphDksMYFLU5z8t6ycaSVl3BbQWeLQQw9l4sSJjB8/\nnhEjRjB37tx9nC1yLK10s9Hro+LhSXzzxRf079+fsWPHxkx+KAanOlnl8bC00o33o49rtBAl3I4L\nRT4f75RX8E55JcVKkWKDgc5kzk9JJqsWHpTNZuPIxESObJLIn24Pb5SV873bw91FJRzocHBxSjLH\nJyXGNFxZoRSvl5WzoKwCD3BsYgJD01JoVcti34bokrcAFh2wjrKVsO0pSGgObapNQW/Y+IuRzKin\nc4117a4RcJ5DgO+AVoH7wyHcO9FjaOP4IPCjtd0FPArU67TXi1OSOSzBwdeVbj6okhg+ZswYjj/+\neF577TXmzw+rjkCd8SrF3NJydnzwPp9OeZyDDjqI2bNn14syXwk2G7dkpJFlszHlvvD/reF4jXk+\nH7NKyrgqfyevllVgB65IcTInK5PBaSm1MopVOTQxgbsz03mySQa9khJZ6/XyYHEpNxQW8WlFJZ4a\neJC1ZVmlm2EFRbxeVkFTu407MlK5KyPNGMV6St4CWHsdlK1gV9ExTw4U1r86IBGlr7N3nVvk+em2\no98l3Xb0+7Xbjn4e6/GSOp7S312jF/Af4CngcXR3jV7ogjPnAVjdNT5iz+4aCCEygcnAnotMwiTc\ndA0lpbxHStncUqCJlLKdlPLxgMKu9RKHzcb49DQybDZmlJSxLmBxicPhYM6cOTidTm644Qa2b98e\ndX0+r3Szau1afr9xGE6nk/nz59OkSY3qpEeVZnY7p/74A7lffxX2e6qba9zu9fFMcSlX5+9kQXkF\nqTYb16Y6mdU0k0tSnaRHYZ6tS4KDCRlpPJ+VwRnJSWzx+ni8uJTrC4pYVF5BZRQMZI7Xx4NFJdxd\nVMJ2n48LnMk8m5XJ8UlJ9WLQYwjOlikh9te7JYX1E8sIzkV31XBYj3PraBznAXdaz0N11zjdeu7v\nrrErxUAIYQOmoyvolNZGgRpPdkgpo289Ikxzh51R6alMLCrh4eISpjTJ2JUv5nK5mDRpEmPGjGHY\nsGHMmzcvajcyr1K8nFfAT1cNoqywkNmzZ9O9e/eoyKoLL9ditWnVtkwbvV7eKCtnSYUbL9DKbmdg\nSjKnJyeRGCND0c7hYHR6KpelOFlQVs7/Kip5pqSM10rL6Z+SzFnOZFLqqItXKd4rr+Tl0jLKgEMS\nHNyYlkpnk37RICiTwfeXh9i/v9FtR79HgeraBrUNsf+lbjv6PRTitXl/tFgUMlgtpSwGqNJd47FQ\n3TWsYwNPcTewSEr5S5X9YbPfLIs7PimRs51J/OP1McNKZvczcuRIevXqxYIFC3jjjTeipsOSSjef\n3jyewt9+5dprr2Xw4MFRk1UXlixZgtfn457CIvrm5PNySWnYC1HWeDxMKiphaEERn1a4aeewMy49\nlRlZGZzlTI6ZUQykpcPODempzGqayQBnMmVKMbO0XId1S8v3WJhVE6Tbw+jCYqaXluGw2RiZlsKj\nmenGKDYgUkLcN521u5/uj9TH7hqXA9dYtVJbo0OtNWK/Wh53TWoKf7g9fFhRyZGJCfSyqonY7XZm\nzZpF9+7dGTZsGL179454RwivUtz3wkw2vPISh/fowZNPPhnR80cau83G2PRURhUW81pZBYfsI7dy\nhdvD62Xlu7rLH2QtfDkuxgtfqiPbbufqtBQGpiTzbnkl75RX8N+yct4sK6evM5n+Kck0DSO0W+zz\n8WJpOR9UVKKA05ITuSY1xaRfNEBajYR1Q/fe32Z07HWpj1ieXUjvrtuOfr+iw6dV+fWPFotqFQ4L\n6K5xo5TyU2v3T0KIPlLKJejuGotDvV9KuSuDQgixDt3UuEaEW/nmLiFEg09+SbIWlyQDT5aUss27\ne77xoIMO4uGHHyYvL4+hQ4fWaKl/OMz4YRlf3jSWlCZNWDh/Pk5n/W/qlmG3c1tGKgnAY8WlVPWr\nlFL8VOlmQmER43cWs8ztoVuCg/sy0pjaJJ0TrLSK+kaG3c5lqU5mN83kmlQnTpuNBeUVOnWkuJTt\nIcrNKaVYbOUkvl9RyQEOOw9lpjM2Pc0YxYaK9a9OyAZbAqR0gy4zIHvvdpyG4NTH7hp1JlyPcSzw\ncjQViRXtHQ6GpqXwREkZjxSX8nBmOgnWzXvYsGEsWLCAt99+m1dffZX/+7//i4jM3IICbrn0Enzl\n5UyfO5cuXbpE5Lyx4KAEnWrwZEkZOVbIcXjBTnokJvCH28sqa3DRMzGBi1KcDSpHL8Vm44IUJ2c7\nk/m4opIFZRW8V1HJBxWVnJqcREeHnTyfwoPi+vydOIB/fD6SgEGpTvrHKTRsiAxK6fQMHHDo4sZX\n+i0W/NFi0WvddvQDuBXoik6rmPRHi0Wv1facUspRwKggL4Vseiul7FST/fsi3LvYy8DdQoiH/UrN\nDgAAIABJREFUgfXAHjkh/nyShsIZyUn85PbwRaWb/5aVMyg1BdgdUj388MMZMWIEp5xyCm3bhppb\nDg+lFOcNvoqda9dy5pixXH7++ZH4CDGlqm+7zutjnVenvpyYlMhFKckcFMMydpEmyWajnzOZfycn\n8XmlmzfKyvnYSu3xoCMHm6xBQReHndsz0mht0i8aPDs/02ka2QOMUawLlhGstSGsj4Qb/zkfuBKd\nWFkEuKtsDQqbzcaNaam0stuZV1bBL+7dH6Fz58489thj5OfnM2TIkDqHVB+bPJmv3l5I8xNP4sVJ\ndYkuxI955cFTgdrZ7dyWkdagjWIgCTYbpyUn8WyTjF2Nr6viA2MUGwlbrTS+1iPiq4eh/hGuYbwc\nOAU4NcTW4Eiz27glPRU78FhRKYUBKxOHDBnC6aefznvvvcdLL71UaxlLly5lwoQJJLdqzU0vvUjr\nBto6KFSLp621XM1Z37HbbOT6gg+INkSh3ZUh9pT8AkWfQ0ZvSD0i3toY6hvhJvh/LqX8HPjLes/3\nwMqA/Q0SkZjAlalO8pTi8eJSfJZ3aLPZeOGFF8jIyGDUqFFs3LixxufeunUrF198MQo45oWZXNup\nU2SVjyEdHMEvk1D7GwP742fen9jm9xZvjK8ehvpJuKtS04UQ84ANwMdAG2C6EOJrIUTLaCoYbS5w\nJnNUYgLL3B7eDggZduzYkcmTJ1NYWMh1111Xo5Cqx+Ph0ksvZcuWLYg77+aKU/rQrAGvWrwoROun\ngSH2Nwb2x8+8v1CxAfIW6hWomQ0y3mWINuHerScDzdE9GP3Z8ePQBV2nRUGvmGG32RiTnkqWzcac\n0vI9+vpde+21nHnmmXz44YfMmjUr7HPeddddLFmyhPb9+iGG38iFDfxm2js5KWjrp8bcVX5//Mz7\nC9ueAbzaWzSLig3BCHfVxLlAXynlen+JHSnlX0KIYVSTaNlQyLbr6ix3FpXwSFEpT2RlkGqz7Qqp\nHnbYYYwZM4YzzjiDDh2qT+d89913mTRpEm26dOGQaU/TL8VJdgP2Fv34Wz+BjaeyMuOtTkzYHz9z\nY8dTADmvQGIbaNo/3toYglHX7hpWrdSNwGrrlN9IKW+tiQ7h3rFTgMog+5OBejHm+uMkXSm/thyV\nlMgAZzKbfT6eLd5dd7Z9+/ZMnTqVoqIirrnmmmpDqmvXruXKK6/E6XTSc86LpDdpwoUpybVXymAw\nRJQds8BXAq2Ggt04/xGhe+cdl3TvvOPX7p13eKzHeHfXOBD4UUrZx9pqZBQhfMP4NjBJCJFl/a2E\nEAcDTwLv1VRoNChbodvH1MU4XpHqxOVw8Fmlm88CWlQNHjyYvn378sknnzB9+vRd+8vLyykvL9/1\nfODAgRQUFDDkiSfwdT2Mvs7wSowZDIbo46uAbdPBkQEtBsVbm8aBZQT36q5RR+NYp+4a1rHthBCL\nhRDvi1pUEg83lDoCmA3kWor+DKQD/yN4hYK4sWVq7cs5Jdps3JyRyojCIp4uLkUkOGjncGCz2Zg+\nfTqHHXYYN910E//+97/p1KkTBQW769iOHDmSH3/8kauuvpq8gReT7FPGWzQY6hG5b4BnO7QaAQ4T\nGQ+L7p131Lq7RvfOO0J21/jl7xbR7K6xBZgkpZwnhDgJeAU4pprPsBfhpmvslFIOAA4GzkEn+3eT\nUvaVUuZV/+7YUtd2MW0cum1QOfBwUSluK3Tarl07pk2bRnFxMddccw2fffYZFRUVVFRUMGHCBGbM\nmMGRRx5J30cnk+tTnO2sXUd6g8EQeZRPp2jYEqHVkHhr06ioj901lqGjnEgpvwTaWvOOYRN2yRIh\nhB04xNoqgWJgZU2ExYJItIvpk5zEz24PH1dUMqe0nOvSdMm4yy+/nPnz5/POO++wYcOGXcc/+uij\nNGnShLnz5/MgNpJRDDDeosFQbyj8CMpXQ7NLIaluVR73KyzPLqR3173zjpDdNX75u0Vcumug+zHm\nAo8IIboDGwK8zbAIyzBaJ38LnbKxCu1puoQQq4H+Usp1NREaTSLVLmZoWgp/uj0sLK/gyMQEjklK\nxGaz8fzzz7N48WJWr16961ifz8f48eNZ1fYAckvLGOBMNt0WDIZ6xFary1vr4fHVoxHyIHqOsSqR\n6q7hn2scBUwTQiQBf1J9d42HgFeEEP3Q85ODa6pAuB7jc8DXwNCA+G8WekntDOCMmgqOBm3GR65d\njNOabxxbWMzjxaU8lZVBM7ud1q1bc8ABB/Dnn3/ucfz/Pv6YP2+4EScYb9FgqEcUL4PibyDzdEjp\nGm9tGhe//N3ite6dd0CV7hq//N0ibt01pJT5QL/ayofwDeORwCC/UbSEFwghbgeW10WBSOLeFtnz\nHZiQwDWpKTxfWsbkolLuz0xj6eef72UUAZZ+/jn/WrqUoaefZrxFg6Eesc3vLZryb1HBMoL7ZXeN\nb4DTguw/CfgpcurUnsQ2kP+2XpIdSc5xJnFsYgK/eDzML6vgnnvuCXnsmkce4gLjLRoM9YbytZD/\nHqR2h4xe8dbG0FAI6TEKIe4L+PNvdHz3VOAH9Aqhw4GLgSeiqmGYZA/Qq84KP4amZ0fuvDabjdHp\nqYwoKGLqx5/w7eeha6bnfP0VP37xBX369ImcAgaDodZsexZQpvyboWZU5zH2Cti6AF+iF9+chY7f\ndkB7kjXKD4kWzaxMm7x5kT93E7udmzJSWfVIqLSc3VTnURoMhtjhzoXcVyGpAzQ9L97aNG5sNlsf\nm83WJ956RIqQHqOU8pRYKlJXUg7TqRoFH4FnJyREOIE376uvyPv6q30e9/nnn7NkyRLjNRoaLOvW\nrYu3ChFhxwvgK4NWN4CtcfTSrs/cYz32iaMOEaMmeYz90DmMVSfRlJSy1ktzhRC3oouUJwHPoMv+\nzCFIsdjqsNm017hpIhS8A80vr61GwamJJ3jPPfewZMmSyCpgMBjCxlsK218ARxY0/794a9O4sTzF\n3v7nSqklcVUoAoTbj3EWOo/xCnTlm6pbrRBC9AFOAE5Ef7HtCVEsNhyyL9SPuREOpy5ZsoTPq5lb\nrIrfazQYDDVj3bp1EfFYc18DTy60vAYc6XXXy1At94R43mAJ12O8EBgopXw7wvL/DfyGNrqZ6AoL\n17Fnsdgzrdf3SXIHSD8Oir6Eys2Rq3BRm3lD4zUaDPFBeWHb02BLgpbXxlubxk2gt2jRuzF4jeEa\nxk3WFmmaAx2Bs9FNkN8B7MGKxYZL9kAo/lZ32Wg9IjJKVjVwwwt2ss7rY3GPIwA45adfAd3M1vTt\nMxjiS8EiqPgbml8Bia3irU2j554Q+/rU9oRCiEzgBSALXaT8deAyoKuUUgkhngI+Rdukp9F2YjtQ\nLqUcXFu5gYRrGIcCz1gK/cOeBV2RUn5RS/m5wEopZSUghRDl6HCqn30Vi92L7PNgwy2QOz9yhrEq\n/3iDT3mG2m8wGGKDUrvLv7Uy5d/qjM1mq667hhMINvTobbPZtgLlId43TykVsv4qcBDwmpTyTSFE\nW3QE8UeglxDiO+AUYDTwPXCFlPIPIcQDQLt9f6LwCDfBvyfQA70o5jNgScBWXTHXffEl8B8hhM36\nAtKAT625R9CpIUtrcsKEbF36qew3KNu7QE1E6OAI/rWF2m8wGGJD8bdQshyyzoIUV7y1afRk1fK1\nfbENOF8I8Qq65VQiuvToIPSak3eklB6grZTyD+s9NbIT+yLcO/kd6MKumZaSgVut+2BLKd9DV875\nHngXGA6MA+4VQnxjnbu6YrFB8ec05tb4neFxUYoz6P6BIfYbDIbYsO0p/dgqStGi/Q2l1HilVKeq\nG7owd3VlvpKBwcHeuw9vEbQN+EZKeTm6abENHTrtAVyNDrMCbBBC+KvfHle7TxiccEOpFcDbgbVS\nI4WU8uYgu0MWiw2HrP+APR3y5kO728EWYUeud7IeCyzFhgdFZ4edgSnOXfsNBkPsKVsFBR9A2tGQ\n/q94a9PouSfMY/rU4tzvAk8KIS5BT6V52O0knS6lXGMdNwyYJYQoRrdCjNg6mHAN463AZCHETejy\ncJ7AF8PJM4wl9hRoeg7kzoXi7yEjomMJTe/kJLLtNsBmFtzEgMaSdG6IHtue1o+tR5jyb9EkyErU\nUNRqhaqUcjFwWJCXHrQ2P8cC50gpdwghJqKNY0QI15e6H51asQIoA9xVtnqHP6cxGiXi4k2kcr0M\nhsaCexvkvg7JXSCrb7y1afTcE6Vja8o24CMhxFJ0B6inI3XicD3GCNeRiT6ZJ+ul2nkLof0ksJso\np8HQaNk2A1QltBoGNke8tWm81MBb9BO1vEYp5XxqsQYlHMIyjFLK8Mu+1BNsDsi+QFfX3/mpXqVm\nMBgaH95i2DELEppB80vjrU2j555avqdPRLWIMmEZRiHEBnTt0qBIKTtETKMIkj1QG8bcecYwGgyN\nlZxXwFsAbW/R6wsM0UMp1SfeOsSCcEOpdwR534HovJKqr9UbUruD82Ao+BC8O8Fh1sgYGhBmHnnf\nKI8e/NpToIUp/2aIEOGGUl8Mtl8I8TUwAZgdSaUihc2mF+FsngT5i0yYxWBobOS/DZUboMU1kNgs\n3toYGgt1zfBbia6KU2/Z1XHjjfjqYTAYIotSsPUpwK4X3RgMkSLcOcZTg+zOQFeq+T2iGkUYZ2dI\nOwaKlkLlVkhqHW+NDAZDJChaCqW/QNNz9e/cYIgU4c4xfhJkXyXwA7pNVL2m2UAo+QHy3oTWZmRp\nMDQKdhULvzG+ehgaH+HOMTbo6thNz4d/btUl4oxhNBgaPqUrdBpW+vGQfnS8tTE0NkIaRiFE2Maw\nvpWEq0pic2hyKhR+rOspmqr7BkPDxl8sPFqt5Qz7N9UZPw97l34LtkWsPl00yb5IPzbGEnGG6GHK\n79U/Kjfp6I/zYGhyZry1MTRGqgulnlLNa22BB4BOwGuRVChaZP0H7GmQtwDa3maKDNcGYyAM9YFt\nz+v8xVY3Rr5zjsEA1RjGYGXgrPDqSHSJny3oFiCfRU27COJIg6x+kPeGXoiTfmy8NTIYDDXFsxN2\nzNF1kJtdFG9tDI2VsMdbQojjgeVoT/ER4IiGYhT9NPPnNEapgbHB0NDJWwB/nATLWujHvAXx1mhP\ncl4EXzG0vB7s1bXJNRjqwD5XpQohstGG8CpgEXC+lHJ9tBWLBpl9IKEF5L8F7R8Ae2K8NTIY6g95\nC2BtQPJV2Yrdf2cPiI9OgfgqYdtzekqkxVXx1sbQmKnWYxRCXAtI4FSgv5Ty3IZqFAFsCZDdHzy5\nsHNxvLUxGOoXW6aE2D81tnqEIu9NcG+B5pdDQla8tTE0ZqpL1/ga+BewHngcaC6EuDrYsVLKWdFR\nL/JkD4Tt0/Xq1Cyzos1g2EWZDL6/PMT+WKKUlaLhMOXfDNGnulBqW+AfwAaMq+Y4BTQYw5h2lO7y\nXfCB7uPmSI+3RgZD/Cn9Q0dUlHfv12zJUPobpB4ee7387PxUh3azB0By+/jpYdg/qG5VaqcY6hEz\n/B03tjwCBe+blW2G/Rvl1aXVNk8C5Q5+jK8EVvSBZhfrVKfkA2KqImAVC8ck9Btiw36ZBdRsoH40\nHTcM+zPla2BlX9h0HyQ0g4Nehy4zIKWb9h5Tuum/D56vn+e+Br8fAxvvAU9h7PQs+QWKvoCM3pB6\nROzkGvZfwi0i3qhwHqhDqjuXgHs7JLaMt0YGQ+xQCnbMgo13g68UmvaHjo9CQrZ+PdgK1MzekDsP\nNj8AW6fBjpehzThoeU300yZ2lX8zxcINMWK/9BhBL8LBB3lvxVsTgyF2VG6C1QPgn/F67rDLC3Dg\nzN1GMRQ2BzS/BA77HtrdA3hh4x3w+3E6zUNFqVpyxQbIW6g91sxgze8Mhiiw/xrG/oDD1E417B8o\nBbmvwx8n6khJkzOg21eQfUHNzmNPgTYj4fAfodUN4N6scx3/PAN2fhl5vbc9A3i1t2jKOBpixX5r\nGBNb6vBQyY96rsVgaKy4c2DNIPj7Bu3ZdZwCB71Wt6bdCdm6SMZh3+nQa+lPsOpcWH0JlP0ZGb09\nBZDzCiS20eFegyFW7LeGEXavSM01XmO9pr6XKavP5L+vvcSC9yD9BOi2FFoMipz3ldxJL9A59BNI\nPxEKP4I/esG6UVC5pW7n3jFLr4htNRTsSRFR12AIi/3aMGb1BXuqbmGjVLy1MQTDX6asbAXg3V2m\nzBjH6vHshL+Hw5rLwbsTDrgfxDuQ3DE68tKO0uc/6DXdDirnZfj9aNj0gJZfU3zlsG06ODK0ITcY\nYsl+bRgd6ZB1FlSs1SFVQ/1AeXU4LudVWH9z8GPqS5my+sjOL2DFiZA7F1K7Q9fF0Hp49Fs02Wy6\nmlS3pdDxCXA0gS2T4bejYfsL4AuRJxmM3DfAsx2aDwZHZtRUNhiCsl8bRrBWp2IW4cQLpaB8LeQu\ngA13wMp+8FMnHf5bdyN484O/r+wP2PyYmR8OxFsK/0yAVedD5VZoczMc8hGkHBJbPWwJ0OIKOOwH\nXRDAVw7/3Ax/nAD57+47OqN8sO1psCVCqyGx0dlgCGS/zGMMJPMUndyc9xa0n6h/1IbooBS4N0HJ\nT1Dys/bSS38Gb2CyuA2cAtJ66G3bs1Dxd5CT2WDzg3pLPVKvMm7aPz5VWeoDxcvg72FQ8Rc4XdD5\nWf39xRNHGrS9SYdCNz8KOXP0IqC0Y+CAeyHjuODvK/wIyldDs0shqW1MVTYYAGMYsSfqG+qOF6xl\n7KfHW6PGg3v7ngaw5Cfw7NjzmOQu+jtPPVLPU6Uevmf92oSme7ZC8tPxCZ1bl/em/r+V/qwT1tOO\ntYzkeXVbddlQ8FXClketzhhKF9hud7tOq6gvJLaAjo9Aq+th0/3aa5R9IetsOOBOPScZyNYn9WPr\n4bHX1WAAYxgB3cB4xwu6gbExjMHJW6BvvmUSUgS0GbNnhRRPwW7jV/KTXr5fuWnPcyS10zfDtKMg\n7UhtDPfVPsgvY8tU3eXBKaDN6N37m18K7lwoeFd7/UVfQsn3sOE2yDhJG8mscyCxWeS+i/pC6Qqd\nglH2GyR1gM5PQ8aJ8dYqNM6D4MAXofg72HC3Xilb8AG0GAxtx0PRUtj0oI4Q2NP1PHNK13hrbdgf\nsalGsBxz+fLlqmfPnrV+v1Lwe09w74DuK3UIKBw6deoEwLp162otuyFQtYGtH3/1oJKf9AKmQBJa\n7A6HpvbQhjAWpfcqt0L+O7oZdfF31k6HblKd3R+y+kFCk+jrEU2UVxfV3jwJVCU0v0JPAzgy4q1Z\n+CgFBYtg4306/GtLBlWx93FdZtSPJsmNleXLl9OzZ09TOqEK9cJjFEK0BJYDZwAeYA66ndXvwHAp\nZZQKTmlsNv3j2zIZCj6EZvX4h7gvz62mKKXrZXoLtNfnLQBPvt78+3bMCaGLtWDJkaUNT6plCNOO\nhMR28alUktRah+xaXQ8VG7WBzFuo2xbt/BRsY6HJadD0Asj6d8NrO1a+FtYN10Y/sZUOKTfEvqI2\nGzQ9G5r8W6d2/HNL8OO2TDWG0RB74m4YhRCJwPNAmbXrceAOKeUSIcRzwHlA1CuaZg/UhjHvjfpr\nGKt6bv6cPoCsc/UiFm++NmaBRm6PxyrPvQXa66gVDl35JLlz/SzXlXyAblPUeoQ2KHlvaUNZ8IHe\n7CnQ5ExdFq3J6fVrXq4qSsGO2bDxruCFvxsq9kRoeXVow1gfmiQb9j/ibhiBx4DngFutv3sCn1vP\nPwDOJAaGMcWl57wKP9MltBKbR1tizdkyJfj+tUOAIKHOkDj03J4jSzd9dWTpRS6OLL1/13Prcd0I\nqAiSFpFyCDi71OaTxB5nF2g7Tm9lK7WRzHsL8t/Wmz1dF3zIvkB7v/akyHvnNSFQtrOLTl0oW6H/\nH12eaHxeVIqwijhUwSlir4vBEFfDKIQYDOyQUv5PCOE3jDYppX/iswiI2YxQ9oV6AUn+Qmh5bayk\nhk9ZqNGzDzJ67TZ2gUbO0bSKscsCe0bNPLx2E4LPMbYZXauPEXdSDoF2t0LbCXrhSt5benVr3ht6\nc2RB6mF6IY+fQO882kapamSgfLWl92Fw8OuQ1Ca68uNBmzGN6xozNGzi7TFeDSghxOnAkcBLQOAS\njQygIFbKZF+gQ1W58+qfYVRKVxLx5u39Wko3EG9HT/a+VoY2VGw23fg29QhodxeULNcGMv/tPY1i\nIOvH6/SQaJK/KMQLqnEaRWi815ihYRJXwyilPNn/XAixBBgKPCqE6COlXAKcBSyOlT5JrbXnVfQ5\nlP8Nzs7VHx+r1ahK6Ry9YEYRYjOqzh7QuG9SNhukH6239hNheUsgyJIvbwHk/Dfm6gGNf76tsV9j\nhoZDvD3GYIwDZgghkoA/gfmxFN7sIm0Y8+br3Kr6wOYHdRdz58HQcqjuOmBG1dHDZtfh1qBzXgfr\nQtnRZPXFOoVhL9lmvs1giAn1xjBKKfsE/Nk7Xno07Qfrx2nD2Oam+K+23PyoXi2b3AVcC3UoreVV\n8dVpfyDUnFfbm/cdSagr7W4x820GQzzZ74uIV8WRCVn/0QseSn+Jry5bntBJ3EkdQCxsvPNL9ZHs\nATq5PKWbrp+b0i12yebxlG0wGOqRx1ifaDZQr0zNm6eT1ePB1mdg0726jJp4G5L20+LY8SSec15m\nvs1giB/GYwxC5mk6zSHvTV1+K9Zsnwkb74DENuB6O3rNZQ0Gg8GwN8YwBsGeBNnng3ubbvoaS3a8\nBP+Mh4SW4Hqr4STQGwwGQ2PBGMYQ7GpgHMM1sTmvwfoxuj+keFNX4zEYDAZDbDGGMQTpx0JSe907\nzlsafXl5C3THekcT7SmadjsGg8EQH4xhDIHNrkvE+Yqh8MPoysp/B9YO1e2uXAt0OTKDwWAwxAdj\nGKuhmRVOzY1iOLXgQ1h7re7scPB83bbJYDAYDPHDGMZqSDkEUg6HnZ+AJ0Q5trpQ+AmsGQy2JDj4\nDUg/JvIyDAaDwVAzjGHcB80uBOWBvAgX6d75Ofx1BWCHg16FjOMie36DwWAw1A5jGPdB9gDAtrtb\nfSQo+gr+ugxQcNArkHnyPt9iMBgMhhhhDOM+SGqrO24UfwsV/9T9fMXfwepLtBd64EvQ5NS6n9Ng\nMBgMkcMYxjBodqF+rGtOY8mPsPoi8JVDl5mQdWbddTMYDAZDZDGGMQyyzgVbsm5grFTtzlH6K6wa\nAN4S6DIdmp4dWR0NBoPBEBmMYQyDhEzt3ZVLKPu95u8vXQGyP3h3QudnIbt/5HU0GAwGQ2QwhjFM\n/CXicmu4CKdMwqrzwZsPnZ7YnRtpMBgMhvqJMYxh0uQMXa4tb0H4HTfK/9JG0ZMDHR+H5pdHV0eD\nwWAw1B1jGMPEngxNzwP3Fp1usS8q1oE8T3foaP8QtBgcbQ0NBoPBEAmMYawB/jDovnIaKzZYRnEL\nHHAvtLo++roZDAaDITIYw1gD0o+HpHa66LevPPgxlZth1XlQuQHa3g6tR8RWR4PBYDDUDWMYa4DN\nrivheIug4H97v165FeT5OozaZjy0HRdzFQ0Gg8FQR4xhrCHZF+nHqsn+7hxY1R8q/oLWo6DthNjr\nZjAYDIa6YwxjDUntqpsIF34MngK9z5OnjWK5hJZDod1dYLPFV0+DwWAw1I6EeCvQEMkeCJvuhT9O\nBPd2sCWCKocW10D7B4xRNBgMhoaMMYy1wJ6qH91b9KM/rzH9X8YoGgwGQ0PHhFJrQc6LwfdvfSK2\nehgMBoMh8hjDWAvKZPD95SH2GwwGg6HhYAxjLUgRwfc7Q+w3GAwGQ8PBGMZa0GZMiP2jY6uHwWAw\nGCKPWXxTC7IH6MctU3X41Cm0UfTvNxgMBkPDxRjGWpI9wBhCg8FgaIyYUKrBYDAYDAEYw2gwGAwG\nQwDGMBoMBoPBEIAxjAaDwWAwBGAMo8FgMBgMATSaVanLly+PtwoGg8FgaATYlFLx1sFgMBgMhnqD\nCaUaDAaDwRCAMYwGg8FgMARgDKPBYDAYDAEYw2gwGAwGQwDGMBoMBoPBEIAxjAaDwWAwBGAMo6FG\nCCHsAc+d8dRlfyDw+46DbFu8ZBsM8aTBG8Z43jjiKV8I4bAeU4UQHWMlV0rps+SOBXrFSq6fqt93\ntG/ecfz/HiSE6OH/vuMg3y6lVEIIhxCiS6yNpBDiMCFESgzltRdCdIiVvCDyG/y9uDHRoP8ZQghb\nwI36JCFEGyFEWgzl2wPkZwgh2sRKtpTSaz19FegUK7kAQoiLgKuklB9bf8fsOpJS+oQQiUKIKUKI\nLCll1CpUxPn6OhZYLISIedfPwOsaeByYCnQXQiTFSH4GcCgwQQgxJhYygWbANUKISUIIYekRs8GA\ndV2nCSGui6XsgAF2g7YFkaZBfxn+m6IQ4hZgOvAQMEAI0SrasoUQBwOp1vOngJnAw0KI8dGWHaDD\n1cCBwC8xkBX4Q80AfEKIy2HXjzqW15LP2tpZukVFdryuL8swvQqcDUwUQtwe8FrUb5gBg4EpQCJQ\nAowCTo5F+FxKWQRUAGOAE63fWrTZCpwADAKOtPSIdVmwg4Ej/LJjEQ0JGGA/KYS4NpaD+/pMgy8J\nJ4Q4BX0DuQs4C/gXsAF4X0r5V5RkJqA9tR3A70AP4Fa05zYKmC6l/DIasqvo0Rs4H/AAL0opf4+S\nHLtl/NoDWUAbwGvJ3iilfDgackPokialLLEGBf2klFH1qOJxfVlyWwA9gW+Ad4HVUsproiUviPzD\ngSeklKdaf49FG417pZRvRklmYAQmCTgTOBxwAO8DxcA6KWVlpGVa8k5EG6eOwF/AZ0C5lHJbpOTt\nQ5dU4Hlgk5RyQixkWnLnAKXAf6WUXwkhjgOWA544DA7qBQ3aY7QupIeBA6WUJVLK+cAnQFf0SDcq\nSCk9wOXoUe11wA9Sylwp5XL0DyoqcxWWQUYIcZ4Q4gGgEngL2AJcL4ToEwWZ/htHOvAGMA64Ehhg\n/X2EEOKcSMsNocv5wINCiHuxBiZCiPP8ekZQjt16TAIeBA6K5fVl0Ra4BxgspTwZcAhaEhSDAAAL\nZUlEQVQhfo7mvJvfQ7F+V2vQUYELrJefQV/vjwohTo6G7ACjOA6YBqQAn6MN4wTgUfSALFIy/df2\n8cAS9He+CPgVPcj9FGgfKXnV6DFSCHED2mMdYu1rHW25lpzmQKqUcphlFDsA/wdx8ZjrDQ3OMAbE\nxJOllKXAf4AMIcRMACnl/9Cj2j+jJN9uyamUUo5F3zAGCCGOszyqk4GiKMi1SSk9QohewC3ozih3\nAU2Br9E3ssJIyoPdYTVgGPCqlHIw+oYNUAbcLKV8N1Jyg+jhN1JpwHdo7ykReBN90xpRRc86Y90s\nm6GvrX8D6dG+voQQBwQ8z5RS/gJcCvxLCPGI9b0/JaUsi6TcQKzwXTPgbuAk4GngdCHE02iDMQRt\nsI6MhmwAIcRVwCnAe8AV6N/TJGAiMERK6Y1UiNH6P2egP+cj6GtrC5ANzEHPoy+LhKyqVPkMv6Cn\nZS60dPg3cGM05AaRXQC0FkIMsf5ORHvp+3VItUGFUgNGeDbgHbQh+Am9QGAOcBQ61FUW5UUZ7YCx\nQCbwAjqUeilQDrwipXw5wvLuBxTwpCX3RfSg5nG0cZgLzJdSroygzBZSyh2WYTrGkjFJSjnDen0G\n8LGU8g3rb1u0vnMhRFdgBvAl8IaUcrnQK3FTgMnAe1LKZyMsszs6rPWalHKqFW46CjiOCF9f1s35\nbWA+Ojx/EDBPSvmXNb82C/hNSjksUjKryLcFGKb2wCXoa3sr+jt3AQcAC4EFwHVWdCTSehwCvAKM\nkFJ+I4RoCnxgyfutqq51kHMC4ER/rheBx6WUN1ivHQSMBkZGa0VwwH3sKOBaYBU6fDrPGvi6gAIp\n5YIoyj4COBrIBfKB2cBHaKP4pJTy9UjLbkg0GI/RMkb+H8RTwLfokd6lwP1SykHAFCllaTRu0EKI\nEwIWHswEPgby0Mbqc7TB+iySRlEIYbPCWv9Bj57vBdLQE/S3Sin/A/wGeCNtFIGfhRC3oUOJG9Bh\nrPOEEOdY4bUDga/874n0d24ZQ4QQiWijOBFoDdwvhDgNbZxWWvqJCMgL5bEdG+CxTYvG9WUtNhkL\nnI6eq3YB/YUQAkhGe8qPRlIm7BEV8BvFDlLKDehB5hr0QOAktNFegx6IPRxJo1glBO5F/67HCSFc\nUsp89NxXqv+ACBjF/uiIR3f0HPnrwBBr4Ykd6Au0iqJRbG4ZphZoY/QNkAScIIQ4Q0q5VEo5MxpG\nEXZ5ya2A/wI5wBPogf1x6AHYjfu7UYQG4jEGjKgXWdto4E50SHEtMBhYK6W8JEryz0PH3a8GDgFu\nsGTPRhvn3sCjUsq8KMnvhg6t/IYe5W1Fe0srgHOklOdGWF57tGfwjiXrSuBnoB96MJWL/gF9K/Zc\n2h8p+RejDeGDlqx26MHIk+ib54nAHVLKd61FOCV1+THXA4/NP4rPRM+Z90R/33lo722klPKdKMgN\njAqchDZ8o/0Lx4QQs4F1wH1WmLW1lHJrBOU7rNBoBtpIlaANYQt06L4Q+FxKOSlCnuLhaEMwVEq5\nyto3AHgWvYBtJtpAXByN37I1oDsBvS7gCKCblPJ267WbgeZSypsjLdc6fxP0IKsAff8qsPRYAPwP\n+Mcf/TE0EI/RGlGPQRugwehR5bWARM9FrGD3vFdEsX5Mo9CGrxh9oygDlqLDMGvQN5WIrZSz5DoC\n/tyOnlNsgb6BZwMD0av2BkVSLoDlNTwC9JBSvoCeA0lDL7bJR3vuF1g31miMrDeh5zrOBS5ArxK8\nDz33NQ89GHrfOnZuXUe48fLYAuT7LOO4E20Q3gOOR3/fF0fLKLJnVGAV8DJwqxCirzU4aQ48YxlF\neySNIuyRizsdPRjphY6MrEcbKx/69xapiMSJ6KmOVVYkBsszewQ9KJoIXBitAS56qiULvbq5DTr9\n5VjrtQoCPONIIoS4EP19vgvchPaKB6IXHF2IHvzGvFhHfaZBGEbrR/kL2gi0QM8j/o02EB8Cb0cy\nlBggtxn65nSvlPIHIcRhwHPo0fyP6IUBTwNjLKMZKbktgBlCiBuEEM2klDuA24B09JL1T9De3M1W\nuCliBEzMfwSsFkI8ZskdIqW8Fb0w4l9AS6L0Q7Y8lkfQodolQCt0uPRBdDh5tOVpOCKxGMW6vn5G\nD7q+A7qhl+1fhTZSX0gp/66rnH2gQBsAKeV9wGrAIaX8LkrynOgBiB29kvp1dHhcACPRUYLJfo8y\nkgMgIUQzIf6/nXMJ0aqMw/hvHHV0qkUU1VhRU8Jri0ypCBcT3TBoFoWGTVpENyGCXERtBnOQimkR\nFN0WXUSwXYRgGGVMmFTLatHQQ2REjmKUXRZiBtHieT87zExZct7zzTfz/+3mfPPxvGfmvOd/f1N/\nSmlRckfzBHZ8VuJnuxfXM18EhnLdrQ56cTSOpKMt44jvf0LS78BvNWlNQdLH+J5OA7pw1+uWlNIL\nOG0/UrdmduwfxvtmCPdk/AgcxiWS+3BT1da6tTuZjkilwpTGm2fwS+s54AtJ7xTSvBJ3P45I2pZS\negvYJWl7LtL3An+q5vnB5LGEN3Gk+C0eTejGHudBSXtaabA6dadZx724C3FQ0kc55TZPHlepW6sb\nOEPSL/nnAbyZt+Ho8TbsbT8i6fMCL+vq87UZe9T3AAsKGqfJa1iIx2GWAhdIurmw3u3AnZLW5pdz\nL07fXgY8Kkl1N1XlffMGTpHvxdmfu7CTuwOnU4fx7Gg3cL5qmhfNfQpbgJ2Sdleu78QNXK/VoTNJ\n8yxgPc60jOMo+AdsrLpwF+xPOGU8UUB7DO+ZvfnafOzcDmHn93Ts+H1dp3anM7/dC/gfnPCogcdT\nSktws8unpQTl7sfVwGhK6WngJUnb88f7SxXoccrjVpzaW4ZTHauAO4CelNJqFRpHqZKdgXNwR2Jr\nJKLUPb8HzEspjeEml33JJ84sx571QuDLbBS7Cvztq8/X1pTSCspGbFOQdDylNI7T87tP9vunSsXY\nvQ9cVckKPCiPBPW3IuSajeIi7Gi9np3LBbjmtgH4CkeOr+DGslZpos5DFA7hZpdrk2cXx7L2NyWM\nYmYAd04fxVFwP3AAj7z0YUfkxrqNYuYabHzPbF3ITu2elNL9+LCExp7vTqJjIkaY4lFfKGl1Q7pn\n44d7MS7cH6nbk55Gcx7uChzCL+1hfN8XSXq3lO4063gAR0+DJSLFrNEDPIVrQOfiOuofOOV0HDsk\nxU6Zqayj0YhtJjBdVkB/D9rXHS2uAy6XtDn56LEPcMS4BjdVbcKNVDtL7a+8r1bhTu8enEJ9vm6d\nil43cAOuKx6R9GS+finOAPWr0ClZOTq8jmz8gdHWHk4pvY3HMj4sod3pdJRhhBMdoj34SK7a6nr/\nQbcHeAzXAtaWqGn+g+5SXPtahlMiB5vQnbSGPkmHCmssxoPNN+F02qu4UeB6PKM5/C9fr3MdbXm+\n2kmOzL+Xz2ctqXM1brQZxxmAnyVtTCldgofpN5fUbxfZGK8ENuIegdFWGaQhB3sFriUew81lTwA9\npTpgZwMdZxjbTe7W2yWfutOU5nm45rJD0rGmdCv6RTdvRWch7jxej4/ZezmltKQdzsBcoomsQNbp\nwpHacuATSfvy9WfxsWQPldKeCeQo8W5sqDZJ+q5h7Q24N+MzSWtO8pU5TRjGDqEp49Rusod7BR7P\n2S9pJF+fE/ffLprICkzSuxin+fqAAUm35Ouz+v+cndxBfGB3o05u8mD/OmDbXMmGnCphGIMZSU4h\nH5N0oN1rmQs0aZBy5DiAyxK/4hOrDufxm9oOCZ+ptNP4z3bHoy7CMAZB0DYqYzK1n6AUBKdKRwz4\nB0Ewa2mNyYRRDGYMETEGQRAEQYWIGIMgCIKgQhjGIAiCIKgQhjEIgiAIKoRhDIIgCIIKYRiDIAiC\noEIYxiAIgiCo8Bc0qHi+x/B7rQAAAABJRU5ErkJggg==\n",
      "text/plain": [
       "<matplotlib.figure.Figure at 0x18f222fc2b0>"
=======
      "image/png": "iVBORw0KGgoAAAANSUhEUgAAAgUAAAGJCAYAAAAaBkAzAAAABHNCSVQICAgIfAhkiAAAAAlwSFlz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\nkgTA/wc6V6C+n0jv8AAAAABJRU5ErkJggg==\n",
      "text/plain": [
       "<matplotlib.figure.Figure at 0x18add515048>"
>>>>>>> 4c2a15dd4e1fcbb3b4d9738edf345c9a4a7143e1
      ]
     },
     "metadata": {},
     "output_type": "display_data"
    }
   ],
   "source": [
<<<<<<< HEAD
    "months = createDF_months(pplus_dp)\n",
    "col_list = [\"#cb11ff\", \"#4aecef\", \"#2aea4a\", \"#2e20ea\", \"#e81b8f\"]\n",
    "with sns.color_palette(col_list):\n",
    "    ax = months[months.columns[:-2]].plot(kind='line', marker='o', zorder=-32)\n",
    "    months.plot(y='avg', yerr='std', ax=ax, kind='line', marker='^', markersize=14, color='k')\n",
    "#     plt.errorbar(yerr=.1, fmt=None, color='b')\n",
    "# plt.title('Number of Calls per Month every year')\n",
    "ax.legend(loc='center left', bbox_to_anchor=(1, 0.5))\n",
    "monthlabels = ['Jan', 'Feb', 'Mar', 'Apr', 'May', 'Jun', 'Jul', 'Aug', 'Sept', 'Oct', 'Nov', 'Dec']\n",
    "plt.xticks(np.arange(1,13,1), monthlabels, rotation=50)\n",
    "plt.xlabel('')\n",
    "plt.ylabel('Number of Calls', fontsize=14)\n",
    "plt.savefig('Calls Per Year.jpg')\n"
   ]
  },
  {
   "cell_type": "markdown",
   "metadata": {
    "deletable": true,
    "editable": true
   },
   "source": [
    "# Figure Two: Repeat Individuals"
=======
    "yr2014 = pplus_dp[pplus_dp['year']==2014]\n",
    "yr2014.hist('Age', bins=np.arange(5, 115, 10), color='m', edgecolor='w')\n",
    "plt.title('Age Distribution of 2014')\n",
    "plt.grid(False)\n",
    "plt.xticks(np.arange(0, 110, 10))\n",
    "axes = plt.gca()\n",
    "axes.set_ylim([0,360])\n",
    "plt.xlabel('Age Bins')\n",
    "#histograms based on the calls, not on individual patients (problem with primary key)"
   ]
  },
  {
   "cell_type": "code",
   "execution_count": 179,
   "metadata": {
    "collapsed": false,
    "scrolled": false
   },
   "outputs": [
    {
     "data": {
      "text/plain": [
       "<matplotlib.text.Text at 0x18adc3375f8>"
      ]
     },
     "execution_count": 179,
     "metadata": {},
     "output_type": "execute_result"
    },
    {
     "data": {
      "image/png": "iVBORw0KGgoAAAANSUhEUgAAAgUAAAGJCAYAAAAaBkAzAAAABHNCSVQICAgIfAhkiAAAAAlwSFlz\nAAAPYQAAD2EBqD+naQAAIABJREFUeJzt3XuYXVV9//H3QCQkKYhFJVHQgJZvgP4qNwVKQFAUbSs3\nqYIoN8ELVRRLsSgYAbVcBQGFiga8U63cbUuRKgEhQIg3CPmqQFAIIKBgDEkQye+PtQ4cTmaSuZyZ\nPUner+eZZ+bstc/Z33POzOzPWWvtvXuWLl2KJEnSGk0XIEmSRgdDgSRJAgwFkiSpMhRIkiTAUCBJ\nkipDgSRJAgwFkiSpMhRIkiTAUCBJkqoxTRcgNSkivgHsD/xzZp45gtudBkzrWLwY+A1wBfCZzPx9\n2/oXAq/NzE36+fibAxdk5o4rWO8gYDqwcWb+OiIuqtvZuN9Ppu/H/jiwODPPqLenAZ/IzDWH+tjd\nEhEfBj4KrAt8OjM/08s661Deq72AicDdwHnA+Zm5tG29NwKfArYAHgI+33ruvTzmmsANwH9n5okd\nbZsBpwF/CzwNXAV8NDMfGtqzlVbMngKttiJiXco/+p8B72mghKXAdsD2wA7AW4ALgcOBGyPiL9vW\nPRHYewCP/Y/1cVfkqrrtB9pq6ta5z08CJrTdvqBua1SoO/vTgZuANwJf6WPVbwMH1nXfQglt5wAf\na3us7YErgTmU9+nrwKkRcUwv2x0LfAt4TS9tk4AfAusB7wDeSwkH19QgIQ0rewq0OnsHZQf4IeAH\nEbFrZv5gJAvIzFs7Fl0bEd+nfIr8N8pOgcy8Z4AP3dPP7T8KPDrAxx6UzJwPzB+JbfXTX1I+GF2e\nmT/qbYWI2ArYHdg3My+pi39QA9sxwKfrshOA2Zl5cL39vxGxFvCxiPhcZi6pj7cTJVC8tI+aDgfW\nAf4hMx+r93kE+AHwOuCawT5ZqT8MBVqdHQJ8PzOvi4hfUXbAzwkFEXE08H5gEnAbcArlk+IumTmj\nrvPXwMnATvVu11KGIwa6IwcgM2dFxCXAgRHxocxc3NmtHxFbA6cC21J2bDcDx2Xmza1u+rren4ET\nMvPEiHga+CTl0+4WwGcowxUXApMz89dtz/tw4DjgRcCNwNGZ+ZPa9knKMMBzehpbj9+2raXAJyNi\nWmau2dv9IuLtwNHAFOCPwGXAsW07xGnAOynB7d+AAO4FTsrMry/vdYyINwDHA38DPAVcTemGv68O\nm1xYa7wwIqYvZ1jj34H/61g2F/iLiHgR8DjwWupr3uY/KcFhKuV3AuByYAblPbi3l219Hriq9fyr\nP9Xvay/n6Upd4fCBVksRsQXwap7tMv4KsFf9J99a5xOUnf3FwB6UHe+3aetej4hNgR8BLwTeBRwK\nbAL8KCJeOIQS/xdYq9YIbd36tdv7f4DfUrqq307ppv+f2vYl4Mt1/e3r7ZZjgW8AbwW+2/bY7Tai\n7OA+BuxH+UT9w4jYsLOW5diB0lvxJZ4dxnjO/SLiOOCblNCxDyWw7Ev5JD627bEmUT5dnwn8HXAP\n8JX62vcqIt5FCQH31ufw4VrTjfV9uapus4cyzNHrsEZm/jgz39+xk4byuj+cmQ9T3u+1gF90rPOr\nVjlty3bKzL0y8zd9bO/RzJxdn8PYOixxLvBLyu+ENKzsKdDq6lDgEco4MJRQcALwbuDkiBhPmYB2\nTmZ+vK7z/YiYwHPnH0wDFgKvz8yFABFxLWXH9S/1MQbjQcoOa2IvbZtTQsjZmTmzbnNurWudzLw/\nIu6DXocnZmTmWa0bEbHMuDblw8KebTunmymT646kfPJdodpjAXBfLzUQEesBH6dM1vtQ2/I7KJ+k\nDwHOr4vHAe/OzB/WdX5J2dn/PcvuiImIHkqPzn9n5rvalt9IGfM/OjP/NSJ+XJvuysxb+vO86uN8\niNIzcFRd9Pz6/Q8dqy6o39dtLcjMO/q7HeCnwKbAE8DerSEIaTjZU6DVTkSMAQ6gdFVPiIjnU7qu\nb6CM6UKZ3LU2pQu43bd47nj96ygTwxZHxJp1MtgfgeuBNwyhzNY2evtEfjvwMPC9iDgvIvYCHsrM\nY+u4/fL8tB/bvrsVCADqrPebgJ37cd/+2oHy6fri9oWZeQNlh79Lx/oz236+r36fQO+CEqY6H/tu\nyvPofOx+i4gPAJ8FLs7Mz9XFK/o/+vQgN3cEZQLktZT3eii/T1K/GAq0OnoL8GJKr8Dv69fvKHMC\nJkfE7pRP4lC66Nt1Hha2PqX7/k9tX09SPsVOGkKNG1ICwX2dDbVHYiqlC/xtlGGAh2tAeN4KHveP\n/dj2g70s+y3wgn7ct79aj9Xbth6kzL5/RmYubvu5FZT6+v/VOmqjX4/dHxHRExFnAGdThl/e2db8\neP2+Tsfd1u1oH5DM/L/M/D5lmONuBt/rJPWbwwdaHR0C3EUZQmj/1N9D6T14H3BGvb0BZTy35cUd\nj/UYZUb46Sw74/+pIdT4BsoOfHZvjZn5S+Cg2lX+Gsp8hiMo49i9Hhs/AH/Zy7KJPBuQWnMbelo7\n6DqsMhC/49nhkV92tE2ivD+D9bv6vbehl0mUYaN+q0HrYsrhq6dlZufO+S7gz8ArO5a3bt85gG3t\nAozLzP9uLcvMP0fEzymTQ6VhZSjQaiUiNgDeBJycmdf30v4d4GDKbPfHKRPKbmhb5a08t0v/OsoY\n/08z85lu4oj4JpCUcyAMtMYtgT2BL2Tmk720v5Vy8py/zszfUiZA3hwR7wBeXlf780C3+9xNxMat\noyciYiPKcMoptb01dr4h5egFePbIi3bL6za/GVhCOXHUM+9DPWTvZe3LBiEpPQL7A19re+xNKMMW\nnx3g432F8n58ODPPWWZjmUsiYgblE317INuXEhr7PV+BEu72iIjJbXNU1ql1D+U1kfrFUKDVzUHA\nmnSMN7f5KnAYpTfhFOCkiFhEmTewC6UXAZ7d4Z1ImT3/vYg4j7Kjey/laIW3rqiYiNiu/thD6X5+\nDWUC21yWPcSt5UfU4+sj4mTKTno/Snd1aw5E65C+/YCZmTlvRbW0WQJcUY8OGFOf48OUrnOA71F2\nrBdExGmUnfgnWHai3WPAjhGxU2cAy8zf19qPj4inKBM+N6nbup3yPgxKZi6NiGOB6fWMlV+jHFo5\njdJL0O8zV0bEnpTX9nLglrb3q2V2Zv6JcibDayLi25QzRO4I/DPlEMjF9N9plBNPXVVf27UpwwZ/\nQZkIKw0r5xRodXMwcHtmzumtsU50u4cytHAKZWf3TspOayrPzr7/Y13/55RPyU9TdmTfpgw57JmZ\nl/ejnhvr14+ASynzE84FdszMBR3rLq3bfJByQp3HKIf8XQVsCezTOncCZZ7BrcBFlPMAtO7fn7MV\n3kY5++B5lE/JvwR2ric6ag1dvIvSK3EV8EFKkOqc5PgpynkU/qvjcEbq45xAGfLYlXLuh+OB/6Ac\ntreo83n38lr0+Vwy8yuUT+p/RXldT6f0+Lym9q4s77Hb7VPX2YNn36v2r0l1ez+ghMBN6/b2pxzl\nsLyhnGWeQ2bOpfw+LaL8Pk2nnG3yb2ubNKx6li7t1hlNpVVHRKxBOULhB5l5X9vyfwLOAtbPzM5P\nxpK0UjMUSH2IiNspXemfonQ7/w3lRDeXZOZhTdYmScPBOQVS3/6ecmrdL1AOY/s1ZSLZyU0WJUnD\nxZ4CSZIEONFQkiRVK83wwW233bY+Zcb1PGAgh/hIkrS6WxuYDFy9zTbb9Hm59JUmFFACwTeaLkKS\npJXYAZSrk/ZqZQoF8wAmT57MuHHjGi5FkqSVx6JFi5g3bx7UfWlfVqZQsBhg3LhxjB8/vulaJEla\nGS13+H3AoSAiXgF8nnIaz0eBczPz9Nr2OcrZzZZSTtu6FPhgZn6htu9GOcXoJpRLmB7eOr+6JElq\n1oCOPqhXZPse5fKxW1LOA39cPb86wGaU83RPolyhbBLlNJ2ti6pcCnyZcurTRyhXpJMkSaPAQHsK\nNgB+DBxRr+B1V0RcSzkn/MWUUHBqx7nFWw4Dbs3MswAi4hDgwYjYue187ZIkqSEDCgX1Qiz7t25H\nxI7AzsD76uU9Xwr8oo+7bw88s/PPzEURMZtySVBDgSRJDRv0yYsiYh5lZ34jcAnlmvJLKcMJv4mI\nn0TEgW13mcSyV1F7iHJNdkmS1LChnNFwH+AtwFaUq8YF5fKxc4A3Uy7p+sV6PXKA8ZSLy7RbAowd\nQg2SJKlLBn1IYmbOBoiIo4CvA+sCV2TmY3WV2yNiU+D9wOWUwyA6A8BY4PeDrUGSJHXPQI8+eHHb\nJ/+WOcBawDptgaDlTso8A4D7KUcktJsIPDCQGiRJ0vAY6PDBxsAlETGpbdm2wMPAhyLimo71twLm\n1p9nUo5SACAixtf2mQOsQZIkDYOBDh/cCswCpkfERygh4VTgU5Sd+7/W5ZdRrlXwTmCXet/pwNER\ncQxwFTANuCszrxvqk5AkSUM3oJ6CzHwa2BNYSDnq4IvAWZl5bmbOAvYFDgR+DnwA2D8zb6n3vZcy\nOfFQ4BZgPWDvLj0PSZI0RAOeaFjPVbBvH21XAlcu575XA1MGuk1JkjT8hnJIoiRJWoUYCiRJEmAo\nkCRJlaFAkiQBhgJJklQZCiRJEmAokCRJlaFAkiQBhgJJklQZCiRJEmAokCRJlaFAkiQBhgJJklQZ\nCiRJEmAokCRJlaFAkiQBhgJJklQZCiRJEmAokCRJlaFAkiQBhgJJklQZCiRJEmAokCRJlaFAkiQB\nhgJJklQZCiRJEmAokCRJlaFAkiQBhgJJklQZCiRJEmAokCRJ1ZiB3iEiXgF8HtgReBQ4NzNPr22T\ngQuAHYB5wFGZeU3bfXcDzgQ2AW4CDs/Me4b2FCRJUjcMqKcgInqA7wEPAVsC7wOOi4j96iqXA/OB\nbYCvA5dGxIb1vhsBlwJfBrYFHgEu68JzkCRJXTDQ4YMNgB8DR2TmXZn5P8C1wNSI2BXYGHhvFidT\negMOrfc9HLg1M8/KzDuBQ4DJEbFzV56JJEkakgENH2Tmg8D+rdsRsSOwE3AEsD0wOzMXt93lBspQ\nAsB2wIy2x1oUEbNr+wwkSVKjBj3RMCLmUXbmNwGXAJMoQwftHgI2rD+vqF2SJDVoKEcf7AO8hTK3\n4ExgPLCkY50lwNj684raJUlSgwYdCjJzdmb+F/AR4L30voMfCzxRf168gnZJktSggR598OKI2LNj\n8RxgLeABYGJH28S6HOD+FbRLkqQGDbSnYGPgkoiY1LZsW+C3lEmF20REe2/AVGBm/XlmvQ1ARIwH\ntmprlyRJDRroyYtuBWYB0yPiI5SQcCrwKcqkw98AF0XEScAewKuBg+t9pwNHR8QxwFXANOCuzLxu\nqE9CkiQN3YB6CjLzaWBPYCFwI/BF4KzMPLe27UEZEpgFvAPYKzPvq/e9lzI58VDgFmA9YO8uPQ9J\nkjREAz7NcT1Xwb59tN0N7Lqc+14NTBnoNiVJ0vDzgkiSJAkwFEiSpMpQIEmSAEOBJEmqDAWSJAkw\nFEiSpMpQIEmSAEOBJEmqDAWSJAkwFEiSpMpQIEmSAEOBJEmqDAWSJAkwFEiSpMpQIEmSAEOBJEmq\nDAWSJAmAMU0XoJXLwXPncsfChU2XsYwtJkzgoilTmi5DklZqhgINyB0LFzJrwYKmy5AkDQOHDyRJ\nEmAokCRJlaFAkiQBhgJJklQZCiRJEmAokCRJlaFAkiQBhgJJklQZCiRJEmAokCRJlaFAkiQBhgJJ\nklQN6IJIEfES4GxgV+AJ4NvAsZn5ZER8DvggsBToqd8/mJlfqPfdDTgT2AS4CTg8M+/p1hORJElD\nM9Cegu8CawM7AvsBbwFOqm2bAR8FJgET6/fpABGxEXAp8GVgW+AR4LIh1i5Jkrqo3z0FERHAa4AN\nMvORuuwTwGmUMLAZcGpm/raXux8G3JqZZ9X7HQI8GBE7Z+aMIT4HSZLUBQPpKXgQeFMrEFQ9wPMj\nYh3gpcAv+rjv9sAzO//MXATMBnYYWLmSJGm49LunIDMfB65p3Y6IHuADwPcpvQRLgeMi4s3Ao8Bn\nM/OrdfVJwPyOh3wI2HDwpUuSpG4aytEHpwFbAscBU4CngTnAm4EvAV+MiD3ruuOBJR33XwKMHcL2\nJUlSFw3o6IOWiDgFOBJ4W2bOAeZExBWZ+Vhd5faI2BR4P3A5sJhlA8BY4PeDK1uSJHXbgHsKIuIc\n4CjggMx85giCtkDQcidlngHA/ZQjEtpNBB4Y6PYlSdLwGFAoiIhpwHuAt2fmd9qWnxAR13SsvhUw\nt/48E5jatv742j5zMEVLkqTuG8ghiZtR5g98BrgxIjZoa74S+NeI+Ajl/AO7A+8Edqnt04GjI+IY\n4CpgGnBXZl435GcgSZK6YiA9BXvU9Y+jHEkwn9L9Pz8zZwH7AgcCP6cclbB/Zt4CkJn3AvsAhwK3\nAOsBe3fpOUiSpC4YyCGJpwCnLKf9SkqPQV/tV1OOUpAkSaOQF0SSJEmAoUCSJFWGAkmSBBgKJElS\nZSiQJEmAoUCSJFWGAkmSBBgKJElSZSiQJEmAoUCSJFWGAkmSBBgKJElSZSiQJEmAoUCSJFWGAkmS\nBBgKJElSZSiQJEmAoUCSJFWGAkmSBBgKJElSZSiQJEmAoUCSJFWGAkmSBBgKJElSZSiQJEmAoUCS\nJFWGAkmSBBgKJElSZSiQJEmAoUCSJFWGAkmSBMCYgawcES8BzgZ2BZ4Avg0cm5lPRsRk4AJgB2Ae\ncFRmXtN2392AM4FNgJuAwzPzni48B4kxPT1NlyBJK70BhQLgu8CjwI7A+sCFwFPAR4HLgZ8A2wB7\nA5dGxJTMvC8iNgIuBY4HrgamAZcBr+rGk5A2HTeOg+fO5Y6FC5su5Tm2mDCBi6ZMaboMSeqXfoeC\niAjgNcAGmflIXfYJ4LSI+B9gY2C7zFwMnBwRrwcOBU4EDgduzcyz6v0OAR6MiJ0zc0ZXn5FWW3cs\nXMisBQuaLkOSVloDmVPwIPCmViBo83xge2B2DQQtN1CGEgC2A57Z+WfmImB2W7skSWpYv3sKMvNx\noH2OQA/wAeBaYBIwv+MuDwEb1p9X1C5Jkho2lKMPTgO2Aj4OjAeWdLQvAcbWn1fULkmSGjaoUBAR\npwBHAgdk5hxgMcvu4MdSjlCgH+2SJKlhAw4FEXEOcBQlEFxWF98PTOxYdSLwQD/bJUlSwwYUCiJi\nGvAe4O2Z+Z22ppnA1hHR3hswtS5vtU9te5zxlKGHmUiSpFFhIIckbgYcB3wGuDEiNmhrvg74DXBR\nRJwE7AG8Gji4tk8Hjo6IY4CrKOcpuCszrxvyM5AkSV0xkJ6CPer6x1GOJJhP6f6fn5lPA3tRhgRm\nAe8A9srM+wAy815gH8p5C24B1qOc4EiSJI0SAzkk8RTglOW030U5/XFf7VcDntpNkqRRygsiSZIk\nwFAgSZIqQ4EkSQIMBZIkqTIUSJIkwFAgSZIqQ4EkSQIMBZIkqTIUSJIkwFAgSZIqQ4E0jMb09DRd\ngiT1W7+vfSBp4DYdN46D587ljoULmy5lGVtMmMBFU7wciaRnGQqkYXbHwoXMWrCg6TIkaYUcPpAk\nSYChQJIkVYYCSZIEGAokSVJlKJAkSYChQJIkVYYCSZIEGAokSVJlKJAkSYChQJIkVYYCSZIEGAok\nSVJlKJAkSYChQJIkVYYCSZIEGAokSVJlKJAkSYChQJIkVWMGe8eIGAvMAv4pM2fUZZ8DPggsBXrq\n9w9m5hdq+27AmcAmwE3A4Zl5z5CegSRJ6opB9RTUQPAtYPOOps2AjwKTgIn1+/R6n42AS4EvA9sC\njwCXDapqSZLUdQPuKYiIzYBv9tG8GXBqZv62l7bDgFsz86z6OIcAD0bEzq2eBkmS1JzB9BS8FrgW\n2IEyRABARKwDvBT4RR/32x54ZuefmYuA2fVxJElSwwbcU5CZ57d+joj2ps0ocwiOi4g3A48Cn83M\nr9b2ScD8jod7CNhwoDVIkqTu6+bRB1OAp4E5wJuBLwFfjIg9a/t4YEnHfZYAY7tYgyRJGqRBH33Q\nKTO/GhFXZOZjddHtEbEp8H7gcmAxywaAscDvu1WDJEkavK6ep6AtELTcSZlnAHA/5YiEdhOBB7pZ\ngyRJGpyuhYKIOCEirulYvBUwt/48E5jatv742j6zWzVIkqTB69rwAXAl8K8R8RHK+Qd2B94J7FLb\npwNHR8QxwFXANOCuzLyuizVIkqRBGmpPwdLWD5k5C9gXOBD4OfABYP/MvKW23wvsAxwK3AKsB+w9\nxO1LkqQuGVJPQWau2XH7SkqPQV/rX005SkGSJI0yXhBJkiQBhgJJklQZCiRJEmAokCRJlaFAkiQB\nhgJJklQZCiRJEmAokCRJlaFAkiQBhgJJklQZCiRJEmAokCRJlaFAkiQBhgJJklQZCqTV1JienqZL\nkDTKjGm6AEnN2HTcOA6eO5c7Fi5supRlbDFhAhdNmdJ0GdJqx1AgrcbuWLiQWQsWNF2GpFHC4QNJ\nkgQYCiRJUmUokCRJgKFAkiRVhgJJkgQYCiRJUuUhiaPQaD12/B/WX7/pEiRJw8hQMAqN1mPHNx8/\nvukSJEnDyOEDSZIEGAokSVJlKJAkSYChQJIkVYYCSZIEGAokSVI16EMSI2IsMAv4p8ycUZdNBi4A\ndgDmAUdl5jVt99kNOBPYBLgJODwz7xlsDZIkqXsG1VNQA8G3gM07mi4D5gPbAF8HLo2IDet9NgIu\nBb4MbAs8UteXJEmjwIBDQURsBswENu5Y/jpKD8B7sziZ0htwaF3lcODWzDwrM+8EDgEmR8TOQ3kC\nkiSpOwbTU/Ba4FrKEEFP2/LtgNmZubht2Q11vVb7jFZDZi4CZre1S5KkBg14TkFmnt/6OSLamyZR\nhg7aPQRs2M92SZLUoG4efTAeWNKxbAkwtp/tkiSpQd0MBYtZdgc/Fniin+2SJKlB3QwF9wMTO5ZN\nBB7oZ7skSWpQN0PBTGDrerhiy9S6vNU+tdUQEeOBrdraJUlSgwZ98qJeXAf8BrgoIk4C9gBeDRxc\n26cDR0fEMcBVwDTgrsy8ros1SJKkQRpqT8HS1g+Z+TSwJ2VIYBbwDmCvzLyvtt8L7EM5b8EtwHrA\n3kPcviRJ6pIh9RRk5podt+8Gdl3O+lcDU4ayTUmSNDy8IJIkSQIMBZIkqTIUSJIkwFAgSZIqQ4Ek\nSQIMBZIkqTIUSJIkwFAgSZIqQ4EkSQIMBZIkqTIUSJIkwFAgSZIqQ4EkSQIMBZIkqTIUSJIkwFAg\nSZIqQ4EkSQIMBZIkqTIUSJIkwFAgSZIqQ4EkSQIMBZIkqTIUSJIkwFAgSZIqQ4EkSQIMBZIkqTIU\nSJIkwFAgSZIqQ4EkSQIMBZIkqTIUSJIkAMZ088EiYi/gEmAp0FO/fzcz3xYRk4ELgB2AecBRmXlN\nN7cvSZIGr9s9BZsDVwAT69ck4LDadjkwH9gG+DpwaURs2OXtS5KkQepqTwGwGXB7Zj7cvjAiXgds\nDGyXmYuBkyPi9cChwIldrkGSJA3CcPQU/KKX5dsBs2sgaLmBMpQgSZJGgW73FATwpoj4OLAm8B3g\nE5RhhPkd6z4EOHwgSdIo0bVQEBEvA8YBi4B/pAwXnF2XjQeWdNxlCTC2W9uXJElD07VQkJm/joj1\nM/OxuuhnEbEmZVLhhcALOu4yFniiW9uXJElD09U5BW2BoOVOYG3gQcrRCO0mAg90c/uSJGnwuhYK\nIuKNEfFIRKzdtngr4BHgemCbiGgfLpgKzOzW9iVJ0tB0c6LhjZThgC9FxInAK4BTgVOAGcBvgIsi\n4iRgD+DVwMFd3L4kSRqCrvUUZOYfgd2BFwG3Us5eeH5mnpGZT1OCwERgFvAOYK/MvK9b25e06hjT\n09N0CdJqqauHJGbmnZRg0Fvb3cCu3dyepFXTpuPGcfDcudyxcGHTpSxjiwkTuGjKlKbLkIZFt89T\nIEldccfChcxasKDpMqTVildJlCRJgKFAkiRVhgJJkgQYCiRJUmUokCRJgKFAkiRVhgJJkgQYCiRJ\nUmUokCRJgKFAkiRVhgJJkgQYCiRJUmUokCRJgKFAkiRVhgJJkgQYCiRJUmUokCRJgKFAkiRVhgJJ\nkgQYCiRJUmUokCRJgKFAkgZkTE9P0yVIw2ZM0wVI0spk03HjOHjuXO5YuLDpUp5jiwkTuGjKlKbL\n0ErOUCBJA3THwoXMWrCg6TKkrnP4QJJWAQ5rqBvsKZCkVcBoHdYAhzZWJoYCSVpFOKyhoXL4QJIk\nAYYCSZJUGQokSRIwwnMKImIs8AVgH+AJ4IzM/OxI1iBJkno30j0FpwNbA7sARwDTImKfEa5BkiT1\nYsRCQUSMB94NHJmZP83My4FTgQ+MVA2SJKlvI9lT8CrKcMVNbctuALYbwRokSVIfRnJOwSTgkcx8\nqm3ZQ8DaEbF+Zj46grWQTzzBI08+OZKb7Jd1x3jqCEmrFs+2uPIYyT3QeGBJx7LW7bH9uP/aAIsW\nLepKMbMffpgT7r23K4/VTVOf/3x2WXttNmq6kF5s+bzn8WJrG5DRWhdY22CN1tpGa10AO627Lufd\ndRfzR+EHsZestRYHTZrUdBnDrm3fufby1hvJULCYZXf+rdtP9OP+kwHmzZvXlWI2Bb4xYUJXHqur\nnnqqfI1Gjz/edAV9G621jda6wNoGa7TWNlrrgtFd2xNPcOdjjzVdxUiaDNzYV+NIhoL7gRdGxBqZ\n+XRdNhFYlJn9eUeuBg4A5lEChiRJ6p+1KYHg6uWtNJKh4CfAn4DteTal7ATc2p87b7PNNo8C3xye\n0iRJWuX12UPQ0rN06dKRKASAiDgP2BE4FNgQuAg4qB6eKEmSGjTSU90/Qjmj4f8BjwPHGwgkSRod\nRrSnQJIkjV5eEEmSJAGGAkmSVBkKJEkSYCiQJEmVoUCSJAEjf0jioETEWMqhjPtQTol8RmZ+dhTU\nNAv4p8ycUZdNBi4AdqCcefGozLxmhOp5CXA2sCvlNfo2cGxmPtlkXbW2VwCfp5yj4lHg3Mw8vbY1\nWltbjd8DHsrMQ0dLXRGxF3AJsBToqd+/m5lva/h3bS3gTGB/yvVLpmfmx2tbk3UdBFzIc1+vHuDp\nzBwTERvReH3SAAALe0lEQVQDX2yitlrfhsB5wM6Uv4PPZebnattkmv0bfVGt7fXAw8CnM/MrTdU2\nmP+vEbEb5fdyE8rVeA/PzHuGs85V0crSU3A6sDWwC3AEMC0i9mmqmPoL+y1g846my4D5wDbA14FL\n6z+CkfBdymksdwT2A94CnFTbLm+qrojoAb5HuSLmlsD7gOMiYr+ma2urcT/gzR2Lm3wvWzYHrqCc\nDnwi5Uqjh9W2Jl+3syk7jzcA7wAOj4jDR0FdF/Ps6zQReDnwK+Cs2t70e/odYAHlf9mHgU9HxJ61\nrem/g8uAlwCvrbV9tobSEa9tMP9fI2Ij4FLgy8C2wCN1fQ3QqD9PQUSMp7zBu2fm9XXZx4HXZ+br\nGqhnM5493fLfALtm5oyIeB3ll/DFmbm4rnsNcH1mnjjMNQUwB9ggMx+py/YDTgMOpPxRj3hddVsT\nKen9sMxcWJd9F3iAEmQaq61u7wXATyn/bOZk5qFNvpcdtX0NuDczj+tY3uTv2gsoAe91mXlDXXYM\n9RpjNPx+dtR6LHAIsAXllOqNvacRsR7wO+CvM3NOXfaflN+7S2n2b3Qb4BZgk8y8ty47BtgL+PhI\n1jbY/68RcSIwtbVPiIhxwIPAW1o9DeqflaGn4FWUYY6b2pbdAGzXTDm8FriW0oXVfpHw7YDZrV/Y\n6oa63nB7EHhTKxC0eT7lWhNN1UVmPpiZ+7cFgh0p/6B/2HRt1enAV4E725Y1+V622xz4RS/Lm6xv\nKvBYKxAAZOapmXkYo+P9BJ4JL8cAH83MP9H8e7oIWAgcEhFjapDfEfgxzb9umwAPtwJB9TPKJ+6d\nRri2wf5/3Q54ZuefmYuA2cNY5yprZZhTMAl4JDPbryf8ELB2RKyfmY+OZDGZeX7r5/J3/YxJlNTf\n7iHKNR6Gu6bHgfaxtR7gA5Q/rsbq6hQR84CNgKsoY+Vn0WBt9dPHTsD/A85vaxotr1kAb6o9Y2tS\nup8/QbP1bQLMi4h3AR8D1qKM43+64bo6HQHcn5mX1tuN1paZSyLiA8C5lO75NYELM/PCiDi7ydrq\nttaLiLXbdrovo+wfNhjJ2obw/3U0/e6t1FaGUDCeMpmpXev22BGuZXn6qrOJGk8DtgJeTbnexGip\nax/KWO95lCGFxl6zOm55PnBE/Yfd3tz4exkRLwPGUT5h/iOwMWUsf1zD9f0FZajgPcDBlH/G/06Z\n3Nr469bm3cDJbbdHQ22bUeaInE4JoudExLWjoLabKcN550bEkZS5BUdRJmqu3XBtLSt6jZp+DVcZ\nK0MoWMyyb2zr9hMjXMvyLAb+smPZWEa4xog4BTgSeFtmzomIUVEXQGbOBoiIj1DGn78MvKBjtZGq\n7ZPArZn5/V7aGn/NMvPXtSfssbroZxGxJmWC1YU097o9BawD7J+Z9wFExMspn8z/F1i/obqeERGv\nBl4K/Efb4kbf04h4PSWobJiZS4Af10lyx1F69Bp73Woo3pdyxNIfKJ+wT6UE96cpQbSR2tqs6P3r\naz/x+2Gua5WzMswpuB94YUS01zoRWNT2D3M0uJ9SV7uJlAQ+IiLiHErCPyAzWzNvG60rIl7cNsO6\nZQ6l2/mBBmt7O7BXRCyIiAXAAcA7I+IPwH0N1vWMXn6/76R8cnuQ5up7AFjcCgRVUrppG/8bqHYH\nZtRhtZama9sa+GUNBC0/pnTTN10bmXlbZr6C0kuwEWUuy8PAXU3XVq3oNWr8NVxVrAyh4CfAnyiT\ncVp2Am5tppw+zQS2rt3SLVPr8mEXEdMoXbpvz8zvjJa6KN3el0TEpLZl2wK/pUwU2qah2l5L6cJ9\nVf26gjLL+lWU7tQmXzMi4o0R8UhErN22eCvKkTjX09zrNpMyn+eVbcs2pxw3PrPButptB/yoY1nT\nfwfzgVdGRHvv7GbAPTT8ukXECyLi+oh4QWb+NjOfBv6BMhn45iZra7Oi929mvQ08c9TaVox8nSu9\nUX9IIkBEnEeZqXso5RPJRcBBmXl5w3U9DexSD5lZg3Jo2+2U8wPsARwLbNHxqWo46tiMMlv4M5ST\nPLV7uKm6am1rUI4c+R1lfsPGlGGDT9dafwb8vInaOuq8EFhaD0ls7L1sq+cvKD0qM4ATgVdQTtxy\nZv1q7HWLiCsoXblHUOYUfLXWeF6TdbXVdw/lqINvty1r9D2NiHUpPT3XUH73pwDTaw3Tafh1i4jZ\nwG2U/yGvBz5H+fD1E5r7v9bv/691CGsOcAJlIvM04K8yc+vhrHFVtDL0FEDZmdwG/B9wDnB804Gg\neiZR1XS9J6XLahblpC57jdAf9R6U9/I4yieS+ZRus/m1rr0aqqv9dVkI3Eg5o9xZmXlubdujqdr6\n0vB72arhj5Ru8BdResUuAM7PzDNGwet2AOWkQNdTAvrZmfn5UVBXy4vpGEtu+j3NzD9QdraTKOcE\nOAM4MTO/NEpet7cDr6SEkyOBfTNzdsOvW7//v9bDKfehfHC8BVgP2HsEalzlrBQ9BZIkafitLD0F\nkiRpmBkKJEkSYCiQJEmVoUCSJAGGAkmSVBkKJEkSYCiQJEmVoUCSJAGGAkmSVK0Ml06WNAQRsQ7l\ncriPUy7d++dh3t40yrnnlwI99fvvKOf9/+fMfKCudxAwPTPXHM56JPWfPQXSqm8/Sih4PuX88CPh\nN5Tz1E+kXIr37+r3S9vWuZhyLQBJo4Q9BdKq71Dgv4CXA+8FvrP81bviz5n5cNvt+RHxL8CNEbF5\nZs7JzCWUS2hLGiUMBdIqrF5WezvgFMrlji+IiFdm5q9q+zjgs8C+wPMogWEc8GRmHlrX+Vvg34BX\nUy7FfSVwbGYuGGA5i2i78l1EHEwZPlij3n4aeDflCng7Ao8B52XmSW21ngP8PeUqeHcCJ2Vme++D\npCFw+EBatR0KLAD+m9J1/xTwvrb2rwK7AW8D/pYyxLB/qzEi/oYyF+C/gL+ubVsDVw+kiIhYHzge\nuCkz59TFS2kLCdXpwHRgM0oAOCEipta2T9Ua3gRMqc/p4oh42UBqkdQ3ewqkVVRErAm8E7i8dtUv\niYirgYMi4mPAS4G3Am/MzB/U+7yL8im95Wjg6sw8pd6+OyIOAO6KiJ0zc0Yfm395RPyBMtFwDUrv\nwyLKDn15LsrMb9Wf/60OOewI3ABsQgk48zLz8Yg4Hvgh8Pv+vB6SVsxQIK26/h7YAPiPtmUXA/8A\n/CPPdufPbDVm5pKIuKVt/a2BV0ZE51DBUsqn+b5Cwf3Aa3k2FKwPHAhcExGvz8wf9XG/uR23HwfW\nqj+fAlwBPBwRNwP/C3xzEMMYkvpgKJBWXQdTdt6XRkRPXdbqsn8fcFpdtrxhxDWAb1C67ns62h5e\ndvVnPJWZ97Td/hVwc0TsBhwJ9BUKlvSyrAcgM2dGxEbAGyhDHgcCx0fE7q2eDklD45wCaRUUES+i\n9BRMB7YEXlW/tgQupMwfuLuuvn3b/Z4HbNP2ULcDm2fmPZl5d2beTfnkfhblEMOBWoNB/t+JiE8C\nO2XmVZn5YSCAuyhDIJK6wJ4CadX0LmBN4JTWkQYtEfEZSi/CeylDC5+PiPcCDwLHUuYatCYAngHM\niIhzgXOBFwCfB8YCv1jO9teMiA3abq9L6Z3YBPjIIJ/TJsABEfEeShjYHngZffc6SBogewqkVdPB\nwDWdgQCgftq/DDiAEgyuB/6TsnN9nDLH4Mm67s3A7pRehtvq/e4E3pCZTy1n+xsC89u+ZgNTgQMz\n88o+7tN5JELnsiOAa4GvAQmcABzTNjFR0hD1LF3a29+hpFVdRKwFvBn4fmYubFs+F/haZn66seIk\nNcJQIK3GIuI+ymF9nwL+TDl50JHAlpm5vOEBSasghw+k1dvfAS8EbqQMD2xPGRowEEirIXsKJEkS\nYE+BJEmqDAWSJAkwFEiSpMpQIEmSAEOBJEmqDAWSJAkwFEiSpMpQIEmSAPj/OCvAbIIDuf8AAAAA\nSUVORK5CYII=\n",
      "text/plain": [
       "<matplotlib.figure.Figure at 0x18adc2ede80>"
      ]
     },
     "metadata": {},
     "output_type": "display_data"
    }
   ],
   "source": [
    "yr2013 = pplus_dp[pplus_dp['year']==2013]\n",
    "yr2013.hist('Age', bins=np.arange(5, 115, 10), color='c', edgecolor='w')\n",
    "plt.title('Age Distribution of 2013')\n",
    "plt.grid(False)\n",
    "plt.xticks(np.arange(0, 110, 10))\n",
    "axes = plt.gca()\n",
    "axes.set_ylim([0,360])\n",
    "plt.xlabel('Age Bins')\n",
    "#histograms based on the calls, not on individual patients (problem with primary key)"
>>>>>>> 4c2a15dd4e1fcbb3b4d9738edf345c9a4a7143e1
   ]
  },
  {
   "cell_type": "code",
<<<<<<< HEAD
   "execution_count": 183,
=======
   "execution_count": 178,
>>>>>>> 4c2a15dd4e1fcbb3b4d9738edf345c9a4a7143e1
   "metadata": {
    "collapsed": false,
    "deletable": true,
    "editable": true,
    "scrolled": false
   },
   "outputs": [
    {
     "data": {
      "image/png": "iVBORw0KGgoAAAANSUhEUgAAAYwAAAD3CAYAAAAOq2P8AAAABHNCSVQICAgIfAhkiAAAAAlwSFlz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\nqYiBIUkqYmBIkooYGJKkIgaGJKnI/wdRsMwWkGDutQAAAABJRU5ErkJggg==\n",
      "text/plain": [
<<<<<<< HEAD
       "<matplotlib.figure.Figure at 0x1bb8d91a048>"
      ]
     },
=======
       "<matplotlib.text.Text at 0x18adc320f60>"
      ]
     },
     "execution_count": 178,
>>>>>>> 4c2a15dd4e1fcbb3b4d9738edf345c9a4a7143e1
     "metadata": {},
     "output_type": "display_data"
    }
   ],
   "source": [
    "#this is based on primarykey which may or may not be flawed \n",
    "repeats = unique_ids.groupby('primarykey').count()\n",
    "repeats.hist('ID #', bins=np.arange(1, 11, 1), edgecolor='w', color='c')\n",
    "# plt.title('Number of Transports for Patients')\n",
    "plt.title(' ')\n",
    "plt.grid(False)\n",
    "binlabels=['', '0', '', '1', '', '2', '', '3', '', '4', '', '5', '', '6', '', '7', '', '8','','9', '', '10']\n",
    "plt.xticks(np.arange(0, 11, 0.5), binlabels)\n",
    "plt.ylabel('Number of Individuals', fontsize=14)\n",
    "plt.xlim([0, 10])\n",
    "\n",
    "plt.savefig('repeat patients.jpg')\n",
    "#log scale or maybe do bins 0 to 10 with last bin in (10+)"
   ]
  },
  {
   "cell_type": "code",
   "execution_count": 124,
   "metadata": {
    "collapsed": false,
    "deletable": true,
    "editable": true
   },
   "outputs": [
    {
     "data": {
<<<<<<< HEAD
      "text/plain": [
       "0.9375989863794741"
=======
      "image/png": "iVBORw0KGgoAAAANSUhEUgAAAgUAAAGJCAYAAAAaBkAzAAAABHNCSVQICAgIfAhkiAAAAAlwSFlz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\n3Hc8Y+kAAAAASUVORK5CYII=\n",
      "text/plain": [
       "<matplotlib.figure.Figure at 0x18adc2e7208>"
>>>>>>> 4c2a15dd4e1fcbb3b4d9738edf345c9a4a7143e1
      ]
     },
     "execution_count": 124,
     "metadata": {},
     "output_type": "execute_result"
    }
   ],
   "source": [
<<<<<<< HEAD
    "len(repeats[repeats['count']==1])/len(repeats['Age'])"
=======
    "yr2012 = pplus_dp[pplus_dp['year']==2012]\n",
    "yr2012.hist('Age', bins=np.arange(5, 115, 10), color='y', edgecolor='w')\n",
    "plt.title('Age Distribution of 2012')\n",
    "plt.grid(False)\n",
    "plt.xticks(np.arange(0, 110, 10))\n",
    "axes = plt.gca()\n",
    "axes.set_ylim([0,360])\n",
    "plt.xlabel('Age Bins')\n",
    "#histograms based on the calls, not on individual patients (problem with primary key)"
   ]
  },
  {
   "cell_type": "code",
   "execution_count": 244,
   "metadata": {
    "collapsed": false
   },
   "outputs": [
    {
     "data": {
      "text/plain": [
       "<matplotlib.text.Text at 0x18add9d1f60>"
      ]
     },
     "execution_count": 244,
     "metadata": {},
     "output_type": "execute_result"
    },
    {
     "data": {
      "image/png": "iVBORw0KGgoAAAANSUhEUgAAAgUAAAGJCAYAAAAaBkAzAAAABHNCSVQICAgIfAhkiAAAAAlwSFlz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\nhgJJklQZCiRJEmAokCRJlaFAkiQB8P8BSCA5/gfGUQAAAAAASUVORK5CYII=\n",
      "text/plain": [
       "<matplotlib.figure.Figure at 0x18add9c5710>"
      ]
     },
     "metadata": {},
     "output_type": "display_data"
    }
   ],
   "source": [
    "yr2011 = pplus_dp[pplus_dp['year']==2011]\n",
    "yr2011.hist('Age', bins=np.arange(5, 115, 10), color='b', edgecolor='w')\n",
    "plt.title('Age Distribution of 2011')\n",
    "plt.grid(False)\n",
    "plt.xticks(np.arange(0, 110, 10))\n",
    "axes = plt.gca()\n",
    "axes.set_ylim([0,360])\n",
    "plt.xlabel('Age Bins')\n",
    "#histograms based on the calls, not on individual patients (problem with primary key)"
>>>>>>> 4c2a15dd4e1fcbb3b4d9738edf345c9a4a7143e1
   ]
  },
  {
   "cell_type": "markdown",
   "metadata": {
    "deletable": true,
    "editable": true
   },
   "source": [
<<<<<<< HEAD
    "# Figure Three: Transports to Hospitals Breakdown"
=======
    "How many people are we double counting? Is it worth doing the primarykey?"
   ]
  },
  {
   "cell_type": "markdown",
   "metadata": {},
   "source": [
    "# Number of Calls/Year"
>>>>>>> 4c2a15dd4e1fcbb3b4d9738edf345c9a4a7143e1
   ]
  },
  {
   "cell_type": "code",
<<<<<<< HEAD
   "execution_count": 20,
=======
   "execution_count": 317,
   "metadata": {
    "collapsed": false
   },
   "outputs": [
    {
     "name": "stderr",
     "output_type": "stream",
     "text": [
      "C:\\Users\\pjhu\\Anaconda3\\envs\\ds100\\lib\\site-packages\\ipykernel\\__main__.py:1: SettingWithCopyWarning: \n",
      "A value is trying to be set on a copy of a slice from a DataFrame.\n",
      "Try using .loc[row_indexer,col_indexer] = value instead\n",
      "\n",
      "See the caveats in the documentation: http://pandas.pydata.org/pandas-docs/stable/indexing.html#indexing-view-versus-copy\n",
      "  if __name__ == '__main__':\n"
     ]
    }
   ],
   "source": [
    "pplus_dp['month'] = pplus_dp['date'].dt.month\n"
   ]
  },
  {
   "cell_type": "code",
   "execution_count": 360,
>>>>>>> 4c2a15dd4e1fcbb3b4d9738edf345c9a4a7143e1
   "metadata": {
    "collapsed": false,
    "deletable": true,
    "editable": true,
    "scrolled": false
   },
   "outputs": [],
   "source": [
    "hospitals_year = pd.DataFrame(pplus.groupby(['Destination Hospital', 'year']).size()).reset_index()\n",
    "yr_hospitals = pd.DataFrame(pplus.groupby(['year', 'Destination Hospital']).size()).reset_index()"
   ]
  },
  {
   "cell_type": "code",
   "execution_count": 96,
   "metadata": {
    "collapsed": false,
    "deletable": true,
    "editable": true
   },
   "outputs": [
    {
     "data": {
      "text/html": [
       "<div>\n",
       "<table border=\"1\" class=\"dataframe\">\n",
       "  <thead>\n",
       "    <tr style=\"text-align: right;\">\n",
       "      <th></th>\n",
<<<<<<< HEAD
       "      <th>Alameda County - Highland Hospital (ACMC)</th>\n",
       "      <th>Alameda County - John George Psychiatric Pavilion</th>\n",
       "      <th>Alta Bates - Herrick Campus</th>\n",
       "      <th>Alta Bates Medical Center - Berkeley</th>\n",
       "      <th>Alta Bates Medical Center - Summit Campus</th>\n",
       "      <th>Children's Hospital and Research Center</th>\n",
       "      <th>Eden Medical Center</th>\n",
       "      <th>Kaiser Permanente - Oakland</th>\n",
       "      <th>San Leandro Hospital</th>\n",
       "      <th>Willow Rock Center</th>\n",
       "      <th>sum</th>\n",
       "    </tr>\n",
       "    <tr>\n",
       "      <th>year</th>\n",
       "      <th></th>\n",
       "      <th></th>\n",
       "      <th></th>\n",
       "      <th></th>\n",
=======
       "      <th>2011</th>\n",
       "      <th>2012</th>\n",
       "      <th>2013</th>\n",
       "      <th>2014</th>\n",
       "      <th>2015</th>\n",
       "      <th>2016</th>\n",
       "      <th>avg</th>\n",
       "    </tr>\n",
       "    <tr>\n",
       "      <th>month</th>\n",
>>>>>>> 4c2a15dd4e1fcbb3b4d9738edf345c9a4a7143e1
       "      <th></th>\n",
       "      <th></th>\n",
       "      <th></th>\n",
       "      <th></th>\n",
       "      <th></th>\n",
       "      <th></th>\n",
       "      <th></th>\n",
       "    </tr>\n",
       "  </thead>\n",
       "  <tbody>\n",
       "    <tr>\n",
<<<<<<< HEAD
       "      <th>2012</th>\n",
       "      <td>20</td>\n",
       "      <td>328</td>\n",
       "      <td>2</td>\n",
       "      <td>234</td>\n",
       "      <td>14</td>\n",
       "      <td>2</td>\n",
       "      <td>2.0</td>\n",
       "      <td>26</td>\n",
       "      <td>3.0</td>\n",
       "      <td>8</td>\n",
       "      <td>641.0</td>\n",
       "    </tr>\n",
       "    <tr>\n",
       "      <th>2013</th>\n",
       "      <td>23</td>\n",
       "      <td>434</td>\n",
       "      <td>5</td>\n",
       "      <td>423</td>\n",
       "      <td>19</td>\n",
       "      <td>6</td>\n",
       "      <td>6.0</td>\n",
       "      <td>34</td>\n",
       "      <td>11.0</td>\n",
       "      <td>18</td>\n",
       "      <td>981.0</td>\n",
       "    </tr>\n",
       "    <tr>\n",
       "      <th>2014</th>\n",
       "      <td>32</td>\n",
       "      <td>501</td>\n",
       "      <td>3</td>\n",
       "      <td>481</td>\n",
       "      <td>26</td>\n",
       "      <td>7</td>\n",
       "      <td>4.0</td>\n",
       "      <td>47</td>\n",
       "      <td>13.0</td>\n",
       "      <td>18</td>\n",
       "      <td>1133.0</td>\n",
       "    </tr>\n",
       "    <tr>\n",
       "      <th>2015</th>\n",
       "      <td>35</td>\n",
       "      <td>612</td>\n",
       "      <td>1</td>\n",
       "      <td>515</td>\n",
       "      <td>27</td>\n",
       "      <td>6</td>\n",
       "      <td>3.0</td>\n",
       "      <td>46</td>\n",
       "      <td>11.0</td>\n",
       "      <td>21</td>\n",
       "      <td>1280.0</td>\n",
=======
       "      <th>1</th>\n",
       "      <td>0</td>\n",
       "      <td>66</td>\n",
       "      <td>80</td>\n",
       "      <td>81</td>\n",
       "      <td>115</td>\n",
       "      <td>132</td>\n",
       "      <td>79.000000</td>\n",
       "    </tr>\n",
       "    <tr>\n",
       "      <th>2</th>\n",
       "      <td>0</td>\n",
       "      <td>25</td>\n",
       "      <td>60</td>\n",
       "      <td>81</td>\n",
       "      <td>89</td>\n",
       "      <td>111</td>\n",
       "      <td>61.000000</td>\n",
       "    </tr>\n",
       "    <tr>\n",
       "      <th>3</th>\n",
       "      <td>0</td>\n",
       "      <td>40</td>\n",
       "      <td>89</td>\n",
       "      <td>99</td>\n",
       "      <td>103</td>\n",
       "      <td>70</td>\n",
       "      <td>66.833333</td>\n",
       "    </tr>\n",
       "    <tr>\n",
       "      <th>4</th>\n",
       "      <td>0</td>\n",
       "      <td>41</td>\n",
       "      <td>70</td>\n",
       "      <td>85</td>\n",
       "      <td>109</td>\n",
       "      <td>0</td>\n",
       "      <td>50.833333</td>\n",
       "    </tr>\n",
       "    <tr>\n",
       "      <th>5</th>\n",
       "      <td>0</td>\n",
       "      <td>44</td>\n",
       "      <td>77</td>\n",
       "      <td>105</td>\n",
       "      <td>113</td>\n",
       "      <td>0</td>\n",
       "      <td>56.500000</td>\n",
       "    </tr>\n",
       "    <tr>\n",
       "      <th>6</th>\n",
       "      <td>0</td>\n",
       "      <td>39</td>\n",
       "      <td>70</td>\n",
       "      <td>100</td>\n",
       "      <td>104</td>\n",
       "      <td>0</td>\n",
       "      <td>52.166667</td>\n",
       "    </tr>\n",
       "    <tr>\n",
       "      <th>7</th>\n",
       "      <td>0</td>\n",
       "      <td>39</td>\n",
       "      <td>79</td>\n",
       "      <td>109</td>\n",
       "      <td>115</td>\n",
       "      <td>0</td>\n",
       "      <td>57.000000</td>\n",
       "    </tr>\n",
       "    <tr>\n",
       "      <th>8</th>\n",
       "      <td>0</td>\n",
       "      <td>49</td>\n",
       "      <td>87</td>\n",
       "      <td>108</td>\n",
       "      <td>92</td>\n",
       "      <td>0</td>\n",
       "      <td>56.000000</td>\n",
       "    </tr>\n",
       "    <tr>\n",
       "      <th>9</th>\n",
       "      <td>0</td>\n",
       "      <td>41</td>\n",
       "      <td>111</td>\n",
       "      <td>96</td>\n",
       "      <td>114</td>\n",
       "      <td>0</td>\n",
       "      <td>60.333333</td>\n",
       "    </tr>\n",
       "    <tr>\n",
       "      <th>10</th>\n",
       "      <td>0</td>\n",
       "      <td>73</td>\n",
       "      <td>88</td>\n",
       "      <td>85</td>\n",
       "      <td>116</td>\n",
       "      <td>0</td>\n",
       "      <td>60.333333</td>\n",
       "    </tr>\n",
       "    <tr>\n",
       "      <th>11</th>\n",
       "      <td>52</td>\n",
       "      <td>96</td>\n",
       "      <td>83</td>\n",
       "      <td>108</td>\n",
       "      <td>106</td>\n",
       "      <td>0</td>\n",
       "      <td>74.166667</td>\n",
       "    </tr>\n",
       "    <tr>\n",
       "      <th>12</th>\n",
       "      <td>66</td>\n",
       "      <td>88</td>\n",
       "      <td>87</td>\n",
       "      <td>76</td>\n",
       "      <td>104</td>\n",
       "      <td>0</td>\n",
       "      <td>70.166667</td>\n",
>>>>>>> 4c2a15dd4e1fcbb3b4d9738edf345c9a4a7143e1
       "    </tr>\n",
       "  </tbody>\n",
       "</table>\n",
       "</div>"
      ],
      "text/plain": [
<<<<<<< HEAD
       "      Alameda County - Highland Hospital (ACMC)  \\\n",
       "year                                              \n",
       "2012                                         20   \n",
       "2013                                         23   \n",
       "2014                                         32   \n",
       "2015                                         35   \n",
       "\n",
       "      Alameda County - John George Psychiatric Pavilion  \\\n",
       "year                                                      \n",
       "2012                                                328   \n",
       "2013                                                434   \n",
       "2014                                                501   \n",
       "2015                                                612   \n",
       "\n",
       "      Alta Bates - Herrick Campus  Alta Bates Medical Center - Berkeley  \\\n",
       "year                                                                      \n",
       "2012                            2                                   234   \n",
       "2013                            5                                   423   \n",
       "2014                            3                                   481   \n",
       "2015                            1                                   515   \n",
       "\n",
       "      Alta Bates Medical Center - Summit Campus  \\\n",
       "year                                              \n",
       "2012                                         14   \n",
       "2013                                         19   \n",
       "2014                                         26   \n",
       "2015                                         27   \n",
       "\n",
       "      Children's Hospital and Research Center  Eden Medical Center  \\\n",
       "year                                                                 \n",
       "2012                                        2                  2.0   \n",
       "2013                                        6                  6.0   \n",
       "2014                                        7                  4.0   \n",
       "2015                                        6                  3.0   \n",
       "\n",
       "      Kaiser Permanente - Oakland  San Leandro Hospital  Willow Rock Center  \\\n",
       "year                                                                          \n",
       "2012                           26                   3.0                   8   \n",
       "2013                           34                  11.0                  18   \n",
       "2014                           47                  13.0                  18   \n",
       "2015                           46                  11.0                  21   \n",
       "\n",
       "         sum  \n",
       "year          \n",
       "2012   641.0  \n",
       "2013   981.0  \n",
       "2014  1133.0  \n",
       "2015  1280.0  "
      ]
     },
     "execution_count": 96,
=======
       "       2011  2012  2013  2014  2015  2016        avg\n",
       "month                                               \n",
       "1         0    66    80    81   115   132  79.000000\n",
       "2         0    25    60    81    89   111  61.000000\n",
       "3         0    40    89    99   103    70  66.833333\n",
       "4         0    41    70    85   109     0  50.833333\n",
       "5         0    44    77   105   113     0  56.500000\n",
       "6         0    39    70   100   104     0  52.166667\n",
       "7         0    39    79   109   115     0  57.000000\n",
       "8         0    49    87   108    92     0  56.000000\n",
       "9         0    41   111    96   114     0  60.333333\n",
       "10        0    73    88    85   116     0  60.333333\n",
       "11       52    96    83   108   106     0  74.166667\n",
       "12       66    88    87    76   104     0  70.166667"
      ]
     },
     "execution_count": 360,
>>>>>>> 4c2a15dd4e1fcbb3b4d9738edf345c9a4a7143e1
     "metadata": {},
     "output_type": "execute_result"
    }
   ],
   "source": [
<<<<<<< HEAD
    "def createDF_hospitals(df):\n",
    "    yrs = {'year': np.array([2011, 2012, 2013, 2014, 2015, 2016])}\n",
    "    og = pd.DataFrame(data=yrs)\n",
    "    for x in np.unique(df['Destination Hospital']):\n",
    "        yr = pd.DataFrame(df[df['Destination Hospital'] == x].groupby('year').size()).reset_index()\n",
    "        merged = pd.merge(og, yr, on='year', how='outer')\n",
    "        og = merged \n",
    "    merged = merged.set_index('year')\n",
    "    merged['sum'] = merged.sum(numeric_only=True, axis=1)\n",
    "    merged = merged.fillna(value=0)\n",
    "    merged.columns = ['Alameda County - Highland Hospital (ACMC)',\n",
    "       'Alameda County - John George Psychiatric Pavilion',\n",
    "       'Alameda Hospital', 'Alta Bates - Herrick Campus',\n",
    "       'Alta Bates Medical Center - Berkeley',\n",
    "       'Alta Bates Medical Center - Summit Campus',\n",
    "       \"Children's Hospital and Research Center\", 'Eden Medical Center',\n",
    "       'Kaiser Permanente - Fremont', 'Kaiser Permanente - Oakland',\n",
    "       'Kaiser Permanente - San Leandro', 'San Francisco General Hospital',\n",
    "       'San Leandro Hospital', 'Washington Hospital', 'Willow Rock Center', 'sum']\n",
    "    merged1 = merged.drop(merged.index[[0,5]])\n",
    "    merged1 = merged1.drop(['Alameda Hospital', 'Kaiser Permanente - Fremont', 'Kaiser Permanente - San Leandro'\\\n",
    "                           , 'San Francisco General Hospital', 'Washington Hospital'], axis=1)\n",
    "    return merged1\n",
    "createDF_hospitals(pplus_dp)"
=======
    "def createDF_months(df):\n",
    "    yr2011 = {'month': np.array([1, 2, 3, 4, 5, 6, 7, 8, 9, 10, 11, 12]), \n",
    "              '2011': np.array([0, 0, 0, 0, 0, 0, 0, 0, 0, 0, 52, 66])}\n",
    "    og2011 = pd.DataFrame(data=yr2011)\n",
    "    for x in range(2012, 2016):\n",
    "        yr = pd.DataFrame(df[df['year'] == x].groupby('month').size()).reset_index()\n",
    "        merged = pd.merge(og2011, yr, on='month')\n",
    "        og2011 = merged \n",
    "    yr2016 = {'month': np.array([1, 2, 3, 4, 5, 6, 7, 8, 9, 10, 11, 12]), \n",
    "              '2016': np.array([132, 111, 70, 0, 0, 0, 0, 0, 0, 0, 0, 0])}\n",
    "    og2016 = pd.DataFrame(data=yr2016)\n",
    "    merged = pd.merge(merged, og2016, on='month')\n",
    "    merged = merged.set_index('month')\n",
    "    merged['avg'] = merged.mean(numeric_only=True, axis=1)\n",
    "    merged.columns = ['2011', '2012', '2013', '2014','2015','2016','avg' ]\n",
    "    return merged \n",
    "createDF_months(pplus_dp)"
>>>>>>> 4c2a15dd4e1fcbb3b4d9738edf345c9a4a7143e1
   ]
  },
  {
   "cell_type": "code",
<<<<<<< HEAD
   "execution_count": 150,
   "metadata": {
    "collapsed": false,
    "deletable": true,
    "editable": true,
    "scrolled": true
=======
   "execution_count": 406,
   "metadata": {
    "collapsed": false
>>>>>>> 4c2a15dd4e1fcbb3b4d9738edf345c9a4a7143e1
   },
   "outputs": [
    {
     "data": {
<<<<<<< HEAD
      "image/png": "iVBORw0KGgoAAAANSUhEUgAAApAAAAEJCAYAAAAjNBdGAAAABHNCSVQICAgIfAhkiAAAAAlwSFlz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\nYII=\n",
      "text/plain": [
       "<matplotlib.figure.Figure at 0x1bb8dac7da0>"
=======
      "image/png": "iVBORw0KGgoAAAANSUhEUgAAAl0AAAF9CAYAAAA+xt2AAAAABHNCSVQICAgIfAhkiAAAAAlwSFlz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\nJEkNGLokSZIaMHRJkiQ1YOiSJElq4G8WkIx2nDmYEgAAAABJRU5ErkJggg==\n",
      "text/plain": [
       "<matplotlib.figure.Figure at 0x18ae3a82400>"
>>>>>>> 4c2a15dd4e1fcbb3b4d9738edf345c9a4a7143e1
      ]
     },
     "metadata": {},
     "output_type": "display_data"
    }
   ],
   "source": [
<<<<<<< HEAD
    "hospitals = createDF_hospitals(pplus_dp)\n",
    "col_list = [\"#25D8D6\", \"#2FF221\", \"#ECFF0D\", \"#FF1E00\", \"#FFA100\", \"#C60095\", '#08d169',\\\n",
    "            '#f21361', '#6d00f2', '#c9f112', '#000000']\n",
    "with sns.color_palette(col_list):\n",
    "    ax = hospitals[hospitals.columns[:-1]].plot(kind='line', marker='o')\n",
    "ax.legend(loc='center left', bbox_to_anchor=(1, 0.5))\n",
    "labels = [ '2012', '2013', '2014', '2015']\n",
    "plt.ylim(0, 50)\n",
    "plt.xticks(np.arange(2012, 2016, 1), labels)\n",
    "plt.ylabel('Number of Calls', fontsize=14)\n",
    "plt.savefig('hosp_200 per year.jpg')"
=======
    "months = createDF_months(pplus_dp)\n",
    "with sns.color_palette(\"Set2\", 7):\n",
    "    ax = months.plot(kind='line', marker='o')\n",
    "# plt.title('Number of Calls per Month every year')\n",
    "ax.legend(loc='center left', bbox_to_anchor=(1, 0.5))\n",
    "plt.xticks(np.arange(1,13,1))\n",
    "plt.savefig('Calls Per Year.jpg')"
   ]
  },
  {
   "cell_type": "markdown",
   "metadata": {},
   "source": [
    "# Repeat Individuals"
>>>>>>> 4c2a15dd4e1fcbb3b4d9738edf345c9a4a7143e1
   ]
  },
  {
   "cell_type": "code",
<<<<<<< HEAD
   "execution_count": 149,
=======
   "execution_count": 408,
   "metadata": {
    "collapsed": false,
    "scrolled": false
   },
   "outputs": [
    {
     "data": {
      "image/png": "iVBORw0KGgoAAAANSUhEUgAAAhUAAAFoCAYAAADgsAn8AAAABHNCSVQICAgIfAhkiAAAAAlwSFlz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\nVEiSpCr+P39TiFp3HBRXAAAAAElFTkSuQmCC\n",
      "text/plain": [
       "<matplotlib.figure.Figure at 0x18ae3ce9c50>"
      ]
     },
     "metadata": {},
     "output_type": "display_data"
    }
   ],
   "source": [
    "#this is based on primarykey which may or may not be flawed \n",
    "repeats = unique_ids.groupby('primarykey').count()\n",
    "repeats.hist('ID #', bins=np.arange(0, 11, 1), edgecolor='w')\n",
    "# plt.title('Number of Transports for Patients')\n",
    "plt.title(' ')\n",
    "plt.grid(False)\n",
    "plt.xticks(np.arange(0, 11, 1))\n",
    "plt.savefig('repeat patients.jpg')\n",
    "#log scale or maybe do bins 0 to 10 with last bin in (10+)"
   ]
  },
  {
   "cell_type": "markdown",
   "metadata": {},
   "source": [
    "# Transports to Hospitals Breakdown"
   ]
  },
  {
   "cell_type": "code",
   "execution_count": 403,
   "metadata": {
    "collapsed": false,
    "scrolled": false
   },
   "outputs": [],
   "source": [
    "hospitals_year = pd.DataFrame(pplus.groupby(['Destination Hospital', 'year']).size()).reset_index()\n",
    "yr_hospitals = pd.DataFrame(pplus.groupby(['year', 'Destination Hospital']).size()).reset_index()"
   ]
  },
  {
   "cell_type": "code",
   "execution_count": 396,
>>>>>>> 4c2a15dd4e1fcbb3b4d9738edf345c9a4a7143e1
   "metadata": {
    "collapsed": false,
    "deletable": true,
    "editable": true
   },
   "outputs": [
    {
     "data": {
<<<<<<< HEAD
      "image/png": "iVBORw0KGgoAAAANSUhEUgAAApsAAAEFCAYAAACsFizKAAAABHNCSVQICAgIfAhkiAAAAAlwSFlz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\n",
      "text/plain": [
       "<matplotlib.figure.Figure at 0x1bb8bd3cb70>"
      ]
     },
     "metadata": {},
     "output_type": "display_data"
    }
   ],
   "source": [
    "col_list = [\"#25D8D6\", \"#2FF221\", \"#ECFF0D\", \"#FF1E00\", \"#FFA100\", \"#C60095\", '#08d169',\\\n",
    "            '#f21361', '#6d00f2', '#c9f112', '#000000']\n",
    "with sns.color_palette(col_list):\n",
    "    ax = hospitals[hospitals.columns[:-1]].plot(kind='line', marker='o')\n",
    "    hospitals.plot(y='sum', marker='^', ax=ax,markersize='10')\n",
    "ax.legend(loc='center left', bbox_to_anchor=(1, 0.5))\n",
    "labels = [ '2012', '2013', '2014', '2015']\n",
    "\n",
    "plt.xticks(np.arange(2012, 2016, 1), labels)\n",
    "plt.ylabel('Number of Calls', fontsize=14)\n",
    "plt.savefig('hospitals_gen per year.jpg')"
   ]
  },
  {
   "cell_type": "markdown",
   "metadata": {
    "deletable": true,
    "editable": true
   },
   "source": [
    "# Figure Five: Calls on Weekdays"
=======
      "text/html": [
       "<div>\n",
       "<table border=\"1\" class=\"dataframe\">\n",
       "  <thead>\n",
       "    <tr style=\"text-align: right;\">\n",
       "      <th></th>\n",
       "      <th>Alameda County - Highland Hospital (ACMC)</th>\n",
       "      <th>Alameda County - John George Psychiatric Pavilion</th>\n",
       "      <th>Alameda Hospital</th>\n",
       "      <th>Alta Bates - Herrick Campus</th>\n",
       "      <th>Alta Bates Medical Center - Berkeley</th>\n",
       "      <th>Alta Bates Medical Center - Summit Campus</th>\n",
       "      <th>Children's Hospital and Research Center</th>\n",
       "      <th>Eden Medical Center</th>\n",
       "      <th>Kaiser Permanente - Fremont</th>\n",
       "      <th>Kaiser Permanente - Oakland</th>\n",
       "      <th>Kaiser Permanente - San Leandro</th>\n",
       "      <th>San Francisco General Hospital</th>\n",
       "      <th>San Leandro Hospital</th>\n",
       "      <th>Washington Hospital</th>\n",
       "      <th>Willow Rock Center</th>\n",
       "      <th>sum</th>\n",
       "    </tr>\n",
       "    <tr>\n",
       "      <th>year</th>\n",
       "      <th></th>\n",
       "      <th></th>\n",
       "      <th></th>\n",
       "      <th></th>\n",
       "      <th></th>\n",
       "      <th></th>\n",
       "      <th></th>\n",
       "      <th></th>\n",
       "      <th></th>\n",
       "      <th></th>\n",
       "      <th></th>\n",
       "      <th></th>\n",
       "      <th></th>\n",
       "      <th></th>\n",
       "      <th></th>\n",
       "      <th></th>\n",
       "    </tr>\n",
       "  </thead>\n",
       "  <tbody>\n",
       "    <tr>\n",
       "      <th>2011</th>\n",
       "      <td>5</td>\n",
       "      <td>51</td>\n",
       "      <td>0.0</td>\n",
       "      <td>1</td>\n",
       "      <td>50</td>\n",
       "      <td>2</td>\n",
       "      <td>1</td>\n",
       "      <td>0.0</td>\n",
       "      <td>0.0</td>\n",
       "      <td>7</td>\n",
       "      <td>0.0</td>\n",
       "      <td>0.0</td>\n",
       "      <td>0.0</td>\n",
       "      <td>0.0</td>\n",
       "      <td>1</td>\n",
       "      <td>118.0</td>\n",
       "    </tr>\n",
       "    <tr>\n",
       "      <th>2012</th>\n",
       "      <td>20</td>\n",
       "      <td>328</td>\n",
       "      <td>0.0</td>\n",
       "      <td>2</td>\n",
       "      <td>234</td>\n",
       "      <td>14</td>\n",
       "      <td>2</td>\n",
       "      <td>2.0</td>\n",
       "      <td>1.0</td>\n",
       "      <td>26</td>\n",
       "      <td>0.0</td>\n",
       "      <td>0.0</td>\n",
       "      <td>3.0</td>\n",
       "      <td>1.0</td>\n",
       "      <td>8</td>\n",
       "      <td>641.0</td>\n",
       "    </tr>\n",
       "    <tr>\n",
       "      <th>2013</th>\n",
       "      <td>23</td>\n",
       "      <td>434</td>\n",
       "      <td>1.0</td>\n",
       "      <td>5</td>\n",
       "      <td>423</td>\n",
       "      <td>19</td>\n",
       "      <td>6</td>\n",
       "      <td>6.0</td>\n",
       "      <td>0.0</td>\n",
       "      <td>34</td>\n",
       "      <td>0.0</td>\n",
       "      <td>1.0</td>\n",
       "      <td>11.0</td>\n",
       "      <td>0.0</td>\n",
       "      <td>18</td>\n",
       "      <td>981.0</td>\n",
       "    </tr>\n",
       "    <tr>\n",
       "      <th>2014</th>\n",
       "      <td>32</td>\n",
       "      <td>501</td>\n",
       "      <td>0.0</td>\n",
       "      <td>3</td>\n",
       "      <td>481</td>\n",
       "      <td>26</td>\n",
       "      <td>7</td>\n",
       "      <td>4.0</td>\n",
       "      <td>0.0</td>\n",
       "      <td>47</td>\n",
       "      <td>1.0</td>\n",
       "      <td>0.0</td>\n",
       "      <td>13.0</td>\n",
       "      <td>0.0</td>\n",
       "      <td>18</td>\n",
       "      <td>1133.0</td>\n",
       "    </tr>\n",
       "    <tr>\n",
       "      <th>2015</th>\n",
       "      <td>35</td>\n",
       "      <td>612</td>\n",
       "      <td>0.0</td>\n",
       "      <td>1</td>\n",
       "      <td>515</td>\n",
       "      <td>27</td>\n",
       "      <td>6</td>\n",
       "      <td>3.0</td>\n",
       "      <td>0.0</td>\n",
       "      <td>46</td>\n",
       "      <td>3.0</td>\n",
       "      <td>0.0</td>\n",
       "      <td>11.0</td>\n",
       "      <td>0.0</td>\n",
       "      <td>21</td>\n",
       "      <td>1280.0</td>\n",
       "    </tr>\n",
       "    <tr>\n",
       "      <th>2016</th>\n",
       "      <td>7</td>\n",
       "      <td>150</td>\n",
       "      <td>0.0</td>\n",
       "      <td>1</td>\n",
       "      <td>130</td>\n",
       "      <td>5</td>\n",
       "      <td>3</td>\n",
       "      <td>1.0</td>\n",
       "      <td>0.0</td>\n",
       "      <td>5</td>\n",
       "      <td>0.0</td>\n",
       "      <td>0.0</td>\n",
       "      <td>5.0</td>\n",
       "      <td>0.0</td>\n",
       "      <td>6</td>\n",
       "      <td>313.0</td>\n",
       "    </tr>\n",
       "  </tbody>\n",
       "</table>\n",
       "</div>"
      ],
      "text/plain": [
       "      Alameda County - Highland Hospital (ACMC)  \\\n",
       "year                                              \n",
       "2011                                          5   \n",
       "2012                                         20   \n",
       "2013                                         23   \n",
       "2014                                         32   \n",
       "2015                                         35   \n",
       "2016                                          7   \n",
       "\n",
       "      Alameda County - John George Psychiatric Pavilion  Alameda Hospital  \\\n",
       "year                                                                        \n",
       "2011                                                 51               0.0   \n",
       "2012                                                328               0.0   \n",
       "2013                                                434               1.0   \n",
       "2014                                                501               0.0   \n",
       "2015                                                612               0.0   \n",
       "2016                                                150               0.0   \n",
       "\n",
       "      Alta Bates - Herrick Campus  Alta Bates Medical Center - Berkeley  \\\n",
       "year                                                                      \n",
       "2011                            1                                    50   \n",
       "2012                            2                                   234   \n",
       "2013                            5                                   423   \n",
       "2014                            3                                   481   \n",
       "2015                            1                                   515   \n",
       "2016                            1                                   130   \n",
       "\n",
       "      Alta Bates Medical Center - Summit Campus  \\\n",
       "year                                              \n",
       "2011                                          2   \n",
       "2012                                         14   \n",
       "2013                                         19   \n",
       "2014                                         26   \n",
       "2015                                         27   \n",
       "2016                                          5   \n",
       "\n",
       "      Children's Hospital and Research Center  Eden Medical Center  \\\n",
       "year                                                                 \n",
       "2011                                        1                  0.0   \n",
       "2012                                        2                  2.0   \n",
       "2013                                        6                  6.0   \n",
       "2014                                        7                  4.0   \n",
       "2015                                        6                  3.0   \n",
       "2016                                        3                  1.0   \n",
       "\n",
       "      Kaiser Permanente - Fremont  Kaiser Permanente - Oakland  \\\n",
       "year                                                             \n",
       "2011                          0.0                            7   \n",
       "2012                          1.0                           26   \n",
       "2013                          0.0                           34   \n",
       "2014                          0.0                           47   \n",
       "2015                          0.0                           46   \n",
       "2016                          0.0                            5   \n",
       "\n",
       "      Kaiser Permanente - San Leandro  San Francisco General Hospital  \\\n",
       "year                                                                    \n",
       "2011                              0.0                             0.0   \n",
       "2012                              0.0                             0.0   \n",
       "2013                              0.0                             1.0   \n",
       "2014                              1.0                             0.0   \n",
       "2015                              3.0                             0.0   \n",
       "2016                              0.0                             0.0   \n",
       "\n",
       "      San Leandro Hospital  Washington Hospital  Willow Rock Center     sum  \n",
       "year                                                                         \n",
       "2011                   0.0                  0.0                   1   118.0  \n",
       "2012                   3.0                  1.0                   8   641.0  \n",
       "2013                  11.0                  0.0                  18   981.0  \n",
       "2014                  13.0                  0.0                  18  1133.0  \n",
       "2015                  11.0                  0.0                  21  1280.0  \n",
       "2016                   5.0                  0.0                   6   313.0  "
      ]
     },
     "execution_count": 396,
     "metadata": {},
     "output_type": "execute_result"
    }
   ],
   "source": [
    "def createDF_hospitals(df):\n",
    "    yrs = {'year': np.array([2011, 2012, 2013, 2014, 2015, 2016])}\n",
    "    og = pd.DataFrame(data=yrs)\n",
    "    for x in np.unique(df['Destination Hospital']):\n",
    "        yr = pd.DataFrame(df[df['Destination Hospital'] == x].groupby('year').size()).reset_index()\n",
    "        merged = pd.merge(og, yr, on='year', how='outer')\n",
    "        og = merged \n",
    "    merged = merged.set_index('year')\n",
    "    merged['sum'] = merged.sum(numeric_only=True, axis=1)\n",
    "    merged = merged.fillna(value=0)\n",
    "    merged.columns = ['Alameda County - Highland Hospital (ACMC)',\n",
    "       'Alameda County - John George Psychiatric Pavilion',\n",
    "       'Alameda Hospital', 'Alta Bates - Herrick Campus',\n",
    "       'Alta Bates Medical Center - Berkeley',\n",
    "       'Alta Bates Medical Center - Summit Campus',\n",
    "       \"Children's Hospital and Research Center\", 'Eden Medical Center',\n",
    "       'Kaiser Permanente - Fremont', 'Kaiser Permanente - Oakland',\n",
    "       'Kaiser Permanente - San Leandro', 'San Francisco General Hospital',\n",
    "       'San Leandro Hospital', 'Washington Hospital', 'Willow Rock Center', 'sum']\n",
    "    return merged \n",
    "createDF_hospitals(pplus_dp)"
>>>>>>> 4c2a15dd4e1fcbb3b4d9738edf345c9a4a7143e1
   ]
  },
  {
   "cell_type": "code",
<<<<<<< HEAD
   "execution_count": 42,
   "metadata": {
    "collapsed": false,
    "deletable": true,
    "editable": true
   },
   "outputs": [
    {
     "name": "stderr",
     "output_type": "stream",
     "text": [
      "C:\\Users\\pjhu\\Anaconda3\\envs\\ds100_new\\lib\\site-packages\\ipykernel\\__main__.py:1: SettingWithCopyWarning: \n",
      "A value is trying to be set on a copy of a slice from a DataFrame.\n",
      "Try using .loc[row_indexer,col_indexer] = value instead\n",
      "\n",
      "See the caveats in the documentation: http://pandas.pydata.org/pandas-docs/stable/indexing.html#indexing-view-versus-copy\n",
      "  if __name__ == '__main__':\n"
     ]
    },
    {
     "data": {
      "text/html": [
       "<div>\n",
       "<table border=\"1\" class=\"dataframe\">\n",
       "  <thead>\n",
       "    <tr style=\"text-align: right;\">\n",
       "      <th></th>\n",
       "      <th>2012</th>\n",
       "      <th>2013</th>\n",
       "      <th>2014</th>\n",
       "      <th>2015</th>\n",
       "      <th>avg</th>\n",
       "      <th>std</th>\n",
       "    </tr>\n",
       "    <tr>\n",
       "      <th>weekday</th>\n",
       "      <th></th>\n",
       "      <th></th>\n",
       "      <th></th>\n",
       "      <th></th>\n",
       "      <th></th>\n",
       "      <th></th>\n",
       "    </tr>\n",
       "  </thead>\n",
       "  <tbody>\n",
       "    <tr>\n",
       "      <th>0</th>\n",
       "      <td>102</td>\n",
       "      <td>166</td>\n",
       "      <td>174</td>\n",
       "      <td>179</td>\n",
       "      <td>155.25</td>\n",
       "      <td>31.091599</td>\n",
       "    </tr>\n",
       "    <tr>\n",
       "      <th>1</th>\n",
       "      <td>83</td>\n",
       "      <td>133</td>\n",
       "      <td>173</td>\n",
       "      <td>193</td>\n",
       "      <td>145.50</td>\n",
       "      <td>42.056510</td>\n",
       "    </tr>\n",
       "    <tr>\n",
       "      <th>2</th>\n",
       "      <td>79</td>\n",
       "      <td>127</td>\n",
       "      <td>167</td>\n",
       "      <td>187</td>\n",
       "      <td>140.00</td>\n",
       "      <td>41.315857</td>\n",
       "    </tr>\n",
       "    <tr>\n",
       "      <th>3</th>\n",
       "      <td>87</td>\n",
       "      <td>144</td>\n",
       "      <td>174</td>\n",
       "      <td>182</td>\n",
       "      <td>146.75</td>\n",
       "      <td>37.291923</td>\n",
       "    </tr>\n",
       "    <tr>\n",
       "      <th>4</th>\n",
       "      <td>100</td>\n",
       "      <td>138</td>\n",
       "      <td>148</td>\n",
       "      <td>220</td>\n",
       "      <td>151.50</td>\n",
       "      <td>43.413708</td>\n",
       "    </tr>\n",
       "    <tr>\n",
       "      <th>5</th>\n",
       "      <td>96</td>\n",
       "      <td>128</td>\n",
       "      <td>132</td>\n",
       "      <td>156</td>\n",
       "      <td>128.00</td>\n",
       "      <td>21.354157</td>\n",
       "    </tr>\n",
       "    <tr>\n",
       "      <th>6</th>\n",
       "      <td>94</td>\n",
       "      <td>145</td>\n",
       "      <td>165</td>\n",
       "      <td>163</td>\n",
       "      <td>141.75</td>\n",
       "      <td>28.647644</td>\n",
       "    </tr>\n",
       "  </tbody>\n",
       "</table>\n",
       "</div>"
      ],
      "text/plain": [
       "         2012  2013  2014  2015     avg        std\n",
       "weekday                                           \n",
       "0         102   166   174   179  155.25  31.091599\n",
       "1          83   133   173   193  145.50  42.056510\n",
       "2          79   127   167   187  140.00  41.315857\n",
       "3          87   144   174   182  146.75  37.291923\n",
       "4         100   138   148   220  151.50  43.413708\n",
       "5          96   128   132   156  128.00  21.354157\n",
       "6          94   145   165   163  141.75  28.647644"
      ]
     },
     "execution_count": 42,
     "metadata": {},
     "output_type": "execute_result"
    }
   ],
   "source": [
    "pplus_dp['weekday'] = pplus_dp['date'].dt.dayofweek\n",
    "pplus_dp.groupby(['year', 'weekday']).size()\n",
    "\n",
    "def createDF_weekday(df):\n",
    "    wkday = {'weekday': np.array([0, 1, 2, 3, 4, 5, 6])}\n",
    "    og = pd.DataFrame(data=wkday)\n",
    "    for x in range(2012, 2016):\n",
    "        weekday = pd.DataFrame(df[df['year'] == x].groupby('weekday').size()).reset_index()\n",
    "        merged = pd.merge(og, weekday, on='weekday')\n",
    "        og = merged\n",
    "    merged = merged.set_index('weekday')\n",
    "    merged['avg'] = merged.mean(numeric_only=True, axis=1)\n",
    "    std_dev_arr = []\n",
    "    for i in range(0, 7):\n",
    "#         print(merged1.iloc[i][0])\n",
    "        std_dev = np.std([merged.iloc[i][0], merged.iloc[i][1], merged.iloc[i][2], merged.iloc[i][3]])\n",
    "        std_dev_arr.append(std_dev)\n",
    "#         print(std_dev_arr)\n",
    "    merged['std'] = std_dev_arr\n",
    "#     merged.columns = ['2011', '2012', '2013', '2014','2015','2016','avg' ]\n",
    "    merged.columns = ['2012', '2013', '2014', '2015', 'avg', 'std']\n",
    "    return merged \n",
    "createDF_weekday(pplus_dp)"
   ]
  },
  {
   "cell_type": "code",
   "execution_count": 43,
   "metadata": {
    "collapsed": false,
    "deletable": true,
    "editable": true
   },
   "outputs": [
    {
     "data": {
      "image/png": "iVBORw0KGgoAAAANSUhEUgAAAcYAAAEwCAYAAAAtqdEtAAAABHNCSVQICAgIfAhkiAAAAAlwSFlz\nAAALEgAACxIB0t1+/AAAIABJREFUeJzsnXd4FFXbh+/Z2ZYeegklQGAoCipYkWJDioDtRSzY0BcV\nREXBQlE6NgQUe/dVQcRCVRQhND+R2GgeaigBBAnp2T7fH7MJqbDpm+Tc18W1w+yUs5vZ+c3znKco\nuq4jkUgkEonEwFTVA5BIJBKJJJiQwiiRSCQSSR6kMEokEolEkgcpjBKJRCKR5EEKo0QikUgkeZDC\nKJFIJBJJHsxVPYDyICEhQeacSCQSSSno2rWrUtVjCDZqhDACdO3ataqHIJFIJNWKhISEqh5CUCJd\nqRKJRCKR5EEKo0QikUgkeZDCKJFIJBJJHqQwSiQSiUSSBymMEolEIpHkoVKiUjVNswDvA7GADZgG\nHAReBbyAE7hTCPGPpmn3AyMADzBNCLGsMsYokUgCZ+VSB+/Nz2LfHi+t41SGjwyl30B7VQ9LIikX\nKstivAM4KYToAfQFXgPmAg8LIXoDXwFPaprWGBgNdAeuBWZqmmarpDFKJJIAWLnUwVOj09ktvHi9\nsFt4eWp0OiuXOqp6aBJJuVBZwrgImOhfVjCswaFCiD/868yAA7gI2CiEcAohUoE9QOdKGqNEIgmA\n9+ZnFbn+/deLXi+RVDcqxZUqhMgA0DQtAvgSmCCEOOpfdxkwCuiJYSWm5tk1HYiqjDFKJJLA2LfH\nW6L1Ekl1o9KCbzRNaw6sAT4RQnzmX3cL8CYwQAhxAkgDIvLsFgGkVNYYJRLJmUlL82GxFv1e6zi1\ncgcjkVQQlRV80whYBYwSQqz2r7sDI8imtxAi2b/pZmC6pml2jCCdDsC2yhijRCI5M6eSfTx4VyqO\n7KLfH3JHSOUOSCKpICrLYnwGqANM1DRtraZp6zEiUiOAr/zrJgshjgHzgPXAT8B4IYSc0ZdIqpgT\nx70MvzWFnds83HiLnZlzImjXXsVshgaNjNvIb7+6q3iUEkn5oOh69W9MkZCQoMsi4hJJxXA0yct/\n70jlYKKX2+8JYezEMBTldEMGr1dn2I0pbP/Lw1ufRHHJ5cX4WiVBR0JCguyuUQQywV8ikRTLwUQv\n9wxJ4WCil/tHhhYSRQBVVZg4PRyTCaZPzMDprP4P25LajRRGiURSJHt2ebhnSApHj/gYPTaMUU8U\nFsUcOpxj4ba7QziY6OU9mbYhqeZIYZRIJIXYuc3N8KEp/HvCx7hJYQx/KPSs+zz0WCiNmph4740s\n9u/1VMIoJZKKQQqjRCLJxx8Jbu6/LZXUFJ1nZ4Vz+z1nF0WAsHATTz4bjscN08ZnUBPiFyS1EymM\nEokkl182uXjgzhSysnRmzongxltKloJxZR8rva6ysuUXN0u/clbQKCWSikUKo0QiAWDdT05G3ZOK\nxwMvvx5Jv0ElLwquKApPTw4nJBRmz8gg5ZSvAkYqkVQsUhglEgk/rHDy2ANpmEww750oruhT+tr9\nTWJUHnw0jFPJOq/MyizHUUoklYMURomklrN0sYNxD6dhsym88VEUl/Usex7i7feEoHVQ+eYLBwm/\nuMphlBJJ5SGFUSKpxXzxaTYTnkgnPELhrU+iuOCi8knON5sVJkyPQFFg2oQM3C4ZiCOpPkhhlEhq\nKR+9k8X0CRnUrafw3ufRnHuepVyP3/l8C0Nut7Nvj5cP35a5jZLqgxRGiaSWoes6b87NZPaMTBo2\nNvH+wmjadaiYfgIPjw2jfgMT77yWxaEDsi2VpHoghVEiqUXous6cWZm8MSeLmOYmPvgimlZtKq7J\nTkSkibGTwnA6YfrEdJnbKKkWSGGUSGoJPp/OzEkZfPh2NrGtVT5YGE2z5hXfQ/HaATYu62nh5/Vu\nvlsqcxslwY8URomkFuDx6Dw7Lp2F/3PQrr3K+wujadSkchoLK4rC+KkR2Gzw4tQM0tJkbqMkuJHC\nKJHUcNwunacfSWfJYifndDHz7ufR1KtfuT/9Zi1URowO4+S/OvNekLmNkuBGCqNEUoNxOnXGPJjG\nqhVOul5k4a1PooiKrpqf/Z33hdC6rcqXnzn463fZ1FgSvEhhlEhqKFmZOg8PT2XdTy4u7WFh/odR\nhEdU3U/eYlWYOD0CXYepz6TjdstAHElwIoVRIqmBpKf5ePCuFH7Z6OaKa6zMeyeKkJCqb9R+wYUW\nbhhiZ9ffXj59P7uqhyORFIkURomkhnEq2cf9t6fyR4KHfoNsvDg/Equt6kUxh0efCqNOXYU35mZy\n5LDMbZQEH1IYJZIaxL8nfAy/NYWd2zzcMMTO9NkRWCzBI4oA0XVMPD4+HEc2zHxW9m2UBB8Vl9mb\nB03TLMD7QCxgA6YBO4APAR3YBowUQvg0TbsfGAF4gGlCiGWVMUaJpLpzNMnLf+9I5WCil9vuDmHs\nxDBMpuASxRyuu8HGksUO1v3kYvX3Lq7uW/puHhJJeVNZFuMdwEkhRA+gL/AaMBuY4F+nAIM1TWsM\njAa6A9cCMzVNk78YieQsHEz0cs+QFA4mernvoVDGTQpeUQR/buOUcCxWeH5yBhnpMrdREjxUljAu\nAib6lxUMa7ArEO9ftxK4GrgI2CiEcAohUoE9QOdKGqNEUi3Zu9vDvbekcPSIj4efCOXhsWEoSvCK\nYg6xbcwMfzCU48d8zJ8ti4xLgodKEUYhRIYQIl3TtAjgS2ACoAghciYX0oEoIBJIzbNrznqJRFIE\nO7e5ufeWFE4c9zFuUhj3jQyr6iGViHsfDKVFrMqCj7PZsVXmNkqCg0oLvtE0rTmwBvhECPEZkNd3\nEgGkAGn+5YLrJRJJAf78zc39t6WSmqLz7Mxwbr8ntKqHVGJsNoUJ08Px+WDq+Ay8XhmII6l6KkUY\nNU1rBKwCnhRCvO9f/bumab39y/2A9cBmoIemaXZN06KADhiBORKJJA+bf3YxYlgKWVk6M16J4Mah\nIVU9pFJz8WVWrrvBxo6tHhZ8LHMbJVVPZVmMzwB1gImapq3VNG0thjt1sqZpPwNW4EshxDFgHoZI\n/gSMF0I4KmmMEkm1YP0aJ6PuScXjgZdej6T/YHtVD6nMjHkmnMgohfmzs/jnqMxtlFQtSk3IIUpI\nSNC7du1a1cOQSCqcH1c6efKRNMwqzH4ziu69rFU9pHLjqwXZTH46g6v6Wpn9hgwtqAwSEhLo2rVr\n8EdqVTIywV8iqSYs/crB2FFpWK0Kr39Ys0QR4Pohds7rZmb1dy7iV8u+jZKqQwqjRFINWPRZNhOf\nSCcsXOHt/0XR9eKaJYoAJpNRZNxshpmTMsjKqv7eLEn1RApjELNyqYOb+yZzQdwJbu6bzMqlcrq1\nNvLxu1lMG59BdF2F9z6P5tzzLFU9JABiY2OJjY0t12PGtTNz139DOHrEx1tzZd9GSdUghTFIWbnU\nwVOj09ktvHi9sFt4eWp0uhTHWoSu67w5L5OXp2fSoJGJDxZGo3WslCqOVcr9o8KIaW7ik/ey2bXT\nU9XDkdRCpDAGIQf2e3hhSkaR701+Kp1pE9L55L0s1q9xcuiAF49HupxqGrquM+f5TN54JYumzUx8\n+EU0rdrUfFEECAlRGD81Aq8Xpo5Px+eT17ekcqkdv7RqwInjXr5f5mTFt062/1X8U3J2Fiz6NL/V\naLZAi5YqLVuptGytEttapWUrM7GtVerUVapFeTDJaXw+nVnPZbDwEwctW6m882kUjZqoVT2sSqV7\nLyt9BthYtdzJl587GHJ79c3TlFQ/pDBWIWlpPlZ/52TlEie//uzG5wNVhe69LOzZ5eWfo4ULK8dp\nKjNmR5K4z8OB/V4S93k5sN/LgX1e9u0pnP8VEan4hdIQzNjWZlq2UmnRSsVul4IZbHi9Os89lc6S\nL520a6/y5sfR1GtQOx074yaFsWmdi3nPZ3JlHxv1a+n3IKl8pDBWMg6HzoY1LpZ/62D9Ghdul7H+\nvK5m+g2yc01/G/Xqm3LnGAty38hQtI7mQnNNuq6T/K/Ogf2eXLHMed253cPWP/JboYoCjZuYClmY\nLVurNGlqCurODDUVt0vnmTHprFrupFNnM298FEVUdO0VgwYNVUaPDWPGpAxempbBrLmRVT0kSS1B\nCmMl4PHo/PqzmxVLHPz0vYuMdGPOpE07lQGD7Vw70Eaz5vldZf0GGtVM3n89i317vLSOU7n3odDc\n9QVRFIV6DRTqNbBywUWFz590KL9YJu4zrMz/2+Dm/zbkL95ss0GL2Bwr05xHPNVafaOuSJxOnSce\nSmPdTy4uuNDCq+9FEh4hv+ubb7OzZLGDlUucDLrJxWU9a16aiiT4kJVvKghd19n6h4eVS5x8v8zB\nyX+N77lJUxP9BtvoP8hO2/ZV/1ySmeEzXLEFRXO/l6zMwtdGnboKLfNamH4XbfMWKlabtDJLQ1aW\nzqP/TeWXjW4u7WHhlbeiCAkJ/u8yJ1UjMTGxQs/z9w4Ptw06RZMYE4u/ryunAMoRWfmmaKr+zlzD\n2LfHw4pvnaxc4uDwQWOOMLqOwpA77PQfbKfLBeagclOGhZvoeK6Jjufmz43TdZ0Tx32FxPLAPi9b\nf/fwx5b8rlmTCZo2M+XOYea4ZWNbqTRsbCoyAGjlUgfvzT9tEQ8fWbxFXFNJT/Mxangqf2zxcMU1\nVl54NVI+YBSgfUczt98TwsfvZvPua1mMeqJ6tdaSVD+kxVgOHDvi5bulTlYscSJ2GIIREgpXXGOj\n/2Abl1xuxWKpOTc7t0vn8CEviXtPi2ZOMFDyycLXU0gotIg1+4N/DCvzyGEvr71cuDntrHkRtUYc\nU075ePCuVHZs9dB3oI1pL0dUq+uksixGgKxMnRv6JPPvCR+LVtShdZx8pi8PpMVYNPLqKiUpp3z8\nsNLJym+dJGw25ujMZuh1lZV+g230uspGaGjZr7fKvPkEisWq0KqNuci8urQ0Hwf25bcwE/d5OLDP\nk/vQcCZemZFJnTommjZTadzEVGOtp39P+BgxLIU9wssNQ+xMnBGOqtbMz1oehIYpPP1cOI/8N41p\n4zN4b0GUTEOSVBhSGEtAVpZO/I9GruGmdS48/vt8t4st9Btk4+p+NqLr1O6AichIE+eeZypUtszn\n0/nnqC/Xwpz1XAZFOSv+OeZjxLBUwIicbdDIRNNmJmKaqTRtpuZbbtzEhMVa/W6Ox454uf/2VA4m\nernt7hDGTgwLKvd6sNL7GhtX9LGyZpWLb790cv1/aodnQVL5SGE8C263zs/rXaxc4uSnVU4c/j6q\n7TuZ6T/IxrXX2WjctHYlX5cGk0mhSYxKkxiVSy6HLz/LZrconHfZqImJG4bYOXLYy5HDPo4c9vLX\nb4XnNI1jQsPGJprGGIKZI5xNm6nENFdp1NgUdK7Jg4leRtyRwpEkH8MfCuHhJ8Kk5VMCnno2nF82\nnmL2jAx6Xmmlbr3a/SAqqRikMBaBz6fzxxY3K5Y4+WGFk5RThmnTvKWJfoPs9Btkk3McZWT4yNAi\n8zQfezqs0Byj261z/B8fSYdOi2Ve4fwjwc1vvxY+h8kEjRoXFsyc5UaNTZjNlSdKe3d7GHFHKieO\n+3j4iVDuGymDSEpK46YqI8eE8uLUTF6ZmcHUl2Ruo6T8kXd3P7qus2unlxVLHHy31MmxI0ZEab36\nCrffE0K/QTbO6WKWT/flREnyNC0WhZhmKjHNirbM3S6df475SCogmEmHvBxJ8vHbr24SNhfeT1Xz\nCGfzPO7aGGNdw3IUzp3b3Tx4ZyqnknXGTgzjjntDy+W4tZGhd4aw9CsnSxY7GXSziwsvkbmNkvIl\n4KhUTdPaAf8IIVI1TbsauAHYIoT4oCIHGAhliUo9fMjLd0scLP/Wyb7dhmsvPELhqr42+g+y0e0S\nS6VaFQUJxuCb6obbpXPsqF8sD3s5csgvokmGiJ74x1fkfKeqGq5dw8r0z2/mcds2bGwqNmBm5VIH\nNw9ph8cD11z2OyeO+3A6YeL0cG66tWbU/azKa3Pbn27uuCGFlq1UFq2oU2ODtCoaGZVaNAFZjJqm\n3Q28A1yjaVoysBTYANysaVpzIcSUihti+XPyXx+rlhu5hn/+ZsxdWa1wVV8r/QfZ6XGlFZv8odUY\nLFaF5i1Vmrcs2uJ0OQ3hNFy1foszyesXUh+//uwG3IX2M5uhcdMcV+1pS/PwQS9vzs3C7d/lkD+f\n9ZZh9hojilXNOV0s3DLMzoKPHXzwVhYjRku3tKT8CNSV+jRwnxBiraZps4HtQohrNE27AvgYCHph\nzEj3sWaVixVLHPyy0Y3Xa8xBXdLdQr/Bdq681kpkpJzIr41YbQotYlVaxBYtnE6nztGkPPObSXnd\ntT42bypaOAvy+69n30YSOKMeD2P1dy7enZ9F34E2WraSM0OS8iHQK6kF8JN/eSDwiX95P1A30JNp\nmnYx8LwQoremaecBbwIeYBeG8Po0TbsfGOFfP00IsSzQ4xfE5dTZEO9i5bdO4lc7cTqN9ed0MdN/\nsI0+A2w0aCgjSiVnxmZTiG1tJrZ10e87HDrHkgzr8kiSl+kTik5FKar7iaT0RESaePLZcJ4Ymcb0\niRm89YnMbZSUD4EK4z4MN+oRoA2wxL/+LuDvQA6gado4YBiQ6V/1LDBFCLFC07RPgQGapv0KjAa6\nAXZgg6ZpPwghnGc7/s19kxk+MpQ+/W1s+cXNym+d/LjSSbq/YHdsa5X+g230G2Qv1jKQVD41YQ7V\nbleIbWMmto3x/4UfF52K0jpOXnflzdX9rPS4wsr6NS5WfOtkwPUyt1FSdgIVxmeBT/3bfyuE+EPT\ntJeABzCCcAJhL3Ajp63N34G6mqYpQASGL+oiYKNfCJ2apu0BOgNFBOPnZ7fw8tTodKZPyCA9zRDD\nho1N3DjUTr/BNtp3lBGlksqhuFSUex+SkajljaIoPD0lnF+vSealaRn0uMJKZJScEpGUjYCuICHE\nl0AzoKsQIkcI3wHaCCF+CPAYi8k/EbMbmAfsBBoBa4FIIDXPNulAVCDHzyEzQ+emW+2893kU32+s\ny5hnwunQySJFUVJp9BtoZ9a8CCwWo3pPu/ZqraoBW9nENFMZ8UgYySd15jyfefYdJJKzUKzFqGla\nUTMqaXnWu4EwTdNaCyH2leLcc4EeQojtmqaNBF4GvsewHnOIAFJKclDFBJNmRJx9Q4mkAuk30E6D\nRsZz56KVAU/DS0rJsOEhLP/GweLPHQy80c753Sxn30kiKYYzWYx7MKy63f7lPXmWdxdYLg3JQJp/\n+QhQB9gM9NA0za5pWhTQAdhWkoO2kfM4Ekmtw2JRmDjdeCCeNiEdt7v6dw2SVB1nmmNsVcHnvg9Y\noGmaB3AB9wshjmmaNg9YjyHa44UQjpIcVM7jSCS1k/O6WrjpVjuLP3fwyXvZ3PuAvBdISseZhPFQ\neZ9MCJEIXOJf3gB0L2KbdzDmL0tEu/bFlxSTSCS1g0efDGPNKidvzc2kzwAbzZpLD5Kk5JzJlerB\nmEcM5F+V4/l0Ivo1v1T1MCQSAFY44jnuS+aI7zg3JI9khSO+qodUK4iMMvHEhHAcDpj1bAY1oRG7\npPI5k8V4RaWNohzY5U1kbPoLAPS396ri0UhqMysc8YxNfwEPRrlBeW1WLv0H21jypYP1a1z8sMJF\nnwG2qh6SpJpRrDAKIQJ6xNU0rVn5DafszMh4E+HZj0UxY8GMVbFgwWK8KmYsGK9WLEVvk/t/c57t\njP9XdspHjtXhwcMNySO5P3SIvLEGOT7dx/ysT4t8752sRfLvVwkoisIzU8O5ue8pXpiSwaU9LETI\nco+SEhBoEfEOwItAJyDHaa8ANqBennVVzik9jXezF1XIsc1FimbB15z384ts/lf/9sVsa1Es/OUW\nfJC9WFodQcwpXyq7PIns9hxglzeR3Z5E9ngPkqVnF7n9Pu/BSh5h7aVlKzP3jQzl9VeyeO3lTJ6e\nLFO4JIETaOWbtzHmI2cCc4CxQEtgJHBPxQytdLQ0NWVG5Bhcuhs3ntxXt+7GhRu37sGd++p/X/f4\n38u7Tf59T/8/7/YeMvVsUvT03G1zhKyieC7jVbZ5dhOrxhCrxtBKbUZ9Ux1ZwKACcehO9noO+sXv\nALs9iezyJvKv71S+7cyotFKbccz3L+l64URzEyrb3bvpZGlbWUOv1dwzIpQV3zpZ+ImR23hOF5nb\nKAmMQIWxG3CpvxTcncBOIcR8TdN2AfdjdNgICkaF3cF5lg5Vdn5d14sQYk8BoXbnEV1PIcF26W5m\nZb6NTuHAgUw9m4+yv863LkwJIVaNoaVfKHNEs6U5hjBFtjkKFK/u5bD3WK4A7vIkstubyEHvUXz4\n8m3b2NSAXtYLaavG0tYcSztzLLFqDFbFkjvHWBAXLm5NGcM9ITfxUNht2BTZYLcisdoUJkwP575b\nU5k6PoNPv4mu0t6qksDQNM0CvA/EYnglpwE7gA8BHSO3faQQwuffvgGwEegshHD4c+D/h1FJzQqM\nEUL8XJIxBCqMbk5XoPkbOB+j28YPwEslOWFF0U5txf2h/6lyN6OiKFj985Vl6RC32PE9u7yJhdbH\nqS2YEvEI+72HSfQkkehNItF7mN2eA2z37Cm0fUNTvVyhzLEwW5pjiDE1wqwEjQe80jnpSzEsP7/4\n7fIcYK/nANnkr1cfoYRxnrkDbc0taWc2RLCt2pJIU3ixx865Bm9mPR48uddmHVMkz6a/yrvZi1jt\n+pkpEY9wgaVjhX7O2s6Fl1gZdLONJV86+fyjbIYNl7mN5c2WugwFngE6YgjYjG7JLCjDIe8ATgoh\nhmmaVhf4w/9vgr/14ZvAYOBrTdOuBWYBjfPsPwZYLYSYo2maBnwOXFCSAQQqjBuAsZqmjQW2ALdr\nmvYKcDFQogT8iuLruq9V9RDKlftDhxRpdYwIHUoXS3u6WNrnW+/VvRzz/ct+72EOeJPY70kyXr2H\n2ez+i83uv/Jtb8ZMC7UxsXkszFizsVxXqTnte7J1B3s8B3Pdn7v9c4In9fyVBs2Yaa02p525pWEB\n+i3Bxqb6pfou+tt70dBklILLe21+XXc+czM/4rPsZdyZMo7bQwYyOuxOadlXIGOeDmfdahfzZ2dy\nTT8bjZvW3gfC8sYvip/nWXUu8PmWulAGcVwEfOlfVjBSB7sCOQGhK4E+wNeAD7gaSMiz/yuQ+4Rr\nphQaFagwjgG+BR7E6KH4CIYFGQpMLulJJWenOKujOItYVVRi1EbEqI24nK753svWHRz0HiXRezif\nYCZ6k9jnPVzoWJFKWAHBjCFWbUZLtSl2JThD3726l4Peo3nEL5Fd3gMc8h4t5JKOMTWit+UiwwJU\nDTdoSzUGi1LxjW7DlBCeCX+AvraeTEqfy/+yl7DG+QuTIx7mUuv5FX7+2kiduiYeezqcZ8elM2ty\nBnPeKlFfghpLbGwsixcvPuM2W+ryIvCfM2zStJj1H2+py6xi3lvULZmxxR1QCJEBoGlaBIZATgBe\nEkLk/JBzm0vkNLEwDMPc/VP86xpjuFQfPcP4iySgO4EQ4m/jPFqoECJL07RuQG8Mc/f/SnpSSWAU\nZ3WUlBDFjmZuhWZuZXjs/ei6TrKeSqLHEMn9XkM0E72H2eHZy18eUehYTUwNDHesGkMrv2DGqjE0\nMTXApFR8SLyu6/zrO5UrgDmu0L2eQzhx5ds2Somgm+Uc2qotc+cB49SWhJuq3p12gaUji+u8yuuZ\nn/FB9mLuS53ATfY+PBE2/IxuWknpGHyzkdu4ZpWLtT846X1NcD7gVUOKi2gqU6STpmnNMSzC14UQ\nn2maltd9dtbmEpqmnQssAJ4INPUwL2cVRk3TLgS2CiEcQogs/+qrgBNSFKs3iqJQT4mmnjWarpyT\n7z2P7iXJ90+uaCb6rcwD3iNscv/OJvfv+ba3YaWF2uS0pWmOyRXQaFPRofJny9PM1LPZkycIJic1\nIkVPy3ccKxbamFv4rb/TrtAGprpB7RK2KVYeC7+bPrbuTEify2LHKta7EpgUPpIrbBdX9fBqFIpi\nBOL8p/8pZj6XwUWXWQkNC95rI1jwW3bFWndb6vIXhvu0IH91S6ZLac6paVojYBUwSgix2r/6d03T\negsh1gL9gDVn2L8jhjv2FiHEn6UZw5naTpmBD4DbgCs57d/Fv+4/mqa9DzwgRBHtyiuZkSlpDAmx\n08smI/3KA7Oi0lJtSku1KQWdt5m+LA54j+S6Y3MCgBK9R9jtPVDoWHWUSL+Fedo9e9B7lJcz3y+U\np7nSuR4dH7s9iRz2/ZPvOAoKzUyN6WrpdDoYRo2lhdq0WgcSdbK0ZWGdV3gv60vezFrAqLQp9Lf1\n4unwEdQ1SbdfedE6zsw9I0J557UsXn8lkycmSMu8HJhB/jnGHGaW4ZjPYHRbmqhp2kT/ukeAeZqm\nWTF6+H5Z3M7+c9uBuX4Xa6oQYnBJBqAUV0tQ07QngYeB24QQ64p4/wpgITBDCDGnJCctbxISEvRJ\nsW0AGBceWqPEMTY2FoDExMQqHUcg6LrOCV9yrmWZGwjkTSLJewxvgZQHgN1djQe/tgn5KxDWUSJp\nZ27lt/4MKzDO3JJQpfoUiS/N326P5wAT0uew1bOLOkok48MfpK+tR1BavtXp2szB4dC5uW8yRw77\n+GxJHdp3rPh55WAlZ46xa9euZbq4/AE4T3M6KnVmGaNSq5wzXRV3Aw8XJYoAQog1/ijVsRhJ/0HB\nomxHjRLG6oSiKDRU69FQrcfFBbwoLt3NYe+xXMtyduYHReZpqphYXe8j6iu1s2hBnLkln0a/xCfZ\nS3g18xOeSH+eFc54JoY/REO1XlUPr9pjtyuMnxrBA3emMvWZdD5eHI2q1r7rLGcaozzwi2C1FsKC\nnClaogXw21n2X0/F920sEQe9ha0SSdVjVSy0NjfnStul3Bt6E23VlkVu10ZtGfRzgxWNqqjcHXoD\nX9V9jQst5/KT6/8YdOpBvspeJbtFlAOX9rDSb5CNbX96+PKzoMg2q1QKFrmXFOZMwniMs4teC+Df\n8htO2WmmymLB1YH7Q4cUs/5MkeG1i5ZqU96PmsGk8JH48DExYy7/TZ1Ikvefs+8sOSNPTAgnIkJh\n3ouZnDgwm/QMAAAgAElEQVRe5SESlco7WV9U9RCCnjOpyFfAZH95nkL41z8HrKiAcZWabJ/Ov9Jq\nDHr623vxYsQ4zH5vfju1FS9GjKvyykXBhkkxcUtIf76t8wY9rN3Y5P6dwckP8Wn2Uny6vM5LS/0G\nJh55KoyMdJ0Xpxaua1uT2eM9gLLqYjgRXdVDCVrOJIzTMMrsJGiadr+maedrmtZa07SumqY9iFGi\npzlBkuAfq5robFY5rus8mprO327pJgh2cvI0m5oa8nXd16QonoEmagPeiHyOGRFjsChmZmS8yV0p\nT5HoSarqoVVbbhpqp8sFZr5f5mRjvOvsO1RzdF3n9czP0FddhDrhQXDX3sCjs1GsMAohUoFLgF+A\nlzFKwe0GfgWmYtRKvVgIcawSxnlW5kdHMiMynBGhIaTqOk+lZfCTs+Zf7JLag6IoDLZfxZK6b3CN\ntTu/ebZzw6mRvJf1JR69drkDywOTSWHCtAhUFaZPTCc7u+bN3+q6zrEjXlb/lMHNc1fyxhNhqFPu\nq+phBT1nfGQQQpwC7tc0bSTQBojGmFPcm1PZPJhQFIVBITaaqSZmZWTyckYWBz1e7gy1Y6rFwRyS\nmkUDU13mRD3D984NTE9/g9mZH/C9cz3TIh6jnTm2qodXrWjXwcyw4SF8+HY277yWyeix1Te3MT3N\nx27hZY/wsFt42P23hz27vKSn5Qj+hWd0EQYL5dBdIwz4DCMX0gXcJYQokWsl0JJwLoykyjKhadrF\nwPNCiN6apjUE3sEYvArcKYTYq2na/cAIjMKx04QQy0p6ngusFmZHRTA5LZNFDicHvV6eiAgjVIqj\npAZxre1yLrZ05vmMd1ji/In/nHqE/4YO4f7QIVgV2XswUEY8Esaq5U4+ejub/oPtxLULbhej26Wz\nf6/XED/hYY8wlo8dyW+rmEzQsKUXR7dtOOL2cnGHejzT5TrGPZjFnnKsyTLgZEqh7hrL60VXZXeN\n+4EEIcQUTdPuBsZhFAgImEq7AjRNGwcMA3Jmul8APhVCfOEvFtBe07RMYDRG/0c7sEHTtB+EEM4i\nD3oGmqkqs6PCmZmRxS9uD2NT05kUEUYjtfpWSJFIChJtimRm5OP0c/ZkcsZrvJ71GT84NzI14lHO\ntbSr6uFVC0JDFZ6aHM7o+9KYNj6d9xdGYzJV/UO0ruscSfIZlp/wsNsvgAf2efEUCKGo38DEJZdb\naKuZadveTFtNZVfzTUxxz8GNhyfC7uWukOtRFIX7RsJTo9PLZYx+USzUXWPAyRTKII5l6q7hbzeV\nc6NvwVnqqhZFZT4a7QVuBD7x/7878JemaT8CiRiKfhWw0S+ETk3T9gCdMeY1S0yEycSUiDDeycpm\nmcPFo6kZTIgIo5MluJ8IJZKS0tN2Id9aDLfqQscKbkt5nLtCrmdU2B1B2xElmOh1lY2r+1r58TsX\n33zh4MahldsGLDXFEMAc8dsjDDdoZkb+ec+QUOhwjpm2mpk4TfWLoJk6dU87SX26j9eyPuWtrAWE\nK6HMiXiGnrYLc9/vN9CoHnVz0RlT+RhwMqXU3TUGnEwptrvG8nrRFdZdw7/eq2naTxhCfc0Zxl8k\nZ6qVeh+wIGeQZUUIsVjTtNg8q2KBU0KIqzVNmwQ8CewCUvNsk/sFlBazovBgWCgtVZU3M7N5Ji2D\nkWEh9LHLm4WkZhFuCmVSxEj62nowKX0eH2R/xWrX/zE1/BG6Wc85+wFqOeOeDefnDad4ZVYmva62\nUa9++c/IuZw6+/Z681iBhhgeP5bfDaqq0LKVSpxmWH85lmDTZqYzWrOZejbPpL3Mj66faW5qwmtR\nk4gztyi0Xb+Bdho0KpfPF5TdNQCEEFdqmtYeWI4RIxMwZzKd5gE/ABmapnmBxkKIEyU5+Fk4CSzx\nLy8FpmNEvuZtxRDQFxAI/e02YlQTM9KzmJuZzUGvj3tC7ahy3lFSw7jI2pmv677Gq5n/45Psb7kr\n9UmG2gcwJuxuwoKg5Vaw0qixysgxobwwJZPZMzKYPjuy1Mfy+XSOHM6xAj25QTEH9nvxFpjea9jY\nRPdeFr8VaAhgqzYqNlvJ7k1HvMcZlToF4d3PRZbOvBL5NNGm0n8GAL9lV6x1N+BkSrHdNZbXi66q\n7hpPA4eFEJ8AGUCJJ1TPJIx7gW80TduG4eedr2lakfWThBB3lvTEwAagP4ZrtSewHdgMTNc0zY4R\njdQBIwLprKxdu5bevXufcZsuFguvRIUzJT2Tr/1BOU+GhxEWBPMJEkl5EqLYGRd+H31tlzMhfS4L\nHMuJd23muYiHudza9ewHqKUMvTOEZV87Wfa1k9+3nOTYER+t41SGjwzNdUEW5FSy73QUaI4rdJeH\n7Kz824WFK5x7nl/8/JZgnGYmKrrsltvv7h08kjqdk3oKt9j783T4iEppvE1wdtd4H/hI07ThGIGd\n95R0AGf65m4EHuK0K9NHKZT3DDwOvOsvFpCK0cXjlKZp8zBqsJqA8UKIgIoZPvfcc6xdu/as2zVV\nVV6OjOCFjEy2uD2MSUvn2YgwmsqgHEkNpLOlPV/WmcebWQt4L2sRI1Incb3tasaF30dUMX0yazOq\nqnDVtVZ2bPWQdMhwb+4WXp4anY7bBXHtVGMe8O/TEaH/nsjvBjWbIbaN3/2ZMxeomWkSY6qQGsDf\nOH7kufRX8eFjfPiD3GofUGm1hpfXi14w4GQKFOiuUZaoVCHEIxQdRVpsBRAhRGye5X+AvqU9P5yh\n7VReNE1bA9wghCgXt2Z5k5CQoHfr1o01a9ac1WrMwavrfJDl4GuHkwhF4emIULpYgi/EvTq29ikJ\nNfnzBdtn2+nZy8T0uez07KW+qQ4Twx/iattlpT5esH2+8uLmvsnsDjCdoUlTE3Ht88wDamZiW6tY\nrBUvTF7dyyuZH/FB9mIilTBmRz7NpdbzA96/vNpO1UQCzWO8QtO0ML911wHDPP0bIzinPOcdy0Sg\nViOAqijcFxZCC9XE/MxsJqZl8kBYCP1lUI6khtLB3IbPo2fzYfZXvJ75GY+kTaevrQfPhD9APVPJ\n62Y6HDWzM8W+PcWIogJDbrfnRoLGtVOJiKyalPkMXxbj0l8g3vUrrdRmvBY5iVhzTJWMpSYS0F9V\n07TOGOXgngJi/P/GATs0TetUccMrGfHx8QwdOpTly5eTkhKYcdvHbmNGZDhhisL8zGzeyMjCI1v7\nSGooFsXM/aFDWFznVc4zd+A753oGJT/IMseaEre0SklJCfh3Vp1oHVf0tEo7TWX81AiG3B7C+d0s\nVSaKh7xHuT3lCeJdv3KZ5QI+i35ZimI5E+hfdh7wPdBGCHGTEOJ6jJZUywiiJsUACxcu5LrrrqNu\n3bpccMEFPPbYY3zzzTecPHmy2H06WczMiQonVjWxzOliUnom6b6gq3gnkZQbrc3N+Tj6eZ4OG4FT\nd/Jk+kuMTJvMMW9gXeTWrl2L0+nE6XQG7KWpLgwfWXTk7r0PVX1E76+urQw9NYY93gPcETKIN6Ke\nI9JUfcvYBSuBCuNFwCwhRG69Bf/yLODSihhYWRg2bBg9evRgx44dzJkzhxtuuIH69etz7rnnMmrU\nKL744gv++Sd/T7tGqsqLURFcbDHzp9vDmNQMDhWMq5ZIahCqonJH6CC+rjufSyxdiHf9yuBTD7Io\n+7uzWo/PPfdckcs1gX4D7cyaF0G79ipmM7RrrzJrXkSxUamVxaLs77gvdTwZeibPho/i6fARmBUZ\nNFgRBBrPewSIA0SB9e3In5AfFBw8eJD4+HgcDgebN28mPj6e+Ph4Nm3axLZt25g/fz5gVEvo1asX\nPXv2pFevXjRr1owJEWF8nOVgkcPJ46npPBkeRldr8AXlSCTlRXO1Ce9GTWexYxUvZr7LcxmvstK5\njskRD9NcbVJo+7Vr1xIfH5/7//j4+IDSpaoT/Qbaq1wIc/DoXl7MfJf/ZS8hWolkTuQzXGgtKnVQ\nUl4EGpU6FhgDPIuRawhwMUaj4jeFEFXakzEnKjUvRUWoulwuEhIScoVy48aNpKefrhnYunXrXJG0\nXHIpX9RviE9RuC80hEF2a6WFQOelpkb+5VCTP191/Gz/eP9lSsZ81ro2E4KNR8Lu4raQ61DzWCa9\ne/fOJ4wAvXr1qnEu1WAgzZfB42nPs8n9G23UFsyPmlTkw0ppCNao1LJ218hznPYYbRMbBZr2l0Og\nwqhgiOIooK5/9VGMPo2v5KlhVyUUJYyB/FA9Hg9//PEH8fHxrFu3jvXr13Pq1Knc9xs3a4b9kssI\nv+wyBvXqxbPndcZqqtwJ9+p4cy0JNfnzNW5sFPw/diwoWpYGjK7rrHDGM+Xoa/x76DjNj9bjiuNd\nyU7KYPPmzaxZU3TRkZKkS0nOTqIniVFpU9jvPUwv64W8EDGO8HKsXFRewtjpxIBC3TW2N1he6jxG\nTdPuAboIIR4t0F1jdp7uGt8LIfJ212gDNMwRQE3TIjEKD1wItCipMAaarqFjWIfP+dtFZQshyqc8\newURiHvHbDbTrVs3unXrxuOPP47P52Pr1q25Qrlu3ToSv/wCvvyCbcDcRo3o07MnV/fuTc+ePenY\nsSOmShZKSfUhmCM2fT4fx44d4+DBgxw4cKDI15zx7wPi+easxxw5ciTbtm2rEs9KTeNn1++MSZtJ\nmp7JPSE38VjYXfms9mDBL4qFumt0OjGAMohjmbpr+A25tzHE+tvSDKDENYOEEMdLc6KqoCR5jQAm\nk4kuXbrQpUsXRo8eja7r7Ny5k9Xx8by7+ifEhg18vWgRXy9aBEC9evXo2bNnrvu1c+fOqOVcQaem\n5orVdHKiNnOWK9uScjgcHDp0qEjRO3DgAIcOHcLtdhe5b3h4OC1btuSyyy6jRYsWuGNgY8OtnDqZ\nzD/PFN+WdceOHVxwwQX873//o1OnoMniqlbous7njuXMyngLEyamRzzG9farq2w8nU4MKHV3jU4n\nBhTbXWN7g+UV2V3jWWC5EOLPgl03AqXG9F8qaQ5WICiKQseOHenYsSMjH3iAz7KyeXf7TtJ/3kSj\nX39h+/r1fP3113z99dcAREVF0aNHj1yhPP/887GUsZpOMFsdkuIpGLVZnvNvuq5z6tSpQmKXVwAL\nRl3npXHjxlxwwQW0aNGCli1b5r7mLEdHRxey+lJ96XTudfaqKn/88QddunRh1KhRPPfcc0RHl7xw\nQG3FrXuYmfEWCx0rqKdEMzdqPOdbOlb1sM5GMHbXuAM47K+V2hijIHnPkpy/xghjRWNSFO4IC6Vl\nl3N5pU0bXHcMY3aona7/HGPdunW5AT3Lli1j2bJlAISFhdG9e3d69epFr1696NatGzZb4JV1qtrq\nkJSOskZtejwejhw5UqyL88CBA2RmZha5r9VqpUWLFnTq1Cmf6OW8Nm/evETXYA6/r0vg4Ia9AW3b\nqFEj5s6dy+eff86sWbO46667quWUQ2XOf6f40ngsbSab3X+hqa14LWoSTdWGFX7es+G37Iq17jqd\nGFBsd43tDZZXSXcNIURcnmMlYrhdS0RAwujvl/ihEOJgSU9Q0+hhs9JYNTE1PZP3sxwcqN+AUcOG\nceedRoORpKSkXKFct24dq1atYtWqVQDY7XYuvfTS3BSRSy65hJCQ4huiVqTVIak4isrry/v3y8zM\nPKPoJSUl4S0mh7ZOnTrExcUVKXotWrSgUaNGFSJCJclVbNOmDaNGjWLatGnce++9vPXWW7z66qtc\neOGFZ9+5FrLXc5CRqVM45DvK1dZLmRH5OGFK5TZKLgPB2F2jzAQalZoCnC+E2F+RgyktCQkJeteu\nldtKJ9nnY2p6Jrs8XtqbVSZEhFGniBvS8ePH8wnlX3/9lfue1WrloosuyhXKyy67jPBwo4rF2rVr\nueKKK/IdqyZG/dW0qNSi/m45xMXFcerUqWKrMJlMJpo2bVqs6LVo0YLIyLL11ysNZ/pMxbFmzRri\n4uIYO3YsCxYsQFEU7r33XmbMmEHDhlVvCQVCZVyb651beCL9eTL0LEaEDmVU6O2YlMqxrss5KjVf\nd42yRKUGA4EK46sYft3ngQNAvoiQnHySqqIqhBHAqevMy8hirctNA5PCxIgw2pjPbIQnJyezfv36\nXLH8/fff8fnLz5nNZrp27UrPnj1ZuXIl27blb0VZE3PFqrMw6rrOsWPH2L59O9u2bWP79u0sXLgw\nX25sXkwmE23bts03n5f3NSYmpsxz0hVBUXmLZ6NR9+a8++PH9LF1Z1P8RkaPHs3WrVuJiopiypQp\nPPTQQ5jP8lupairy2tR1nY+yv+HlzPcxozIt4lEG2HuX+3mKI97pol/z5qxfuSLo8hiDgUCF8RBG\n4fAiNxZCVGkccVUJIxgX+CKHk4+yHNiAx8ND6W6zBrx/amoqmzZtyp2j3LJlCx6Pp9jt3377bW65\n5ZYqsRwqguoijCdOnGD79u35RHDbtm358l4DoSZY/Ssc8YxNf4HdXY1pnrYJhjU5M+JxbIqVRdkr\n+dn9BwDRSiTX26/iBvM1rHxnCZMmTSIlJYVzzjmHV199Nai/i4q6Nl26m6kZ8/nK8QMNTHWZFzmB\nzpbSRU+WhninixcysvgupjGbN26UwlgEgQpjsQ0iAYQQJXucLGeqUhhz+Nnl4qX0LBzAsBA7t4TY\nSpXPlZmZyWWXXZbP5VoU9evXJy4ujjZt2uS+5iw3aNCg2uSSBZswpqSkFBK/7du3c/x4/iwlk8lE\nmzZtOOecc+jUqRPnnHMOL730Elu2bDnj8WuK1b/CEc/N7QbiwcOAP+7l/tD/0N9++jZxwHuEL7O/\n4xvHjyTrRtXIiyyduTb9Un6Y/C0fvP8Buq5zyy238NJLL9GsWbOq+ijFUhHX5klfCo+mzuA3z3Y6\nmeN4NXIijdT65Xb8QHggJY0/4tfxy/UD2bJlixTGIghIGHPQNC0Goz7q/wGR/k7JVU4wCCPAPo+X\nKekZnPDp9LRaeDQ8FFsJBSqQ+ZwLL7yQlJQU9u/fX6R1GR4eXkgsc5abNWtW7rmWZaGqqsOkp6ez\nY8eOfOK3fft2kpKSCm3bqlWrXPHLedU0LV/gVEnm4WqC1QiBCYdLd7Pa+TNfOFay2W087NVVorhg\nexvWjVvOH5t/JzQ0lPHjx/P444+XKmK2oihvYRSe/YxKncIR33H62XoyNeIRQpTKq8e61+NhqcPF\nD04X/zfoOpI3bZTCWAyBWozhwAfATRiVBtoBrwANgOurOuk/WIQRIMXnY3p6Jjs8XtqqKhMjw6hX\ngijBQOZzcqwOj8fDoUOH2Lt3L3v27GHv3r35lrOysgrta7VaadWqVZHCGRsbW+k3JrvduDFUVCGD\n7Oxsdu7cWcgCPHDgQKFtmzVrlk/8OnXqRIcOHXIDos5ESebhmnS/nIdWfEdT1UQz1UQzVSVGNRGp\nKNXG0oeSC0eiJ4lFjpV841hNip6G7tOpv9jE1smbSDl+ijZt2jB37lwGDBhQcYMuAeUpjD85f2Zc\n2ktk42BU6B08EDq0Uv7WHl1nk8vNUoeTHR4j0jllwwY2XT8QQApjMQQqjG9hiOHdGAVcu2C0rPoI\nOCSEGFqBYzwrwSSMAG5d57XMbH50uqinKEyIDKNdAIEG5Wl15ASGFBTLnOXk5ORC+5hMJpo3b16k\ne7ZNmzYBCURJyPt5y2pFOZ1OhBCF3KD79u0rVPyhcePGhSzAjh07EhUVVebPESgXf7OUepdfnm9d\nuKIQ4xfLGJPqX1ZpoppK7HmoDEorHE7dxQ/OTXzp+I5f3VvxprlJf/Egx97djc/rY8CAAcyZM4e4\nuLizH6wCKQ9h1HWdd7MXMTfzY+xYmRH5OH1s3ctngGcgxefjO4eLFQ4nJ/3Xf1eLmUF2G/ddfRV/\nrl8PSGEsjkCF8SjQXwjxu6Zp6RgFXvdpmtYFWCOEqHuWQ1QowSaMYPwgvnY4eT/LgQV4NDyUXmcJ\nyimJ1VHWuapTp07lCmVB4SzKnQhG4nZR7tm4uDjq1atX4ifgvJ830M/jdrvZs2dPIQtw9+7dhXL/\n6tWrV8gC7NSpE/Xq1SvROItD13W2ejwMvvJKEjdsKNG+3Xv14s0ffiTJ6+Ww10eS10uS18dRn4+C\nGYwK0MCk0ExVDSszj2jWNymYqkg0y0M49nkOscjxHd86VvPPziMcG7+DrPUnsVgtPDZmDBPHTyj3\nB7JAKevnc+ouJqXPZZlzLY1N9XktchIdLG3Kb4BFsNvjYanDSbzTjQcIUeAam5Xr7DZiVLXQQ1ww\nCmNZu2v4a6UeBnb7D/mzEOLpkoyhJHmM3YUQ2wsI40UYVc7rBHIyTdMuBp4XQvTOs+424GEhxKX+\n/98PjMAoHDtNCLHsbMcNRmHM4VeXm+czMsnWYWiIjdtD7EXeyEqbK1YRc1VZWVns37+/SPdsYmJi\nkcnnkZGRRVqZcXFxNG3atFDS+dnyNL1eL/v27StkAQohCtX4jIqKyid8OcsNGzasEHeVQ9dZ43Sx\n1OHkgNdItWmjqgyy2+hps2BVFOKdLga2bYsHnXv/2sZ/QuxnfTAC8Oo6x3w+kvxiaYimsZxcxG/V\nCjRVTcSop8UyxmQiRjURUcHVZsrT1ejUXaxybmBh1kriv1nNsUk78SQ5iGpahxkvzuTBW/9b6W7m\nsny+E95kRqdN4y+PoIu5PXOjxtPAVDH2g1vX2eh3l/7td5c2M5m4zm7jKruVUP/35nQ66dq1K9u3\nb8/dtzyEsUurE4W6a/y5v0GVddfQNC0Oo+vTwNKOIVBh/AijEsGdwCGgM0bVnP8Bu4QQwwI4xjhg\nGJAphLjEv+584CUgTAhxiaZpjYEfgG6AHdgAdBNCOM907GAWRoCDHi+T0zM55vNxmdXC4+Gh2Av8\nyEuTK1YVEY5ut5uDBw8W6Z7dt28f2dnZhfax2Wy0bt06n3C+/fbbbN26Nd92rVq1onv37mzfvp2d\nO3cWmncMDw+nY8eOhUSwadOmlXLTPOb1stzh4nuni0xdRwW6Wy0MtNvoYFYLjaG8gzeyfDpJPm+R\nolnUDG2U3zUbo6qGe9bvom2imrCUw/dVURHFezwH+DR5Ce+88AZHXhPoTh9Nurdk8pyp3NP1tkrr\nWl/az7fDvYeH06ZyzPcvg2xX8lzEw9iUwFO4AiU5j7v0lK6jAN0sZgbabZxvMWNSFDweDz/99BOf\nf/45ixYtKlRKsKzC6BfFoirf3FpacfTHtChCiHRN0+oBv2JYjs2EELqmaYOBPkKIkZqmXQP8htFd\no71fGG8BngRSgWzgMSGEKMkYAs2wfRgj+OYkhmfnDyAc+B6jVE8g7AVuBD4B8H/gGcCjwDv+bS4C\nNvqF0Klp2h4MEf41wHMEJS3MKrOjwpmZnskml5ujqelMiginoXr6ib44gQu2dAaLxZIrbn365C9B\nmNPKKEcwCwrnzp3Fd2YA2L9/P/v378dut9OxY8dCLtAWLVpUes1NXdf50+NhabaTX9wedCBaURga\nYqO/3VaiwKqyEmpSaGsy07bAr1bXdU7mE00fh/2u2b893tygixxMQCO/VVlQNOuZqj4AKM7ckmcb\nPsyTL/6Xj4Z/wdTHJ5O0ci//vfhOJg+fzsOTHmVYkxuDopZoQb53buCZtNk4cfFY2N0MD7m53L/P\nv92Gu3SDy3CXhiow2G7jOruVpqqKz+dj44YNLFiwgEWLFnHixAmAUgXWdWl1otTdNbq0OlFsd40/\n9zeoyO4aR4GZQohFmqZdjmHAlageYaD9GNOAmzRNaw108O8nhBB/B3oiIcRiTdNiATRNU4H3gDEY\nip5DJIbK55D7BVR3okwmpkaG82ZmNt85XTyWms6EiDA6WIK7+kdJyClp1rRpU3r2LFzMPjk5mb17\n93LXXXcVK5IXXXQRmzZtqvKUkmxd5yeni2UOJwf97tJ2qsrAEBs9rJZysbjKC0VRqK8q1FdNdClQ\nOMet6xz1+kjynZ7HzLE2t7g9bHHnT/exQx637GkXbYyq5rrkwEgST/bpeNAZmZLGkABdxSXBrtgY\n0WEYI1YM493lH/HUI+NIekcw/qtHmDf+DQbdfT1DQvvTw9qt0qzI4tB1nTeyPmd+1qeEKiHMi5jA\nlbZLyu34bl1nvd9dusv/oNNcNTHQbuNKmxU7kJCQwOwFC1i4cCGHDx8GoGHDhowcORJN0xg9enS5\njScPwdhdYwvGVBxCiA2apjXVNE3JI6xnJeC7sqZpJqC9/58LyAACFsYCdAXaAm9g/BY7apo2B/gJ\n40PncLYvoFphURRGhYUQq6q8nZXNU2kZjA4P5apyvqEEK3Xr1uWvv/46o+W4efNm1q9fX2V5fke9\nXpY5XPzgdJKpGz+Q3n53aftq+BBjURRamFVaoFLwXpXun8s84jMszMNeH0e8Xg55vewtYh65rt81\nawL+9Hjx+AthJXp9vJBhpAaVtzjmcN+Auxh29VBefOVFpk+bzpExf/Hhxwf4buaPtL4wjhvtfbjJ\nfi2NKzlZHiBbdzAhfQ7fOdcTY2rEa1GTaGeOLZdjn/T5WOlwstLhIsXvLr3Y7y49z2Jmx44dzFiw\ngAULFrBnzx7AmHO/9957ufXWW+nduzdms7nUvye/ZVesddel1Yliu2v8ub9BlXTXwOjHeBJ4wR8g\neqgkogiBd9fogqHe9YFdGN6Ydpqm7QZuEEIkluSkQojNQCf/sWOBBf6J1sbAdE3T7Bg+5Q4YEUg1\nBkVRGBhio5lqYmZGFrMzsjjg8XJXqB01iKyQiiKQLg2V3UlE13V+97unfvW7S+soCteH2Ohrt1K3\nGrZMCoQIk4n2JhPtC6z36Tr/+vTT85h5XLTbPN6i60IC72dl086s0thkqhB3rM1mY8JTE7hn2D2M\nGzeOzz77jMR+m8i4NYnD45N4s+ECelq7McTej8utXSul4/0x7788nDaFHZ69dLV0Yk7keOqayubk\n0nWdvz1eljicbHS58QJhisINdhsD7FayDxxgwYIF3LVgQe48fWhoKLfeeitDhw7l2muvzec2LdgG\nrXeaxe8AACAASURBVJwJxu4as4D/aZo2AMNyvLukAwj0EfhNYBPwQB7/bzRGSO07wDUlPXFRCCGO\naZo2D1iPIb7jhRA1soX9+VYLr0SFMzktk8UOJ4e8XsaGhxFqqrniGOgPtKT9C0tLlt9dujTbyWF/\nIff2ZpWBdhvdg8xdWpmYFIWGqkJD1UTB1sROXefm5FSK6hrwr0/nvpR0GpgUzjWbOddiprPFTKNy\nFsqYmBg+/fRTHnjgAR5++GH+/PxPMpefQHuyG2vu/j/WujbTxNSAm+zXcpO9Dw3V8knPKchfbsHo\ntGmc8CVzk70PE8IfwqqU3oPo0nXWOQ136R6/xd7S7y7VTv7Lko8Xcf3nn7N582bAKNYxePBgbr31\nVq677jrCwsKKPG5JWoaVlD/3N1jQpdUJKNBdoyxRqUKIRyg6dqXY0qRCiNg8y6eAMlWJCDQqNRsj\nfHZXgfUdgAQhRGhZBlFWgj0q9Uyk+3w8n5HF724PLVUTEyPCaJJnfi3Ygm/KQmXmaZ6JJK+XZQ4n\nPzpdZPndpT2tFgaG2AIqxBAoNelvl5eRKWkken2sOb8zAFf8bpR6q2dSaG82s9XtIS3PfaWBSaGz\nxcy5Zr9QluP8scfj4e2332bChAmcOnWKNh3i6P5CX3ZccpQsPRsVE72tF/OfkL5cZjm/RFbkmf5+\nyxxrmZg+Bw9exoYNZ1jI4FKL/79eHyucTr5zuEjVdUzAxRYLl2em8fe337Jw4ULi4+PRdR1VVbnq\nqqu49dZbuf7664mOji7VOXM+X3m0naqJBHoX+Bm4CsONmpfLgd/LdUS1jAiTickRYbyblc0Sh4sx\nqRmMjwjjnGo4n3UmSurOKW+r0afr/OZ3l+YEnNRVFG70u0uL6qUpKZohIfbcOcW8DA8NoZfNik/X\nOej18Zfbw1aPh21uD6udblY7jfzThiaFzhZLrlDmjc4uKWazmYceeoghQ4YwYcIE3n77bfYOfI3r\nb7qBa2YMYU2DBFa7fma162eamhpys/1abrT3oYFaupxCn+7j1axPeDvrC8KVUOZFTqCHtVuJj/P/\n7Z11eFxl1sB/k0yapG5QwVooHKS4LbYUd2kptEUW37Ls4iz+4bBQtLgvLM6iRYpTfHErcnCpU6He\n6Hx/nHeam2mSJmmSuZOc3/PM0+TOncn79t77nvd4KpXiq/IKng7m0kqs8tHupSVUvjCWsY88wgUv\nvbS4FvI222zD8OHDGTp0aM70s8xlatUYReTCyK8rYDmMT2KpE5WYw3UYMFpVT2/mcdZJLmuMUcYu\nKuHm+Rak+/cOxexSVNhqtI5s5WkuqEzxckjGnxTMpWslLRl/y3YFJJvRXNparl1NNKSAQVRQfh4E\n5dzIutMrL880yqBVLoug/OijjzjuuON49913KS4u5qyzzmK3E/blKV7luUWvs5BFJMlnULvNOaB4\nN7Yo2KDWxsCZ129+aiFnzrmKV0rfZeX8vtzQ+f9YLblyg8ZXkkrxRkkpYxaV8mMwl65UWkLP115l\n/GOP8vyzz1JSYmnbG2+8MSNGjOCAAw5gpZVWatx/SB24xlg7dQnGuqJ+oqRUdfumG1LDaS2CEeDz\nsjIunbuAuakUGxfkc+3AgZST4vDPxzdLSHy2aS7hMaHCduOvLCplIRaPuW1hO/YqaseAFmqQ25oF\nIzR+fpWpFD9XVPJFWbm9ysuZF1mHeuflLfZPrptMslwDBWVlZSX33Xcfp512GlOnTmXVVVflmmuu\nYbs9duC50td5ZNFYvin/EYCV8nqzX/EuDC7aiZ551Qt4Rec3qWIaf599Id9W/MTmBetzdecz6ZrX\nKfNP18rvFZU8u6iEF0pKzcxcWkqPt95k1pOPM27MGObNmwfA2muvzYgRIxg2bBirr756g+bdUJpS\nMCYSiUEAqVRq3LJ+VxxoUNupuNKaBCNYysDps+cxI5Vawo9zWj1qruYSTSk8KlMpPgzm0o+DubRH\nXoI9Cs1c2qWFzaUuGOtHZSrFTxUVfFFWzudl5Ywvr2B+ZF3qEwTlugVJ1ksm6VlPQTlnzhwuvPBC\nRo8eTXl5ObvuuiujR49m9dVX54vyb/nvorGMXfQGCykhST47FG7BAUW7sVnBejxf8ubifpPbfzKC\nmZWzmc9ChhXtzpkdR1KQWPrmKpVKMT6YS98tLaOiooJF77xN5VNP8vmYp5gVCvn379+f4cOHM2LE\nCAYOHNhiBRaaWDCOA0ilUoOW9bviQEPyGPfAchgzyyekVHVZQnOdDPrk59MhL8GMiiU3LTfNX8CU\nisrFydd98/No10ajJ9PMq6zkpZJSnl1UyuRgLl0nRJdu0czmUmfZyUskWC2ZZLVkkn2LrV7szxUV\nZnotK+fL8nJeLCnlxZJSAPpGNcqCZK3Vhzp37syVV17JkUceyfHHH8/zzz/PwIEDOemkkzjnnHO4\nqNOJnNbhaJ4ueY3/LhzLCyVv8ULJW/RIdGNGahblliPOb5XWK3Rw4Y6c2+nvS53PolSK14P5/sfy\nCv746EPmP/E4E556kpmh72ifPn048cQTGT58OJtttlnWqw0tC0Fb3Db9c2vQGuubx3gXcDAWiptZ\nDDPFsuWsODUwoaKmgHiYl4L/LKzKYEkAyy8u7xUtIp3dzgstwa9hN/5qSSmLsILaOwVz6WotZC51\nmp78iKAcHATlT0FQflFWzvjycl4osZq1YIIyLSTXK0gukXe61lpr8eKLL/LEE09w8sknM2rUKO67\n7z5GjRrFgQceyIHFezKiaA8+K/+GRxaOZUzJqwBULqpe5ODL8h/qHPe0ikqeWVTCC4tKmDT+CyY/\n8Tgzn3yCWaH3Z48ePRg5ciTDhw9nm222yXp1pybk/IyfB2VlFE1IfVePocD+qvpUcw7GqWLl/Dx+\nrkE4rpiXx5EdihfXwkwnYX9cVs7H1ZtOUMiSnRf65lmpr445GoVZkUrxQTCXfhrMpcvlJRheVMgu\nhe3onKPzcmonP5FgQDLJgGSSIUFQ/pghKJ8vKeX5IChXjJhe1w2CMpFIMGTIEHbddVdGjRrF5Zdf\nzsEHH8ytt97K9ddfz/rrr88GBWuxQcFaPPP7a1SQonJO9XJ5P1b8usTYUqkUn5eX8/TCUl75+msm\nPvE4Ux9/jDnfWQB/p06dOOSQQxgxYgQ77rgjBQXLVCktdkS1xcC2rUFrrK9gnBheTgtRW0j8ge2L\n2KxdAZtllPeKdl6oEpomOH+qQcB2zei80Df82zuvaTovNDVzg7n0mUWlTA3m0nWTSfYqasef2hW0\niapBjpGfSLB6MsnqyST7BUH5Q8RH+WVZOWNLShmbFpT5eawXCg6sW1TE+eefz6GHHsrJJ5/Mk08+\nyUYbbcQxxxzDRRddRPfu3Vktf2U+eeMjUiV2n81/ewYdturBqvlVEajp1mMPfPc9Hz72GJOeeJw5\nn38GQFFREUOHDmX48OHsvvvuFBcXt/x/Ustxfi3HBjX2C0WkM3AH0BUrUv4wcCCwduiucQPwCiaT\nbsRqak8DFqnqYY39u1HqKxiPAW4KA/oVqhe+UNU3mmIwThXpAJs3SVBOiv75eXWGxNen80K0TdHE\nikq+Lq/gyxo6L/TOy7OGuIuFpv3cPdHynRd+DubS10pKKcG04F0K27FXUSH9k63GFOUsA/mJBGsk\nk6wREZTfl1fwRXmVoHyuopTngqBcKT+PdZfrxckPPcwhr73KWSeeyE033cTDDz/MJZdcwhEH78fw\nK6oKt/x+xXd02KoHR7ffnykVFTzwy2/c9+ij/Pz4o8x67z3A8in32GMPhg8fzt57703nzp2z8n/R\n1CQSibq6axQBvWo4vm0ikZgCNXZDA/hvKpWqtf4qMAArE/q4iPQFXsdaS20jIu8B22Fdmd4HDgl9\ngi/B0gqbhPoKxo2BDbEOypmkAF+hmoFtC9vRPS8BJLiha+MetPp1XlhSaNbUeaEYFmuWK+TX3nlh\nWalIpXivtIynF5XyeUhwXj4vwZ5Fhexc2K7ZG/A6uU1+IoEUJJGCJEOLoTwIys/LzfT6VVRQbvon\n/vzGW6x9+208f9m/OOaYY1j9qtVZ8N3Mxd+34J2ZrPXK5tw240ve/u/5TH/zDaisJJFIsPV22/GX\nESMYMmQIPXo0T+m5GFNX2Z2uwJRGfu9U4EQRGQLMwbKtbgcOBXoDY1S1XET6qmq66/KbwPBG/r0l\nqK9gPAcr7HozSwbfODlK9c4L1Ul3XphYWVnNn1lb54UeicQSQnPF/Dx65eXVaubMbF20d1Ehc1Mp\nnl1UwrRKi8hdP5lkr+JCNitIurnUaRTJRII1C5KsWZDkgCAovwsa5Rdl5XwJlBxzLFvsOwS98Hy+\ne+ThJb7jsQPPh5BCstbmm3PU8OGMGDaMPn36tOxkWpig2S2h3QXfYl257oXAYY30NZ4CvKuqN4vI\ndljd01eAUZhWmA4N/k1E1lbVr4Cm6/FF/QVjCfBUuoC40/pZWueFtLCcUFnBpODXHF9ezhfVlUyS\nQO/8PFbICxGzQWj+VlHBDfMXVmtddF2o+lMI7F7Yjj2LClnFzaVOE5NMJFirIMlaQVCWpQVlcT+e\n/suh3F+DYCSVYo2/HMrz559H//79W37Q8eP8ep4zqBHf/TRwvYgMx9oOlmNB548CO6pqOjz4WOAu\nEZmHtUJssjiY+grGM4GrRORU4Kcw0MWoas25BU6rI9p5YaOM90qCaXaxhhlMtPYq570M02xNdE8k\nuKlrJzeXOi1GQSLB2gVJ1i5IcvMVl9d63ozvv3ehSI2RqLXRqAhVVX0NGFjDW5eGV5rNgL1U9XcR\nuRgTjk1CfQXjRZiTdfda3vdtvUNhIkG/ZD79MrS8VCrFnFSqWsTso4tKavyO2amUC0UnKyyt0P2M\nd95ukXZoOcD5DTx3ULOMwnyRLwaNcTbmg2wS6isYD26qP+i0PRKJBF0SCbrk5bF26BryYVlZjXma\nKy9DAWnHWRbi2EQ7bjRAW0zTbHmNqvoodTcsbjT1Eoyq2mztn522SW15mvsXF2VhNE5bJ25NtGPM\n+Y38zKAmHUUzU9+ScL8BtVYbV9WG9V5x2jwNzdN0nOakIV3u27LW2FqKhC+NhqRrZH5uNcymm/me\n49SLpsjTdJxlJdtNtJ34UV9T6j01HReRd4AzgH835aAcx3FaioZoi9HPtFWtsS2wrC0IvsGq4jiO\n4+QktQm41t5P06md+voYt6/hcCesAsH4+v4xEdkcuFxVB4nIBsD1QAVWQOAvqjpVRI4GRmK5kher\n6jP1/X7HcRzHWVbqqzG+XMOxUuAD4Oj6fIGInAYcAswPh0YDx6nqpyIyEjhdREYBxwObYAVq3xKR\nl1S15qQ3x3Ecx2li6utjbIrksh+AIcC94ffhqjo5Mo5FWCWDt4MgLBGR74H1MAHsOI7jOM1OrYJR\nROotDOtTEk5VHxORfpHfJ4e/syXwD+DPwC5YBYM0c4Eu9R2H4ziO4ywrdQm/cqCsHq9G16cTkWHA\nLcAeqvo71mKkU+SUTlgRWcdxHMdpEeoypW5Xx3t9gUuAfsBDdZxXKyJyMBZkM0hV083P3gcuEZEi\nrMnCWjQguMdxHMdxlpVaBWNNZeCCefV4rMTPZKwFyKsN/aMikg9cB/wKPC4iAK+r6nkich3WdDIP\nOFtVa+sC7TiO4zhNTr3zGEVkC+AmYA1MW7xCVcsa8sdU9WeqGkp2r+Wc27FuzY7jOI7T4ixVMIpI\nd6xz8uHAs8C+qvpLcw/McRzHcbJBnYJRRI4C/oVFhw5W1TEtMirHcRzHyRJ1pWu8A2wO/AJcDfQU\nkSNqOldV72qe4TmO4zhOy1KXxtgXC45JAKfUcV4KcMHoOI7jtArqikrt14LjcBzHcZxY0BSl3hzH\ncZwcw7uG1I4LRsdxHMeJ4ILRcRzHcSK4YHQcx3GcCC4YHcdxHCdCvUvCOY7TMDy4wXFyE9cYHcdx\nHCeCa4yO4zQK14id1oprjI7jOI4TwTVGx3GcGnCNuO3iGqPjOI7jRHDB6DiO4zgRWo1g/HJrmPlY\ntkfhOI7j5Dqtxse48Cv48Wj7uft+2R1LU+J+DsdxnJal1WiMaSZfm+0ROI7jOLlMi2qMIrI5cLmq\nDhKRAcDdWKPj8cDfVbVSRI4GRgLlwMWq+kxD/sbCb5p40I7jLMHMx2DyNbBQoVigz0mty1LjtG1a\nTGMUkdOAO4CicOhq4BxV3QZIAPuISG/geGArYBfgXyJS2KA/VAHfHwLzP26yoTuOE2HmY+a2WPgV\nUFHlxnAfv9NaaEmN8QdgCHBv+H1j4PXw81hgZ6ACeFtVS4ASEfkeWA/4oL5/pLA//PGsvToPgt4n\nQ6etIJFoqmk4Tttm0pU1H//ldCj5BQp6Q0EvKOgD7XpDfjd//pzcosUEo6o+JiL9IocSqpoKP88F\nugCdgdmRc9LHl0rxOtDnROg2BOa+aWaeOePs1WFT6HMydNnZH1DHaQzlM+GP52DmGFikNZ9TMRMm\nXrzk8US7ICh7m6AsyHi1C0I0v6s/n048yGZUamXk507AH8Cc8HPm8aWyzptVP3f+s73mfQhTrrUH\n+vsRQXieBN32gUT+sk/AcVozZdOCMHwK5r6F2XOARBGkFi15fuFqsPKlUDoFyqZC2ZSqV+kUc2/M\nr6j97yUKaxeg0d/zu7gAdZqXbArGT0RkkKqOA3YDXgPeBy4RkSKgEFgLC8xpFB03gQH3wYKvTEDO\nfBx+PAoKL4XeJ0CPYZDXrimm4jQWT0eJF6WTzA0xcwzMe5fF29f2G0G3vaHbXrDg46rUqCgrnAFd\ndqr9u1OVUD7dhGbpFCibHATn1CrhWTYF5n+0FAFaFARlr4jw7BM0z8jv+Z1cgDqNI5uC8RTgdhFp\nB3wNPKqqFSJyHfAmFhh0tqrWsDdtGO3XhlVvg75nwpTrYMaD8MsJMOly6H0c9DwE8tsv619xnNyk\n5DeYNQZmPQ3z36863nFz6LqXCcPClaqOF/W3fydfa2bVIjE3xtKiUhN5ULC8vdqvW/t5qQoToIs1\nz4gALY1oofM+oLrdKYO84oigjGqifar/nleDAPWo27ZNIpVKLf2smPPRRx+lNt5443qfXzoJpt4E\nv98NlQsg2QN6/Q2WOxKS9fJoOk5us+hHE4SznjYNEIA86LSlaYZd94B2fbI6xKWSqoCy35c02ZZl\nmnKnYUlhtZDXobqgrJgDs19e8ryVLoMe+0NeR8graLZptSgfffQRG2+8sevVGbRJwZimbAZMuxWm\n3Q4Vs830stxR0OsYKFiuGQbqOFlk4bdVmuHCL8LBfOi8TZUwbI33fao8Q4BOhdLJGb9PgfLfqVOA\nRkkUQn5HE5L5HU245nesfiy/01Le72jaan4HSLSw7S6tES8a7YKxJtq0YExTMQem3W1aZPk0M8H0\nPAR6/wPardh043ScliSVgoVfw6ynTCCmo0kTBZbK1G1v6LobJLtndZixobLMhOPn61GziTZh/18V\n86Bynv0b/bkus+7SSBQtKTirCdAOEUGaeV6HGgRtHcGF6TxUgMRLLhhrotXUSl0W8jtDn+Oh19Ew\n/X7zQ067DX7/N/Q4wAJ1igZke5SOs3RSKVjwWTCTjoGSH+x4ohC67m7CsMsu7jKoibwCaNcXitcM\nxQsyKF7bgvlqIpWCyoVBSM7PEJxzM4Ro5P2aBGz5jCBol0FnyWtfu7Y657XGf29bwQVjhLxiWP4o\n6HkozHzUIlmn3w/TH7QUjz4nQfuB2R6l41QnVWmRnGlhWPqrHc9rb/dtt70sWjS/U93f4xh9Tqo5\n6rbPibV/JpGwAL789tAU7sdUyuIfqgnO+bUI2sh7NQnbsmn2r1N/XDDWQF4B9Bxh2uIfz8Lkq2HW\nE/bqsrM9OB03z/YonbZMqgLmvV/lMyybZMfzOkL3oSYMO+/g0daNIR192tCo26YkkTCTaH4IDFpW\nUpUmaCvmge4NJd8v+3e2ZtzHWA9SKZjzijmr571rxzpuZdV0Og/yXCmnZUiVw9x3TBj+8awFjYAl\nvKfNpJ23hbyiur/Hadu4j3HpuMZYDxIJ6LKjvea+axrknFfgu7eh/YamQXbd3fK0HKcpqSyDuW8E\nYfic+Z/AAmZ6HmLCsNM2XqjCqT/VNOLsDiW2uMbYSOZ/BlOuMTMWKShaI5SbG9J6cpyc7FBZYjV+\nZ42BP8ZCRSiKmFweuu0ZhOGWLR/i77Q+PI+xZvzRaiQd1ofV7rbcsCmjYeZ/4ae/wcR/WRRrzxFu\n0nLqT8UCmPNqEIbPVwVLFPQxX3e3faDjZl7j13FaAheMy0jxGtD/Ruh7Bky5HqbfC7+eApNHQa9j\nYbnDLUzacTKpmAezXzJhOPslC44AaLcydDvMAmg6bOwmesdpaVwwNhGFK8Eqo6DvKTD1Fph2J0w4\nzwJ2eo2E5f8KyW7ZHqXTUtRWa7N8Dsx+IQjDV6q6VBSuWpVa0X59D+hynGziPsZmovwPmHYHTLvF\netnldTDtsdexVo/Rab1Eo/6iFK9r4f+pUvu9SELHir0tedyFodPSuI+xZlxjbCaSXaHvqVZ39ff/\nwNQbYeoNVpe154HQ+3goXCXbo3Sag0lX1Hx84RdQPLCqfVOxtOy4HMepHy4Ym5n8jtD7WFj+SJjx\nkAXq/P5vE5Y9hlqgTvGa2R6l01jKfocFn8L8T60U2/xPrE1SjeTDOm+06PAcx2kELhhbiLxCWO5Q\n6HkQzHzSUj1mPGyvrnuaD6rDhtkepVMXZdOrC8EFn0LpxOrnFPSx6jM1leDyDZDj5AYuGFuYRNI0\nxe5DLAhj8lXwxzP26rydVdPpuKX7m7JN2QwTfAs+C4LwUyidUP2cgl5WkLv9+rapab+++Y9r8zHW\nVWvTcZz44IIxSyTyrIVNl12tssnka6zq/ZzXoMNmJiAr5ppm6V3Em5fymdW1wPmfQulv1c9JLm91\ncqsJwVoa+cah1qbjOI3HBWOWSSSsvmXnbWHeB9bR44+x8P3w6uct/KpKC/EFtvGUz6quBc7/tKob\nRZpkT+i8I3TYANpvYP8W9GmYFt99P79OjpOruGCMER03hQH3w4KvQPeAitlLnvPzSTDnDSjobRpL\nQW8z6RX0tu7rXiasivI/ghD8DBZ8Yj+X/Fz9nGQP60KxWAiuDwUruCnbcdoyvozGkPZrh0alNVA5\nz6rr1EgeFCwfEZRBaLbrbRrPYiG6XOsrLVY+u7opdMFnUPJT9XOS3aHz9lUCsP2G0M6FoOM4GWRV\nMIpIAXAP0A+oAI4GyoG7sf7V44G/q2plloaYNYql5i7iRWtajdayKdZ2qGwylE6J/D4FFn1rgqFW\n8iLCMy04I6/078me8SxHVj4HFnxepQXO/xRKfqx+Tn43awnWfsOIEFzRhaDjOEsn2xrj7kBSVbcU\nkZ2AS7AG2Oeo6jgRuQXYB3gim4PMBrV1Ee97itVnLV6j9s+mUlAxJwjL8CoNQrQsIkQXfm3CpVby\ngwbaJwjLXksKz4LeZo5sjACtrWxalIo5sOALyw9cLAR/yBhmF+i0bXWfYLuVXQg6jtM4si0YvwWS\nIpIHdAbKgD8Br4f3xwI70wYF47JENiYSkOxir7qqq6RS5scsm2yCsnRKhjAN/y78EhZ8XMffSwah\n2Stisu0N7dKCNBxLdq8SVpkpDengooXfmqBLp0os+h6zHQTyOwchuH5VhGi7VVwIOo7TdGRbMM7D\nzKjfAD2BPYE/q2p6KZwLdMnO0LJPc0c2JhJWui7ZFYrXqv28VMp6Ai42206NCM/JVb8v+AJSdQnQ\ngiqtc6HWfM7kSDm1/M7QaevqPsHCfi4EHcdpXrItGE8CXlDVM0VkJeBVINqLvBPwR1ZG5iwmkbDO\nIMluVuy6NlIpywksi5htqwnScGzBZ5Aqq+VL8mDVW00YFvaPp4/TcZzWTbYF4yzMfAowE/MvfiIi\ng1R1HLAb8FqWxuY0kEQCCnrYi7oEaCV8uZWZiDMpXsvz/xzHyS7Z3o9fA2wkIm9i2uJZwN+BC0Tk\nXUx7fDSL43OagUSedR6pCS+b5jhOtsmqxqiq84ADanhr25Yei9OyeNk0x3HiSrZNqU4bxsumOY4T\nR7JtSnUcx3GcWOGC0XEcx3EiuGB0HMdxnAguGB3HcRwnggtGx3Ecx4nQaqJSP/roo2wPwXEcx2kF\nJFKp1NLPchzHcZw2gptSHcdxHCeCC0bHcRzHieCC0XEcx3EiuGB0HMdxnAguGB3HcRwnggtGx3Ec\nx4nggtFxHMdxIrhgdJwcQ0QS2R5DY0mPPZfn0JZpK9etzQhGEckP/ybDv6127q11bpFr2CrnVxsR\nYTJARJKqmrNVOSJjXy+rA1lG0vdgWxEUaVQ1JSL9RGT3bI+lOWkzC4yqVohIN+BDEVlZVSuzPabm\nQER2BnYMP7eq66uqFeHHs0WkE7SNhSksRmsCdwI9IbevrYj0A94WkZxtU62qleEaHC4ihelNW2sn\nzPkU4ODIsVb3DObsw9VI5gDTgX+ISHFruqCRuRwJXB80i1Yl/EUkISIrAOcAJ0A1DaS18wsmFK8D\nW5izO5xlYhpwN7BN+kCOPouDgauAFcPGOxfn0CDCffcgsJeIHBWOtbpnsFULxuiNKiJ5QeN4ABgE\n9Ak78VZxM0duzr9ii+jJIpKXy5pFJqqaUtWJ2G51BxHZFHJbe6qNzDmp6kLgQKCniOxT0zlxJVOb\nUtUFwKPAESJyeDiWc4urqj4GPAfcJiLL5eIclkZN66OqvgOcBQwRkVVrOy+XyYkHq7Gkb1QRyU/v\nsFX1LmAK8KCIdM3lmzm64ERuzAXAq8B+QOdg8snZmzbiyymIHP4QqAAOgpzXnmokPScRWV9ECsPh\nH4GfgGPS5+TCtU2bwEUkbeJPquo4bHE9TETWzeLw6k3E1xsV9Fdj9+LmNbyX80TW0L1F5KDIW08D\nywMjoue1Flp9dw0RGQz8G7gcGK+qT4vISsCVwNOqel8QnBV1flGMEZErgN+At1X1o3DsBaAUsDAg\nMgAAIABJREFU2F9VF2VzfMtK0AxPAN4G/qOq80VkA2As8H+qekdWB9hMiMjpmAVgAmayewVIAK8B\nL6vqmVkcXoMQkUOAe7BN29vAvcBC4HbgGVW9KYvDqzci8idgW+ANVX03HLsYOAzYSFWnZXF4TU7Y\nDKwA3A/0B2YBNwIvA92Ap4DDVfWlrA2yGWiVGmPGLvpd7EL+GbhGRF4BtsZ6UQ4RkYJcFYrBVJoE\n1gb2BF4SkbtEZFdsIf0Fm2vO7WQzrmE7YEXMhPqziJwD9ALOA9YUkS41fKY1cCNwMvAF5pN7AhiF\nCZV+IrIi5IxJ9T6gH/AZsBHwOSb05wKXisjW2Rva0oncW0OBIcCzIvJg2HhfCzwGnBoCcXL+Poyu\nF6o6AdgF2BRbT4cAbwLHY9dx78jncn7u0Ao1xmCmKReRzoAAP6nq9BCR2gdbTAuAvsBm2E19pqqW\nZG3QDST4SyuDKfiPcKwzsBXwT6AEGIgJlPdUde/avy1+RDV4EemuqjPTP2M7812B9tiGIAn8U1Vv\nzdJwm4z0vEVkPWBNYDamGVaIyDpYsMou2PwLgTtU9a/ZG3HtRO7RrYAtgYmq+kB4rwjTug4DyjGT\n+F3A34DyOJnlItckETErFgB/As4AioHVgW+BTsB+qvpb9PxcI7KGLgecjT1rH6rqbeH9AcBymCm8\nP/YcHqSqD2ZrzE1NqxKMkZs4H3gDWBXTii8EHlXVqeG89YCu2G68J3CEqn6bCzdzZI7bABdj83sN\nWyR/jWiQmwJHAasAtwEX5YJmnF5Qw8+3YsL+V+DxtMk0RKZ2Bv6CCYoCYGQICshJMoTiS0AZMAMY\nD5yiqlMiwmZrTNjsB/xLVZ+M070bmcu2wLPAd8D6wH+xxfSnMI8OQEdgX+BfwJGq+kS2xp1Jxgbt\nemBlLD7hJlX9LBwX7FkbCawLfALso6pzsjPqZSPj+fsWM3f/hGn5j6jqqRnnr4ZpkLth1++nFh5y\ns9BqBGPGBR2H+WL+BhyCCYibgAdUVTM+9ySQr6p7teyIG05kYeyPmTAexHbcG2GLz/Wq+n7k/O7A\ncCyv8RBVnZ+FYdeLzIVdRG4E9sDSE9YDNsYW1uvSWnI4T4AzgW9U9bKWHfWyk7H4dgC+wq7rZcAR\n2ObnDcyX+kHkc0WYubwgTlpj5B7tjt2jN6vqJSKyGyYk38I2pJ+qannkc6dhmvAeIQI3NojIQ8Am\nwDuYX2054AJVHRs5pzOwAeYLv1NVn4vTZqWhiMgdwGqqup1YzvD7mK/xHSxuYW7k3AHYs/lPVX05\nKwNuYnLBN1EnItIbqkXx7YBpE7up6lfhtLlYft+5YUce5V5geRHp2kJDbhThIUtHX44GHg4L4imY\nZjwQS3zfMf2ZYIL8L2b2GdzCQ24QIXUmXdlmM0woDlbVq4Gvsd36dsAlQWNMf06B/wF/FZHlW37k\njUdEugXNKv0cbov5hc8Jwn8bLOBmFnBDxrVdBHwKbCcifVt46EsgIoNEpF0kUnZrzHx6SRDiIzFh\nD/AwsEvY4KVNkynM1dEpC8NfAqmKhh6GzWUbVf0Llge9BnCRiByTPl9V56jqG0AlthnPmUhNERkc\nNjJRH2E3LOAGbO2cgM1rBcy/ulXkK+ZgPv8tW2bEzU9OC8ZgTrxbRPaIHE5i/sNuIrILZt7YCvNj\njMCS388QSxbvDOyMhR3HMnJTRC4Tkb0i/o1izOb/SjjlPCwy7HTsgb1MRK4M5yax3W0ZdqPHDhFZ\nTUSeSguJcLgYWKCqn4jI+phAPAx4BgvA+U9YsAiBN8WYSS5nEMvfmyEi20Q2PF2A1YA8sSjOBcDf\nMUGyKfCiiJwVPt8bu96/qOqkFp9ABBH5KxYodGS4jingD6CdiKyF5V8uwPz5B2J+qTuwgDEwYbIa\n8EM2ozpFZAsROQyqpQB1wqK9J4vIIGwTehymQZ0jItcGwZ/W4icBa4hI+5Yef2MIVoprgfdEZI2w\nQS3C1sTlRGQVLBXlNmAM8A22UXheRLqFNaYv9v9xS1Ym0QzktGDEFsRK4FgROTIc+xwLAS/AzB9f\nYnlG32MXdTKWppEKfoB7gZ3jmNIQnN8rAzeKyEhYnOg9AXv4NgQGAGNV9UXMTNUBWCWY6MqxAJy7\nVfX6rExi6fTD/KBjRWRgOPYbMEUsJWMXTIsahwVoTMf8HuncvvnAVOCwHAuVfxEr8faqiBwNEIIX\nbsYWpc0x3+pULG/zNWxzcHM4dwq2WO3S0gOvgYewKMXDsKpSq2Da7NWYn3Qz7JpOx9acF7B0qVvB\n8hxV9RhV3XPJr25RtgDuEpFLI8eSwIBgjdgLeEtV7weex+IU9gd2Cud2BX4HzlYrYhB7gntlU2xt\nfFdEdgxr4XDsOq2EbWQ+CRuez7AAvzVUdVZYYz4DhufY81cnOS0YgzA4Hls8hojICdiNeQkmAPcD\nSsIF64aVorpYVb9Mm0pU9S1V/S4rE1gKqvo78H/Y7vo0Ebk8vHUEtiiugEXEpX0dCzA/zl/S2peq\nfgqc34LDbihvYma234CnRGRnVf0RM9t8hS06v6rqLEyjmghcoar/AVDVclV9QFWfy87wG80kbN5n\nA7eKyHkAqnoxZpraB9OgSjAT6/JYhOqssEtHVb/LdkCVWATjHFU9BhPeewCnAt1U9d7w7G2IabaV\nwA7YYnuXqpaKSL7EJ5XoVsyy9A8ReQJAVW/BYhXmYS6JtJ93BvA68GdVfTqcOwW4UlWfb+mBNxax\ndLVp2LxfxJ7Bw1V1oqp+DKyDbV4nBO1/JDBdVSeHzyeCkhE7xWJZyFnBGPwSqOr3mDBcGzgXuAjo\nERaU8XaqnAc8CXypquPD52JfLSUEMvyARSk+DvxTRO4CkuHGbA8UAbuLFWQ+DHhMVRcGU3EC4uvr\nCA9lqaq+h81xHvCIiIwMD2ZpOLauiGyPBVDNVdXXszjsZSbMO4WZ+VfGNmznhUAwgiXjiXDsQcxE\ndaWqTgoLUXlt350F0ib+zYEeQG9MkFwe8Ym+D1woIi9hJtdzgoBPBG0x69HS4VmbH7T2kcA+IvK6\niHQJAW3dsE3oaiLSA/OXTg3P52KfZC4JiDDnsrDRSm+uFwF3ishV4feHgJ+x1KHngBdV9Z70d8R1\nbVlWcj4qVUQ+wMKJ38YWmv7YhbwUExrXY5GbP6jq38Jn8uIuGNM7MbGuCi9gFUNWwx7QuZivbQLw\nH8zmXwlcpqo3SY5Fw4mlZWyABdksh+1Sn1HVf4gVKzgPW3AnAtuFhznXqxV1wTTiu7FIv/bABdhm\ndUsgH7OGrAKMUytlGEuCyf9HLIL2acyScTJ2n96hqi+KyMmYWf9LtepTsblHpXqO4sOYX7EXdi+2\nB3ZV1Q9F5ExMG54LTFbVLcJnYr+e1IWI3IlphUMwF8UGWGT0O9g6U4xZLRaq6pjwmZye89LIacEo\nVirsfsxH+HM4NpSqlij/zDST5tKCGjS+J4EZqnpE0JI3xpz/GwEHAIppHe1V9fP05+Ky6CyNcA2f\nAXZS1c/FooO3x0zIX2Mm1XQwwAxVnRPMd3HSmhqMiOwE3ABsHUzmiEgvbKOzHrCtqn6b8ZlYLkYi\nsglmhtxJq4oxrIFpVWtiAvMpjaQLxeEezRyDiOyPBaJsipmzu2Cm7r8CQ1R1jFhUex/M1zg/F+/F\nGub9EDBFVU+MHFsFi1n4Ajg+WObS78XyPmxKctaUGqjENInFEWCq+ihWG3Vn4CERGRH9QK4IRVhs\nppiL+TNQ1TKCWQrzoT6P+RO/z0WhGJiJmWnSPtE/MD/pxZif7XWsrc9PQSjGzZTYWKZiu/N0Wbek\nWgGKdLm7b8Ry/xYT48VoIWatWdy8Ngj1YzEh8n/R98L72RaKewIjZclyejOAMlWdp9bJ5XgsUOhJ\nETlVVT9X1ReCUMzL5XtRRLYTy0H8FTMRdwzHE6r6C7Yp3xV4TkTapT8X4/uwycgpwSgZdfjUCmZ/\nCPwr7HDSPI85yccD77XcCJuFecC+6RtTVStVVbH5lWORcovJ9oKzNDKvIbaodsKq2AAQ/MNvYdpw\nOyxHM/1erOfXAL7DfOOjxfL/0gusYnU3z8b+D2JF5vUTkSJV/RLzg46Q6qlT8zBz3BPYnOLEWkCh\nWt5lMhybhW1KVoHFmlE5FpSyABgVfKlAbgqIMKeUiGyJxS0UYOle22Hz6xR5xr7GTMe7B39/myFn\nTKlSVb+vN2YPL1LVcWIJ/f+HlWq6BvgIix67BThaVd/NFS0q4lfsDhSr6kSxPKPXMO1isFrEJiJy\nEeZvPFVVF+WCeUOql+xbE5vjhyKyN+Zre0RVjwm7+G6Yb/Wfqvpa9ka97EhVNZjtsNJZFdg92wtb\ndAuAo7GNzjpYVPW6amXgYmWqi9yjw7C+pqtiEY2rYpaMJFZo+k2scP/BwCZq9Ypjd4+GQJpLgUvU\nSireg1kq9lLVN8M5AzCt8QxV/SZ7o20aRKQPZjKeqqrHh2PbYYLycyw1qgSzXvwjzv7t5iInBGPk\nYeyKaYidsAv3Cpa6sBOWCD0I24W3A/6rqqdkZ8QNJ7J4DsbqSfbCBMOJWCL3xVio+1OYz20HLCjg\nrVwQ/FK9ZN9YLGS/K1bdZSIwDBMW7aiqdDNRVXcOn4n9HGsicl3/jAWmvICZj08LpuEBWF7YUEzD\nmg+cp6r/jducI3PZG2v4/RCWw/ZvVZ0XNq2nYsFDA7DgoktU9aW4CMWg8SaDWyLt4/4ftq4cgZkV\nr8Q2Kv/Gom43Bb5X1f3S3xGn61IfMgKMjsU2A+NVdevIOX2w3NPlMQ15nKpeVdP3tXZiLxilei3J\nhzC/4lXYzvp4zAe3P2YG2QR7IL/TUDM0Lg9kXUQE/wDM9HsP5oM6FsvvOwgL6R+G1T39HngnRPvF\nfn5RQgTcZlSZgGdi0baFWAL4YCzoYZKGHn25FDBVE0Hrfw9LpTlPrNPLRpgwnIGV+EuXQqtQ1V/i\nuviGsY8DblTV28JiuiOW4vAFllbyg4isjAVLzY/rPSoiz2H+7DuxerS9sbrK47DCCUdg68svqvp/\n4TOxnEt9Cdao+Viz68uAJ1V1RMY5RRpJO8n1OTeG2AvGNCJyMBaR+bSqvhoiNLfCWr/0xyq7v5Xx\nmdhf0IhQLMCi39ZR1WPDe70x/8wKwDANjVFzlWC2egjrCPGqiAzBTG37Yj7T+1X1uozP5LRQBBCR\nnsAjwBXAx1gu39rh7RnAZ6r6j3Bu+n6IjWCMuDHSY3sNy2l7ANvErYi5MDYHfkxr+XFCrOnzwvT9\nFbTes4Fjtaq590PYhu1EVb09c/3I9XsxaIrHYN2EPhSRA7DiH5Ox9WV60KgTcV83m5vYB9+INePt\nge3qTgA2CzdsmaqOwwTj61iT3mHRz+bCxY0sfpdjJrVNRKQwvDcFS11Iz++o7IyyySjFFtEzReQK\nrHRfJaZxfIpVKqpGLi9EEf7ASvU9hAWErYppVmtjPsb+6aCW9P0QI6EYjQJ+IiymX2AL7G+YT/EM\nVT0Iu39L0/dvXAjrwiWEqjViRepPwNwV09PnqepwbPNyo1i94a7h/PS1yfV78TfMvH2DiAxW1Uew\n65jE1pdN1KrYxH7dbG5iKxgj0W8rqeoMzLz2CnASsFskSvNT7Ga+Entgc5XbMXNOL+D4oGWgqgtV\n9RAsmOiw7A2v4UhGqS+1VjUjscCa/bCF9K+q+ipm0koni+cs0ahNESkQkZWDYBmEVWa6ACsjlg5o\n6I61SIvlsxjxSw3DUi+ewvIvT8RcGNtjeahg17Sdxqjpt1gR+vsIgXjh8K+YkCwArpDQ5QNAVc/H\nnrOTCak0cdmkNBTJSEVRK113JabdnysiJ6h1BImWZOwmS0aOtzlibUoVS3ieCIxOB9KIyP1YhYbj\ngAc1JA2LSKGqluSC+TSKWO5QB1WdGsypF2Ma1BjgHg2FC8K5BWpVX2I/x4j5rQPW1WRTbOPyHvZg\n5mE78g7YZuBh7HqelaUhNwmRAJXDMB/i1pjP6lPMhFwS3lsV60owFNhSVb+K63UVkeMxf/f/MDNc\nOogqD6uNejRWSmw7YAO1aOqsz0Wsj+DPwC2qenZY8PPDfdkeM+MfhAmF0Vq932VPVZ1e0/fGmRrM\nv2sCa2mkAbSIrI6lR+2LuWouwMr5rahWH7XNE8tdahq1hOcjgKNE5JFg1jkI6/Z9C2aSWy6cWxL+\njd3Ckkl6JydWaeNh4KsQqXm6qp6OmY33xTTHjdOfS0fSxX2OGea3l4HDMZPp3zCf1DpYZO2BWD7f\nLVhrn3RLpZzdsQahOAjzI47F/OKdsc1B7xC8Mh/YG0vP2CcIxfw4XdcMbeM9TLMdDGwReS+BmeGm\nYGUZtw9CMS5zeQXrCnF2+L0gCMURWMWsO7GKPd2xXqaLczDTQjEH78VNpHqvxD8Dj4nISekDatXA\nrsGiv8/ANP4FLhSriI3GmBlGnfHe5sCjWEeCwWrFlIdiAQ0jVfX2lh1t48gImd4Iy/W6CFtY+mO7\n7wlYy5c9sOCAH4C/5eju9UxMu98iLEivYtfwbKCPqv5PrDj4rxpKTrWCAIc8bNGpUNWTw+78Qyyw\nahowIAR2tNfQmihOgTZRgrYxUFUfjUSjdsY2Om9pDfmVcZmLWGrXBKywwDXA10FbH4j57Eep6uXh\n3B2xZrxrAGep6gtZGvYyEwJsdsIE/ggsF3E3bKN2B3BSOuJURA7FKhI9paoPZGfE8SQ2GmNw+qZz\ni/6WsXt7D8uNSgDvBCfxo1hPsNgLxWhgRWS3vT/wgKpepqp3Y3lF52I5ROer6mNY8ezHck0oRnbZ\nXYGvglC8DTMdnoTlYN4sIl1V9dWIUMzLZaEIi7X5QqCzWGj8OOBmVX0Yi0S9XERW1Ei/vjgIklrY\nB+t2cppa7731seChp4D9xZpmVyMuc1ErLdgHq2IzCtgwXI8xWH/Sy9PPoqq+HM4ZixXrz2X+h91/\nD2BR+3+o6m2YcByK+RH7hY3O1sC0tFDM9Em2ZbL+HyEiu4jIuSLyooicISJrYya3kSJygFT1nvsN\ny+PrAbwvIntHtYysTaB+XC0ih4mV/kqbmJbHKvgAZgpW6yn4EnCQiHRX1adV9SHIDZNO5MFKX4/v\ngEoR+SdmGt5frWD2Z5j5qmv08zExvzWIWq7LS1hO3JuYZnVGOP4hZgGI5Twz5xI0qqOBi0XkjnBs\nLyxQ7B6sg31Riw+0noRgrx0wzXE0VpFnfDpeIZi905vWT4Bzgw8/7utJjQRt/WPs/gPLET5CRPoG\n4f8nbLMwHrs3B2P+xfRnY3lfZoOsCsZgDr0Ta3MyG4vW+woTgCVUCchu4SPTMZ/cZVhNSSDeYdRi\nhaBPwIKFjg0BRWCaRDcR2V6qajWChe9PpqpDPRCfnXhdhIVGgEODKWscZqq5HPi7qqajhntgwiEn\nF6A0Gabx9cXoiNXqTWH1OB8RkR5iKQyHYXOekq0x10VkLitEjt2JFZLeR0ReFZFuqnoqFlE8SGPe\nf1Ct3+MRwL1YNaU3JRL5HH2u0oIhzutJbWSYsF8EtsBKSR4MHCcia6rqD6q6HhZRfCWwuVruYjIX\n1peWJGs+RrG2NB9gYdH/CTu1dhqK1Yolt4/CNKs3MTNHMXaDb6Wqk3PBHyUiq2KlpdbFfBtfAHdh\nJZcew8qA3Y4lTJdic94e+JPmYOFeEbkQ2whchqXR9MMe1CnYHPOx6iJ3a6gmkuuIyKlYFablMFPd\ntWo1eu/Dkt4rsTZGvTFh8kNc710ROQQzoV6nFsqfPr4mVtLud8zn/ZlU1b7NegRqfRCRXbBn7T9Y\nGbsfsjykJkGqIsBXxoK95gYNERE5BYtZ+ACrR/wLFpk7KbwfC59w3MimYDwb8xEeGjnWCYtCHY5F\n7n0ACKZhCJZ3dJ2qXtDyI248YgV678KauRZgwvFyrLPErVi+1HJYZN96wA5h4Yn1ghO0h1k1HD8O\nOB0TEpdiZbWuw+ZZCrypqpeGc3PuwYz4pipFZC1s43ZcePsIzBd+g6o+KRah2g+b9/uq+n1chSKA\niKTzSydg+X9PRTTJ8zC/9wws3WR+nO/Pmggb8ucwbep2DaUjc5XI5mR5bL0sw67NA1g1sBKx6PeT\nw3tbY5V9rqv1S52sCsazMHV/aLh4O2Km08GY4JgAdMSKLr+MCY4KVX0+fD72C2pYQFMh6OYf2Hx+\nx6pN/IylnXyCaYjrYObkj1X1izgvngAhmOYjVb01/N5HVSdH3t8biwb8EktD+Tr8fyS0qvZtrOeY\niYgUq+rCyO99MO24i6r+LRxbCdP6+2EpAffXtHmIA9HrISFHNhxfF9P4C7FO7g+q6gKxqjfFwP9U\nVWv94pgTzPwfA3eq6iXZHk9jkIzSbSLyMfasnYK1aXsZCyQ6VC2FZlNsva1U1RuyNOycIZuC8ShM\nq7geixz7CxaQcQK2S/1NrD7qlcBGadU/fDa2mlTwF6Z9FZVSlfC9FRYA8E8sZeFmbAd3M/CMxqi1\n0NIImsPZwKqqOkEsL+wc4Di1Kjbp8wZiJvBfsar9L6jqvGyMuSkQkbswv/yxQVD8A9Ogflcr75Y+\nrwjb9GyJBXxcrDGKLM58fsSqLF2EpQw9GF4dsWdvDawV0cdYWbXLVfXqFh90ExOe04q4b67rQ7BK\njMZcTPNE5FbMbN8TiwTfH8vnrIh8Jqc2pS1N1oJvVPUOzJxxJhaU8AbWA+0GTHCAPZBfYoE40c/G\nUigGPsKiwk4RkXUjDv23sYXmWkxwHoH5F08I57bP0ngbhFjn83OADVV1Qjg8E6vscqlYbhQAqjoe\n057WxULFsx4F3VhCUM2P2CbuLhFZEfMdXwT0C/5EAFR1kaqehFk7FsZJKAb+LSIPSVW6xVuYlpHC\nFthrsQIMR2Ebm3UxU9xjrUEoAqhqebDkxD7aO4pUj+I/LYx/NnbtVhSRvTDX07lYAY1VMFP/KdG5\nulCsm6wn+IvIOpivbVJmhJuInIZd3O1VdWY2xtcQxIqdT8BMUK9jC8qdmFnjPbX+exdizvErRKQL\ncBs295Nq+964EExs72P+sp4aKcYgVpPyCMyH8YSqXhyOH4iZie/VHG/yKlafdz+saEFnLFn6q2Bi\nPA8LMBpWkyCMi5VDRO7F2n5NwgKCnsNM+Yep6kKxKOrrsU3pBcHX3Qnrdp+uBuPaRhYQi+K/FnsG\nK4D2wAFYHenDscDEkZhgPA3rbXof5q65XUOTc2fpZF0wpgka0zqq+oGIrIJF892N5b49G5eFZWmE\nReQDbBd3D5Z6MhvzkZ6L3bQXYua4dORY2oEeW7+piHTGNKYxmJnmT8BuasUX0uf0w8LD98Z8qc9g\nJsXT077IXCVyjYZhwnEoZl68UFXHiMi22HXtjBWs/jCLw60RETkfs1BsjG1WDsNSSmar6haR8wZi\n9+4cTIN8Ie1bjfM92pqpJYo/6hfuiFnWHsZyZ68Wka2xjfmOwTWVE2toHIiTYNwI293kYRrXXOBW\nVb0x1x7G4L94BktNuACb0w7Ybu5ebGGdCRyoqt+Gz8R6jiLyATBRVfcVy3O7CDgUc+7fFzmvO7An\ntoPtArysqqdlY8xNTYjYvBW7pl2ANYHVCX0kQ0rDKEzwDMSqjsTimgYT+BOYv/6LcGxHzFy6D5aC\ncXfk/C5YhZuOmMVmTosP2lnMUqL498eCol7Eurishm1ghwJXqepFLT7gHCdOgjEP62o+GEve/yYd\nSh13oVEbIjIKq1d4rKo+LSIDsGTp7bFKMGumBWOcCbvRU7EgkvJwrCuWu3c+1jXi7Mj5aV9Gt7QJ\nPNfNb+H+vBtLUUhHoPbHruNBWI7fxYSAB7VKKrFgKSbwdbAo6a0xH+LFGZ9dR1W/zNVnsLVQjyj+\nX4FO2H3YE8v/Hq+q14TP+/VrALERjLWR6xc0+J/uA/6pqqMjx0VVNdfmFzXHhOjLA7ACxc+r6v7h\neDIaZZtrc6wNEbkHaJ+eZzjWBUsaH4z56w7U0AotDjTABH4I1r3+A+C0OM3BqXcU/18w18U6wLzI\nJtZNqA0k9lGCub6gqnXJ3hhriHqlWEUfsDqiOUf0AQvBUvdjprhNReR9EemcmXqSi9ewlmjFZ4Bd\nReTw9AFVnY2VgHsHS7uJm0B5BfM5HYHVPX0SK8R/cPoEtZ6fN2Ia8drAsyGQzIkJ9Yzi/xT4ltBz\nMvJZF4oNJPYaY2shLDSKtbsZle3xNDXBXPdvzOfWF0tTyMkHMkMrXgUrvDwR+APLQ90LeFpVzxVL\n8r8cK+RwaObns0kjTODtMLNwP1U9r+VH7CyN1hTFH2dcMLYgrSmpuCaCSW5VjST55xrRaxT8OsOw\nnL6eWODUWGB9LJCqO5ae0wnYVFV/j4tQzKQ+JvDIuYkw/5z2C7dmWksUf1xxwZgF2sJNm2t+RRH5\nEzBdq1qZ7YulLBwYFpr7gU2ATbFIzRKsmfQ3WLTuxEzfapwRa620LVbDdxoW0u+RpzlCa4rijyMu\nGJ02j4gUAI8Symep6s8ichVWA/UosabZ92M5mu2xDhnHZnxHTi5GNZjAF+TiPNoarTGKP064YHQc\nFhc9PxV4MiRHnwX0wsr4fQ6cr6qjRWQbLCR+s1xItakPrcEE7hguFJsGF4yOEwhJ1KcDu2Alt94C\nFgHXp4NURGQTrJ/fPqqak5HFdeELq+O4YHTaMCKyOWaCmh05dj3mO9wGK8ZwE5a4fzcWZPN/WAL/\nti0+YMdxWoTY5zE6TnMgIkdgLaGeFpE9RaRDeOts4G3gDKz4+0hMixyHJcmvhtWCTQewOI7TynDB\n6LRVZgM/YCbTh7FWTMeF36/DOlBsEeqHroKV3xqKVY2ZHSJQPZXBcVohbkp12iSh2PkVmIAcDRwL\nbAisCvwV2IqQzK+qr2d81v1wjtOKcY3RaTNI9UatMzF/4TDg76p6OtYR5G7gAax91M/AOSKyevR7\nXCg6TuvGBaPTlrhERE5M/6Kqk7BAmy1E5DCszNbFWOueeZhg3AFYr8VH6jhO1nBTqtP+DV/PAAAB\nC0lEQVQmCF0wHgQGADOAE4HvVXVGyFncDDhGVaeE85NYMv+Oqvp4lobtOE4WcMHotBmCsBuINRre\nDGvc+2wo+fYyUKqqu9fyWa8b6jhtBBeMTptERIYCO2O1Tz8HrgHuxITlv1wIOk7bxQWj02YRkZ7A\nylhz177ALKzz+WGq+r9sjs1xnOyRzPYAHCdbqOp0YDqwi4gMAXYCtgZWyOrAHMfJKq4xOm2aaE6i\niHQCeqrqT1keluM4WcQFo+PUgCfxO07bxQWj4ziO40TwBH/HcRzHieCC0XEcx3EiuGB0HMdxnAgu\nGB3HcRwnggtGx3Ecx4nggtFxHMdxIrhgdBzHcZwILhgdx3EcJ8L/A6NNeqz8uQouAAAAAElFTkSu\nQmCC\n",
      "text/plain": [
       "<matplotlib.figure.Figure at 0x18f22ae6a90>"
=======
   "execution_count": 409,
   "metadata": {
    "collapsed": false
   },
   "outputs": [
    {
     "data": {
      "image/png": "iVBORw0KGgoAAAANSUhEUgAAA4YAAAGFCAYAAACheO2KAAAABHNCSVQICAgIfAhkiAAAAAlwSFlz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\nD8kmlkoiwxPcAAAAAElFTkSuQmCC\n",
      "text/plain": [
       "<matplotlib.figure.Figure at 0x18ae3df6cf8>"
>>>>>>> 4c2a15dd4e1fcbb3b4d9738edf345c9a4a7143e1
      ]
     },
     "metadata": {},
     "output_type": "display_data"
    }
   ],
   "source": [
<<<<<<< HEAD
    "weekdays = createDF_weekday(pplus_dp)\n",
    "col_list = [\"#cb11ff\", \"#4aecef\", \"#2aea4a\", \"#2e20ea\", \"#e81b8f\"]\n",
    "with sns.color_palette(col_list):\n",
    "    ax = weekdays[['2012', '2013', '2014', '2015']].plot(kind='line', marker='o', zorder=-32)\n",
    "    weekdays.plot(y='avg', yerr='std', ax=ax, kind='line', marker='^', markersize=14, color='k')\n",
    "# plt.title('Number of Calls per Month every year')\n",
    "ax.legend(loc='center left', bbox_to_anchor=(1, 0.5))\n",
    "xlabels = ['Sunday', 'Monday', 'Tuesday', 'Wednesday', 'Thursday', 'Friday','Saturday']\n",
    "plt.xlabel('')\n",
    "plt.xticks(np.arange(0,7,1), xlabels, rotation=50, fontsize=14)\n",
    "plt.ylabel('Number of Calls', fontsize=14)\n",
    "plt.savefig('Calls on Weekdays.jpg')"
=======
    "hospitals = createDF_hospitals(pplus_dp)\n",
    "with sns.color_palette(\"Set2\", 15):\n",
    "    ax = hospitals.plot(kind='line', marker='o')\n",
    "# plt.title('Number of Calls per Hospital per Year')\n",
    "ax.legend(loc='center left', bbox_to_anchor=(1, 0.5))\n",
    "plt.savefig('hospitals per year.jpg')"
>>>>>>> 4c2a15dd4e1fcbb3b4d9738edf345c9a4a7143e1
   ]
  },
  {
   "cell_type": "code",
   "execution_count": null,
   "metadata": {
<<<<<<< HEAD
    "collapsed": false,
    "deletable": true,
    "editable": true
=======
    "collapsed": false
>>>>>>> 4c2a15dd4e1fcbb3b4d9738edf345c9a4a7143e1
   },
   "outputs": [],
   "source": []
  },
  {
   "cell_type": "code",
   "execution_count": null,
   "metadata": {
    "collapsed": true,
    "deletable": true,
    "editable": true
   },
   "outputs": [],
   "source": []
  }
 ],
 "metadata": {
  "kernelspec": {
   "display_name": "Python 3",
   "language": "python",
   "name": "python3"
  },
  "language_info": {
   "codemirror_mode": {
    "name": "ipython",
    "version": 3
   },
   "file_extension": ".py",
   "mimetype": "text/x-python",
   "name": "python",
   "nbconvert_exporter": "python",
   "pygments_lexer": "ipython3",
   "version": "3.5.3"
  }
 },
 "nbformat": 4,
 "nbformat_minor": 2
}
